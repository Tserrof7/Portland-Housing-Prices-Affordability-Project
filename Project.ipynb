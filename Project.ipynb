{
 "cells": [
  {
   "cell_type": "code",
   "execution_count": 28,
   "metadata": {},
   "outputs": [],
   "source": [
    "import requests\n",
    "import pandas as pd\n",
    "import matplotlib.pyplot as plt\n",
    "import seaborn as sns\n",
    "import plotly.express as px\n"
   ]
  },
  {
   "cell_type": "code",
   "execution_count": 29,
   "metadata": {},
   "outputs": [
    {
     "data": {
      "text/plain": [
       "Index(['county subdivision', 'year', 'median household income',\n",
       "       'median home value', 'county', 'latitude', 'longitude'],\n",
       "      dtype='object')"
      ]
     },
     "execution_count": 29,
     "metadata": {},
     "output_type": "execute_result"
    }
   ],
   "source": [
    "import pandas as pd\n",
    "\n",
    "# Load the cleaned CSV file\n",
    "file_path = \"Final.csv\"  # Update with your actual file path\n",
    "df_cleaned = pd.read_csv(file_path)\n",
    "\n",
    "# Normalize column names to avoid mismatches\n",
    "df_cleaned.columns = df_cleaned.columns.str.strip()  # Remove leading/trailing spaces\n",
    "df_cleaned.columns = df_cleaned.columns.str.lower()  # Convert to lowercase for consistency\n",
    "\n",
    "df_cleaned.columns\n"
   ]
  },
  {
   "cell_type": "code",
   "execution_count": 30,
   "metadata": {},
   "outputs": [
    {
     "data": {
      "text/html": [
       "<div>\n",
       "<style scoped>\n",
       "    .dataframe tbody tr th:only-of-type {\n",
       "        vertical-align: middle;\n",
       "    }\n",
       "\n",
       "    .dataframe tbody tr th {\n",
       "        vertical-align: top;\n",
       "    }\n",
       "\n",
       "    .dataframe thead th {\n",
       "        text-align: right;\n",
       "    }\n",
       "</style>\n",
       "<table border=\"1\" class=\"dataframe\">\n",
       "  <thead>\n",
       "    <tr style=\"text-align: right;\">\n",
       "      <th></th>\n",
       "      <th>subdivision</th>\n",
       "      <th>year</th>\n",
       "      <th>median household income</th>\n",
       "      <th>median home value</th>\n",
       "      <th>county</th>\n",
       "      <th>latitude</th>\n",
       "      <th>longitude</th>\n",
       "    </tr>\n",
       "  </thead>\n",
       "  <tbody>\n",
       "    <tr>\n",
       "      <th>0</th>\n",
       "      <td>Beavercreek, Clackamas, Oregon</td>\n",
       "      <td>2023</td>\n",
       "      <td>122212</td>\n",
       "      <td>660600</td>\n",
       "      <td>Clackamas</td>\n",
       "      <td>45.287929</td>\n",
       "      <td>-122.535342</td>\n",
       "    </tr>\n",
       "    <tr>\n",
       "      <th>1</th>\n",
       "      <td>Beavercreek, Clackamas, Oregon</td>\n",
       "      <td>2022</td>\n",
       "      <td>114926</td>\n",
       "      <td>644600</td>\n",
       "      <td>Clackamas</td>\n",
       "      <td>45.287929</td>\n",
       "      <td>-122.535342</td>\n",
       "    </tr>\n",
       "    <tr>\n",
       "      <th>2</th>\n",
       "      <td>Beavercreek, Clackamas, Oregon</td>\n",
       "      <td>2021</td>\n",
       "      <td>101283</td>\n",
       "      <td>522900</td>\n",
       "      <td>Clackamas</td>\n",
       "      <td>45.287929</td>\n",
       "      <td>-122.535342</td>\n",
       "    </tr>\n",
       "    <tr>\n",
       "      <th>3</th>\n",
       "      <td>Beavercreek, Clackamas, Oregon</td>\n",
       "      <td>2020</td>\n",
       "      <td>99750</td>\n",
       "      <td>501200</td>\n",
       "      <td>Clackamas</td>\n",
       "      <td>45.287929</td>\n",
       "      <td>-122.535342</td>\n",
       "    </tr>\n",
       "    <tr>\n",
       "      <th>4</th>\n",
       "      <td>Beavercreek, Clackamas, Oregon</td>\n",
       "      <td>2019</td>\n",
       "      <td>93279</td>\n",
       "      <td>468400</td>\n",
       "      <td>Clackamas</td>\n",
       "      <td>45.287929</td>\n",
       "      <td>-122.535342</td>\n",
       "    </tr>\n",
       "    <tr>\n",
       "      <th>...</th>\n",
       "      <td>...</td>\n",
       "      <td>...</td>\n",
       "      <td>...</td>\n",
       "      <td>...</td>\n",
       "      <td>...</td>\n",
       "      <td>...</td>\n",
       "      <td>...</td>\n",
       "    </tr>\n",
       "    <tr>\n",
       "      <th>110</th>\n",
       "      <td>Yoder, Clackamas, Oregon</td>\n",
       "      <td>2023</td>\n",
       "      <td>109921</td>\n",
       "      <td>719800</td>\n",
       "      <td>Clackamas</td>\n",
       "      <td>45.138177</td>\n",
       "      <td>-122.681757</td>\n",
       "    </tr>\n",
       "    <tr>\n",
       "      <th>111</th>\n",
       "      <td>Yoder, Clackamas, Oregon</td>\n",
       "      <td>2022</td>\n",
       "      <td>110688</td>\n",
       "      <td>673600</td>\n",
       "      <td>Clackamas</td>\n",
       "      <td>45.138177</td>\n",
       "      <td>-122.681757</td>\n",
       "    </tr>\n",
       "    <tr>\n",
       "      <th>112</th>\n",
       "      <td>Yoder, Clackamas, Oregon</td>\n",
       "      <td>2021</td>\n",
       "      <td>96365</td>\n",
       "      <td>560200</td>\n",
       "      <td>Clackamas</td>\n",
       "      <td>45.138177</td>\n",
       "      <td>-122.681757</td>\n",
       "    </tr>\n",
       "    <tr>\n",
       "      <th>113</th>\n",
       "      <td>Yoder, Clackamas, Oregon</td>\n",
       "      <td>2020</td>\n",
       "      <td>87969</td>\n",
       "      <td>517400</td>\n",
       "      <td>Clackamas</td>\n",
       "      <td>45.138177</td>\n",
       "      <td>-122.681757</td>\n",
       "    </tr>\n",
       "    <tr>\n",
       "      <th>114</th>\n",
       "      <td>Yoder, Clackamas, Oregon</td>\n",
       "      <td>2019</td>\n",
       "      <td>81944</td>\n",
       "      <td>495400</td>\n",
       "      <td>Clackamas</td>\n",
       "      <td>45.138177</td>\n",
       "      <td>-122.681757</td>\n",
       "    </tr>\n",
       "  </tbody>\n",
       "</table>\n",
       "<p>115 rows × 7 columns</p>\n",
       "</div>"
      ],
      "text/plain": [
       "                        subdivision  year  median household income  \\\n",
       "0    Beavercreek, Clackamas, Oregon  2023                   122212   \n",
       "1    Beavercreek, Clackamas, Oregon  2022                   114926   \n",
       "2    Beavercreek, Clackamas, Oregon  2021                   101283   \n",
       "3    Beavercreek, Clackamas, Oregon  2020                    99750   \n",
       "4    Beavercreek, Clackamas, Oregon  2019                    93279   \n",
       "..                              ...   ...                      ...   \n",
       "110        Yoder, Clackamas, Oregon  2023                   109921   \n",
       "111        Yoder, Clackamas, Oregon  2022                   110688   \n",
       "112        Yoder, Clackamas, Oregon  2021                    96365   \n",
       "113        Yoder, Clackamas, Oregon  2020                    87969   \n",
       "114        Yoder, Clackamas, Oregon  2019                    81944   \n",
       "\n",
       "     median home value     county   latitude   longitude  \n",
       "0               660600  Clackamas  45.287929 -122.535342  \n",
       "1               644600  Clackamas  45.287929 -122.535342  \n",
       "2               522900  Clackamas  45.287929 -122.535342  \n",
       "3               501200  Clackamas  45.287929 -122.535342  \n",
       "4               468400  Clackamas  45.287929 -122.535342  \n",
       "..                 ...        ...        ...         ...  \n",
       "110             719800  Clackamas  45.138177 -122.681757  \n",
       "111             673600  Clackamas  45.138177 -122.681757  \n",
       "112             560200  Clackamas  45.138177 -122.681757  \n",
       "113             517400  Clackamas  45.138177 -122.681757  \n",
       "114             495400  Clackamas  45.138177 -122.681757  \n",
       "\n",
       "[115 rows x 7 columns]"
      ]
     },
     "execution_count": 30,
     "metadata": {},
     "output_type": "execute_result"
    }
   ],
   "source": [
    "\n",
    "# Load and clean the CSV file\n",
    "file_path = \"Final.csv\"  # Update with your actual file path\n",
    "df_cleaned = pd.read_csv(file_path)\n",
    "\n",
    "# Normalize column names to avoid mismatches\n",
    "df_cleaned.columns = df_cleaned.columns.str.strip().str.lower()  # Remove leading/trailing spaces and convert to lowercase\n",
    "\n",
    "# Rename 'county subdivision' to 'subdivision' and clean the names\n",
    "df_cleaned = df_cleaned.rename(columns={'county subdivision': 'subdivision'})\n",
    "df_cleaned[\"subdivision\"] = df_cleaned[\"subdivision\"].str.replace(\" CCD\", \"\", regex=False).str.replace(\" County\", \"\", regex=False)\n",
    "\n",
    "# Display the cleaned dataframe\n",
    "df_cleaned\n"
   ]
  },
  {
   "cell_type": "code",
   "execution_count": 31,
   "metadata": {},
   "outputs": [
    {
     "data": {
      "image/png": "[encoded data removed]",
      "text/plain": [
       "<Figure size 1200x800 with 2 Axes>"
      ]
     },
     "metadata": {},
     "output_type": "display_data"
    }
   ],
   "source": [
    "# Load the cleaned dataset\n",
    "file_path = \"Final.csv\"  \n",
    "df_cleaned = pd.read_csv(file_path)\n",
    "\n",
    "# Normalize column names to avoid mismatches\n",
    "df_cleaned.columns = df_cleaned.columns.str.strip().str.lower()\n",
    "df_cleaned = df_cleaned.rename(columns={'county subdivision': 'subdivision'})\n",
    "df_cleaned[\"subdivision\"] = df_cleaned[\"subdivision\"].str.replace(\" CCD\", \"\", regex=False).str.replace(\" County\", \"\", regex=False)\n",
    "\n",
    "# Now create the wide format data for the heatmap\n",
    "df_wide = df_cleaned.pivot(index='subdivision', columns='year', values='median home value')\n",
    "\n",
    "# Create a heatmap for each subdivision with a red-to-green color scale\n",
    "plt.figure(figsize=(12, 8))\n",
    "sns.heatmap(\n",
    "    df_wide, \n",
    "    annot=True, \n",
    "    fmt=\".0f\", \n",
    "    cmap=\"RdYlGn_r\",  # Red for expensive, Green for least expensive\n",
    "    linewidths=0.5\n",
    ")\n",
    "\n",
    "# Customize the plot\n",
    "plt.title(\"Home Value Heatmap Across Subdivisions (2019-2023)\")\n",
    "plt.xlabel(\"Year\")\n",
    "plt.ylabel(\"Subdivision\")\n",
    "\n",
    "# Show the heatmap\n",
    "plt.show()\n"
   ]
  },
  {
   "cell_type": "code",
   "execution_count": 32,
   "metadata": {},
   "outputs": [
    {
     "data": {
      "application/vnd.plotly.v1+json": {
       "config": {
        "plotlyServerURL": "https://plot.ly"
       },
       "data": [
        {
         "customdata": [
          [
           "Clackamas",
           660600,
           2023
          ],
          [
           "Washington",
           556000,
           2023
          ],
          [
           "Clackamas",
           484700,
           2023
          ],
          [
           "Washington",
           645300,
           2023
          ],
          [
           "Washington",
           550200,
           2023
          ],
          [
           "Clackamas",
           555400,
           2023
          ],
          [
           "Multnomah",
           654100,
           2023
          ],
          [
           "Clackamas",
           572400,
           2023
          ],
          [
           "Washington",
           457200,
           2023
          ],
          [
           "Multnomah",
           438300,
           2023
          ],
          [
           "Clackamas",
           438300,
           2023
          ],
          [
           "Clackamas",
           473300,
           2023
          ],
          [
           "Clackamas",
           650000,
           2023
          ],
          [
           "Washington",
           645200,
           2023
          ],
          [
           "Clackamas",
           593600,
           2023
          ],
          [
           "Multnomah",
           525000,
           2023
          ],
          [
           "Multnomah",
           694000,
           2023
          ],
          [
           "Clackamas",
           660800,
           2023
          ],
          [
           "Washington",
           614800,
           2023
          ],
          [
           "Clackamas",
           488200,
           2023
          ],
          [
           "Multnomah",
           780100,
           2023
          ],
          [
           "Clackamas",
           605600,
           2023
          ],
          [
           "Clackamas",
           719800,
           2023
          ]
         ],
         "hovertemplate": "<b>%{hovertext}</b><br><br>Year=%{customdata[2]}<br>Median Home Value=%{marker.color}<br>Latitude=%{lat}<br>Longitude=%{lon}<br>County=%{customdata[0]}<extra></extra>",
         "hovertext": [
          "Beavercreek CCD, Clackamas County, Oregon",
          "Beaverton-Hillsboro CCD, Washington County, Oregon",
          "Canby CCD, Clackamas County, Oregon",
          "Chehalem Mountains CCD, Washington County, Oregon",
          "Coast Range CCD, Washington County, Oregon",
          "Colton CCD, Clackamas County, Oregon",
          "Corbett CCD, Multnomah County, Oregon",
          "Estacada CCD, Clackamas County, Oregon",
          "Forest Grove-Cornelius CCD, Washington County, Oregon",
          "Gresham CCD, Multnomah County, Oregon",
          "Molalla CCD, Clackamas County, Oregon",
          "Mount Hood CCD, Clackamas County, Oregon",
          "Mulino CCD, Clackamas County, Oregon",
          "North Plains CCD, Washington County, Oregon",
          "Northwest Clackamas CCD, Clackamas County, Oregon",
          "Portland East CCD, Multnomah County, Oregon",
          "Portland West CCD, Multnomah County, Oregon",
          "Redland CCD, Clackamas County, Oregon",
          "Rockcreek CCD, Washington County, Oregon",
          "Sandy CCD, Clackamas County, Oregon",
          "Skyline CCD, Multnomah County, Oregon",
          "Wilsonville CCD, Clackamas County, Oregon",
          "Yoder CCD, Clackamas County, Oregon"
         ],
         "lat": [
          45.2879294,
          45.5226664,
          45.262692,
          45.3278962,
          45.5469616,
          45.1721192,
          45.5318,
          45.2877198,
          45.5195,
          45.5044715,
          45.1475439,
          45.2023855,
          45.2212415,
          45.59778499999999,
          45.4074434,
          45.5165442,
          45.4548406,
          45.3434553,
          45.5510497,
          45.3973141,
          45.5145659,
          45.3029344,
          45.1381769
         ],
         "legendgroup": "",
         "lon": [
          -122.5353423,
          -122.9898071,
          -122.6957402,
          -122.88871,
          -123.1386021,
          -122.4374803,
          -122.2912,
          -122.3351638,
          -123.1053,
          -122.4356657,
          -122.5771264,
          -122.1188945,
          -122.5816606,
          -123.0008365,
          -122.5688975,
          -122.6626984,
          -122.7325965,
          -122.4928664,
          -122.8741537,
          -122.2630704,
          -122.5863212,
          -122.7726687,
          -122.6817567
         ],
         "marker": {
          "color": [
           660600,
           556000,
           484700,
           645300,
           550200,
           555400,
           654100,
           572400,
           457200,
           438300,
           438300,
           473300,
           650000,
           645200,
           593600,
           525000,
           694000,
           660800,
           614800,
           488200,
           780100,
           605600,
           719800
          ],
          "coloraxis": "coloraxis",
          "size": [
           660600,
           556000,
           484700,
           645300,
           550200,
           555400,
           654100,
           572400,
           457200,
           438300,
           438300,
           473300,
           650000,
           645200,
           593600,
           525000,
           694000,
           660800,
           614800,
           488200,
           780100,
           605600,
           719800
          ],
          "sizemode": "area",
          "sizeref": 1950.25
         },
         "mode": "markers",
         "name": "",
         "showlegend": false,
         "subplot": "mapbox",
         "type": "scattermapbox"
        }
       ],
       "frames": [
        {
         "data": [
          {
           "customdata": [
            [
             "Clackamas",
             660600,
             2023
            ],
            [
             "Washington",
             556000,
             2023
            ],
            [
             "Clackamas",
             484700,
             2023
            ],
            [
             "Washington",
             645300,
             2023
            ],
            [
             "Washington",
             550200,
             2023
            ],
            [
             "Clackamas",
             555400,
             2023
            ],
            [
             "Multnomah",
             654100,
             2023
            ],
            [
             "Clackamas",
             572400,
             2023
            ],
            [
             "Washington",
             457200,
             2023
            ],
            [
             "Multnomah",
             438300,
             2023
            ],
            [
             "Clackamas",
             438300,
             2023
            ],
            [
             "Clackamas",
             473300,
             2023
            ],
            [
             "Clackamas",
             650000,
             2023
            ],
            [
             "Washington",
             645200,
             2023
            ],
            [
             "Clackamas",
             593600,
             2023
            ],
            [
             "Multnomah",
             525000,
             2023
            ],
            [
             "Multnomah",
             694000,
             2023
            ],
            [
             "Clackamas",
             660800,
             2023
            ],
            [
             "Washington",
             614800,
             2023
            ],
            [
             "Clackamas",
             488200,
             2023
            ],
            [
             "Multnomah",
             780100,
             2023
            ],
            [
             "Clackamas",
             605600,
             2023
            ],
            [
             "Clackamas",
             719800,
             2023
            ]
           ],
           "hovertemplate": "<b>%{hovertext}</b><br><br>Year=%{customdata[2]}<br>Median Home Value=%{marker.color}<br>Latitude=%{lat}<br>Longitude=%{lon}<br>County=%{customdata[0]}<extra></extra>",
           "hovertext": [
            "Beavercreek CCD, Clackamas County, Oregon",
            "Beaverton-Hillsboro CCD, Washington County, Oregon",
            "Canby CCD, Clackamas County, Oregon",
            "Chehalem Mountains CCD, Washington County, Oregon",
            "Coast Range CCD, Washington County, Oregon",
            "Colton CCD, Clackamas County, Oregon",
            "Corbett CCD, Multnomah County, Oregon",
            "Estacada CCD, Clackamas County, Oregon",
            "Forest Grove-Cornelius CCD, Washington County, Oregon",
            "Gresham CCD, Multnomah County, Oregon",
            "Molalla CCD, Clackamas County, Oregon",
            "Mount Hood CCD, Clackamas County, Oregon",
            "Mulino CCD, Clackamas County, Oregon",
            "North Plains CCD, Washington County, Oregon",
            "Northwest Clackamas CCD, Clackamas County, Oregon",
            "Portland East CCD, Multnomah County, Oregon",
            "Portland West CCD, Multnomah County, Oregon",
            "Redland CCD, Clackamas County, Oregon",
            "Rockcreek CCD, Washington County, Oregon",
            "Sandy CCD, Clackamas County, Oregon",
            "Skyline CCD, Multnomah County, Oregon",
            "Wilsonville CCD, Clackamas County, Oregon",
            "Yoder CCD, Clackamas County, Oregon"
           ],
           "lat": [
            45.2879294,
            45.5226664,
            45.262692,
            45.3278962,
            45.5469616,
            45.1721192,
            45.5318,
            45.2877198,
            45.5195,
            45.5044715,
            45.1475439,
            45.2023855,
            45.2212415,
            45.59778499999999,
            45.4074434,
            45.5165442,
            45.4548406,
            45.3434553,
            45.5510497,
            45.3973141,
            45.5145659,
            45.3029344,
            45.1381769
           ],
           "legendgroup": "",
           "lon": [
            -122.5353423,
            -122.9898071,
            -122.6957402,
            -122.88871,
            -123.1386021,
            -122.4374803,
            -122.2912,
            -122.3351638,
            -123.1053,
            -122.4356657,
            -122.5771264,
            -122.1188945,
            -122.5816606,
            -123.0008365,
            -122.5688975,
            -122.6626984,
            -122.7325965,
            -122.4928664,
            -122.8741537,
            -122.2630704,
            -122.5863212,
            -122.7726687,
            -122.6817567
           ],
           "marker": {
            "color": [
             660600,
             556000,
             484700,
             645300,
             550200,
             555400,
             654100,
             572400,
             457200,
             438300,
             438300,
             473300,
             650000,
             645200,
             593600,
             525000,
             694000,
             660800,
             614800,
             488200,
             780100,
             605600,
             719800
            ],
            "coloraxis": "coloraxis",
            "size": [
             660600,
             556000,
             484700,
             645300,
             550200,
             555400,
             654100,
             572400,
             457200,
             438300,
             438300,
             473300,
             650000,
             645200,
             593600,
             525000,
             694000,
             660800,
             614800,
             488200,
             780100,
             605600,
             719800
            ],
            "sizemode": "area",
            "sizeref": 1950.25
           },
           "mode": "markers",
           "name": "",
           "showlegend": false,
           "subplot": "mapbox",
           "type": "scattermapbox"
          }
         ],
         "name": "2023"
        },
        {
         "data": [
          {
           "customdata": [
            [
             "Clackamas",
             644600,
             2022
            ],
            [
             "Washington",
             501200,
             2022
            ],
            [
             "Clackamas",
             455000,
             2022
            ],
            [
             "Washington",
             660500,
             2022
            ],
            [
             "Washington",
             507000,
             2022
            ],
            [
             "Clackamas",
             493300,
             2022
            ],
            [
             "Multnomah",
             609400,
             2022
            ],
            [
             "Clackamas",
             511800,
             2022
            ],
            [
             "Washington",
             429100,
             2022
            ],
            [
             "Multnomah",
             410900,
             2022
            ],
            [
             "Clackamas",
             405600,
             2022
            ],
            [
             "Clackamas",
             468900,
             2022
            ],
            [
             "Clackamas",
             620200,
             2022
            ],
            [
             "Washington",
             614700,
             2022
            ],
            [
             "Clackamas",
             546200,
             2022
            ],
            [
             "Multnomah",
             491300,
             2022
            ],
            [
             "Multnomah",
             663000,
             2022
            ],
            [
             "Clackamas",
             619100,
             2022
            ],
            [
             "Washington",
             573700,
             2022
            ],
            [
             "Clackamas",
             473900,
             2022
            ],
            [
             "Multnomah",
             747100,
             2022
            ],
            [
             "Clackamas",
             579200,
             2022
            ],
            [
             "Clackamas",
             673600,
             2022
            ]
           ],
           "hovertemplate": "<b>%{hovertext}</b><br><br>Year=%{customdata[2]}<br>Median Home Value=%{marker.color}<br>Latitude=%{lat}<br>Longitude=%{lon}<br>County=%{customdata[0]}<extra></extra>",
           "hovertext": [
            "Beavercreek CCD, Clackamas County, Oregon",
            "Beaverton-Hillsboro CCD, Washington County, Oregon",
            "Canby CCD, Clackamas County, Oregon",
            "Chehalem Mountains CCD, Washington County, Oregon",
            "Coast Range CCD, Washington County, Oregon",
            "Colton CCD, Clackamas County, Oregon",
            "Corbett CCD, Multnomah County, Oregon",
            "Estacada CCD, Clackamas County, Oregon",
            "Forest Grove-Cornelius CCD, Washington County, Oregon",
            "Gresham CCD, Multnomah County, Oregon",
            "Molalla CCD, Clackamas County, Oregon",
            "Mount Hood CCD, Clackamas County, Oregon",
            "Mulino CCD, Clackamas County, Oregon",
            "North Plains CCD, Washington County, Oregon",
            "Northwest Clackamas CCD, Clackamas County, Oregon",
            "Portland East CCD, Multnomah County, Oregon",
            "Portland West CCD, Multnomah County, Oregon",
            "Redland CCD, Clackamas County, Oregon",
            "Rockcreek CCD, Washington County, Oregon",
            "Sandy CCD, Clackamas County, Oregon",
            "Skyline CCD, Multnomah County, Oregon",
            "Wilsonville CCD, Clackamas County, Oregon",
            "Yoder CCD, Clackamas County, Oregon"
           ],
           "lat": [
            45.2879294,
            45.5226664,
            45.262692,
            45.3278962,
            45.5469616,
            45.1721192,
            45.5318,
            45.2877198,
            45.5195,
            45.5044715,
            45.1475439,
            45.2023855,
            45.2212415,
            45.59778499999999,
            45.4074434,
            45.5165442,
            45.4548406,
            45.3434553,
            45.5510497,
            45.3973141,
            45.5145659,
            45.3029344,
            45.1381769
           ],
           "legendgroup": "",
           "lon": [
            -122.5353423,
            -122.9898071,
            -122.6957402,
            -122.88871,
            -123.1386021,
            -122.4374803,
            -122.2912,
            -122.3351638,
            -123.1053,
            -122.4356657,
            -122.5771264,
            -122.1188945,
            -122.5816606,
            -123.0008365,
            -122.5688975,
            -122.6626984,
            -122.7325965,
            -122.4928664,
            -122.8741537,
            -122.2630704,
            -122.5863212,
            -122.7726687,
            -122.6817567
           ],
           "marker": {
            "color": [
             644600,
             501200,
             455000,
             660500,
             507000,
             493300,
             609400,
             511800,
             429100,
             410900,
             405600,
             468900,
             620200,
             614700,
             546200,
             491300,
             663000,
             619100,
             573700,
             473900,
             747100,
             579200,
             673600
            ],
            "coloraxis": "coloraxis",
            "size": [
             644600,
             501200,
             455000,
             660500,
             507000,
             493300,
             609400,
             511800,
             429100,
             410900,
             405600,
             468900,
             620200,
             614700,
             546200,
             491300,
             663000,
             619100,
             573700,
             473900,
             747100,
             579200,
             673600
            ],
            "sizemode": "area",
            "sizeref": 1950.25
           },
           "mode": "markers",
           "name": "",
           "showlegend": false,
           "subplot": "mapbox",
           "type": "scattermapbox"
          }
         ],
         "name": "2022"
        },
        {
         "data": [
          {
           "customdata": [
            [
             "Clackamas",
             522900,
             2021
            ],
            [
             "Washington",
             436300,
             2021
            ],
            [
             "Clackamas",
             390600,
             2021
            ],
            [
             "Washington",
             549600,
             2021
            ],
            [
             "Washington",
             455700,
             2021
            ],
            [
             "Clackamas",
             440700,
             2021
            ],
            [
             "Multnomah",
             496400,
             2021
            ],
            [
             "Clackamas",
             431200,
             2021
            ],
            [
             "Washington",
             366600,
             2021
            ],
            [
             "Multnomah",
             348600,
             2021
            ],
            [
             "Clackamas",
             350100,
             2021
            ],
            [
             "Clackamas",
             389100,
             2021
            ],
            [
             "Clackamas",
             528700,
             2021
            ],
            [
             "Washington",
             497400,
             2021
            ],
            [
             "Clackamas",
             462700,
             2021
            ],
            [
             "Multnomah",
             437900,
             2021
            ],
            [
             "Multnomah",
             604000,
             2021
            ],
            [
             "Clackamas",
             507200,
             2021
            ],
            [
             "Washington",
             488800,
             2021
            ],
            [
             "Clackamas",
             385100,
             2021
            ],
            [
             "Multnomah",
             705300,
             2021
            ],
            [
             "Clackamas",
             486500,
             2021
            ],
            [
             "Clackamas",
             560200,
             2021
            ]
           ],
           "hovertemplate": "<b>%{hovertext}</b><br><br>Year=%{customdata[2]}<br>Median Home Value=%{marker.color}<br>Latitude=%{lat}<br>Longitude=%{lon}<br>County=%{customdata[0]}<extra></extra>",
           "hovertext": [
            "Beavercreek CCD, Clackamas County, Oregon",
            "Beaverton-Hillsboro CCD, Washington County, Oregon",
            "Canby CCD, Clackamas County, Oregon",
            "Chehalem Mountains CCD, Washington County, Oregon",
            "Coast Range CCD, Washington County, Oregon",
            "Colton CCD, Clackamas County, Oregon",
            "Corbett CCD, Multnomah County, Oregon",
            "Estacada CCD, Clackamas County, Oregon",
            "Forest Grove-Cornelius CCD, Washington County, Oregon",
            "Gresham CCD, Multnomah County, Oregon",
            "Molalla CCD, Clackamas County, Oregon",
            "Mount Hood CCD, Clackamas County, Oregon",
            "Mulino CCD, Clackamas County, Oregon",
            "North Plains CCD, Washington County, Oregon",
            "Northwest Clackamas CCD, Clackamas County, Oregon",
            "Portland East CCD, Multnomah County, Oregon",
            "Portland West CCD, Multnomah County, Oregon",
            "Redland CCD, Clackamas County, Oregon",
            "Rockcreek CCD, Washington County, Oregon",
            "Sandy CCD, Clackamas County, Oregon",
            "Skyline CCD, Multnomah County, Oregon",
            "Wilsonville CCD, Clackamas County, Oregon",
            "Yoder CCD, Clackamas County, Oregon"
           ],
           "lat": [
            45.2879294,
            45.5226664,
            45.262692,
            45.3278962,
            45.5469616,
            45.1721192,
            45.5318,
            45.2877198,
            45.5195,
            45.5044715,
            45.1475439,
            45.2023855,
            45.2212415,
            45.59778499999999,
            45.4074434,
            45.5165442,
            45.4548406,
            45.3434553,
            45.5510497,
            45.3973141,
            45.5145659,
            45.3029344,
            45.1381769
           ],
           "legendgroup": "",
           "lon": [
            -122.5353423,
            -122.9898071,
            -122.6957402,
            -122.88871,
            -123.1386021,
            -122.4374803,
            -122.2912,
            -122.3351638,
            -123.1053,
            -122.4356657,
            -122.5771264,
            -122.1188945,
            -122.5816606,
            -123.0008365,
            -122.5688975,
            -122.6626984,
            -122.7325965,
            -122.4928664,
            -122.8741537,
            -122.2630704,
            -122.5863212,
            -122.7726687,
            -122.6817567
           ],
           "marker": {
            "color": [
             522900,
             436300,
             390600,
             549600,
             455700,
             440700,
             496400,
             431200,
             366600,
             348600,
             350100,
             389100,
             528700,
             497400,
             462700,
             437900,
             604000,
             507200,
             488800,
             385100,
             705300,
             486500,
             560200
            ],
            "coloraxis": "coloraxis",
            "size": [
             522900,
             436300,
             390600,
             549600,
             455700,
             440700,
             496400,
             431200,
             366600,
             348600,
             350100,
             389100,
             528700,
             497400,
             462700,
             437900,
             604000,
             507200,
             488800,
             385100,
             705300,
             486500,
             560200
            ],
            "sizemode": "area",
            "sizeref": 1950.25
           },
           "mode": "markers",
           "name": "",
           "showlegend": false,
           "subplot": "mapbox",
           "type": "scattermapbox"
          }
         ],
         "name": "2021"
        },
        {
         "data": [
          {
           "customdata": [
            [
             "Clackamas",
             501200,
             2020
            ],
            [
             "Washington",
             410900,
             2020
            ],
            [
             "Clackamas",
             365500,
             2020
            ],
            [
             "Washington",
             495800,
             2020
            ],
            [
             "Washington",
             453800,
             2020
            ],
            [
             "Clackamas",
             391500,
             2020
            ],
            [
             "Multnomah",
             461700,
             2020
            ],
            [
             "Clackamas",
             392700,
             2020
            ],
            [
             "Washington",
             339100,
             2020
            ],
            [
             "Multnomah",
             324300,
             2020
            ],
            [
             "Clackamas",
             335100,
             2020
            ],
            [
             "Clackamas",
             367100,
             2020
            ],
            [
             "Clackamas",
             478200,
             2020
            ],
            [
             "Washington",
             459600,
             2020
            ],
            [
             "Clackamas",
             430600,
             2020
            ],
            [
             "Multnomah",
             410200,
             2020
            ],
            [
             "Multnomah",
             586300,
             2020
            ],
            [
             "Clackamas",
             475600,
             2020
            ],
            [
             "Washington",
             463700,
             2020
            ],
            [
             "Clackamas",
             364700,
             2020
            ],
            [
             "Multnomah",
             668000,
             2020
            ],
            [
             "Clackamas",
             467600,
             2020
            ],
            [
             "Clackamas",
             517400,
             2020
            ]
           ],
           "hovertemplate": "<b>%{hovertext}</b><br><br>Year=%{customdata[2]}<br>Median Home Value=%{marker.color}<br>Latitude=%{lat}<br>Longitude=%{lon}<br>County=%{customdata[0]}<extra></extra>",
           "hovertext": [
            "Beavercreek CCD, Clackamas County, Oregon",
            "Beaverton-Hillsboro CCD, Washington County, Oregon",
            "Canby CCD, Clackamas County, Oregon",
            "Chehalem Mountains CCD, Washington County, Oregon",
            "Coast Range CCD, Washington County, Oregon",
            "Colton CCD, Clackamas County, Oregon",
            "Corbett CCD, Multnomah County, Oregon",
            "Estacada CCD, Clackamas County, Oregon",
            "Forest Grove-Cornelius CCD, Washington County, Oregon",
            "Gresham CCD, Multnomah County, Oregon",
            "Molalla CCD, Clackamas County, Oregon",
            "Mount Hood CCD, Clackamas County, Oregon",
            "Mulino CCD, Clackamas County, Oregon",
            "North Plains CCD, Washington County, Oregon",
            "Northwest Clackamas CCD, Clackamas County, Oregon",
            "Portland East CCD, Multnomah County, Oregon",
            "Portland West CCD, Multnomah County, Oregon",
            "Redland CCD, Clackamas County, Oregon",
            "Rockcreek CCD, Washington County, Oregon",
            "Sandy CCD, Clackamas County, Oregon",
            "Skyline CCD, Multnomah County, Oregon",
            "Wilsonville CCD, Clackamas County, Oregon",
            "Yoder CCD, Clackamas County, Oregon"
           ],
           "lat": [
            45.2879294,
            45.5226664,
            45.262692,
            45.3278962,
            45.5469616,
            45.1721192,
            45.5318,
            45.2877198,
            45.5195,
            45.5044715,
            45.1475439,
            45.2023855,
            45.2212415,
            45.59778499999999,
            45.4074434,
            45.5165442,
            45.4548406,
            45.3434553,
            45.5510497,
            45.3973141,
            45.5145659,
            45.3029344,
            45.1381769
           ],
           "legendgroup": "",
           "lon": [
            -122.5353423,
            -122.9898071,
            -122.6957402,
            -122.88871,
            -123.1386021,
            -122.4374803,
            -122.2912,
            -122.3351638,
            -123.1053,
            -122.4356657,
            -122.5771264,
            -122.1188945,
            -122.5816606,
            -123.0008365,
            -122.5688975,
            -122.6626984,
            -122.7325965,
            -122.4928664,
            -122.8741537,
            -122.2630704,
            -122.5863212,
            -122.7726687,
            -122.6817567
           ],
           "marker": {
            "color": [
             501200,
             410900,
             365500,
             495800,
             453800,
             391500,
             461700,
             392700,
             339100,
             324300,
             335100,
             367100,
             478200,
             459600,
             430600,
             410200,
             586300,
             475600,
             463700,
             364700,
             668000,
             467600,
             517400
            ],
            "coloraxis": "coloraxis",
            "size": [
             501200,
             410900,
             365500,
             495800,
             453800,
             391500,
             461700,
             392700,
             339100,
             324300,
             335100,
             367100,
             478200,
             459600,
             430600,
             410200,
             586300,
             475600,
             463700,
             364700,
             668000,
             467600,
             517400
            ],
            "sizemode": "area",
            "sizeref": 1950.25
           },
           "mode": "markers",
           "name": "",
           "showlegend": false,
           "subplot": "mapbox",
           "type": "scattermapbox"
          }
         ],
         "name": "2020"
        },
        {
         "data": [
          {
           "customdata": [
            [
             "Clackamas",
             468400,
             2019
            ],
            [
             "Washington",
             384400,
             2019
            ],
            [
             "Clackamas",
             334100,
             2019
            ],
            [
             "Washington",
             478000,
             2019
            ],
            [
             "Washington",
             433800,
             2019
            ],
            [
             "Clackamas",
             347400,
             2019
            ],
            [
             "Multnomah",
             422500,
             2019
            ],
            [
             "Clackamas",
             368800,
             2019
            ],
            [
             "Washington",
             304400,
             2019
            ],
            [
             "Multnomah",
             294300,
             2019
            ],
            [
             "Clackamas",
             299200,
             2019
            ],
            [
             "Clackamas",
             371200,
             2019
            ],
            [
             "Clackamas",
             429300,
             2019
            ],
            [
             "Washington",
             433400,
             2019
            ],
            [
             "Clackamas",
             402200,
             2019
            ],
            [
             "Multnomah",
             383900,
             2019
            ],
            [
             "Multnomah",
             557100,
             2019
            ],
            [
             "Clackamas",
             480300,
             2019
            ],
            [
             "Washington",
             441200,
             2019
            ],
            [
             "Clackamas",
             348300,
             2019
            ],
            [
             "Multnomah",
             592000,
             2019
            ],
            [
             "Clackamas",
             456100,
             2019
            ],
            [
             "Clackamas",
             495400,
             2019
            ]
           ],
           "hovertemplate": "<b>%{hovertext}</b><br><br>Year=%{customdata[2]}<br>Median Home Value=%{marker.color}<br>Latitude=%{lat}<br>Longitude=%{lon}<br>County=%{customdata[0]}<extra></extra>",
           "hovertext": [
            "Beavercreek CCD, Clackamas County, Oregon",
            "Beaverton-Hillsboro CCD, Washington County, Oregon",
            "Canby CCD, Clackamas County, Oregon",
            "Chehalem Mountains CCD, Washington County, Oregon",
            "Coast Range CCD, Washington County, Oregon",
            "Colton CCD, Clackamas County, Oregon",
            "Corbett CCD, Multnomah County, Oregon",
            "Estacada CCD, Clackamas County, Oregon",
            "Forest Grove-Cornelius CCD, Washington County, Oregon",
            "Gresham CCD, Multnomah County, Oregon",
            "Molalla CCD, Clackamas County, Oregon",
            "Mount Hood CCD, Clackamas County, Oregon",
            "Mulino CCD, Clackamas County, Oregon",
            "North Plains CCD, Washington County, Oregon",
            "Northwest Clackamas CCD, Clackamas County, Oregon",
            "Portland East CCD, Multnomah County, Oregon",
            "Portland West CCD, Multnomah County, Oregon",
            "Redland CCD, Clackamas County, Oregon",
            "Rockcreek CCD, Washington County, Oregon",
            "Sandy CCD, Clackamas County, Oregon",
            "Skyline CCD, Multnomah County, Oregon",
            "Wilsonville CCD, Clackamas County, Oregon",
            "Yoder CCD, Clackamas County, Oregon"
           ],
           "lat": [
            45.2879294,
            45.5226664,
            45.262692,
            45.3278962,
            45.5469616,
            45.1721192,
            45.5318,
            45.2877198,
            45.5195,
            45.5044715,
            45.1475439,
            45.2023855,
            45.2212415,
            45.59778499999999,
            45.4074434,
            45.5165442,
            45.4548406,
            45.3434553,
            45.5510497,
            45.3973141,
            45.5145659,
            45.3029344,
            45.1381769
           ],
           "legendgroup": "",
           "lon": [
            -122.5353423,
            -122.9898071,
            -122.6957402,
            -122.88871,
            -123.1386021,
            -122.4374803,
            -122.2912,
            -122.3351638,
            -123.1053,
            -122.4356657,
            -122.5771264,
            -122.1188945,
            -122.5816606,
            -123.0008365,
            -122.5688975,
            -122.6626984,
            -122.7325965,
            -122.4928664,
            -122.8741537,
            -122.2630704,
            -122.5863212,
            -122.7726687,
            -122.6817567
           ],
           "marker": {
            "color": [
             468400,
             384400,
             334100,
             478000,
             433800,
             347400,
             422500,
             368800,
             304400,
             294300,
             299200,
             371200,
             429300,
             433400,
             402200,
             383900,
             557100,
             480300,
             441200,
             348300,
             592000,
             456100,
             495400
            ],
            "coloraxis": "coloraxis",
            "size": [
             468400,
             384400,
             334100,
             478000,
             433800,
             347400,
             422500,
             368800,
             304400,
             294300,
             299200,
             371200,
             429300,
             433400,
             402200,
             383900,
             557100,
             480300,
             441200,
             348300,
             592000,
             456100,
             495400
            ],
            "sizemode": "area",
            "sizeref": 1950.25
           },
           "mode": "markers",
           "name": "",
           "showlegend": false,
           "subplot": "mapbox",
           "type": "scattermapbox"
          }
         ],
         "name": "2019"
        }
       ],
       "layout": {
        "autosize": true,
        "coloraxis": {
         "colorbar": {
          "title": {
           "text": "Median Home Value"
          }
         },
         "colorscale": [
          [
           0,
           "green"
          ],
          [
           0.5,
           "yellow"
          ],
          [
           1,
           "red"
          ]
         ]
        },
        "height": 800,
        "legend": {
         "itemsizing": "constant",
         "tracegroupgap": 0
        },
        "mapbox": {
         "center": {
          "lat": 45.380827673913046,
          "lon": -122.64202430434783
         },
         "domain": {
          "x": [
           0,
           1
          ],
          "y": [
           0,
           1
          ]
         },
         "style": "carto-positron",
         "zoom": 8
        },
        "sliders": [
         {
          "active": 0,
          "currentvalue": {
           "prefix": "Year="
          },
          "len": 0.9,
          "pad": {
           "b": 10,
           "t": 60
          },
          "steps": [
           {
            "args": [
             [
              "2023"
             ],
             {
              "frame": {
               "duration": 0,
               "redraw": true
              },
              "fromcurrent": true,
              "mode": "immediate",
              "transition": {
               "duration": 0,
               "easing": "linear"
              }
             }
            ],
            "label": "2023",
            "method": "animate"
           },
           {
            "args": [
             [
              "2022"
             ],
             {
              "frame": {
               "duration": 0,
               "redraw": true
              },
              "fromcurrent": true,
              "mode": "immediate",
              "transition": {
               "duration": 0,
               "easing": "linear"
              }
             }
            ],
            "label": "2022",
            "method": "animate"
           },
           {
            "args": [
             [
              "2021"
             ],
             {
              "frame": {
               "duration": 0,
               "redraw": true
              },
              "fromcurrent": true,
              "mode": "immediate",
              "transition": {
               "duration": 0,
               "easing": "linear"
              }
             }
            ],
            "label": "2021",
            "method": "animate"
           },
           {
            "args": [
             [
              "2020"
             ],
             {
              "frame": {
               "duration": 0,
               "redraw": true
              },
              "fromcurrent": true,
              "mode": "immediate",
              "transition": {
               "duration": 0,
               "easing": "linear"
              }
             }
            ],
            "label": "2020",
            "method": "animate"
           },
           {
            "args": [
             [
              "2019"
             ],
             {
              "frame": {
               "duration": 0,
               "redraw": true
              },
              "fromcurrent": true,
              "mode": "immediate",
              "transition": {
               "duration": 0,
               "easing": "linear"
              }
             }
            ],
            "label": "2019",
            "method": "animate"
           }
          ],
          "x": 0.1,
          "xanchor": "left",
          "y": 0,
          "yanchor": "top"
         }
        ],
        "template": {
         "data": {
          "bar": [
           {
            "error_x": {
             "color": "#2a3f5f"
            },
            "error_y": {
             "color": "#2a3f5f"
            },
            "marker": {
             "line": {
              "color": "#E5ECF6",
              "width": 0.5
             },
             "pattern": {
              "fillmode": "overlay",
              "size": 10,
              "solidity": 0.2
             }
            },
            "type": "bar"
           }
          ],
          "barpolar": [
           {
            "marker": {
             "line": {
              "color": "#E5ECF6",
              "width": 0.5
             },
             "pattern": {
              "fillmode": "overlay",
              "size": 10,
              "solidity": 0.2
             }
            },
            "type": "barpolar"
           }
          ],
          "carpet": [
           {
            "aaxis": {
             "endlinecolor": "#2a3f5f",
             "gridcolor": "white",
             "linecolor": "white",
             "minorgridcolor": "white",
             "startlinecolor": "#2a3f5f"
            },
            "baxis": {
             "endlinecolor": "#2a3f5f",
             "gridcolor": "white",
             "linecolor": "white",
             "minorgridcolor": "white",
             "startlinecolor": "#2a3f5f"
            },
            "type": "carpet"
           }
          ],
          "choropleth": [
           {
            "colorbar": {
             "outlinewidth": 0,
             "ticks": ""
            },
            "type": "choropleth"
           }
          ],
          "contour": [
           {
            "colorbar": {
             "outlinewidth": 0,
             "ticks": ""
            },
            "colorscale": [
             [
              0,
              "#0d0887"
             ],
             [
              0.1111111111111111,
              "#46039f"
             ],
             [
              0.2222222222222222,
              "#7201a8"
             ],
             [
              0.3333333333333333,
              "#9c179e"
             ],
             [
              0.4444444444444444,
              "#bd3786"
             ],
             [
              0.5555555555555556,
              "#d8576b"
             ],
             [
              0.6666666666666666,
              "#ed7953"
             ],
             [
              0.7777777777777778,
              "#fb9f3a"
             ],
             [
              0.8888888888888888,
              "#fdca26"
             ],
             [
              1,
              "#f0f921"
             ]
            ],
            "type": "contour"
           }
          ],
          "contourcarpet": [
           {
            "colorbar": {
             "outlinewidth": 0,
             "ticks": ""
            },
            "type": "contourcarpet"
           }
          ],
          "heatmap": [
           {
            "colorbar": {
             "outlinewidth": 0,
             "ticks": ""
            },
            "colorscale": [
             [
              0,
              "#0d0887"
             ],
             [
              0.1111111111111111,
              "#46039f"
             ],
             [
              0.2222222222222222,
              "#7201a8"
             ],
             [
              0.3333333333333333,
              "#9c179e"
             ],
             [
              0.4444444444444444,
              "#bd3786"
             ],
             [
              0.5555555555555556,
              "#d8576b"
             ],
             [
              0.6666666666666666,
              "#ed7953"
             ],
             [
              0.7777777777777778,
              "#fb9f3a"
             ],
             [
              0.8888888888888888,
              "#fdca26"
             ],
             [
              1,
              "#f0f921"
             ]
            ],
            "type": "heatmap"
           }
          ],
          "heatmapgl": [
           {
            "colorbar": {
             "outlinewidth": 0,
             "ticks": ""
            },
            "colorscale": [
             [
              0,
              "#0d0887"
             ],
             [
              0.1111111111111111,
              "#46039f"
             ],
             [
              0.2222222222222222,
              "#7201a8"
             ],
             [
              0.3333333333333333,
              "#9c179e"
             ],
             [
              0.4444444444444444,
              "#bd3786"
             ],
             [
              0.5555555555555556,
              "#d8576b"
             ],
             [
              0.6666666666666666,
              "#ed7953"
             ],
             [
              0.7777777777777778,
              "#fb9f3a"
             ],
             [
              0.8888888888888888,
              "#fdca26"
             ],
             [
              1,
              "#f0f921"
             ]
            ],
            "type": "heatmapgl"
           }
          ],
          "histogram": [
           {
            "marker": {
             "pattern": {
              "fillmode": "overlay",
              "size": 10,
              "solidity": 0.2
             }
            },
            "type": "histogram"
           }
          ],
          "histogram2d": [
           {
            "colorbar": {
             "outlinewidth": 0,
             "ticks": ""
            },
            "colorscale": [
             [
              0,
              "#0d0887"
             ],
             [
              0.1111111111111111,
              "#46039f"
             ],
             [
              0.2222222222222222,
              "#7201a8"
             ],
             [
              0.3333333333333333,
              "#9c179e"
             ],
             [
              0.4444444444444444,
              "#bd3786"
             ],
             [
              0.5555555555555556,
              "#d8576b"
             ],
             [
              0.6666666666666666,
              "#ed7953"
             ],
             [
              0.7777777777777778,
              "#fb9f3a"
             ],
             [
              0.8888888888888888,
              "#fdca26"
             ],
             [
              1,
              "#f0f921"
             ]
            ],
            "type": "histogram2d"
           }
          ],
          "histogram2dcontour": [
           {
            "colorbar": {
             "outlinewidth": 0,
             "ticks": ""
            },
            "colorscale": [
             [
              0,
              "#0d0887"
             ],
             [
              0.1111111111111111,
              "#46039f"
             ],
             [
              0.2222222222222222,
              "#7201a8"
             ],
             [
              0.3333333333333333,
              "#9c179e"
             ],
             [
              0.4444444444444444,
              "#bd3786"
             ],
             [
              0.5555555555555556,
              "#d8576b"
             ],
             [
              0.6666666666666666,
              "#ed7953"
             ],
             [
              0.7777777777777778,
              "#fb9f3a"
             ],
             [
              0.8888888888888888,
              "#fdca26"
             ],
             [
              1,
              "#f0f921"
             ]
            ],
            "type": "histogram2dcontour"
           }
          ],
          "mesh3d": [
           {
            "colorbar": {
             "outlinewidth": 0,
             "ticks": ""
            },
            "type": "mesh3d"
           }
          ],
          "parcoords": [
           {
            "line": {
             "colorbar": {
              "outlinewidth": 0,
              "ticks": ""
             }
            },
            "type": "parcoords"
           }
          ],
          "pie": [
           {
            "automargin": true,
            "type": "pie"
           }
          ],
          "scatter": [
           {
            "fillpattern": {
             "fillmode": "overlay",
             "size": 10,
             "solidity": 0.2
            },
            "type": "scatter"
           }
          ],
          "scatter3d": [
           {
            "line": {
             "colorbar": {
              "outlinewidth": 0,
              "ticks": ""
             }
            },
            "marker": {
             "colorbar": {
              "outlinewidth": 0,
              "ticks": ""
             }
            },
            "type": "scatter3d"
           }
          ],
          "scattercarpet": [
           {
            "marker": {
             "colorbar": {
              "outlinewidth": 0,
              "ticks": ""
             }
            },
            "type": "scattercarpet"
           }
          ],
          "scattergeo": [
           {
            "marker": {
             "colorbar": {
              "outlinewidth": 0,
              "ticks": ""
             }
            },
            "type": "scattergeo"
           }
          ],
          "scattergl": [
           {
            "marker": {
             "colorbar": {
              "outlinewidth": 0,
              "ticks": ""
             }
            },
            "type": "scattergl"
           }
          ],
          "scattermapbox": [
           {
            "marker": {
             "colorbar": {
              "outlinewidth": 0,
              "ticks": ""
             }
            },
            "type": "scattermapbox"
           }
          ],
          "scatterpolar": [
           {
            "marker": {
             "colorbar": {
              "outlinewidth": 0,
              "ticks": ""
             }
            },
            "type": "scatterpolar"
           }
          ],
          "scatterpolargl": [
           {
            "marker": {
             "colorbar": {
              "outlinewidth": 0,
              "ticks": ""
             }
            },
            "type": "scatterpolargl"
           }
          ],
          "scatterternary": [
           {
            "marker": {
             "colorbar": {
              "outlinewidth": 0,
              "ticks": ""
             }
            },
            "type": "scatterternary"
           }
          ],
          "surface": [
           {
            "colorbar": {
             "outlinewidth": 0,
             "ticks": ""
            },
            "colorscale": [
             [
              0,
              "#0d0887"
             ],
             [
              0.1111111111111111,
              "#46039f"
             ],
             [
              0.2222222222222222,
              "#7201a8"
             ],
             [
              0.3333333333333333,
              "#9c179e"
             ],
             [
              0.4444444444444444,
              "#bd3786"
             ],
             [
              0.5555555555555556,
              "#d8576b"
             ],
             [
              0.6666666666666666,
              "#ed7953"
             ],
             [
              0.7777777777777778,
              "#fb9f3a"
             ],
             [
              0.8888888888888888,
              "#fdca26"
             ],
             [
              1,
              "#f0f921"
             ]
            ],
            "type": "surface"
           }
          ],
          "table": [
           {
            "cells": {
             "fill": {
              "color": "#EBF0F8"
             },
             "line": {
              "color": "white"
             }
            },
            "header": {
             "fill": {
              "color": "#C8D4E3"
             },
             "line": {
              "color": "white"
             }
            },
            "type": "table"
           }
          ]
         },
         "layout": {
          "annotationdefaults": {
           "arrowcolor": "#2a3f5f",
           "arrowhead": 0,
           "arrowwidth": 1
          },
          "autotypenumbers": "strict",
          "coloraxis": {
           "colorbar": {
            "outlinewidth": 0,
            "ticks": ""
           }
          },
          "colorscale": {
           "diverging": [
            [
             0,
             "#8e0152"
            ],
            [
             0.1,
             "#c51b7d"
            ],
            [
             0.2,
             "#de77ae"
            ],
            [
             0.3,
             "#f1b6da"
            ],
            [
             0.4,
             "#fde0ef"
            ],
            [
             0.5,
             "#f7f7f7"
            ],
            [
             0.6,
             "#e6f5d0"
            ],
            [
             0.7,
             "#b8e186"
            ],
            [
             0.8,
             "#7fbc41"
            ],
            [
             0.9,
             "#4d9221"
            ],
            [
             1,
             "#276419"
            ]
           ],
           "sequential": [
            [
             0,
             "#0d0887"
            ],
            [
             0.1111111111111111,
             "#46039f"
            ],
            [
             0.2222222222222222,
             "#7201a8"
            ],
            [
             0.3333333333333333,
             "#9c179e"
            ],
            [
             0.4444444444444444,
             "#bd3786"
            ],
            [
             0.5555555555555556,
             "#d8576b"
            ],
            [
             0.6666666666666666,
             "#ed7953"
            ],
            [
             0.7777777777777778,
             "#fb9f3a"
            ],
            [
             0.8888888888888888,
             "#fdca26"
            ],
            [
             1,
             "#f0f921"
            ]
           ],
           "sequentialminus": [
            [
             0,
             "#0d0887"
            ],
            [
             0.1111111111111111,
             "#46039f"
            ],
            [
             0.2222222222222222,
             "#7201a8"
            ],
            [
             0.3333333333333333,
             "#9c179e"
            ],
            [
             0.4444444444444444,
             "#bd3786"
            ],
            [
             0.5555555555555556,
             "#d8576b"
            ],
            [
             0.6666666666666666,
             "#ed7953"
            ],
            [
             0.7777777777777778,
             "#fb9f3a"
            ],
            [
             0.8888888888888888,
             "#fdca26"
            ],
            [
             1,
             "#f0f921"
            ]
           ]
          },
          "colorway": [
           "#636efa",
           "#EF553B",
           "#00cc96",
           "#ab63fa",
           "#FFA15A",
           "#19d3f3",
           "#FF6692",
           "#B6E880",
           "#FF97FF",
           "#FECB52"
          ],
          "font": {
           "color": "#2a3f5f"
          },
          "geo": {
           "bgcolor": "white",
           "lakecolor": "white",
           "landcolor": "#E5ECF6",
           "showlakes": true,
           "showland": true,
           "subunitcolor": "white"
          },
          "hoverlabel": {
           "align": "left"
          },
          "hovermode": "closest",
          "mapbox": {
           "style": "light"
          },
          "paper_bgcolor": "white",
          "plot_bgcolor": "#E5ECF6",
          "polar": {
           "angularaxis": {
            "gridcolor": "white",
            "linecolor": "white",
            "ticks": ""
           },
           "bgcolor": "#E5ECF6",
           "radialaxis": {
            "gridcolor": "white",
            "linecolor": "white",
            "ticks": ""
           }
          },
          "scene": {
           "xaxis": {
            "backgroundcolor": "#E5ECF6",
            "gridcolor": "white",
            "gridwidth": 2,
            "linecolor": "white",
            "showbackground": true,
            "ticks": "",
            "zerolinecolor": "white"
           },
           "yaxis": {
            "backgroundcolor": "#E5ECF6",
            "gridcolor": "white",
            "gridwidth": 2,
            "linecolor": "white",
            "showbackground": true,
            "ticks": "",
            "zerolinecolor": "white"
           },
           "zaxis": {
            "backgroundcolor": "#E5ECF6",
            "gridcolor": "white",
            "gridwidth": 2,
            "linecolor": "white",
            "showbackground": true,
            "ticks": "",
            "zerolinecolor": "white"
           }
          },
          "shapedefaults": {
           "line": {
            "color": "#2a3f5f"
           }
          },
          "ternary": {
           "aaxis": {
            "gridcolor": "white",
            "linecolor": "white",
            "ticks": ""
           },
           "baxis": {
            "gridcolor": "white",
            "linecolor": "white",
            "ticks": ""
           },
           "bgcolor": "#E5ECF6",
           "caxis": {
            "gridcolor": "white",
            "linecolor": "white",
            "ticks": ""
           }
          },
          "title": {
           "x": 0.05
          },
          "xaxis": {
           "automargin": true,
           "gridcolor": "white",
           "linecolor": "white",
           "ticks": "",
           "title": {
            "standoff": 15
           },
           "zerolinecolor": "white",
           "zerolinewidth": 2
          },
          "yaxis": {
           "automargin": true,
           "gridcolor": "white",
           "linecolor": "white",
           "ticks": "",
           "title": {
            "standoff": 15
           },
           "zerolinecolor": "white",
           "zerolinewidth": 2
          }
         }
        },
        "title": {
         "text": "Median Home Values by Subdivisions Over the Years"
        },
        "updatemenus": [
         {
          "buttons": [
           {
            "args": [
             null,
             {
              "frame": {
               "duration": 500,
               "redraw": true
              },
              "fromcurrent": true,
              "mode": "immediate",
              "transition": {
               "duration": 500,
               "easing": "linear"
              }
             }
            ],
            "label": "&#9654;",
            "method": "animate"
           },
           {
            "args": [
             [
              null
             ],
             {
              "frame": {
               "duration": 0,
               "redraw": true
              },
              "fromcurrent": true,
              "mode": "immediate",
              "transition": {
               "duration": 0,
               "easing": "linear"
              }
             }
            ],
            "label": "&#9724;",
            "method": "animate"
           }
          ],
          "direction": "left",
          "pad": {
           "r": 10,
           "t": 70
          },
          "showactive": false,
          "type": "buttons",
          "x": 0.1,
          "xanchor": "right",
          "y": 0,
          "yanchor": "top"
         }
        ],
        "width": 1200
       }
      }
     },
     "metadata": {},
     "output_type": "display_data"
    }
   ],
   "source": [
    "# Load the cleaned dataset\n",
    "file_path = \"Final.csv\"\n",
    "df_cleaned = pd.read_csv(file_path)\n",
    "\n",
    "# Ensure \"Year\" is numeric\n",
    "df_cleaned[\"Year\"] = pd.to_numeric(df_cleaned[\"Year\"], errors=\"coerce\")\n",
    "\n",
    "# Drop rows with missing latitude and longitude values\n",
    "df_cleaned = df_cleaned.dropna(subset=[\"Latitude\", \"Longitude\"])\n",
    "\n",
    "# Create an interactive scatter map for all years\n",
    "fig = px.scatter_mapbox(\n",
    "    df_cleaned,\n",
    "    lat='Latitude',\n",
    "    lon='Longitude',\n",
    "    size=\"Median Home Value\",\n",
    "    color=\"Median Home Value\",\n",
    "    hover_name=\"County Subdivision\",  # Corrected column name\n",
    "    hover_data=[\"County\", \"Median Home Value\", \"Year\"],\n",
    "    animation_frame=\"Year\",  # Include all years with animation\n",
    "    mapbox_style=\"carto-positron\",\n",
    "    color_continuous_scale=[\"green\", \"yellow\", \"red\"],  # Custom color scale\n",
    "    title=\"Median Home Values by Subdivisions Over the Years\"\n",
    ")\n",
    "\n",
    "# Increase figure size\n",
    "fig.update_layout(\n",
    "    autosize=True,\n",
    "    width=1200,\n",
    "    height=800\n",
    ")\n",
    "\n",
    "# Show the interactive map\n",
    "fig.show()\n"
   ]
  },
  {
   "cell_type": "code",
   "execution_count": 33,
   "metadata": {},
   "outputs": [
    {
     "data": {
      "image/png": "[encoded data removed]",
      "text/plain": [
       "<Figure size 1200x800 with 2 Axes>"
      ]
     },
     "metadata": {},
     "output_type": "display_data"
    }
   ],
   "source": [
    "\n",
    "# Load the dataset\n",
    "file_path = \"Final.csv\"\n",
    "affordability_df = pd.read_csv(file_path)\n",
    "\n",
    "# Normalize column names to avoid mismatches\n",
    "affordability_df.columns = affordability_df.columns.str.strip().str.lower()\n",
    "\n",
    "# Calculate the Affordability Index\n",
    "affordability_df['affordability index'] = (affordability_df['median household income'] / affordability_df['median home value']) * 100\n",
    "\n",
    "# Clean County Subdivision names by removing county and state information\n",
    "affordability_df['county subdivision'] = affordability_df['county subdivision'].str.split(',').str[0]\n",
    "\n",
    "# Pivot the data for heatmap\n",
    "heatmap_data = affordability_df.pivot(index='county subdivision', columns='year', values='affordability index')\n",
    "\n",
    "# Create the heatmap with Red (More Affordable) → Green (Less Affordable)\n",
    "plt.figure(figsize=(12, 8))\n",
    "sns.heatmap(heatmap_data, cmap='RdYlGn', annot=True, fmt=\".1f\", linewidths=0.5)\n",
    "\n",
    "# Formatting the plot\n",
    "plt.xlabel('Year')\n",
    "plt.ylabel('County Subdivision')\n",
    "plt.title('Affordability Index Heatmap (2019-2023)')\n",
    "\n",
    "# Show the heatmap\n",
    "plt.show()\n"
   ]
  },
  {
   "cell_type": "code",
   "execution_count": 34,
   "metadata": {},
   "outputs": [
    {
     "data": {
      "application/vnd.plotly.v1+json": {
       "config": {
        "plotlyServerURL": "https://plot.ly"
       },
       "data": [
        {
         "customdata": [
          [
           "Clackamas",
           18.500151377535573,
           2023
          ],
          [
           "Washington",
           18.666906474820145,
           2023
          ],
          [
           "Clackamas",
           20.634000412626367,
           2023
          ],
          [
           "Washington",
           18.541918487525184,
           2023
          ],
          [
           "Washington",
           20.085241730279897,
           2023
          ],
          [
           "Clackamas",
           14.566618653222902,
           2023
          ],
          [
           "Multnomah",
           16.652499617795442,
           2023
          ],
          [
           "Clackamas",
           13.526205450733752,
           2023
          ],
          [
           "Washington",
           19.21872265966754,
           2023
          ],
          [
           "Multnomah",
           17.245493953912845,
           2023
          ],
          [
           "Clackamas",
           19.904631530914898,
           2023
          ],
          [
           "Clackamas",
           18.87323050919079,
           2023
          ],
          [
           "Clackamas",
           17.46153846153846,
           2023
          ],
          [
           "Washington",
           17.932269063856168,
           2023
          ],
          [
           "Clackamas",
           17.136287061994608,
           2023
          ],
          [
           "Multnomah",
           16.26590476190476,
           2023
          ],
          [
           "Multnomah",
           14.372334293948127,
           2023
          ],
          [
           "Clackamas",
           17.257112590799032,
           2023
          ],
          [
           "Washington",
           18.216493168510084,
           2023
          ],
          [
           "Clackamas",
           22.809913969684555,
           2023
          ],
          [
           "Multnomah",
           13.053070119215485,
           2023
          ],
          [
           "Clackamas",
           14.188408190224571,
           2023
          ],
          [
           "Clackamas",
           15.271047513198111,
           2023
          ]
         ],
         "hovertemplate": "<b>%{hovertext}</b><br><br>Year=%{customdata[2]}<br>Affordability Index=%{marker.color}<br>Latitude=%{lat}<br>Longitude=%{lon}<br>County=%{customdata[0]}<extra></extra>",
         "hovertext": [
          "Beavercreek CCD, Clackamas County, Oregon",
          "Beaverton-Hillsboro CCD, Washington County, Oregon",
          "Canby CCD, Clackamas County, Oregon",
          "Chehalem Mountains CCD, Washington County, Oregon",
          "Coast Range CCD, Washington County, Oregon",
          "Colton CCD, Clackamas County, Oregon",
          "Corbett CCD, Multnomah County, Oregon",
          "Estacada CCD, Clackamas County, Oregon",
          "Forest Grove-Cornelius CCD, Washington County, Oregon",
          "Gresham CCD, Multnomah County, Oregon",
          "Molalla CCD, Clackamas County, Oregon",
          "Mount Hood CCD, Clackamas County, Oregon",
          "Mulino CCD, Clackamas County, Oregon",
          "North Plains CCD, Washington County, Oregon",
          "Northwest Clackamas CCD, Clackamas County, Oregon",
          "Portland East CCD, Multnomah County, Oregon",
          "Portland West CCD, Multnomah County, Oregon",
          "Redland CCD, Clackamas County, Oregon",
          "Rockcreek CCD, Washington County, Oregon",
          "Sandy CCD, Clackamas County, Oregon",
          "Skyline CCD, Multnomah County, Oregon",
          "Wilsonville CCD, Clackamas County, Oregon",
          "Yoder CCD, Clackamas County, Oregon"
         ],
         "lat": [
          45.2879294,
          45.5226664,
          45.262692,
          45.3278962,
          45.5469616,
          45.1721192,
          45.5318,
          45.2877198,
          45.5195,
          45.5044715,
          45.1475439,
          45.2023855,
          45.2212415,
          45.59778499999999,
          45.4074434,
          45.5165442,
          45.4548406,
          45.3434553,
          45.5510497,
          45.3973141,
          45.5145659,
          45.3029344,
          45.1381769
         ],
         "legendgroup": "",
         "lon": [
          -122.5353423,
          -122.9898071,
          -122.6957402,
          -122.88871,
          -123.1386021,
          -122.4374803,
          -122.2912,
          -122.3351638,
          -123.1053,
          -122.4356657,
          -122.5771264,
          -122.1188945,
          -122.5816606,
          -123.0008365,
          -122.5688975,
          -122.6626984,
          -122.7325965,
          -122.4928664,
          -122.8741537,
          -122.2630704,
          -122.5863212,
          -122.7726687,
          -122.6817567
         ],
         "marker": {
          "color": [
           18.500151377535573,
           18.666906474820145,
           20.634000412626367,
           18.541918487525184,
           20.085241730279897,
           14.566618653222902,
           16.652499617795442,
           13.526205450733752,
           19.21872265966754,
           17.245493953912845,
           19.904631530914898,
           18.87323050919079,
           17.46153846153846,
           17.932269063856168,
           17.136287061994608,
           16.26590476190476,
           14.372334293948127,
           17.257112590799032,
           18.216493168510084,
           22.809913969684555,
           13.053070119215485,
           14.188408190224571,
           15.271047513198111
          ],
          "coloraxis": "coloraxis",
          "size": [
           18.500151377535573,
           18.666906474820145,
           20.634000412626367,
           18.541918487525184,
           20.085241730279897,
           14.566618653222902,
           16.652499617795442,
           13.526205450733752,
           19.21872265966754,
           17.245493953912845,
           19.904631530914898,
           18.87323050919079,
           17.46153846153846,
           17.932269063856168,
           17.136287061994608,
           16.26590476190476,
           14.372334293948127,
           17.257112590799032,
           18.216493168510084,
           22.809913969684555,
           13.053070119215485,
           14.188408190224571,
           15.271047513198111
          ],
          "sizemode": "area",
          "sizeref": 0.059481303557517524
         },
         "mode": "markers",
         "name": "",
         "showlegend": false,
         "subplot": "mapbox",
         "type": "scattermapbox"
        }
       ],
       "frames": [
        {
         "data": [
          {
           "customdata": [
            [
             "Clackamas",
             18.500151377535573,
             2023
            ],
            [
             "Washington",
             18.666906474820145,
             2023
            ],
            [
             "Clackamas",
             20.634000412626367,
             2023
            ],
            [
             "Washington",
             18.541918487525184,
             2023
            ],
            [
             "Washington",
             20.085241730279897,
             2023
            ],
            [
             "Clackamas",
             14.566618653222902,
             2023
            ],
            [
             "Multnomah",
             16.652499617795442,
             2023
            ],
            [
             "Clackamas",
             13.526205450733752,
             2023
            ],
            [
             "Washington",
             19.21872265966754,
             2023
            ],
            [
             "Multnomah",
             17.245493953912845,
             2023
            ],
            [
             "Clackamas",
             19.904631530914898,
             2023
            ],
            [
             "Clackamas",
             18.87323050919079,
             2023
            ],
            [
             "Clackamas",
             17.46153846153846,
             2023
            ],
            [
             "Washington",
             17.932269063856168,
             2023
            ],
            [
             "Clackamas",
             17.136287061994608,
             2023
            ],
            [
             "Multnomah",
             16.26590476190476,
             2023
            ],
            [
             "Multnomah",
             14.372334293948127,
             2023
            ],
            [
             "Clackamas",
             17.257112590799032,
             2023
            ],
            [
             "Washington",
             18.216493168510084,
             2023
            ],
            [
             "Clackamas",
             22.809913969684555,
             2023
            ],
            [
             "Multnomah",
             13.053070119215485,
             2023
            ],
            [
             "Clackamas",
             14.188408190224571,
             2023
            ],
            [
             "Clackamas",
             15.271047513198111,
             2023
            ]
           ],
           "hovertemplate": "<b>%{hovertext}</b><br><br>Year=%{customdata[2]}<br>Affordability Index=%{marker.color}<br>Latitude=%{lat}<br>Longitude=%{lon}<br>County=%{customdata[0]}<extra></extra>",
           "hovertext": [
            "Beavercreek CCD, Clackamas County, Oregon",
            "Beaverton-Hillsboro CCD, Washington County, Oregon",
            "Canby CCD, Clackamas County, Oregon",
            "Chehalem Mountains CCD, Washington County, Oregon",
            "Coast Range CCD, Washington County, Oregon",
            "Colton CCD, Clackamas County, Oregon",
            "Corbett CCD, Multnomah County, Oregon",
            "Estacada CCD, Clackamas County, Oregon",
            "Forest Grove-Cornelius CCD, Washington County, Oregon",
            "Gresham CCD, Multnomah County, Oregon",
            "Molalla CCD, Clackamas County, Oregon",
            "Mount Hood CCD, Clackamas County, Oregon",
            "Mulino CCD, Clackamas County, Oregon",
            "North Plains CCD, Washington County, Oregon",
            "Northwest Clackamas CCD, Clackamas County, Oregon",
            "Portland East CCD, Multnomah County, Oregon",
            "Portland West CCD, Multnomah County, Oregon",
            "Redland CCD, Clackamas County, Oregon",
            "Rockcreek CCD, Washington County, Oregon",
            "Sandy CCD, Clackamas County, Oregon",
            "Skyline CCD, Multnomah County, Oregon",
            "Wilsonville CCD, Clackamas County, Oregon",
            "Yoder CCD, Clackamas County, Oregon"
           ],
           "lat": [
            45.2879294,
            45.5226664,
            45.262692,
            45.3278962,
            45.5469616,
            45.1721192,
            45.5318,
            45.2877198,
            45.5195,
            45.5044715,
            45.1475439,
            45.2023855,
            45.2212415,
            45.59778499999999,
            45.4074434,
            45.5165442,
            45.4548406,
            45.3434553,
            45.5510497,
            45.3973141,
            45.5145659,
            45.3029344,
            45.1381769
           ],
           "legendgroup": "",
           "lon": [
            -122.5353423,
            -122.9898071,
            -122.6957402,
            -122.88871,
            -123.1386021,
            -122.4374803,
            -122.2912,
            -122.3351638,
            -123.1053,
            -122.4356657,
            -122.5771264,
            -122.1188945,
            -122.5816606,
            -123.0008365,
            -122.5688975,
            -122.6626984,
            -122.7325965,
            -122.4928664,
            -122.8741537,
            -122.2630704,
            -122.5863212,
            -122.7726687,
            -122.6817567
           ],
           "marker": {
            "color": [
             18.500151377535573,
             18.666906474820145,
             20.634000412626367,
             18.541918487525184,
             20.085241730279897,
             14.566618653222902,
             16.652499617795442,
             13.526205450733752,
             19.21872265966754,
             17.245493953912845,
             19.904631530914898,
             18.87323050919079,
             17.46153846153846,
             17.932269063856168,
             17.136287061994608,
             16.26590476190476,
             14.372334293948127,
             17.257112590799032,
             18.216493168510084,
             22.809913969684555,
             13.053070119215485,
             14.188408190224571,
             15.271047513198111
            ],
            "coloraxis": "coloraxis",
            "size": [
             18.500151377535573,
             18.666906474820145,
             20.634000412626367,
             18.541918487525184,
             20.085241730279897,
             14.566618653222902,
             16.652499617795442,
             13.526205450733752,
             19.21872265966754,
             17.245493953912845,
             19.904631530914898,
             18.87323050919079,
             17.46153846153846,
             17.932269063856168,
             17.136287061994608,
             16.26590476190476,
             14.372334293948127,
             17.257112590799032,
             18.216493168510084,
             22.809913969684555,
             13.053070119215485,
             14.188408190224571,
             15.271047513198111
            ],
            "sizemode": "area",
            "sizeref": 0.059481303557517524
           },
           "mode": "markers",
           "name": "",
           "showlegend": false,
           "subplot": "mapbox",
           "type": "scattermapbox"
          }
         ],
         "name": "2023"
        },
        {
         "data": [
          {
           "customdata": [
            [
             "Clackamas",
             17.829041265901335,
             2022
            ],
            [
             "Washington",
             19.758579409417397,
             2022
            ],
            [
             "Clackamas",
             20.28835164835165,
             2022
            ],
            [
             "Washington",
             17.254049962149885,
             2022
            ],
            [
             "Washington",
             20.892504930966467,
             2022
            ],
            [
             "Clackamas",
             18.43462396107845,
             2022
            ],
            [
             "Multnomah",
             17.88168690515261,
             2022
            ],
            [
             "Clackamas",
             14.115670183665493,
             2022
            ],
            [
             "Washington",
             18.888371009088793,
             2022
            ],
            [
             "Multnomah",
             17.574592358238014,
             2022
            ],
            [
             "Clackamas",
             20.865384615384617,
             2022
            ],
            [
             "Clackamas",
             18.539773939006185,
             2022
            ],
            [
             "Clackamas",
             17.905030635278944,
             2022
            ],
            [
             "Washington",
             18.933463478119407,
             2022
            ],
            [
             "Clackamas",
             17.779018674478213,
             2022
            ],
            [
             "Multnomah",
             16.8719723183391,
             2022
            ],
            [
             "Multnomah",
             14.686123680241328,
             2022
            ],
            [
             "Clackamas",
             16.80326280083993,
             2022
            ],
            [
             "Washington",
             19.372668642147463,
             2022
            ],
            [
             "Clackamas",
             22.402827600759654,
             2022
            ],
            [
             "Multnomah",
             12.609423102663634,
             2022
            ],
            [
             "Clackamas",
             14.43542817679558,
             2022
            ],
            [
             "Clackamas",
             16.432304038004748,
             2022
            ]
           ],
           "hovertemplate": "<b>%{hovertext}</b><br><br>Year=%{customdata[2]}<br>Affordability Index=%{marker.color}<br>Latitude=%{lat}<br>Longitude=%{lon}<br>County=%{customdata[0]}<extra></extra>",
           "hovertext": [
            "Beavercreek CCD, Clackamas County, Oregon",
            "Beaverton-Hillsboro CCD, Washington County, Oregon",
            "Canby CCD, Clackamas County, Oregon",
            "Chehalem Mountains CCD, Washington County, Oregon",
            "Coast Range CCD, Washington County, Oregon",
            "Colton CCD, Clackamas County, Oregon",
            "Corbett CCD, Multnomah County, Oregon",
            "Estacada CCD, Clackamas County, Oregon",
            "Forest Grove-Cornelius CCD, Washington County, Oregon",
            "Gresham CCD, Multnomah County, Oregon",
            "Molalla CCD, Clackamas County, Oregon",
            "Mount Hood CCD, Clackamas County, Oregon",
            "Mulino CCD, Clackamas County, Oregon",
            "North Plains CCD, Washington County, Oregon",
            "Northwest Clackamas CCD, Clackamas County, Oregon",
            "Portland East CCD, Multnomah County, Oregon",
            "Portland West CCD, Multnomah County, Oregon",
            "Redland CCD, Clackamas County, Oregon",
            "Rockcreek CCD, Washington County, Oregon",
            "Sandy CCD, Clackamas County, Oregon",
            "Skyline CCD, Multnomah County, Oregon",
            "Wilsonville CCD, Clackamas County, Oregon",
            "Yoder CCD, Clackamas County, Oregon"
           ],
           "lat": [
            45.2879294,
            45.5226664,
            45.262692,
            45.3278962,
            45.5469616,
            45.1721192,
            45.5318,
            45.2877198,
            45.5195,
            45.5044715,
            45.1475439,
            45.2023855,
            45.2212415,
            45.59778499999999,
            45.4074434,
            45.5165442,
            45.4548406,
            45.3434553,
            45.5510497,
            45.3973141,
            45.5145659,
            45.3029344,
            45.1381769
           ],
           "legendgroup": "",
           "lon": [
            -122.5353423,
            -122.9898071,
            -122.6957402,
            -122.88871,
            -123.1386021,
            -122.4374803,
            -122.2912,
            -122.3351638,
            -123.1053,
            -122.4356657,
            -122.5771264,
            -122.1188945,
            -122.5816606,
            -123.0008365,
            -122.5688975,
            -122.6626984,
            -122.7325965,
            -122.4928664,
            -122.8741537,
            -122.2630704,
            -122.5863212,
            -122.7726687,
            -122.6817567
           ],
           "marker": {
            "color": [
             17.829041265901335,
             19.758579409417397,
             20.28835164835165,
             17.254049962149885,
             20.892504930966467,
             18.43462396107845,
             17.88168690515261,
             14.115670183665493,
             18.888371009088793,
             17.574592358238014,
             20.865384615384617,
             18.539773939006185,
             17.905030635278944,
             18.933463478119407,
             17.779018674478213,
             16.8719723183391,
             14.686123680241328,
             16.80326280083993,
             19.372668642147463,
             22.402827600759654,
             12.609423102663634,
             14.43542817679558,
             16.432304038004748
            ],
            "coloraxis": "coloraxis",
            "size": [
             17.829041265901335,
             19.758579409417397,
             20.28835164835165,
             17.254049962149885,
             20.892504930966467,
             18.43462396107845,
             17.88168690515261,
             14.115670183665493,
             18.888371009088793,
             17.574592358238014,
             20.865384615384617,
             18.539773939006185,
             17.905030635278944,
             18.933463478119407,
             17.779018674478213,
             16.8719723183391,
             14.686123680241328,
             16.80326280083993,
             19.372668642147463,
             22.402827600759654,
             12.609423102663634,
             14.43542817679558,
             16.432304038004748
            ],
            "sizemode": "area",
            "sizeref": 0.059481303557517524
           },
           "mode": "markers",
           "name": "",
           "showlegend": false,
           "subplot": "mapbox",
           "type": "scattermapbox"
          }
         ],
         "name": "2022"
        },
        {
         "data": [
          {
           "customdata": [
            [
             "Clackamas",
             19.369477911646587,
             2021
            ],
            [
             "Washington",
             20.841851936740774,
             2021
            ],
            [
             "Clackamas",
             21.475678443420378,
             2021
            ],
            [
             "Washington",
             18.400836972343523,
             2021
            ],
            [
             "Washington",
             23.02523590081194,
             2021
            ],
            [
             "Clackamas",
             18.972997503970955,
             2021
            ],
            [
             "Multnomah",
             19.515511684125705,
             2021
            ],
            [
             "Clackamas",
             15.67717996289425,
             2021
            ],
            [
             "Washington",
             20.46262956901255,
             2021
            ],
            [
             "Multnomah",
             18.505163511187607,
             2021
            ],
            [
             "Clackamas",
             22.562410739788632,
             2021
            ],
            [
             "Clackamas",
             20.449241840143923,
             2021
            ],
            [
             "Clackamas",
             18.531492339701153,
             2021
            ],
            [
             "Washington",
             20.603136308805787,
             2021
            ],
            [
             "Clackamas",
             19.51285930408472,
             2021
            ],
            [
             "Multnomah",
             17.28591002511989,
             2021
            ],
            [
             "Multnomah",
             14.735927152317881,
             2021
            ],
            [
             "Clackamas",
             18.377168769716086,
             2021
            ],
            [
             "Washington",
             20.796440261865794,
             2021
            ],
            [
             "Clackamas",
             23.79252142300701,
             2021
            ],
            [
             "Multnomah",
             12.095987523039842,
             2021
            ],
            [
             "Clackamas",
             16.427954779033914,
             2021
            ],
            [
             "Clackamas",
             17.2018921813638,
             2021
            ]
           ],
           "hovertemplate": "<b>%{hovertext}</b><br><br>Year=%{customdata[2]}<br>Affordability Index=%{marker.color}<br>Latitude=%{lat}<br>Longitude=%{lon}<br>County=%{customdata[0]}<extra></extra>",
           "hovertext": [
            "Beavercreek CCD, Clackamas County, Oregon",
            "Beaverton-Hillsboro CCD, Washington County, Oregon",
            "Canby CCD, Clackamas County, Oregon",
            "Chehalem Mountains CCD, Washington County, Oregon",
            "Coast Range CCD, Washington County, Oregon",
            "Colton CCD, Clackamas County, Oregon",
            "Corbett CCD, Multnomah County, Oregon",
            "Estacada CCD, Clackamas County, Oregon",
            "Forest Grove-Cornelius CCD, Washington County, Oregon",
            "Gresham CCD, Multnomah County, Oregon",
            "Molalla CCD, Clackamas County, Oregon",
            "Mount Hood CCD, Clackamas County, Oregon",
            "Mulino CCD, Clackamas County, Oregon",
            "North Plains CCD, Washington County, Oregon",
            "Northwest Clackamas CCD, Clackamas County, Oregon",
            "Portland East CCD, Multnomah County, Oregon",
            "Portland West CCD, Multnomah County, Oregon",
            "Redland CCD, Clackamas County, Oregon",
            "Rockcreek CCD, Washington County, Oregon",
            "Sandy CCD, Clackamas County, Oregon",
            "Skyline CCD, Multnomah County, Oregon",
            "Wilsonville CCD, Clackamas County, Oregon",
            "Yoder CCD, Clackamas County, Oregon"
           ],
           "lat": [
            45.2879294,
            45.5226664,
            45.262692,
            45.3278962,
            45.5469616,
            45.1721192,
            45.5318,
            45.2877198,
            45.5195,
            45.5044715,
            45.1475439,
            45.2023855,
            45.2212415,
            45.59778499999999,
            45.4074434,
            45.5165442,
            45.4548406,
            45.3434553,
            45.5510497,
            45.3973141,
            45.5145659,
            45.3029344,
            45.1381769
           ],
           "legendgroup": "",
           "lon": [
            -122.5353423,
            -122.9898071,
            -122.6957402,
            -122.88871,
            -123.1386021,
            -122.4374803,
            -122.2912,
            -122.3351638,
            -123.1053,
            -122.4356657,
            -122.5771264,
            -122.1188945,
            -122.5816606,
            -123.0008365,
            -122.5688975,
            -122.6626984,
            -122.7325965,
            -122.4928664,
            -122.8741537,
            -122.2630704,
            -122.5863212,
            -122.7726687,
            -122.6817567
           ],
           "marker": {
            "color": [
             19.369477911646587,
             20.841851936740774,
             21.475678443420378,
             18.400836972343523,
             23.02523590081194,
             18.972997503970955,
             19.515511684125705,
             15.67717996289425,
             20.46262956901255,
             18.505163511187607,
             22.562410739788632,
             20.449241840143923,
             18.531492339701153,
             20.603136308805787,
             19.51285930408472,
             17.28591002511989,
             14.735927152317881,
             18.377168769716086,
             20.796440261865794,
             23.79252142300701,
             12.095987523039842,
             16.427954779033914,
             17.2018921813638
            ],
            "coloraxis": "coloraxis",
            "size": [
             19.369477911646587,
             20.841851936740774,
             21.475678443420378,
             18.400836972343523,
             23.02523590081194,
             18.972997503970955,
             19.515511684125705,
             15.67717996289425,
             20.46262956901255,
             18.505163511187607,
             22.562410739788632,
             20.449241840143923,
             18.531492339701153,
             20.603136308805787,
             19.51285930408472,
             17.28591002511989,
             14.735927152317881,
             18.377168769716086,
             20.796440261865794,
             23.79252142300701,
             12.095987523039842,
             16.427954779033914,
             17.2018921813638
            ],
            "sizemode": "area",
            "sizeref": 0.059481303557517524
           },
           "mode": "markers",
           "name": "",
           "showlegend": false,
           "subplot": "mapbox",
           "type": "scattermapbox"
          }
         ],
         "name": "2021"
        },
        {
         "data": [
          {
           "customdata": [
            [
             "Clackamas",
             19.90223463687151,
             2020
            ],
            [
             "Washington",
             20.846678023850085,
             2020
            ],
            [
             "Clackamas",
             20.957865937072505,
             2020
            ],
            [
             "Washington",
             19.963089955627268,
             2020
            ],
            [
             "Washington",
             22.604230938739533,
             2020
            ],
            [
             "Clackamas",
             17.67049808429119,
             2020
            ],
            [
             "Multnomah",
             18.540827377084685,
             2020
            ],
            [
             "Clackamas",
             18.214667685255918,
             2020
            ],
            [
             "Washington",
             21.002948982601,
             2020
            ],
            [
             "Multnomah",
             18.748381128584644,
             2020
            ],
            [
             "Clackamas",
             21.90540137272456,
             2020
            ],
            [
             "Clackamas",
             19.53228003268864,
             2020
            ],
            [
             "Clackamas",
             18.99832705980761,
             2020
            ],
            [
             "Washington",
             21.387728459530024,
             2020
            ],
            [
             "Clackamas",
             19.757547607988855,
             2020
            ],
            [
             "Multnomah",
             17.260604583130178,
             2020
            ],
            [
             "Multnomah",
             14.338052191710728,
             2020
            ],
            [
             "Clackamas",
             17.00735912531539,
             2020
            ],
            [
             "Washington",
             20.684062971748975,
             2020
            ],
            [
             "Clackamas",
             22.576089936934466,
             2020
            ],
            [
             "Multnomah",
             12.024700598802395,
             2020
            ],
            [
             "Clackamas",
             16.35671514114628,
             2020
            ],
            [
             "Clackamas",
             17.00212601468883,
             2020
            ]
           ],
           "hovertemplate": "<b>%{hovertext}</b><br><br>Year=%{customdata[2]}<br>Affordability Index=%{marker.color}<br>Latitude=%{lat}<br>Longitude=%{lon}<br>County=%{customdata[0]}<extra></extra>",
           "hovertext": [
            "Beavercreek CCD, Clackamas County, Oregon",
            "Beaverton-Hillsboro CCD, Washington County, Oregon",
            "Canby CCD, Clackamas County, Oregon",
            "Chehalem Mountains CCD, Washington County, Oregon",
            "Coast Range CCD, Washington County, Oregon",
            "Colton CCD, Clackamas County, Oregon",
            "Corbett CCD, Multnomah County, Oregon",
            "Estacada CCD, Clackamas County, Oregon",
            "Forest Grove-Cornelius CCD, Washington County, Oregon",
            "Gresham CCD, Multnomah County, Oregon",
            "Molalla CCD, Clackamas County, Oregon",
            "Mount Hood CCD, Clackamas County, Oregon",
            "Mulino CCD, Clackamas County, Oregon",
            "North Plains CCD, Washington County, Oregon",
            "Northwest Clackamas CCD, Clackamas County, Oregon",
            "Portland East CCD, Multnomah County, Oregon",
            "Portland West CCD, Multnomah County, Oregon",
            "Redland CCD, Clackamas County, Oregon",
            "Rockcreek CCD, Washington County, Oregon",
            "Sandy CCD, Clackamas County, Oregon",
            "Skyline CCD, Multnomah County, Oregon",
            "Wilsonville CCD, Clackamas County, Oregon",
            "Yoder CCD, Clackamas County, Oregon"
           ],
           "lat": [
            45.2879294,
            45.5226664,
            45.262692,
            45.3278962,
            45.5469616,
            45.1721192,
            45.5318,
            45.2877198,
            45.5195,
            45.5044715,
            45.1475439,
            45.2023855,
            45.2212415,
            45.59778499999999,
            45.4074434,
            45.5165442,
            45.4548406,
            45.3434553,
            45.5510497,
            45.3973141,
            45.5145659,
            45.3029344,
            45.1381769
           ],
           "legendgroup": "",
           "lon": [
            -122.5353423,
            -122.9898071,
            -122.6957402,
            -122.88871,
            -123.1386021,
            -122.4374803,
            -122.2912,
            -122.3351638,
            -123.1053,
            -122.4356657,
            -122.5771264,
            -122.1188945,
            -122.5816606,
            -123.0008365,
            -122.5688975,
            -122.6626984,
            -122.7325965,
            -122.4928664,
            -122.8741537,
            -122.2630704,
            -122.5863212,
            -122.7726687,
            -122.6817567
           ],
           "marker": {
            "color": [
             19.90223463687151,
             20.846678023850085,
             20.957865937072505,
             19.963089955627268,
             22.604230938739533,
             17.67049808429119,
             18.540827377084685,
             18.214667685255918,
             21.002948982601,
             18.748381128584644,
             21.90540137272456,
             19.53228003268864,
             18.99832705980761,
             21.387728459530024,
             19.757547607988855,
             17.260604583130178,
             14.338052191710728,
             17.00735912531539,
             20.684062971748975,
             22.576089936934466,
             12.024700598802395,
             16.35671514114628,
             17.00212601468883
            ],
            "coloraxis": "coloraxis",
            "size": [
             19.90223463687151,
             20.846678023850085,
             20.957865937072505,
             19.963089955627268,
             22.604230938739533,
             17.67049808429119,
             18.540827377084685,
             18.214667685255918,
             21.002948982601,
             18.748381128584644,
             21.90540137272456,
             19.53228003268864,
             18.99832705980761,
             21.387728459530024,
             19.757547607988855,
             17.260604583130178,
             14.338052191710728,
             17.00735912531539,
             20.684062971748975,
             22.576089936934466,
             12.024700598802395,
             16.35671514114628,
             17.00212601468883
            ],
            "sizemode": "area",
            "sizeref": 0.059481303557517524
           },
           "mode": "markers",
           "name": "",
           "showlegend": false,
           "subplot": "mapbox",
           "type": "scattermapbox"
          }
         ],
         "name": "2020"
        },
        {
         "data": [
          {
           "customdata": [
            [
             "Clackamas",
             19.914389410760034,
             2019
            ],
            [
             "Washington",
             21.41987513007284,
             2019
            ],
            [
             "Clackamas",
             22.07632445375636,
             2019
            ],
            [
             "Washington",
             17.60041841004184,
             2019
            ],
            [
             "Washington",
             20.994928538497003,
             2019
            ],
            [
             "Clackamas",
             20.367587795048937,
             2019
            ],
            [
             "Multnomah",
             19.150059171597633,
             2019
            ],
            [
             "Clackamas",
             19.64696312364425,
             2019
            ],
            [
             "Washington",
             21.624507227332458,
             2019
            ],
            [
             "Multnomah",
             19.783554196398235,
             2019
            ],
            [
             "Clackamas",
             22.203877005347593,
             2019
            ],
            [
             "Clackamas",
             21.38550646551724,
             2019
            ],
            [
             "Clackamas",
             19.257395760540412,
             2019
            ],
            [
             "Washington",
             20.66520535302261,
             2019
            ],
            [
             "Clackamas",
             20.518398806563898,
             2019
            ],
            [
             "Multnomah",
             17.870278718416255,
             2019
            ],
            [
             "Multnomah",
             14.725901992460958,
             2019
            ],
            [
             "Clackamas",
             16.956069123464502,
             2019
            ],
            [
             "Washington",
             20.38123300090662,
             2019
            ],
            [
             "Clackamas",
             22.434108527131784,
             2019
            ],
            [
             "Multnomah",
             16.0472972972973,
             2019
            ],
            [
             "Clackamas",
             16.6899802674852,
             2019
            ],
            [
             "Clackamas",
             16.54097698829229,
             2019
            ]
           ],
           "hovertemplate": "<b>%{hovertext}</b><br><br>Year=%{customdata[2]}<br>Affordability Index=%{marker.color}<br>Latitude=%{lat}<br>Longitude=%{lon}<br>County=%{customdata[0]}<extra></extra>",
           "hovertext": [
            "Beavercreek CCD, Clackamas County, Oregon",
            "Beaverton-Hillsboro CCD, Washington County, Oregon",
            "Canby CCD, Clackamas County, Oregon",
            "Chehalem Mountains CCD, Washington County, Oregon",
            "Coast Range CCD, Washington County, Oregon",
            "Colton CCD, Clackamas County, Oregon",
            "Corbett CCD, Multnomah County, Oregon",
            "Estacada CCD, Clackamas County, Oregon",
            "Forest Grove-Cornelius CCD, Washington County, Oregon",
            "Gresham CCD, Multnomah County, Oregon",
            "Molalla CCD, Clackamas County, Oregon",
            "Mount Hood CCD, Clackamas County, Oregon",
            "Mulino CCD, Clackamas County, Oregon",
            "North Plains CCD, Washington County, Oregon",
            "Northwest Clackamas CCD, Clackamas County, Oregon",
            "Portland East CCD, Multnomah County, Oregon",
            "Portland West CCD, Multnomah County, Oregon",
            "Redland CCD, Clackamas County, Oregon",
            "Rockcreek CCD, Washington County, Oregon",
            "Sandy CCD, Clackamas County, Oregon",
            "Skyline CCD, Multnomah County, Oregon",
            "Wilsonville CCD, Clackamas County, Oregon",
            "Yoder CCD, Clackamas County, Oregon"
           ],
           "lat": [
            45.2879294,
            45.5226664,
            45.262692,
            45.3278962,
            45.5469616,
            45.1721192,
            45.5318,
            45.2877198,
            45.5195,
            45.5044715,
            45.1475439,
            45.2023855,
            45.2212415,
            45.59778499999999,
            45.4074434,
            45.5165442,
            45.4548406,
            45.3434553,
            45.5510497,
            45.3973141,
            45.5145659,
            45.3029344,
            45.1381769
           ],
           "legendgroup": "",
           "lon": [
            -122.5353423,
            -122.9898071,
            -122.6957402,
            -122.88871,
            -123.1386021,
            -122.4374803,
            -122.2912,
            -122.3351638,
            -123.1053,
            -122.4356657,
            -122.5771264,
            -122.1188945,
            -122.5816606,
            -123.0008365,
            -122.5688975,
            -122.6626984,
            -122.7325965,
            -122.4928664,
            -122.8741537,
            -122.2630704,
            -122.5863212,
            -122.7726687,
            -122.6817567
           ],
           "marker": {
            "color": [
             19.914389410760034,
             21.41987513007284,
             22.07632445375636,
             17.60041841004184,
             20.994928538497003,
             20.367587795048937,
             19.150059171597633,
             19.64696312364425,
             21.624507227332458,
             19.783554196398235,
             22.203877005347593,
             21.38550646551724,
             19.257395760540412,
             20.66520535302261,
             20.518398806563898,
             17.870278718416255,
             14.725901992460958,
             16.956069123464502,
             20.38123300090662,
             22.434108527131784,
             16.0472972972973,
             16.6899802674852,
             16.54097698829229
            ],
            "coloraxis": "coloraxis",
            "size": [
             19.914389410760034,
             21.41987513007284,
             22.07632445375636,
             17.60041841004184,
             20.994928538497003,
             20.367587795048937,
             19.150059171597633,
             19.64696312364425,
             21.624507227332458,
             19.783554196398235,
             22.203877005347593,
             21.38550646551724,
             19.257395760540412,
             20.66520535302261,
             20.518398806563898,
             17.870278718416255,
             14.725901992460958,
             16.956069123464502,
             20.38123300090662,
             22.434108527131784,
             16.0472972972973,
             16.6899802674852,
             16.54097698829229
            ],
            "sizemode": "area",
            "sizeref": 0.059481303557517524
           },
           "mode": "markers",
           "name": "",
           "showlegend": false,
           "subplot": "mapbox",
           "type": "scattermapbox"
          }
         ],
         "name": "2019"
        }
       ],
       "layout": {
        "autosize": true,
        "coloraxis": {
         "colorbar": {
          "title": {
           "text": "Affordability Index"
          }
         },
         "colorscale": [
          [
           0,
           "red"
          ],
          [
           0.5,
           "yellow"
          ],
          [
           1,
           "green"
          ]
         ]
        },
        "height": 800,
        "legend": {
         "itemsizing": "constant",
         "tracegroupgap": 0
        },
        "mapbox": {
         "center": {
          "lat": 45.380827673913046,
          "lon": -122.64202430434783
         },
         "domain": {
          "x": [
           0,
           1
          ],
          "y": [
           0,
           1
          ]
         },
         "style": "carto-positron",
         "zoom": 8
        },
        "sliders": [
         {
          "active": 0,
          "currentvalue": {
           "prefix": "Year="
          },
          "len": 0.9,
          "pad": {
           "b": 10,
           "t": 60
          },
          "steps": [
           {
            "args": [
             [
              "2023"
             ],
             {
              "frame": {
               "duration": 0,
               "redraw": true
              },
              "fromcurrent": true,
              "mode": "immediate",
              "transition": {
               "duration": 0,
               "easing": "linear"
              }
             }
            ],
            "label": "2023",
            "method": "animate"
           },
           {
            "args": [
             [
              "2022"
             ],
             {
              "frame": {
               "duration": 0,
               "redraw": true
              },
              "fromcurrent": true,
              "mode": "immediate",
              "transition": {
               "duration": 0,
               "easing": "linear"
              }
             }
            ],
            "label": "2022",
            "method": "animate"
           },
           {
            "args": [
             [
              "2021"
             ],
             {
              "frame": {
               "duration": 0,
               "redraw": true
              },
              "fromcurrent": true,
              "mode": "immediate",
              "transition": {
               "duration": 0,
               "easing": "linear"
              }
             }
            ],
            "label": "2021",
            "method": "animate"
           },
           {
            "args": [
             [
              "2020"
             ],
             {
              "frame": {
               "duration": 0,
               "redraw": true
              },
              "fromcurrent": true,
              "mode": "immediate",
              "transition": {
               "duration": 0,
               "easing": "linear"
              }
             }
            ],
            "label": "2020",
            "method": "animate"
           },
           {
            "args": [
             [
              "2019"
             ],
             {
              "frame": {
               "duration": 0,
               "redraw": true
              },
              "fromcurrent": true,
              "mode": "immediate",
              "transition": {
               "duration": 0,
               "easing": "linear"
              }
             }
            ],
            "label": "2019",
            "method": "animate"
           }
          ],
          "x": 0.1,
          "xanchor": "left",
          "y": 0,
          "yanchor": "top"
         }
        ],
        "template": {
         "data": {
          "bar": [
           {
            "error_x": {
             "color": "#2a3f5f"
            },
            "error_y": {
             "color": "#2a3f5f"
            },
            "marker": {
             "line": {
              "color": "#E5ECF6",
              "width": 0.5
             },
             "pattern": {
              "fillmode": "overlay",
              "size": 10,
              "solidity": 0.2
             }
            },
            "type": "bar"
           }
          ],
          "barpolar": [
           {
            "marker": {
             "line": {
              "color": "#E5ECF6",
              "width": 0.5
             },
             "pattern": {
              "fillmode": "overlay",
              "size": 10,
              "solidity": 0.2
             }
            },
            "type": "barpolar"
           }
          ],
          "carpet": [
           {
            "aaxis": {
             "endlinecolor": "#2a3f5f",
             "gridcolor": "white",
             "linecolor": "white",
             "minorgridcolor": "white",
             "startlinecolor": "#2a3f5f"
            },
            "baxis": {
             "endlinecolor": "#2a3f5f",
             "gridcolor": "white",
             "linecolor": "white",
             "minorgridcolor": "white",
             "startlinecolor": "#2a3f5f"
            },
            "type": "carpet"
           }
          ],
          "choropleth": [
           {
            "colorbar": {
             "outlinewidth": 0,
             "ticks": ""
            },
            "type": "choropleth"
           }
          ],
          "contour": [
           {
            "colorbar": {
             "outlinewidth": 0,
             "ticks": ""
            },
            "colorscale": [
             [
              0,
              "#0d0887"
             ],
             [
              0.1111111111111111,
              "#46039f"
             ],
             [
              0.2222222222222222,
              "#7201a8"
             ],
             [
              0.3333333333333333,
              "#9c179e"
             ],
             [
              0.4444444444444444,
              "#bd3786"
             ],
             [
              0.5555555555555556,
              "#d8576b"
             ],
             [
              0.6666666666666666,
              "#ed7953"
             ],
             [
              0.7777777777777778,
              "#fb9f3a"
             ],
             [
              0.8888888888888888,
              "#fdca26"
             ],
             [
              1,
              "#f0f921"
             ]
            ],
            "type": "contour"
           }
          ],
          "contourcarpet": [
           {
            "colorbar": {
             "outlinewidth": 0,
             "ticks": ""
            },
            "type": "contourcarpet"
           }
          ],
          "heatmap": [
           {
            "colorbar": {
             "outlinewidth": 0,
             "ticks": ""
            },
            "colorscale": [
             [
              0,
              "#0d0887"
             ],
             [
              0.1111111111111111,
              "#46039f"
             ],
             [
              0.2222222222222222,
              "#7201a8"
             ],
             [
              0.3333333333333333,
              "#9c179e"
             ],
             [
              0.4444444444444444,
              "#bd3786"
             ],
             [
              0.5555555555555556,
              "#d8576b"
             ],
             [
              0.6666666666666666,
              "#ed7953"
             ],
             [
              0.7777777777777778,
              "#fb9f3a"
             ],
             [
              0.8888888888888888,
              "#fdca26"
             ],
             [
              1,
              "#f0f921"
             ]
            ],
            "type": "heatmap"
           }
          ],
          "heatmapgl": [
           {
            "colorbar": {
             "outlinewidth": 0,
             "ticks": ""
            },
            "colorscale": [
             [
              0,
              "#0d0887"
             ],
             [
              0.1111111111111111,
              "#46039f"
             ],
             [
              0.2222222222222222,
              "#7201a8"
             ],
             [
              0.3333333333333333,
              "#9c179e"
             ],
             [
              0.4444444444444444,
              "#bd3786"
             ],
             [
              0.5555555555555556,
              "#d8576b"
             ],
             [
              0.6666666666666666,
              "#ed7953"
             ],
             [
              0.7777777777777778,
              "#fb9f3a"
             ],
             [
              0.8888888888888888,
              "#fdca26"
             ],
             [
              1,
              "#f0f921"
             ]
            ],
            "type": "heatmapgl"
           }
          ],
          "histogram": [
           {
            "marker": {
             "pattern": {
              "fillmode": "overlay",
              "size": 10,
              "solidity": 0.2
             }
            },
            "type": "histogram"
           }
          ],
          "histogram2d": [
           {
            "colorbar": {
             "outlinewidth": 0,
             "ticks": ""
            },
            "colorscale": [
             [
              0,
              "#0d0887"
             ],
             [
              0.1111111111111111,
              "#46039f"
             ],
             [
              0.2222222222222222,
              "#7201a8"
             ],
             [
              0.3333333333333333,
              "#9c179e"
             ],
             [
              0.4444444444444444,
              "#bd3786"
             ],
             [
              0.5555555555555556,
              "#d8576b"
             ],
             [
              0.6666666666666666,
              "#ed7953"
             ],
             [
              0.7777777777777778,
              "#fb9f3a"
             ],
             [
              0.8888888888888888,
              "#fdca26"
             ],
             [
              1,
              "#f0f921"
             ]
            ],
            "type": "histogram2d"
           }
          ],
          "histogram2dcontour": [
           {
            "colorbar": {
             "outlinewidth": 0,
             "ticks": ""
            },
            "colorscale": [
             [
              0,
              "#0d0887"
             ],
             [
              0.1111111111111111,
              "#46039f"
             ],
             [
              0.2222222222222222,
              "#7201a8"
             ],
             [
              0.3333333333333333,
              "#9c179e"
             ],
             [
              0.4444444444444444,
              "#bd3786"
             ],
             [
              0.5555555555555556,
              "#d8576b"
             ],
             [
              0.6666666666666666,
              "#ed7953"
             ],
             [
              0.7777777777777778,
              "#fb9f3a"
             ],
             [
              0.8888888888888888,
              "#fdca26"
             ],
             [
              1,
              "#f0f921"
             ]
            ],
            "type": "histogram2dcontour"
           }
          ],
          "mesh3d": [
           {
            "colorbar": {
             "outlinewidth": 0,
             "ticks": ""
            },
            "type": "mesh3d"
           }
          ],
          "parcoords": [
           {
            "line": {
             "colorbar": {
              "outlinewidth": 0,
              "ticks": ""
             }
            },
            "type": "parcoords"
           }
          ],
          "pie": [
           {
            "automargin": true,
            "type": "pie"
           }
          ],
          "scatter": [
           {
            "fillpattern": {
             "fillmode": "overlay",
             "size": 10,
             "solidity": 0.2
            },
            "type": "scatter"
           }
          ],
          "scatter3d": [
           {
            "line": {
             "colorbar": {
              "outlinewidth": 0,
              "ticks": ""
             }
            },
            "marker": {
             "colorbar": {
              "outlinewidth": 0,
              "ticks": ""
             }
            },
            "type": "scatter3d"
           }
          ],
          "scattercarpet": [
           {
            "marker": {
             "colorbar": {
              "outlinewidth": 0,
              "ticks": ""
             }
            },
            "type": "scattercarpet"
           }
          ],
          "scattergeo": [
           {
            "marker": {
             "colorbar": {
              "outlinewidth": 0,
              "ticks": ""
             }
            },
            "type": "scattergeo"
           }
          ],
          "scattergl": [
           {
            "marker": {
             "colorbar": {
              "outlinewidth": 0,
              "ticks": ""
             }
            },
            "type": "scattergl"
           }
          ],
          "scattermapbox": [
           {
            "marker": {
             "colorbar": {
              "outlinewidth": 0,
              "ticks": ""
             }
            },
            "type": "scattermapbox"
           }
          ],
          "scatterpolar": [
           {
            "marker": {
             "colorbar": {
              "outlinewidth": 0,
              "ticks": ""
             }
            },
            "type": "scatterpolar"
           }
          ],
          "scatterpolargl": [
           {
            "marker": {
             "colorbar": {
              "outlinewidth": 0,
              "ticks": ""
             }
            },
            "type": "scatterpolargl"
           }
          ],
          "scatterternary": [
           {
            "marker": {
             "colorbar": {
              "outlinewidth": 0,
              "ticks": ""
             }
            },
            "type": "scatterternary"
           }
          ],
          "surface": [
           {
            "colorbar": {
             "outlinewidth": 0,
             "ticks": ""
            },
            "colorscale": [
             [
              0,
              "#0d0887"
             ],
             [
              0.1111111111111111,
              "#46039f"
             ],
             [
              0.2222222222222222,
              "#7201a8"
             ],
             [
              0.3333333333333333,
              "#9c179e"
             ],
             [
              0.4444444444444444,
              "#bd3786"
             ],
             [
              0.5555555555555556,
              "#d8576b"
             ],
             [
              0.6666666666666666,
              "#ed7953"
             ],
             [
              0.7777777777777778,
              "#fb9f3a"
             ],
             [
              0.8888888888888888,
              "#fdca26"
             ],
             [
              1,
              "#f0f921"
             ]
            ],
            "type": "surface"
           }
          ],
          "table": [
           {
            "cells": {
             "fill": {
              "color": "#EBF0F8"
             },
             "line": {
              "color": "white"
             }
            },
            "header": {
             "fill": {
              "color": "#C8D4E3"
             },
             "line": {
              "color": "white"
             }
            },
            "type": "table"
           }
          ]
         },
         "layout": {
          "annotationdefaults": {
           "arrowcolor": "#2a3f5f",
           "arrowhead": 0,
           "arrowwidth": 1
          },
          "autotypenumbers": "strict",
          "coloraxis": {
           "colorbar": {
            "outlinewidth": 0,
            "ticks": ""
           }
          },
          "colorscale": {
           "diverging": [
            [
             0,
             "#8e0152"
            ],
            [
             0.1,
             "#c51b7d"
            ],
            [
             0.2,
             "#de77ae"
            ],
            [
             0.3,
             "#f1b6da"
            ],
            [
             0.4,
             "#fde0ef"
            ],
            [
             0.5,
             "#f7f7f7"
            ],
            [
             0.6,
             "#e6f5d0"
            ],
            [
             0.7,
             "#b8e186"
            ],
            [
             0.8,
             "#7fbc41"
            ],
            [
             0.9,
             "#4d9221"
            ],
            [
             1,
             "#276419"
            ]
           ],
           "sequential": [
            [
             0,
             "#0d0887"
            ],
            [
             0.1111111111111111,
             "#46039f"
            ],
            [
             0.2222222222222222,
             "#7201a8"
            ],
            [
             0.3333333333333333,
             "#9c179e"
            ],
            [
             0.4444444444444444,
             "#bd3786"
            ],
            [
             0.5555555555555556,
             "#d8576b"
            ],
            [
             0.6666666666666666,
             "#ed7953"
            ],
            [
             0.7777777777777778,
             "#fb9f3a"
            ],
            [
             0.8888888888888888,
             "#fdca26"
            ],
            [
             1,
             "#f0f921"
            ]
           ],
           "sequentialminus": [
            [
             0,
             "#0d0887"
            ],
            [
             0.1111111111111111,
             "#46039f"
            ],
            [
             0.2222222222222222,
             "#7201a8"
            ],
            [
             0.3333333333333333,
             "#9c179e"
            ],
            [
             0.4444444444444444,
             "#bd3786"
            ],
            [
             0.5555555555555556,
             "#d8576b"
            ],
            [
             0.6666666666666666,
             "#ed7953"
            ],
            [
             0.7777777777777778,
             "#fb9f3a"
            ],
            [
             0.8888888888888888,
             "#fdca26"
            ],
            [
             1,
             "#f0f921"
            ]
           ]
          },
          "colorway": [
           "#636efa",
           "#EF553B",
           "#00cc96",
           "#ab63fa",
           "#FFA15A",
           "#19d3f3",
           "#FF6692",
           "#B6E880",
           "#FF97FF",
           "#FECB52"
          ],
          "font": {
           "color": "#2a3f5f"
          },
          "geo": {
           "bgcolor": "white",
           "lakecolor": "white",
           "landcolor": "#E5ECF6",
           "showlakes": true,
           "showland": true,
           "subunitcolor": "white"
          },
          "hoverlabel": {
           "align": "left"
          },
          "hovermode": "closest",
          "mapbox": {
           "style": "light"
          },
          "paper_bgcolor": "white",
          "plot_bgcolor": "#E5ECF6",
          "polar": {
           "angularaxis": {
            "gridcolor": "white",
            "linecolor": "white",
            "ticks": ""
           },
           "bgcolor": "#E5ECF6",
           "radialaxis": {
            "gridcolor": "white",
            "linecolor": "white",
            "ticks": ""
           }
          },
          "scene": {
           "xaxis": {
            "backgroundcolor": "#E5ECF6",
            "gridcolor": "white",
            "gridwidth": 2,
            "linecolor": "white",
            "showbackground": true,
            "ticks": "",
            "zerolinecolor": "white"
           },
           "yaxis": {
            "backgroundcolor": "#E5ECF6",
            "gridcolor": "white",
            "gridwidth": 2,
            "linecolor": "white",
            "showbackground": true,
            "ticks": "",
            "zerolinecolor": "white"
           },
           "zaxis": {
            "backgroundcolor": "#E5ECF6",
            "gridcolor": "white",
            "gridwidth": 2,
            "linecolor": "white",
            "showbackground": true,
            "ticks": "",
            "zerolinecolor": "white"
           }
          },
          "shapedefaults": {
           "line": {
            "color": "#2a3f5f"
           }
          },
          "ternary": {
           "aaxis": {
            "gridcolor": "white",
            "linecolor": "white",
            "ticks": ""
           },
           "baxis": {
            "gridcolor": "white",
            "linecolor": "white",
            "ticks": ""
           },
           "bgcolor": "#E5ECF6",
           "caxis": {
            "gridcolor": "white",
            "linecolor": "white",
            "ticks": ""
           }
          },
          "title": {
           "x": 0.05
          },
          "xaxis": {
           "automargin": true,
           "gridcolor": "white",
           "linecolor": "white",
           "ticks": "",
           "title": {
            "standoff": 15
           },
           "zerolinecolor": "white",
           "zerolinewidth": 2
          },
          "yaxis": {
           "automargin": true,
           "gridcolor": "white",
           "linecolor": "white",
           "ticks": "",
           "title": {
            "standoff": 15
           },
           "zerolinecolor": "white",
           "zerolinewidth": 2
          }
         }
        },
        "title": {
         "text": "Affordability Index by Subdivisions Over the Years"
        },
        "updatemenus": [
         {
          "buttons": [
           {
            "args": [
             null,
             {
              "frame": {
               "duration": 500,
               "redraw": true
              },
              "fromcurrent": true,
              "mode": "immediate",
              "transition": {
               "duration": 500,
               "easing": "linear"
              }
             }
            ],
            "label": "&#9654;",
            "method": "animate"
           },
           {
            "args": [
             [
              null
             ],
             {
              "frame": {
               "duration": 0,
               "redraw": true
              },
              "fromcurrent": true,
              "mode": "immediate",
              "transition": {
               "duration": 0,
               "easing": "linear"
              }
             }
            ],
            "label": "&#9724;",
            "method": "animate"
           }
          ],
          "direction": "left",
          "pad": {
           "r": 10,
           "t": 70
          },
          "showactive": false,
          "type": "buttons",
          "x": 0.1,
          "xanchor": "right",
          "y": 0,
          "yanchor": "top"
         }
        ],
        "width": 1200
       }
      }
     },
     "metadata": {},
     "output_type": "display_data"
    }
   ],
   "source": [
    "\n",
    "# Load the cleaned dataset\n",
    "file_path = \"Final.csv\"  \n",
    "affordability_df = pd.read_csv(file_path)\n",
    "\n",
    "# Calculate the Affordability Index\n",
    "affordability_df[\"Affordability Index\"] = (affordability_df[\"Median Household Income\"] / affordability_df[\"Median Home Value\"]) * 100\n",
    "\n",
    "# Ensure \"Year\" is numeric\n",
    "affordability_df[\"Year\"] = pd.to_numeric(affordability_df[\"Year\"], errors=\"coerce\")\n",
    "\n",
    "# Drop rows with missing latitude and longitude values\n",
    "affordability_df = affordability_df.dropna(subset=[\"Latitude\", \"Longitude\"])\n",
    "\n",
    "# Create an interactive scatter map for Affordability Index\n",
    "fig = px.scatter_mapbox(\n",
    "    affordability_df,\n",
    "    lat='Latitude',\n",
    "    lon='Longitude',\n",
    "    size=\"Affordability Index\",\n",
    "    color=\"Affordability Index\",\n",
    "    hover_name=\"County Subdivision\",\n",
    "    hover_data=[\"County\", \"Affordability Index\", \"Year\"],\n",
    "    animation_frame=\"Year\",  # Include all years with animation\n",
    "    mapbox_style=\"carto-positron\",\n",
    "    color_continuous_scale=[\"red\", \"yellow\", \"green\"],  # Red (Less Affordable) → Green (More Affordable)\n",
    "    title=\"Affordability Index by Subdivisions Over the Years\"\n",
    ")\n",
    "\n",
    "# Increase figure size\n",
    "fig.update_layout(\n",
    "    autosize=True,\n",
    "    width=1200,\n",
    "    height=800\n",
    ")\n",
    "\n",
    "# Show the interactive map\n",
    "fig.show()\n"
   ]
  }
 ],
 "metadata": {
  "kernelspec": {
   "display_name": "dev",
   "language": "python",
   "name": "python3"
  },
  "language_info": {
   "codemirror_mode": {
    "name": "ipython",
    "version": 3
   },
   "file_extension": ".py",
   "mimetype": "text/x-python",
   "name": "python",
   "nbconvert_exporter": "python",
   "pygments_lexer": "ipython3",
   "version": "3.10.16"
  },
  "varInspector": {
   "cols": {
    "lenName": 16,
    "lenType": 16,
    "lenVar": 40
   },
   "kernels_config": {
    "python": {
     "delete_cmd_postfix": "",
     "delete_cmd_prefix": "del ",
     "library": "var_list.py",
     "varRefreshCmd": "print(var_dic_list())"
    },
    "r": {
     "delete_cmd_postfix": ") ",
     "delete_cmd_prefix": "rm(",
     "library": "var_list.r",
     "varRefreshCmd": "cat(var_dic_list()) "
    }
   },
   "types_to_exclude": [
    "module",
    "function",
    "builtin_function_or_method",
    "instance",
    "_Feature"
   ],
   "window_display": false
  }
 },
 "nbformat": 4,
 "nbformat_minor": 2
}
