{
 "cells": [
  {
   "cell_type": "code",
   "execution_count": 23,
   "metadata": {},
   "outputs": [],
   "source": [
    "import requests\n",
    "import pandas as pd\n",
    "import matplotlib.pyplot as plt\n",
    "import seaborn as sns\n",
    "import plotly.express as px\n"
   ]
  },
  {
   "cell_type": "code",
   "execution_count": 24,
   "metadata": {},
   "outputs": [
    {
     "name": "stdout",
     "output_type": "stream",
     "text": [
      "Total Unique Subdivisions: 23\n",
      "List of Unique Subdivisions:\n",
      "Beavercreek CCD, Clackamas County, Oregon\n",
      "Beaverton-Hillsboro CCD, Washington County, Oregon\n",
      "Canby CCD, Clackamas County, Oregon\n",
      "Chehalem Mountains CCD, Washington County, Oregon\n",
      "Coast Range CCD, Washington County, Oregon\n",
      "Colton CCD, Clackamas County, Oregon\n",
      "Corbett CCD, Multnomah County, Oregon\n",
      "Estacada CCD, Clackamas County, Oregon\n",
      "Forest Grove-Cornelius CCD, Washington County, Oregon\n",
      "Gresham CCD, Multnomah County, Oregon\n",
      "Molalla CCD, Clackamas County, Oregon\n",
      "Mount Hood CCD, Clackamas County, Oregon\n",
      "Mulino CCD, Clackamas County, Oregon\n",
      "North Plains CCD, Washington County, Oregon\n",
      "Northwest Clackamas CCD, Clackamas County, Oregon\n",
      "Portland East CCD, Multnomah County, Oregon\n",
      "Portland West CCD, Multnomah County, Oregon\n",
      "Redland CCD, Clackamas County, Oregon\n",
      "Rockcreek CCD, Washington County, Oregon\n",
      "Sandy CCD, Clackamas County, Oregon\n",
      "Skyline CCD, Multnomah County, Oregon\n",
      "Wilsonville CCD, Clackamas County, Oregon\n",
      "Yoder CCD, Clackamas County, Oregon\n"
     ]
    }
   ],
   "source": [
    "# Load the cleaned dataset\n",
    "file_path = \"Final_Complete_Subdivisions_Home_Values.csv\"  \n",
    "df_cleaned = pd.read_csv(file_path)\n",
    "\n",
    "# Get the unique count of subdivisions\n",
    "unique_subdivisions_count = df_cleaned[\"Subdivision\"].nunique()\n",
    "\n",
    "# Get the list of unique subdivisions\n",
    "unique_subdivisions_list = df_cleaned[\"Subdivision\"].unique()\n",
    "\n",
    "# Display the results\n",
    "print(f\"Total Unique Subdivisions: {unique_subdivisions_count}\")\n",
    "print(\"List of Unique Subdivisions:\")\n",
    "for subdivision in unique_subdivisions_list:\n",
    "    print(subdivision)\n"
   ]
  },
  {
   "cell_type": "code",
   "execution_count": 25,
   "metadata": {},
   "outputs": [
    {
     "data": {
      "text/html": [
       "<div>\n",
       "<style scoped>\n",
       "    .dataframe tbody tr th:only-of-type {\n",
       "        vertical-align: middle;\n",
       "    }\n",
       "\n",
       "    .dataframe tbody tr th {\n",
       "        vertical-align: top;\n",
       "    }\n",
       "\n",
       "    .dataframe thead th {\n",
       "        text-align: right;\n",
       "    }\n",
       "</style>\n",
       "<table border=\"1\" class=\"dataframe\">\n",
       "  <thead>\n",
       "    <tr style=\"text-align: right;\">\n",
       "      <th></th>\n",
       "      <th>Subdivision</th>\n",
       "      <th>2019</th>\n",
       "      <th>2020</th>\n",
       "      <th>2021</th>\n",
       "      <th>2022</th>\n",
       "      <th>2023</th>\n",
       "    </tr>\n",
       "  </thead>\n",
       "  <tbody>\n",
       "    <tr>\n",
       "      <th>0</th>\n",
       "      <td>Beavercreek CCD, Clackamas County</td>\n",
       "      <td>468400</td>\n",
       "      <td>501200</td>\n",
       "      <td>522900</td>\n",
       "      <td>644600</td>\n",
       "      <td>660600</td>\n",
       "    </tr>\n",
       "    <tr>\n",
       "      <th>1</th>\n",
       "      <td>Beaverton-Hillsboro CCD, Washington County</td>\n",
       "      <td>384400</td>\n",
       "      <td>410900</td>\n",
       "      <td>436300</td>\n",
       "      <td>501200</td>\n",
       "      <td>556000</td>\n",
       "    </tr>\n",
       "    <tr>\n",
       "      <th>2</th>\n",
       "      <td>Canby CCD, Clackamas County</td>\n",
       "      <td>334100</td>\n",
       "      <td>365500</td>\n",
       "      <td>390600</td>\n",
       "      <td>455000</td>\n",
       "      <td>484700</td>\n",
       "    </tr>\n",
       "    <tr>\n",
       "      <th>3</th>\n",
       "      <td>Chehalem Mountains CCD, Washington County</td>\n",
       "      <td>478000</td>\n",
       "      <td>495800</td>\n",
       "      <td>549600</td>\n",
       "      <td>660500</td>\n",
       "      <td>645300</td>\n",
       "    </tr>\n",
       "    <tr>\n",
       "      <th>4</th>\n",
       "      <td>Coast Range CCD, Washington County</td>\n",
       "      <td>433800</td>\n",
       "      <td>453800</td>\n",
       "      <td>455700</td>\n",
       "      <td>507000</td>\n",
       "      <td>550200</td>\n",
       "    </tr>\n",
       "    <tr>\n",
       "      <th>5</th>\n",
       "      <td>Colton CCD, Clackamas County</td>\n",
       "      <td>347400</td>\n",
       "      <td>391500</td>\n",
       "      <td>440700</td>\n",
       "      <td>493300</td>\n",
       "      <td>555400</td>\n",
       "    </tr>\n",
       "    <tr>\n",
       "      <th>6</th>\n",
       "      <td>Corbett CCD, Multnomah County</td>\n",
       "      <td>422500</td>\n",
       "      <td>461700</td>\n",
       "      <td>496400</td>\n",
       "      <td>609400</td>\n",
       "      <td>654100</td>\n",
       "    </tr>\n",
       "    <tr>\n",
       "      <th>7</th>\n",
       "      <td>Estacada CCD, Clackamas County</td>\n",
       "      <td>368800</td>\n",
       "      <td>392700</td>\n",
       "      <td>431200</td>\n",
       "      <td>511800</td>\n",
       "      <td>572400</td>\n",
       "    </tr>\n",
       "    <tr>\n",
       "      <th>8</th>\n",
       "      <td>Forest Grove-Cornelius CCD, Washington County</td>\n",
       "      <td>304400</td>\n",
       "      <td>339100</td>\n",
       "      <td>366600</td>\n",
       "      <td>429100</td>\n",
       "      <td>457200</td>\n",
       "    </tr>\n",
       "    <tr>\n",
       "      <th>9</th>\n",
       "      <td>Gresham CCD, Multnomah County</td>\n",
       "      <td>294300</td>\n",
       "      <td>324300</td>\n",
       "      <td>348600</td>\n",
       "      <td>410900</td>\n",
       "      <td>438300</td>\n",
       "    </tr>\n",
       "    <tr>\n",
       "      <th>10</th>\n",
       "      <td>Molalla CCD, Clackamas County</td>\n",
       "      <td>299200</td>\n",
       "      <td>335100</td>\n",
       "      <td>350100</td>\n",
       "      <td>405600</td>\n",
       "      <td>438300</td>\n",
       "    </tr>\n",
       "    <tr>\n",
       "      <th>11</th>\n",
       "      <td>Mount Hood CCD, Clackamas County</td>\n",
       "      <td>371200</td>\n",
       "      <td>367100</td>\n",
       "      <td>389100</td>\n",
       "      <td>468900</td>\n",
       "      <td>473300</td>\n",
       "    </tr>\n",
       "    <tr>\n",
       "      <th>12</th>\n",
       "      <td>Mulino CCD, Clackamas County</td>\n",
       "      <td>429300</td>\n",
       "      <td>478200</td>\n",
       "      <td>528700</td>\n",
       "      <td>620200</td>\n",
       "      <td>650000</td>\n",
       "    </tr>\n",
       "    <tr>\n",
       "      <th>13</th>\n",
       "      <td>North Plains CCD, Washington County</td>\n",
       "      <td>433400</td>\n",
       "      <td>459600</td>\n",
       "      <td>497400</td>\n",
       "      <td>614700</td>\n",
       "      <td>645200</td>\n",
       "    </tr>\n",
       "    <tr>\n",
       "      <th>14</th>\n",
       "      <td>Northwest Clackamas CCD, Clackamas County</td>\n",
       "      <td>402200</td>\n",
       "      <td>430600</td>\n",
       "      <td>462700</td>\n",
       "      <td>546200</td>\n",
       "      <td>593600</td>\n",
       "    </tr>\n",
       "    <tr>\n",
       "      <th>15</th>\n",
       "      <td>Portland East CCD, Multnomah County</td>\n",
       "      <td>383900</td>\n",
       "      <td>410200</td>\n",
       "      <td>437900</td>\n",
       "      <td>491300</td>\n",
       "      <td>525000</td>\n",
       "    </tr>\n",
       "    <tr>\n",
       "      <th>16</th>\n",
       "      <td>Portland West CCD, Multnomah County</td>\n",
       "      <td>557100</td>\n",
       "      <td>586300</td>\n",
       "      <td>604000</td>\n",
       "      <td>663000</td>\n",
       "      <td>694000</td>\n",
       "    </tr>\n",
       "    <tr>\n",
       "      <th>17</th>\n",
       "      <td>Redland CCD, Clackamas County</td>\n",
       "      <td>480300</td>\n",
       "      <td>475600</td>\n",
       "      <td>507200</td>\n",
       "      <td>619100</td>\n",
       "      <td>660800</td>\n",
       "    </tr>\n",
       "    <tr>\n",
       "      <th>18</th>\n",
       "      <td>Rockcreek CCD, Washington County</td>\n",
       "      <td>441200</td>\n",
       "      <td>463700</td>\n",
       "      <td>488800</td>\n",
       "      <td>573700</td>\n",
       "      <td>614800</td>\n",
       "    </tr>\n",
       "    <tr>\n",
       "      <th>19</th>\n",
       "      <td>Sandy CCD, Clackamas County</td>\n",
       "      <td>348300</td>\n",
       "      <td>364700</td>\n",
       "      <td>385100</td>\n",
       "      <td>473900</td>\n",
       "      <td>488200</td>\n",
       "    </tr>\n",
       "    <tr>\n",
       "      <th>20</th>\n",
       "      <td>Skyline CCD, Multnomah County</td>\n",
       "      <td>592000</td>\n",
       "      <td>668000</td>\n",
       "      <td>705300</td>\n",
       "      <td>747100</td>\n",
       "      <td>780100</td>\n",
       "    </tr>\n",
       "    <tr>\n",
       "      <th>21</th>\n",
       "      <td>Wilsonville CCD, Clackamas County</td>\n",
       "      <td>456100</td>\n",
       "      <td>467600</td>\n",
       "      <td>486500</td>\n",
       "      <td>579200</td>\n",
       "      <td>605600</td>\n",
       "    </tr>\n",
       "    <tr>\n",
       "      <th>22</th>\n",
       "      <td>Yoder CCD, Clackamas County</td>\n",
       "      <td>495400</td>\n",
       "      <td>517400</td>\n",
       "      <td>560200</td>\n",
       "      <td>673600</td>\n",
       "      <td>719800</td>\n",
       "    </tr>\n",
       "  </tbody>\n",
       "</table>\n",
       "</div>"
      ],
      "text/plain": [
       "                                      Subdivision    2019    2020    2021  \\\n",
       "0               Beavercreek CCD, Clackamas County  468400  501200  522900   \n",
       "1      Beaverton-Hillsboro CCD, Washington County  384400  410900  436300   \n",
       "2                     Canby CCD, Clackamas County  334100  365500  390600   \n",
       "3       Chehalem Mountains CCD, Washington County  478000  495800  549600   \n",
       "4              Coast Range CCD, Washington County  433800  453800  455700   \n",
       "5                    Colton CCD, Clackamas County  347400  391500  440700   \n",
       "6                   Corbett CCD, Multnomah County  422500  461700  496400   \n",
       "7                  Estacada CCD, Clackamas County  368800  392700  431200   \n",
       "8   Forest Grove-Cornelius CCD, Washington County  304400  339100  366600   \n",
       "9                   Gresham CCD, Multnomah County  294300  324300  348600   \n",
       "10                  Molalla CCD, Clackamas County  299200  335100  350100   \n",
       "11               Mount Hood CCD, Clackamas County  371200  367100  389100   \n",
       "12                   Mulino CCD, Clackamas County  429300  478200  528700   \n",
       "13            North Plains CCD, Washington County  433400  459600  497400   \n",
       "14      Northwest Clackamas CCD, Clackamas County  402200  430600  462700   \n",
       "15            Portland East CCD, Multnomah County  383900  410200  437900   \n",
       "16            Portland West CCD, Multnomah County  557100  586300  604000   \n",
       "17                  Redland CCD, Clackamas County  480300  475600  507200   \n",
       "18               Rockcreek CCD, Washington County  441200  463700  488800   \n",
       "19                    Sandy CCD, Clackamas County  348300  364700  385100   \n",
       "20                  Skyline CCD, Multnomah County  592000  668000  705300   \n",
       "21              Wilsonville CCD, Clackamas County  456100  467600  486500   \n",
       "22                    Yoder CCD, Clackamas County  495400  517400  560200   \n",
       "\n",
       "      2022    2023  \n",
       "0   644600  660600  \n",
       "1   501200  556000  \n",
       "2   455000  484700  \n",
       "3   660500  645300  \n",
       "4   507000  550200  \n",
       "5   493300  555400  \n",
       "6   609400  654100  \n",
       "7   511800  572400  \n",
       "8   429100  457200  \n",
       "9   410900  438300  \n",
       "10  405600  438300  \n",
       "11  468900  473300  \n",
       "12  620200  650000  \n",
       "13  614700  645200  \n",
       "14  546200  593600  \n",
       "15  491300  525000  \n",
       "16  663000  694000  \n",
       "17  619100  660800  \n",
       "18  573700  614800  \n",
       "19  473900  488200  \n",
       "20  747100  780100  \n",
       "21  579200  605600  \n",
       "22  673600  719800  "
      ]
     },
     "metadata": {},
     "output_type": "display_data"
    }
   ],
   "source": [
    "\n",
    "# Load the cleaned dataset\n",
    "file_path = \"Final_Complete_Subdivisions_Home_Values.csv\"  \n",
    "df_cleaned = pd.read_csv(file_path)\n",
    "\n",
    "# Select only relevant columns\n",
    "df_selected = df_cleaned[[\"Subdivision\", \"Year\", \"Median Home Value\"]]\n",
    "\n",
    "# Filter data for years 2019-2023\n",
    "df_filtered = df_selected[df_selected[\"Year\"].isin([2019, 2020, 2021, 2022, 2023])]\n",
    "\n",
    "# Reshape the DataFrame to have each subdivision as a row and years as columns\n",
    "df_wide = df_filtered.pivot(index=\"Subdivision\", columns=\"Year\", values=\"Median Home Value\").reset_index()\n",
    "\n",
    "# Rename the columns for clarity\n",
    "df_wide.columns.name = None  # Remove the automatic column name\n",
    "df_wide.columns = [\"Subdivision\", \"2019\", \"2020\", \"2021\", \"2022\", \"2023\"]\n",
    "\n",
    "# Remove \"Oregon\" from the subdivision names\n",
    "df_wide[\"Subdivision\"] = df_wide[\"Subdivision\"].str.replace(\", Oregon\", \"\", regex=False)\n",
    "\n",
    "# Display the final structured DataFrame\n",
    "from IPython.display import display\n",
    "display(df_wide)\n"
   ]
  },
  {
   "cell_type": "code",
   "execution_count": 26,
   "metadata": {},
   "outputs": [
    {
     "data": {
      "text/html": [
       "<div>\n",
       "<style scoped>\n",
       "    .dataframe tbody tr th:only-of-type {\n",
       "        vertical-align: middle;\n",
       "    }\n",
       "\n",
       "    .dataframe tbody tr th {\n",
       "        vertical-align: top;\n",
       "    }\n",
       "\n",
       "    .dataframe thead th {\n",
       "        text-align: right;\n",
       "    }\n",
       "</style>\n",
       "<table border=\"1\" class=\"dataframe\">\n",
       "  <thead>\n",
       "    <tr style=\"text-align: right;\">\n",
       "      <th></th>\n",
       "      <th>Year</th>\n",
       "      <th>Most Expensive Subdivision</th>\n",
       "    </tr>\n",
       "  </thead>\n",
       "  <tbody>\n",
       "    <tr>\n",
       "      <th>0</th>\n",
       "      <td>2019</td>\n",
       "      <td>Skyline CCD, Multnomah County</td>\n",
       "    </tr>\n",
       "    <tr>\n",
       "      <th>1</th>\n",
       "      <td>2020</td>\n",
       "      <td>Skyline CCD, Multnomah County</td>\n",
       "    </tr>\n",
       "    <tr>\n",
       "      <th>2</th>\n",
       "      <td>2021</td>\n",
       "      <td>Skyline CCD, Multnomah County</td>\n",
       "    </tr>\n",
       "    <tr>\n",
       "      <th>3</th>\n",
       "      <td>2022</td>\n",
       "      <td>Skyline CCD, Multnomah County</td>\n",
       "    </tr>\n",
       "    <tr>\n",
       "      <th>4</th>\n",
       "      <td>2023</td>\n",
       "      <td>Skyline CCD, Multnomah County</td>\n",
       "    </tr>\n",
       "  </tbody>\n",
       "</table>\n",
       "</div>"
      ],
      "text/plain": [
       "   Year     Most Expensive Subdivision\n",
       "0  2019  Skyline CCD, Multnomah County\n",
       "1  2020  Skyline CCD, Multnomah County\n",
       "2  2021  Skyline CCD, Multnomah County\n",
       "3  2022  Skyline CCD, Multnomah County\n",
       "4  2023  Skyline CCD, Multnomah County"
      ]
     },
     "metadata": {},
     "output_type": "display_data"
    }
   ],
   "source": [
    "# Load the cleaned dataset\n",
    "file_path = \"Final_Complete_Subdivisions_Home_Values.csv\"  \n",
    "df_cleaned = pd.read_csv(file_path)\n",
    "\n",
    "# Select only relevant columns\n",
    "df_selected = df_cleaned[[\"Subdivision\", \"Year\", \"Median Home Value\"]]\n",
    "\n",
    "# Filter data for years 2019-2023\n",
    "df_filtered = df_selected[df_selected[\"Year\"].isin([2019, 2020, 2021, 2022, 2023])]\n",
    "\n",
    "# Reshape the DataFrame to have each subdivision as a row and years as columns\n",
    "df_wide = df_filtered.pivot(index=\"Subdivision\", columns=\"Year\", values=\"Median Home Value\").reset_index()\n",
    "\n",
    "# Rename the columns for clarity\n",
    "df_wide.columns.name = None  # Remove the automatic column name\n",
    "df_wide.columns = [\"Subdivision\", \"2019\", \"2020\", \"2021\", \"2022\", \"2023\"]\n",
    "\n",
    "# Remove \"Oregon\" from the subdivision names\n",
    "df_wide[\"Subdivision\"] = df_wide[\"Subdivision\"].str.replace(\", Oregon\", \"\", regex=False)\n",
    "\n",
    "# Find the most expensive subdivision for each year\n",
    "df_most_expensive = df_wide.set_index(\"Subdivision\").idxmax().to_frame(name=\"Most Expensive Subdivision\")\n",
    "\n",
    "# Reset index for better readability\n",
    "df_most_expensive.reset_index(inplace=True)\n",
    "df_most_expensive.rename(columns={\"index\": \"Year\"}, inplace=True)\n",
    "\n",
    "# Display the result\n",
    "from IPython.display import display\n",
    "display(df_most_expensive)\n"
   ]
  },
  {
   "cell_type": "code",
   "execution_count": 27,
   "metadata": {},
   "outputs": [
    {
     "data": {
      "text/html": [
       "<div>\n",
       "<style scoped>\n",
       "    .dataframe tbody tr th:only-of-type {\n",
       "        vertical-align: middle;\n",
       "    }\n",
       "\n",
       "    .dataframe tbody tr th {\n",
       "        vertical-align: top;\n",
       "    }\n",
       "\n",
       "    .dataframe thead th {\n",
       "        text-align: right;\n",
       "    }\n",
       "</style>\n",
       "<table border=\"1\" class=\"dataframe\">\n",
       "  <thead>\n",
       "    <tr style=\"text-align: right;\">\n",
       "      <th></th>\n",
       "      <th>Year</th>\n",
       "      <th>Least Expensive Subdivision</th>\n",
       "    </tr>\n",
       "  </thead>\n",
       "  <tbody>\n",
       "    <tr>\n",
       "      <th>0</th>\n",
       "      <td>2019</td>\n",
       "      <td>Gresham CCD, Multnomah County</td>\n",
       "    </tr>\n",
       "    <tr>\n",
       "      <th>1</th>\n",
       "      <td>2020</td>\n",
       "      <td>Gresham CCD, Multnomah County</td>\n",
       "    </tr>\n",
       "    <tr>\n",
       "      <th>2</th>\n",
       "      <td>2021</td>\n",
       "      <td>Gresham CCD, Multnomah County</td>\n",
       "    </tr>\n",
       "    <tr>\n",
       "      <th>3</th>\n",
       "      <td>2022</td>\n",
       "      <td>Molalla CCD, Clackamas County</td>\n",
       "    </tr>\n",
       "    <tr>\n",
       "      <th>4</th>\n",
       "      <td>2023</td>\n",
       "      <td>Gresham CCD, Multnomah County</td>\n",
       "    </tr>\n",
       "  </tbody>\n",
       "</table>\n",
       "</div>"
      ],
      "text/plain": [
       "   Year    Least Expensive Subdivision\n",
       "0  2019  Gresham CCD, Multnomah County\n",
       "1  2020  Gresham CCD, Multnomah County\n",
       "2  2021  Gresham CCD, Multnomah County\n",
       "3  2022  Molalla CCD, Clackamas County\n",
       "4  2023  Gresham CCD, Multnomah County"
      ]
     },
     "metadata": {},
     "output_type": "display_data"
    }
   ],
   "source": [
    "\n",
    "# Find the least expensive subdivision for each year\n",
    "df_least_expensive = df_wide.set_index(\"Subdivision\").idxmin().to_frame(name=\"Least Expensive Subdivision\")\n",
    "\n",
    "# Reset index for better readability\n",
    "df_least_expensive.reset_index(inplace=True)\n",
    "df_least_expensive.rename(columns={\"index\": \"Year\"}, inplace=True)\n",
    "\n",
    "# Display the result\n",
    "from IPython.display import display\n",
    "display(df_least_expensive)\n"
   ]
  },
  {
   "cell_type": "code",
   "execution_count": 28,
   "metadata": {},
   "outputs": [
    {
     "data": {
      "image/png": "[encoded data removed]",
      "text/plain": [
       "<Figure size 1000x600 with 1 Axes>"
      ]
     },
     "metadata": {},
     "output_type": "display_data"
    },
    {
     "data": {
      "image/png": "[encoded data removed]",
      "text/plain": [
       "<Figure size 1000x600 with 1 Axes>"
      ]
     },
     "metadata": {},
     "output_type": "display_data"
    }
   ],
   "source": [
    "# Extract data for most and least expensive subdivisions\n",
    "most_expensive_subdivisions = df_wide.set_index(\"Subdivision\").idxmax()\n",
    "least_expensive_subdivisions = df_wide.set_index(\"Subdivision\").idxmin()\n",
    "\n",
    "# Extract corresponding values for each year\n",
    "most_expensive_values = df_wide.set_index(\"Subdivision\").max()\n",
    "least_expensive_values = df_wide.set_index(\"Subdivision\").min()\n",
    "\n",
    "# Convert to DataFrame for easier plotting\n",
    "df_comparison = pd.DataFrame({\n",
    "    \"Year\": most_expensive_values.index.astype(str),\n",
    "    \"Most Expensive Value\": most_expensive_values.values,\n",
    "    \"Least Expensive Value\": least_expensive_values.values,\n",
    "    \"Most Expensive Subdivision\": most_expensive_subdivisions.values,\n",
    "    \"Least Expensive Subdivision\": least_expensive_subdivisions.values\n",
    "})\n",
    "\n",
    "# Line Chart - Trend Over Time\n",
    "plt.figure(figsize=(10, 6))\n",
    "plt.plot(df_comparison[\"Year\"], df_comparison[\"Most Expensive Value\"], marker='o', label=\"Most Expensive\", color='red')\n",
    "plt.plot(df_comparison[\"Year\"], df_comparison[\"Least Expensive Value\"], marker='o', label=\"Least Expensive\", color='blue')\n",
    "plt.xlabel(\"Year\")\n",
    "plt.ylabel(\"Median Home Value ($)\")\n",
    "plt.title(\"Most vs Least Expensive Subdivisions Over Time\")\n",
    "plt.legend()\n",
    "plt.grid(True)\n",
    "plt.show()\n",
    "\n",
    "# Bar Chart - Yearly Comparison\n",
    "plt.figure(figsize=(10, 6))\n",
    "bar_width = 0.4\n",
    "x_labels = df_comparison[\"Year\"]\n",
    "x_indices = range(len(x_labels))\n",
    "\n",
    "plt.bar(x_indices, df_comparison[\"Most Expensive Value\"], width=bar_width, label=\"Most Expensive\", color='red', align='center')\n",
    "plt.bar(x_indices, df_comparison[\"Least Expensive Value\"], width=bar_width, label=\"Least Expensive\", color='blue', align='edge')\n",
    "plt.xticks(ticks=x_indices, labels=x_labels)\n",
    "plt.xlabel(\"Year\")\n",
    "plt.ylabel(\"Median Home Value ($)\")\n",
    "plt.title(\"Yearly Comparison: Most vs Least Expensive Subdivisions\")\n",
    "plt.legend()\n",
    "plt.grid(axis=\"y\")\n",
    "plt.show()\n"
   ]
  },
  {
   "cell_type": "code",
   "execution_count": 29,
   "metadata": {},
   "outputs": [
    {
     "data": {
      "image/png": "[encoded data removed]",
      "text/plain": [
       "<Figure size 1200x800 with 2 Axes>"
      ]
     },
     "metadata": {},
     "output_type": "display_data"
    }
   ],
   "source": [
    "# Remove \"CCD\" and \"County\" from subdivision names\n",
    "df_wide[\"Subdivision\"] = df_wide[\"Subdivision\"].str.replace(\" CCD\", \"\", regex=False)\n",
    "df_wide[\"Subdivision\"] = df_wide[\"Subdivision\"].str.replace(\" County\", \"\", regex=False)\n",
    "\n",
    "# Create a heatmap for each subdivision with a red-to-green color scale\n",
    "plt.figure(figsize=(12, 8))\n",
    "sns.heatmap(\n",
    "    df_wide.set_index(\"Subdivision\"), \n",
    "    annot=True, \n",
    "    fmt=\".0f\", \n",
    "    cmap=\"RdYlGn_r\",  # Red for expensive, Green for least expensive\n",
    "    linewidths=0.5\n",
    ")\n",
    "\n",
    "# Customize the plot\n",
    "plt.title(\"Home Value Heatmap Across Subdivisions (2019-2023)\")\n",
    "plt.xlabel(\"Year\")\n",
    "plt.ylabel(\"Subdivision\")\n",
    "\n",
    "# Show the heatmap\n",
    "plt.show()\n"
   ]
  },
  {
   "cell_type": "code",
   "execution_count": 34,
   "metadata": {},
   "outputs": [
    {
     "data": {
      "application/vnd.plotly.v1+json": {
       "config": {
        "plotlyServerURL": "https://plot.ly"
       },
       "data": [
        {
         "customdata": [
          [
           "Clackamas",
           660600,
           2023
          ],
          [
           "Washington",
           556000,
           2023
          ],
          [
           "Clackamas",
           484700,
           2023
          ],
          [
           "Washington",
           645300,
           2023
          ],
          [
           "Washington",
           550200,
           2023
          ],
          [
           "Clackamas",
           555400,
           2023
          ],
          [
           "Multnomah",
           654100,
           2023
          ],
          [
           "Clackamas",
           572400,
           2023
          ],
          [
           "Washington",
           457200,
           2023
          ],
          [
           "Multnomah",
           438300,
           2023
          ],
          [
           "Clackamas",
           438300,
           2023
          ],
          [
           "Clackamas",
           473300,
           2023
          ],
          [
           "Clackamas",
           650000,
           2023
          ],
          [
           "Washington",
           645200,
           2023
          ],
          [
           "Clackamas",
           593600,
           2023
          ],
          [
           "Multnomah",
           525000,
           2023
          ],
          [
           "Multnomah",
           694000,
           2023
          ],
          [
           "Clackamas",
           660800,
           2023
          ],
          [
           "Washington",
           614800,
           2023
          ],
          [
           "Clackamas",
           488200,
           2023
          ],
          [
           "Multnomah",
           780100,
           2023
          ],
          [
           "Clackamas",
           605600,
           2023
          ],
          [
           "Clackamas",
           719800,
           2023
          ]
         ],
         "hovertemplate": "<b>%{hovertext}</b><br><br>Median Home Value=%{marker.color}<br>Latitude=%{lat}<br>Longitude=%{lon}<br>County=%{customdata[0]}<br>Year=%{customdata[2]}<extra></extra>",
         "hovertext": [
          "Beavercreek CCD, Clackamas County, Oregon",
          "Beaverton-Hillsboro CCD, Washington County, Oregon",
          "Canby CCD, Clackamas County, Oregon",
          "Chehalem Mountains CCD, Washington County, Oregon",
          "Coast Range CCD, Washington County, Oregon",
          "Colton CCD, Clackamas County, Oregon",
          "Corbett CCD, Multnomah County, Oregon",
          "Estacada CCD, Clackamas County, Oregon",
          "Forest Grove-Cornelius CCD, Washington County, Oregon",
          "Gresham CCD, Multnomah County, Oregon",
          "Molalla CCD, Clackamas County, Oregon",
          "Mount Hood CCD, Clackamas County, Oregon",
          "Mulino CCD, Clackamas County, Oregon",
          "North Plains CCD, Washington County, Oregon",
          "Northwest Clackamas CCD, Clackamas County, Oregon",
          "Portland East CCD, Multnomah County, Oregon",
          "Portland West CCD, Multnomah County, Oregon",
          "Redland CCD, Clackamas County, Oregon",
          "Rockcreek CCD, Washington County, Oregon",
          "Sandy CCD, Clackamas County, Oregon",
          "Skyline CCD, Multnomah County, Oregon",
          "Wilsonville CCD, Clackamas County, Oregon",
          "Yoder CCD, Clackamas County, Oregon"
         ],
         "lat": [
          45.2879294,
          45.5226664,
          45.262692,
          45.3278962,
          45.5469616,
          45.1721192,
          45.5318,
          45.2877198,
          45.5195,
          45.5044715,
          45.1475439,
          45.2023855,
          45.2212415,
          45.59778499999999,
          45.4074434,
          45.5165442,
          45.4548406,
          45.3434553,
          45.5510497,
          45.3973141,
          45.5145659,
          45.3029344,
          45.1381769
         ],
         "legendgroup": "",
         "lon": [
          -122.5353423,
          -122.9898071,
          -122.6957402,
          -122.88871,
          -123.1386021,
          -122.4374803,
          -122.2912,
          -122.3351638,
          -123.1053,
          -122.4356657,
          -122.5771264,
          -122.1188945,
          -122.5816606,
          -123.0008365,
          -122.5688975,
          -122.6626984,
          -122.7325965,
          -122.4928664,
          -122.8741537,
          -122.2630704,
          -122.5863212,
          -122.7726687,
          -122.6817567
         ],
         "marker": {
          "color": [
           660600,
           556000,
           484700,
           645300,
           550200,
           555400,
           654100,
           572400,
           457200,
           438300,
           438300,
           473300,
           650000,
           645200,
           593600,
           525000,
           694000,
           660800,
           614800,
           488200,
           780100,
           605600,
           719800
          ],
          "coloraxis": "coloraxis",
          "size": [
           660600,
           556000,
           484700,
           645300,
           550200,
           555400,
           654100,
           572400,
           457200,
           438300,
           438300,
           473300,
           650000,
           645200,
           593600,
           525000,
           694000,
           660800,
           614800,
           488200,
           780100,
           605600,
           719800
          ],
          "sizemode": "area",
          "sizeref": 1950.25
         },
         "mode": "markers",
         "name": "",
         "showlegend": false,
         "subplot": "mapbox",
         "type": "scattermapbox"
        }
       ],
       "layout": {
        "autosize": true,
        "coloraxis": {
         "colorbar": {
          "title": {
           "text": "Median Home Value"
          }
         },
         "colorscale": [
          [
           0,
           "green"
          ],
          [
           0.5,
           "yellow"
          ],
          [
           1,
           "red"
          ]
         ]
        },
        "height": 800,
        "legend": {
         "itemsizing": "constant",
         "tracegroupgap": 0
        },
        "mapbox": {
         "center": {
          "lat": 45.380827673913046,
          "lon": -122.64202430434781
         },
         "domain": {
          "x": [
           0,
           1
          ],
          "y": [
           0,
           1
          ]
         },
         "style": "carto-positron",
         "zoom": 8
        },
        "template": {
         "data": {
          "bar": [
           {
            "error_x": {
             "color": "#2a3f5f"
            },
            "error_y": {
             "color": "#2a3f5f"
            },
            "marker": {
             "line": {
              "color": "#E5ECF6",
              "width": 0.5
             },
             "pattern": {
              "fillmode": "overlay",
              "size": 10,
              "solidity": 0.2
             }
            },
            "type": "bar"
           }
          ],
          "barpolar": [
           {
            "marker": {
             "line": {
              "color": "#E5ECF6",
              "width": 0.5
             },
             "pattern": {
              "fillmode": "overlay",
              "size": 10,
              "solidity": 0.2
             }
            },
            "type": "barpolar"
           }
          ],
          "carpet": [
           {
            "aaxis": {
             "endlinecolor": "#2a3f5f",
             "gridcolor": "white",
             "linecolor": "white",
             "minorgridcolor": "white",
             "startlinecolor": "#2a3f5f"
            },
            "baxis": {
             "endlinecolor": "#2a3f5f",
             "gridcolor": "white",
             "linecolor": "white",
             "minorgridcolor": "white",
             "startlinecolor": "#2a3f5f"
            },
            "type": "carpet"
           }
          ],
          "choropleth": [
           {
            "colorbar": {
             "outlinewidth": 0,
             "ticks": ""
            },
            "type": "choropleth"
           }
          ],
          "contour": [
           {
            "colorbar": {
             "outlinewidth": 0,
             "ticks": ""
            },
            "colorscale": [
             [
              0,
              "#0d0887"
             ],
             [
              0.1111111111111111,
              "#46039f"
             ],
             [
              0.2222222222222222,
              "#7201a8"
             ],
             [
              0.3333333333333333,
              "#9c179e"
             ],
             [
              0.4444444444444444,
              "#bd3786"
             ],
             [
              0.5555555555555556,
              "#d8576b"
             ],
             [
              0.6666666666666666,
              "#ed7953"
             ],
             [
              0.7777777777777778,
              "#fb9f3a"
             ],
             [
              0.8888888888888888,
              "#fdca26"
             ],
             [
              1,
              "#f0f921"
             ]
            ],
            "type": "contour"
           }
          ],
          "contourcarpet": [
           {
            "colorbar": {
             "outlinewidth": 0,
             "ticks": ""
            },
            "type": "contourcarpet"
           }
          ],
          "heatmap": [
           {
            "colorbar": {
             "outlinewidth": 0,
             "ticks": ""
            },
            "colorscale": [
             [
              0,
              "#0d0887"
             ],
             [
              0.1111111111111111,
              "#46039f"
             ],
             [
              0.2222222222222222,
              "#7201a8"
             ],
             [
              0.3333333333333333,
              "#9c179e"
             ],
             [
              0.4444444444444444,
              "#bd3786"
             ],
             [
              0.5555555555555556,
              "#d8576b"
             ],
             [
              0.6666666666666666,
              "#ed7953"
             ],
             [
              0.7777777777777778,
              "#fb9f3a"
             ],
             [
              0.8888888888888888,
              "#fdca26"
             ],
             [
              1,
              "#f0f921"
             ]
            ],
            "type": "heatmap"
           }
          ],
          "heatmapgl": [
           {
            "colorbar": {
             "outlinewidth": 0,
             "ticks": ""
            },
            "colorscale": [
             [
              0,
              "#0d0887"
             ],
             [
              0.1111111111111111,
              "#46039f"
             ],
             [
              0.2222222222222222,
              "#7201a8"
             ],
             [
              0.3333333333333333,
              "#9c179e"
             ],
             [
              0.4444444444444444,
              "#bd3786"
             ],
             [
              0.5555555555555556,
              "#d8576b"
             ],
             [
              0.6666666666666666,
              "#ed7953"
             ],
             [
              0.7777777777777778,
              "#fb9f3a"
             ],
             [
              0.8888888888888888,
              "#fdca26"
             ],
             [
              1,
              "#f0f921"
             ]
            ],
            "type": "heatmapgl"
           }
          ],
          "histogram": [
           {
            "marker": {
             "pattern": {
              "fillmode": "overlay",
              "size": 10,
              "solidity": 0.2
             }
            },
            "type": "histogram"
           }
          ],
          "histogram2d": [
           {
            "colorbar": {
             "outlinewidth": 0,
             "ticks": ""
            },
            "colorscale": [
             [
              0,
              "#0d0887"
             ],
             [
              0.1111111111111111,
              "#46039f"
             ],
             [
              0.2222222222222222,
              "#7201a8"
             ],
             [
              0.3333333333333333,
              "#9c179e"
             ],
             [
              0.4444444444444444,
              "#bd3786"
             ],
             [
              0.5555555555555556,
              "#d8576b"
             ],
             [
              0.6666666666666666,
              "#ed7953"
             ],
             [
              0.7777777777777778,
              "#fb9f3a"
             ],
             [
              0.8888888888888888,
              "#fdca26"
             ],
             [
              1,
              "#f0f921"
             ]
            ],
            "type": "histogram2d"
           }
          ],
          "histogram2dcontour": [
           {
            "colorbar": {
             "outlinewidth": 0,
             "ticks": ""
            },
            "colorscale": [
             [
              0,
              "#0d0887"
             ],
             [
              0.1111111111111111,
              "#46039f"
             ],
             [
              0.2222222222222222,
              "#7201a8"
             ],
             [
              0.3333333333333333,
              "#9c179e"
             ],
             [
              0.4444444444444444,
              "#bd3786"
             ],
             [
              0.5555555555555556,
              "#d8576b"
             ],
             [
              0.6666666666666666,
              "#ed7953"
             ],
             [
              0.7777777777777778,
              "#fb9f3a"
             ],
             [
              0.8888888888888888,
              "#fdca26"
             ],
             [
              1,
              "#f0f921"
             ]
            ],
            "type": "histogram2dcontour"
           }
          ],
          "mesh3d": [
           {
            "colorbar": {
             "outlinewidth": 0,
             "ticks": ""
            },
            "type": "mesh3d"
           }
          ],
          "parcoords": [
           {
            "line": {
             "colorbar": {
              "outlinewidth": 0,
              "ticks": ""
             }
            },
            "type": "parcoords"
           }
          ],
          "pie": [
           {
            "automargin": true,
            "type": "pie"
           }
          ],
          "scatter": [
           {
            "fillpattern": {
             "fillmode": "overlay",
             "size": 10,
             "solidity": 0.2
            },
            "type": "scatter"
           }
          ],
          "scatter3d": [
           {
            "line": {
             "colorbar": {
              "outlinewidth": 0,
              "ticks": ""
             }
            },
            "marker": {
             "colorbar": {
              "outlinewidth": 0,
              "ticks": ""
             }
            },
            "type": "scatter3d"
           }
          ],
          "scattercarpet": [
           {
            "marker": {
             "colorbar": {
              "outlinewidth": 0,
              "ticks": ""
             }
            },
            "type": "scattercarpet"
           }
          ],
          "scattergeo": [
           {
            "marker": {
             "colorbar": {
              "outlinewidth": 0,
              "ticks": ""
             }
            },
            "type": "scattergeo"
           }
          ],
          "scattergl": [
           {
            "marker": {
             "colorbar": {
              "outlinewidth": 0,
              "ticks": ""
             }
            },
            "type": "scattergl"
           }
          ],
          "scattermapbox": [
           {
            "marker": {
             "colorbar": {
              "outlinewidth": 0,
              "ticks": ""
             }
            },
            "type": "scattermapbox"
           }
          ],
          "scatterpolar": [
           {
            "marker": {
             "colorbar": {
              "outlinewidth": 0,
              "ticks": ""
             }
            },
            "type": "scatterpolar"
           }
          ],
          "scatterpolargl": [
           {
            "marker": {
             "colorbar": {
              "outlinewidth": 0,
              "ticks": ""
             }
            },
            "type": "scatterpolargl"
           }
          ],
          "scatterternary": [
           {
            "marker": {
             "colorbar": {
              "outlinewidth": 0,
              "ticks": ""
             }
            },
            "type": "scatterternary"
           }
          ],
          "surface": [
           {
            "colorbar": {
             "outlinewidth": 0,
             "ticks": ""
            },
            "colorscale": [
             [
              0,
              "#0d0887"
             ],
             [
              0.1111111111111111,
              "#46039f"
             ],
             [
              0.2222222222222222,
              "#7201a8"
             ],
             [
              0.3333333333333333,
              "#9c179e"
             ],
             [
              0.4444444444444444,
              "#bd3786"
             ],
             [
              0.5555555555555556,
              "#d8576b"
             ],
             [
              0.6666666666666666,
              "#ed7953"
             ],
             [
              0.7777777777777778,
              "#fb9f3a"
             ],
             [
              0.8888888888888888,
              "#fdca26"
             ],
             [
              1,
              "#f0f921"
             ]
            ],
            "type": "surface"
           }
          ],
          "table": [
           {
            "cells": {
             "fill": {
              "color": "#EBF0F8"
             },
             "line": {
              "color": "white"
             }
            },
            "header": {
             "fill": {
              "color": "#C8D4E3"
             },
             "line": {
              "color": "white"
             }
            },
            "type": "table"
           }
          ]
         },
         "layout": {
          "annotationdefaults": {
           "arrowcolor": "#2a3f5f",
           "arrowhead": 0,
           "arrowwidth": 1
          },
          "autotypenumbers": "strict",
          "coloraxis": {
           "colorbar": {
            "outlinewidth": 0,
            "ticks": ""
           }
          },
          "colorscale": {
           "diverging": [
            [
             0,
             "#8e0152"
            ],
            [
             0.1,
             "#c51b7d"
            ],
            [
             0.2,
             "#de77ae"
            ],
            [
             0.3,
             "#f1b6da"
            ],
            [
             0.4,
             "#fde0ef"
            ],
            [
             0.5,
             "#f7f7f7"
            ],
            [
             0.6,
             "#e6f5d0"
            ],
            [
             0.7,
             "#b8e186"
            ],
            [
             0.8,
             "#7fbc41"
            ],
            [
             0.9,
             "#4d9221"
            ],
            [
             1,
             "#276419"
            ]
           ],
           "sequential": [
            [
             0,
             "#0d0887"
            ],
            [
             0.1111111111111111,
             "#46039f"
            ],
            [
             0.2222222222222222,
             "#7201a8"
            ],
            [
             0.3333333333333333,
             "#9c179e"
            ],
            [
             0.4444444444444444,
             "#bd3786"
            ],
            [
             0.5555555555555556,
             "#d8576b"
            ],
            [
             0.6666666666666666,
             "#ed7953"
            ],
            [
             0.7777777777777778,
             "#fb9f3a"
            ],
            [
             0.8888888888888888,
             "#fdca26"
            ],
            [
             1,
             "#f0f921"
            ]
           ],
           "sequentialminus": [
            [
             0,
             "#0d0887"
            ],
            [
             0.1111111111111111,
             "#46039f"
            ],
            [
             0.2222222222222222,
             "#7201a8"
            ],
            [
             0.3333333333333333,
             "#9c179e"
            ],
            [
             0.4444444444444444,
             "#bd3786"
            ],
            [
             0.5555555555555556,
             "#d8576b"
            ],
            [
             0.6666666666666666,
             "#ed7953"
            ],
            [
             0.7777777777777778,
             "#fb9f3a"
            ],
            [
             0.8888888888888888,
             "#fdca26"
            ],
            [
             1,
             "#f0f921"
            ]
           ]
          },
          "colorway": [
           "#636efa",
           "#EF553B",
           "#00cc96",
           "#ab63fa",
           "#FFA15A",
           "#19d3f3",
           "#FF6692",
           "#B6E880",
           "#FF97FF",
           "#FECB52"
          ],
          "font": {
           "color": "#2a3f5f"
          },
          "geo": {
           "bgcolor": "white",
           "lakecolor": "white",
           "landcolor": "#E5ECF6",
           "showlakes": true,
           "showland": true,
           "subunitcolor": "white"
          },
          "hoverlabel": {
           "align": "left"
          },
          "hovermode": "closest",
          "mapbox": {
           "style": "light"
          },
          "paper_bgcolor": "white",
          "plot_bgcolor": "#E5ECF6",
          "polar": {
           "angularaxis": {
            "gridcolor": "white",
            "linecolor": "white",
            "ticks": ""
           },
           "bgcolor": "#E5ECF6",
           "radialaxis": {
            "gridcolor": "white",
            "linecolor": "white",
            "ticks": ""
           }
          },
          "scene": {
           "xaxis": {
            "backgroundcolor": "#E5ECF6",
            "gridcolor": "white",
            "gridwidth": 2,
            "linecolor": "white",
            "showbackground": true,
            "ticks": "",
            "zerolinecolor": "white"
           },
           "yaxis": {
            "backgroundcolor": "#E5ECF6",
            "gridcolor": "white",
            "gridwidth": 2,
            "linecolor": "white",
            "showbackground": true,
            "ticks": "",
            "zerolinecolor": "white"
           },
           "zaxis": {
            "backgroundcolor": "#E5ECF6",
            "gridcolor": "white",
            "gridwidth": 2,
            "linecolor": "white",
            "showbackground": true,
            "ticks": "",
            "zerolinecolor": "white"
           }
          },
          "shapedefaults": {
           "line": {
            "color": "#2a3f5f"
           }
          },
          "ternary": {
           "aaxis": {
            "gridcolor": "white",
            "linecolor": "white",
            "ticks": ""
           },
           "baxis": {
            "gridcolor": "white",
            "linecolor": "white",
            "ticks": ""
           },
           "bgcolor": "#E5ECF6",
           "caxis": {
            "gridcolor": "white",
            "linecolor": "white",
            "ticks": ""
           }
          },
          "title": {
           "x": 0.05
          },
          "xaxis": {
           "automargin": true,
           "gridcolor": "white",
           "linecolor": "white",
           "ticks": "",
           "title": {
            "standoff": 15
           },
           "zerolinecolor": "white",
           "zerolinewidth": 2
          },
          "yaxis": {
           "automargin": true,
           "gridcolor": "white",
           "linecolor": "white",
           "ticks": "",
           "title": {
            "standoff": 15
           },
           "zerolinecolor": "white",
           "zerolinewidth": 2
          }
         }
        },
        "title": {
         "text": "Median Home Values by Subdivision (2023)"
        },
        "width": 1200
       }
      }
     },
     "metadata": {},
     "output_type": "display_data"
    }
   ],
   "source": [
    "import pandas as pd\n",
    "import plotly.express as px\n",
    "\n",
    "# Load the cleaned dataset\n",
    "file_path = \"Final.csv\"  \n",
    "df_cleaned = pd.read_csv(file_path)\n",
    "\n",
    "# Ensure \"Year\" is numeric\n",
    "df_cleaned[\"Year\"] = pd.to_numeric(df_cleaned[\"Year\"], errors=\"coerce\")\n",
    "\n",
    "# Get the latest available year\n",
    "latest_year = df_cleaned[\"Year\"].max()\n",
    "\n",
    "# Filter data for the latest year and remove rows with missing lat/lon values\n",
    "df_latest = df_cleaned[df_cleaned[\"Year\"] == latest_year].dropna(subset=[\"Latitude\", \"Longitude\"])\n",
    "\n",
    "# Create an interactive scatter map with custom color scale\n",
    "fig = px.scatter_mapbox(\n",
    "    df_latest,\n",
    "    lat='Latitude',\n",
    "    lon='Longitude',\n",
    "    size=\"Median Home Value\",\n",
    "    color=\"Median Home Value\",\n",
    "    hover_name=\"County Subdivision\",  # FIXED COLUMN NAME\n",
    "    hover_data=[\"County\", \"Median Home Value\", \"Year\"],\n",
    "    mapbox_style=\"carto-positron\",\n",
    "    color_continuous_scale=[\"green\", \"yellow\", \"red\"],  # Custom color scale\n",
    "    title=f\"Median Home Values by Subdivision ({latest_year})\"\n",
    ")\n",
    "\n",
    "# Increase figure size\n",
    "fig.update_layout(\n",
    "    autosize=True,\n",
    "    width=1200,\n",
    "    height=800\n",
    ")\n",
    "\n",
    "# Show the interactive map\n",
    "fig.show()\n"
   ]
  },
  {
   "cell_type": "code",
   "execution_count": 38,
   "metadata": {},
   "outputs": [
    {
     "data": {
      "application/vnd.plotly.v1+json": {
       "config": {
        "plotlyServerURL": "https://plot.ly"
       },
       "data": [
        {
         "customdata": [
          [
           "Clackamas",
           660600,
           2023
          ],
          [
           "Washington",
           556000,
           2023
          ],
          [
           "Clackamas",
           484700,
           2023
          ],
          [
           "Washington",
           645300,
           2023
          ],
          [
           "Washington",
           550200,
           2023
          ],
          [
           "Clackamas",
           555400,
           2023
          ],
          [
           "Multnomah",
           654100,
           2023
          ],
          [
           "Clackamas",
           572400,
           2023
          ],
          [
           "Washington",
           457200,
           2023
          ],
          [
           "Multnomah",
           438300,
           2023
          ],
          [
           "Clackamas",
           438300,
           2023
          ],
          [
           "Clackamas",
           473300,
           2023
          ],
          [
           "Clackamas",
           650000,
           2023
          ],
          [
           "Washington",
           645200,
           2023
          ],
          [
           "Clackamas",
           593600,
           2023
          ],
          [
           "Multnomah",
           525000,
           2023
          ],
          [
           "Multnomah",
           694000,
           2023
          ],
          [
           "Clackamas",
           660800,
           2023
          ],
          [
           "Washington",
           614800,
           2023
          ],
          [
           "Clackamas",
           488200,
           2023
          ],
          [
           "Multnomah",
           780100,
           2023
          ],
          [
           "Clackamas",
           605600,
           2023
          ],
          [
           "Clackamas",
           719800,
           2023
          ]
         ],
         "hovertemplate": "<b>%{hovertext}</b><br><br>Year=%{customdata[2]}<br>Median Home Value=%{marker.color}<br>Latitude=%{lat}<br>Longitude=%{lon}<br>County=%{customdata[0]}<extra></extra>",
         "hovertext": [
          "Beavercreek CCD, Clackamas County, Oregon",
          "Beaverton-Hillsboro CCD, Washington County, Oregon",
          "Canby CCD, Clackamas County, Oregon",
          "Chehalem Mountains CCD, Washington County, Oregon",
          "Coast Range CCD, Washington County, Oregon",
          "Colton CCD, Clackamas County, Oregon",
          "Corbett CCD, Multnomah County, Oregon",
          "Estacada CCD, Clackamas County, Oregon",
          "Forest Grove-Cornelius CCD, Washington County, Oregon",
          "Gresham CCD, Multnomah County, Oregon",
          "Molalla CCD, Clackamas County, Oregon",
          "Mount Hood CCD, Clackamas County, Oregon",
          "Mulino CCD, Clackamas County, Oregon",
          "North Plains CCD, Washington County, Oregon",
          "Northwest Clackamas CCD, Clackamas County, Oregon",
          "Portland East CCD, Multnomah County, Oregon",
          "Portland West CCD, Multnomah County, Oregon",
          "Redland CCD, Clackamas County, Oregon",
          "Rockcreek CCD, Washington County, Oregon",
          "Sandy CCD, Clackamas County, Oregon",
          "Skyline CCD, Multnomah County, Oregon",
          "Wilsonville CCD, Clackamas County, Oregon",
          "Yoder CCD, Clackamas County, Oregon"
         ],
         "lat": [
          45.2879294,
          45.5226664,
          45.262692,
          45.3278962,
          45.5469616,
          45.1721192,
          45.5318,
          45.2877198,
          45.5195,
          45.5044715,
          45.1475439,
          45.2023855,
          45.2212415,
          45.59778499999999,
          45.4074434,
          45.5165442,
          45.4548406,
          45.3434553,
          45.5510497,
          45.3973141,
          45.5145659,
          45.3029344,
          45.1381769
         ],
         "legendgroup": "",
         "lon": [
          -122.5353423,
          -122.9898071,
          -122.6957402,
          -122.88871,
          -123.1386021,
          -122.4374803,
          -122.2912,
          -122.3351638,
          -123.1053,
          -122.4356657,
          -122.5771264,
          -122.1188945,
          -122.5816606,
          -123.0008365,
          -122.5688975,
          -122.6626984,
          -122.7325965,
          -122.4928664,
          -122.8741537,
          -122.2630704,
          -122.5863212,
          -122.7726687,
          -122.6817567
         ],
         "marker": {
          "color": [
           660600,
           556000,
           484700,
           645300,
           550200,
           555400,
           654100,
           572400,
           457200,
           438300,
           438300,
           473300,
           650000,
           645200,
           593600,
           525000,
           694000,
           660800,
           614800,
           488200,
           780100,
           605600,
           719800
          ],
          "coloraxis": "coloraxis",
          "size": [
           660600,
           556000,
           484700,
           645300,
           550200,
           555400,
           654100,
           572400,
           457200,
           438300,
           438300,
           473300,
           650000,
           645200,
           593600,
           525000,
           694000,
           660800,
           614800,
           488200,
           780100,
           605600,
           719800
          ],
          "sizemode": "area",
          "sizeref": 1950.25
         },
         "mode": "markers",
         "name": "",
         "showlegend": false,
         "subplot": "mapbox",
         "type": "scattermapbox"
        }
       ],
       "frames": [
        {
         "data": [
          {
           "customdata": [
            [
             "Clackamas",
             660600,
             2023
            ],
            [
             "Washington",
             556000,
             2023
            ],
            [
             "Clackamas",
             484700,
             2023
            ],
            [
             "Washington",
             645300,
             2023
            ],
            [
             "Washington",
             550200,
             2023
            ],
            [
             "Clackamas",
             555400,
             2023
            ],
            [
             "Multnomah",
             654100,
             2023
            ],
            [
             "Clackamas",
             572400,
             2023
            ],
            [
             "Washington",
             457200,
             2023
            ],
            [
             "Multnomah",
             438300,
             2023
            ],
            [
             "Clackamas",
             438300,
             2023
            ],
            [
             "Clackamas",
             473300,
             2023
            ],
            [
             "Clackamas",
             650000,
             2023
            ],
            [
             "Washington",
             645200,
             2023
            ],
            [
             "Clackamas",
             593600,
             2023
            ],
            [
             "Multnomah",
             525000,
             2023
            ],
            [
             "Multnomah",
             694000,
             2023
            ],
            [
             "Clackamas",
             660800,
             2023
            ],
            [
             "Washington",
             614800,
             2023
            ],
            [
             "Clackamas",
             488200,
             2023
            ],
            [
             "Multnomah",
             780100,
             2023
            ],
            [
             "Clackamas",
             605600,
             2023
            ],
            [
             "Clackamas",
             719800,
             2023
            ]
           ],
           "hovertemplate": "<b>%{hovertext}</b><br><br>Year=%{customdata[2]}<br>Median Home Value=%{marker.color}<br>Latitude=%{lat}<br>Longitude=%{lon}<br>County=%{customdata[0]}<extra></extra>",
           "hovertext": [
            "Beavercreek CCD, Clackamas County, Oregon",
            "Beaverton-Hillsboro CCD, Washington County, Oregon",
            "Canby CCD, Clackamas County, Oregon",
            "Chehalem Mountains CCD, Washington County, Oregon",
            "Coast Range CCD, Washington County, Oregon",
            "Colton CCD, Clackamas County, Oregon",
            "Corbett CCD, Multnomah County, Oregon",
            "Estacada CCD, Clackamas County, Oregon",
            "Forest Grove-Cornelius CCD, Washington County, Oregon",
            "Gresham CCD, Multnomah County, Oregon",
            "Molalla CCD, Clackamas County, Oregon",
            "Mount Hood CCD, Clackamas County, Oregon",
            "Mulino CCD, Clackamas County, Oregon",
            "North Plains CCD, Washington County, Oregon",
            "Northwest Clackamas CCD, Clackamas County, Oregon",
            "Portland East CCD, Multnomah County, Oregon",
            "Portland West CCD, Multnomah County, Oregon",
            "Redland CCD, Clackamas County, Oregon",
            "Rockcreek CCD, Washington County, Oregon",
            "Sandy CCD, Clackamas County, Oregon",
            "Skyline CCD, Multnomah County, Oregon",
            "Wilsonville CCD, Clackamas County, Oregon",
            "Yoder CCD, Clackamas County, Oregon"
           ],
           "lat": [
            45.2879294,
            45.5226664,
            45.262692,
            45.3278962,
            45.5469616,
            45.1721192,
            45.5318,
            45.2877198,
            45.5195,
            45.5044715,
            45.1475439,
            45.2023855,
            45.2212415,
            45.59778499999999,
            45.4074434,
            45.5165442,
            45.4548406,
            45.3434553,
            45.5510497,
            45.3973141,
            45.5145659,
            45.3029344,
            45.1381769
           ],
           "legendgroup": "",
           "lon": [
            -122.5353423,
            -122.9898071,
            -122.6957402,
            -122.88871,
            -123.1386021,
            -122.4374803,
            -122.2912,
            -122.3351638,
            -123.1053,
            -122.4356657,
            -122.5771264,
            -122.1188945,
            -122.5816606,
            -123.0008365,
            -122.5688975,
            -122.6626984,
            -122.7325965,
            -122.4928664,
            -122.8741537,
            -122.2630704,
            -122.5863212,
            -122.7726687,
            -122.6817567
           ],
           "marker": {
            "color": [
             660600,
             556000,
             484700,
             645300,
             550200,
             555400,
             654100,
             572400,
             457200,
             438300,
             438300,
             473300,
             650000,
             645200,
             593600,
             525000,
             694000,
             660800,
             614800,
             488200,
             780100,
             605600,
             719800
            ],
            "coloraxis": "coloraxis",
            "size": [
             660600,
             556000,
             484700,
             645300,
             550200,
             555400,
             654100,
             572400,
             457200,
             438300,
             438300,
             473300,
             650000,
             645200,
             593600,
             525000,
             694000,
             660800,
             614800,
             488200,
             780100,
             605600,
             719800
            ],
            "sizemode": "area",
            "sizeref": 1950.25
           },
           "mode": "markers",
           "name": "",
           "showlegend": false,
           "subplot": "mapbox",
           "type": "scattermapbox"
          }
         ],
         "name": "2023"
        },
        {
         "data": [
          {
           "customdata": [
            [
             "Clackamas",
             644600,
             2022
            ],
            [
             "Washington",
             501200,
             2022
            ],
            [
             "Clackamas",
             455000,
             2022
            ],
            [
             "Washington",
             660500,
             2022
            ],
            [
             "Washington",
             507000,
             2022
            ],
            [
             "Clackamas",
             493300,
             2022
            ],
            [
             "Multnomah",
             609400,
             2022
            ],
            [
             "Clackamas",
             511800,
             2022
            ],
            [
             "Washington",
             429100,
             2022
            ],
            [
             "Multnomah",
             410900,
             2022
            ],
            [
             "Clackamas",
             405600,
             2022
            ],
            [
             "Clackamas",
             468900,
             2022
            ],
            [
             "Clackamas",
             620200,
             2022
            ],
            [
             "Washington",
             614700,
             2022
            ],
            [
             "Clackamas",
             546200,
             2022
            ],
            [
             "Multnomah",
             491300,
             2022
            ],
            [
             "Multnomah",
             663000,
             2022
            ],
            [
             "Clackamas",
             619100,
             2022
            ],
            [
             "Washington",
             573700,
             2022
            ],
            [
             "Clackamas",
             473900,
             2022
            ],
            [
             "Multnomah",
             747100,
             2022
            ],
            [
             "Clackamas",
             579200,
             2022
            ],
            [
             "Clackamas",
             673600,
             2022
            ]
           ],
           "hovertemplate": "<b>%{hovertext}</b><br><br>Year=%{customdata[2]}<br>Median Home Value=%{marker.color}<br>Latitude=%{lat}<br>Longitude=%{lon}<br>County=%{customdata[0]}<extra></extra>",
           "hovertext": [
            "Beavercreek CCD, Clackamas County, Oregon",
            "Beaverton-Hillsboro CCD, Washington County, Oregon",
            "Canby CCD, Clackamas County, Oregon",
            "Chehalem Mountains CCD, Washington County, Oregon",
            "Coast Range CCD, Washington County, Oregon",
            "Colton CCD, Clackamas County, Oregon",
            "Corbett CCD, Multnomah County, Oregon",
            "Estacada CCD, Clackamas County, Oregon",
            "Forest Grove-Cornelius CCD, Washington County, Oregon",
            "Gresham CCD, Multnomah County, Oregon",
            "Molalla CCD, Clackamas County, Oregon",
            "Mount Hood CCD, Clackamas County, Oregon",
            "Mulino CCD, Clackamas County, Oregon",
            "North Plains CCD, Washington County, Oregon",
            "Northwest Clackamas CCD, Clackamas County, Oregon",
            "Portland East CCD, Multnomah County, Oregon",
            "Portland West CCD, Multnomah County, Oregon",
            "Redland CCD, Clackamas County, Oregon",
            "Rockcreek CCD, Washington County, Oregon",
            "Sandy CCD, Clackamas County, Oregon",
            "Skyline CCD, Multnomah County, Oregon",
            "Wilsonville CCD, Clackamas County, Oregon",
            "Yoder CCD, Clackamas County, Oregon"
           ],
           "lat": [
            45.2879294,
            45.5226664,
            45.262692,
            45.3278962,
            45.5469616,
            45.1721192,
            45.5318,
            45.2877198,
            45.5195,
            45.5044715,
            45.1475439,
            45.2023855,
            45.2212415,
            45.59778499999999,
            45.4074434,
            45.5165442,
            45.4548406,
            45.3434553,
            45.5510497,
            45.3973141,
            45.5145659,
            45.3029344,
            45.1381769
           ],
           "legendgroup": "",
           "lon": [
            -122.5353423,
            -122.9898071,
            -122.6957402,
            -122.88871,
            -123.1386021,
            -122.4374803,
            -122.2912,
            -122.3351638,
            -123.1053,
            -122.4356657,
            -122.5771264,
            -122.1188945,
            -122.5816606,
            -123.0008365,
            -122.5688975,
            -122.6626984,
            -122.7325965,
            -122.4928664,
            -122.8741537,
            -122.2630704,
            -122.5863212,
            -122.7726687,
            -122.6817567
           ],
           "marker": {
            "color": [
             644600,
             501200,
             455000,
             660500,
             507000,
             493300,
             609400,
             511800,
             429100,
             410900,
             405600,
             468900,
             620200,
             614700,
             546200,
             491300,
             663000,
             619100,
             573700,
             473900,
             747100,
             579200,
             673600
            ],
            "coloraxis": "coloraxis",
            "size": [
             644600,
             501200,
             455000,
             660500,
             507000,
             493300,
             609400,
             511800,
             429100,
             410900,
             405600,
             468900,
             620200,
             614700,
             546200,
             491300,
             663000,
             619100,
             573700,
             473900,
             747100,
             579200,
             673600
            ],
            "sizemode": "area",
            "sizeref": 1950.25
           },
           "mode": "markers",
           "name": "",
           "showlegend": false,
           "subplot": "mapbox",
           "type": "scattermapbox"
          }
         ],
         "name": "2022"
        },
        {
         "data": [
          {
           "customdata": [
            [
             "Clackamas",
             522900,
             2021
            ],
            [
             "Washington",
             436300,
             2021
            ],
            [
             "Clackamas",
             390600,
             2021
            ],
            [
             "Washington",
             549600,
             2021
            ],
            [
             "Washington",
             455700,
             2021
            ],
            [
             "Clackamas",
             440700,
             2021
            ],
            [
             "Multnomah",
             496400,
             2021
            ],
            [
             "Clackamas",
             431200,
             2021
            ],
            [
             "Washington",
             366600,
             2021
            ],
            [
             "Multnomah",
             348600,
             2021
            ],
            [
             "Clackamas",
             350100,
             2021
            ],
            [
             "Clackamas",
             389100,
             2021
            ],
            [
             "Clackamas",
             528700,
             2021
            ],
            [
             "Washington",
             497400,
             2021
            ],
            [
             "Clackamas",
             462700,
             2021
            ],
            [
             "Multnomah",
             437900,
             2021
            ],
            [
             "Multnomah",
             604000,
             2021
            ],
            [
             "Clackamas",
             507200,
             2021
            ],
            [
             "Washington",
             488800,
             2021
            ],
            [
             "Clackamas",
             385100,
             2021
            ],
            [
             "Multnomah",
             705300,
             2021
            ],
            [
             "Clackamas",
             486500,
             2021
            ],
            [
             "Clackamas",
             560200,
             2021
            ]
           ],
           "hovertemplate": "<b>%{hovertext}</b><br><br>Year=%{customdata[2]}<br>Median Home Value=%{marker.color}<br>Latitude=%{lat}<br>Longitude=%{lon}<br>County=%{customdata[0]}<extra></extra>",
           "hovertext": [
            "Beavercreek CCD, Clackamas County, Oregon",
            "Beaverton-Hillsboro CCD, Washington County, Oregon",
            "Canby CCD, Clackamas County, Oregon",
            "Chehalem Mountains CCD, Washington County, Oregon",
            "Coast Range CCD, Washington County, Oregon",
            "Colton CCD, Clackamas County, Oregon",
            "Corbett CCD, Multnomah County, Oregon",
            "Estacada CCD, Clackamas County, Oregon",
            "Forest Grove-Cornelius CCD, Washington County, Oregon",
            "Gresham CCD, Multnomah County, Oregon",
            "Molalla CCD, Clackamas County, Oregon",
            "Mount Hood CCD, Clackamas County, Oregon",
            "Mulino CCD, Clackamas County, Oregon",
            "North Plains CCD, Washington County, Oregon",
            "Northwest Clackamas CCD, Clackamas County, Oregon",
            "Portland East CCD, Multnomah County, Oregon",
            "Portland West CCD, Multnomah County, Oregon",
            "Redland CCD, Clackamas County, Oregon",
            "Rockcreek CCD, Washington County, Oregon",
            "Sandy CCD, Clackamas County, Oregon",
            "Skyline CCD, Multnomah County, Oregon",
            "Wilsonville CCD, Clackamas County, Oregon",
            "Yoder CCD, Clackamas County, Oregon"
           ],
           "lat": [
            45.2879294,
            45.5226664,
            45.262692,
            45.3278962,
            45.5469616,
            45.1721192,
            45.5318,
            45.2877198,
            45.5195,
            45.5044715,
            45.1475439,
            45.2023855,
            45.2212415,
            45.59778499999999,
            45.4074434,
            45.5165442,
            45.4548406,
            45.3434553,
            45.5510497,
            45.3973141,
            45.5145659,
            45.3029344,
            45.1381769
           ],
           "legendgroup": "",
           "lon": [
            -122.5353423,
            -122.9898071,
            -122.6957402,
            -122.88871,
            -123.1386021,
            -122.4374803,
            -122.2912,
            -122.3351638,
            -123.1053,
            -122.4356657,
            -122.5771264,
            -122.1188945,
            -122.5816606,
            -123.0008365,
            -122.5688975,
            -122.6626984,
            -122.7325965,
            -122.4928664,
            -122.8741537,
            -122.2630704,
            -122.5863212,
            -122.7726687,
            -122.6817567
           ],
           "marker": {
            "color": [
             522900,
             436300,
             390600,
             549600,
             455700,
             440700,
             496400,
             431200,
             366600,
             348600,
             350100,
             389100,
             528700,
             497400,
             462700,
             437900,
             604000,
             507200,
             488800,
             385100,
             705300,
             486500,
             560200
            ],
            "coloraxis": "coloraxis",
            "size": [
             522900,
             436300,
             390600,
             549600,
             455700,
             440700,
             496400,
             431200,
             366600,
             348600,
             350100,
             389100,
             528700,
             497400,
             462700,
             437900,
             604000,
             507200,
             488800,
             385100,
             705300,
             486500,
             560200
            ],
            "sizemode": "area",
            "sizeref": 1950.25
           },
           "mode": "markers",
           "name": "",
           "showlegend": false,
           "subplot": "mapbox",
           "type": "scattermapbox"
          }
         ],
         "name": "2021"
        },
        {
         "data": [
          {
           "customdata": [
            [
             "Clackamas",
             501200,
             2020
            ],
            [
             "Washington",
             410900,
             2020
            ],
            [
             "Clackamas",
             365500,
             2020
            ],
            [
             "Washington",
             495800,
             2020
            ],
            [
             "Washington",
             453800,
             2020
            ],
            [
             "Clackamas",
             391500,
             2020
            ],
            [
             "Multnomah",
             461700,
             2020
            ],
            [
             "Clackamas",
             392700,
             2020
            ],
            [
             "Washington",
             339100,
             2020
            ],
            [
             "Multnomah",
             324300,
             2020
            ],
            [
             "Clackamas",
             335100,
             2020
            ],
            [
             "Clackamas",
             367100,
             2020
            ],
            [
             "Clackamas",
             478200,
             2020
            ],
            [
             "Washington",
             459600,
             2020
            ],
            [
             "Clackamas",
             430600,
             2020
            ],
            [
             "Multnomah",
             410200,
             2020
            ],
            [
             "Multnomah",
             586300,
             2020
            ],
            [
             "Clackamas",
             475600,
             2020
            ],
            [
             "Washington",
             463700,
             2020
            ],
            [
             "Clackamas",
             364700,
             2020
            ],
            [
             "Multnomah",
             668000,
             2020
            ],
            [
             "Clackamas",
             467600,
             2020
            ],
            [
             "Clackamas",
             517400,
             2020
            ]
           ],
           "hovertemplate": "<b>%{hovertext}</b><br><br>Year=%{customdata[2]}<br>Median Home Value=%{marker.color}<br>Latitude=%{lat}<br>Longitude=%{lon}<br>County=%{customdata[0]}<extra></extra>",
           "hovertext": [
            "Beavercreek CCD, Clackamas County, Oregon",
            "Beaverton-Hillsboro CCD, Washington County, Oregon",
            "Canby CCD, Clackamas County, Oregon",
            "Chehalem Mountains CCD, Washington County, Oregon",
            "Coast Range CCD, Washington County, Oregon",
            "Colton CCD, Clackamas County, Oregon",
            "Corbett CCD, Multnomah County, Oregon",
            "Estacada CCD, Clackamas County, Oregon",
            "Forest Grove-Cornelius CCD, Washington County, Oregon",
            "Gresham CCD, Multnomah County, Oregon",
            "Molalla CCD, Clackamas County, Oregon",
            "Mount Hood CCD, Clackamas County, Oregon",
            "Mulino CCD, Clackamas County, Oregon",
            "North Plains CCD, Washington County, Oregon",
            "Northwest Clackamas CCD, Clackamas County, Oregon",
            "Portland East CCD, Multnomah County, Oregon",
            "Portland West CCD, Multnomah County, Oregon",
            "Redland CCD, Clackamas County, Oregon",
            "Rockcreek CCD, Washington County, Oregon",
            "Sandy CCD, Clackamas County, Oregon",
            "Skyline CCD, Multnomah County, Oregon",
            "Wilsonville CCD, Clackamas County, Oregon",
            "Yoder CCD, Clackamas County, Oregon"
           ],
           "lat": [
            45.2879294,
            45.5226664,
            45.262692,
            45.3278962,
            45.5469616,
            45.1721192,
            45.5318,
            45.2877198,
            45.5195,
            45.5044715,
            45.1475439,
            45.2023855,
            45.2212415,
            45.59778499999999,
            45.4074434,
            45.5165442,
            45.4548406,
            45.3434553,
            45.5510497,
            45.3973141,
            45.5145659,
            45.3029344,
            45.1381769
           ],
           "legendgroup": "",
           "lon": [
            -122.5353423,
            -122.9898071,
            -122.6957402,
            -122.88871,
            -123.1386021,
            -122.4374803,
            -122.2912,
            -122.3351638,
            -123.1053,
            -122.4356657,
            -122.5771264,
            -122.1188945,
            -122.5816606,
            -123.0008365,
            -122.5688975,
            -122.6626984,
            -122.7325965,
            -122.4928664,
            -122.8741537,
            -122.2630704,
            -122.5863212,
            -122.7726687,
            -122.6817567
           ],
           "marker": {
            "color": [
             501200,
             410900,
             365500,
             495800,
             453800,
             391500,
             461700,
             392700,
             339100,
             324300,
             335100,
             367100,
             478200,
             459600,
             430600,
             410200,
             586300,
             475600,
             463700,
             364700,
             668000,
             467600,
             517400
            ],
            "coloraxis": "coloraxis",
            "size": [
             501200,
             410900,
             365500,
             495800,
             453800,
             391500,
             461700,
             392700,
             339100,
             324300,
             335100,
             367100,
             478200,
             459600,
             430600,
             410200,
             586300,
             475600,
             463700,
             364700,
             668000,
             467600,
             517400
            ],
            "sizemode": "area",
            "sizeref": 1950.25
           },
           "mode": "markers",
           "name": "",
           "showlegend": false,
           "subplot": "mapbox",
           "type": "scattermapbox"
          }
         ],
         "name": "2020"
        },
        {
         "data": [
          {
           "customdata": [
            [
             "Clackamas",
             468400,
             2019
            ],
            [
             "Washington",
             384400,
             2019
            ],
            [
             "Clackamas",
             334100,
             2019
            ],
            [
             "Washington",
             478000,
             2019
            ],
            [
             "Washington",
             433800,
             2019
            ],
            [
             "Clackamas",
             347400,
             2019
            ],
            [
             "Multnomah",
             422500,
             2019
            ],
            [
             "Clackamas",
             368800,
             2019
            ],
            [
             "Washington",
             304400,
             2019
            ],
            [
             "Multnomah",
             294300,
             2019
            ],
            [
             "Clackamas",
             299200,
             2019
            ],
            [
             "Clackamas",
             371200,
             2019
            ],
            [
             "Clackamas",
             429300,
             2019
            ],
            [
             "Washington",
             433400,
             2019
            ],
            [
             "Clackamas",
             402200,
             2019
            ],
            [
             "Multnomah",
             383900,
             2019
            ],
            [
             "Multnomah",
             557100,
             2019
            ],
            [
             "Clackamas",
             480300,
             2019
            ],
            [
             "Washington",
             441200,
             2019
            ],
            [
             "Clackamas",
             348300,
             2019
            ],
            [
             "Multnomah",
             592000,
             2019
            ],
            [
             "Clackamas",
             456100,
             2019
            ],
            [
             "Clackamas",
             495400,
             2019
            ]
           ],
           "hovertemplate": "<b>%{hovertext}</b><br><br>Year=%{customdata[2]}<br>Median Home Value=%{marker.color}<br>Latitude=%{lat}<br>Longitude=%{lon}<br>County=%{customdata[0]}<extra></extra>",
           "hovertext": [
            "Beavercreek CCD, Clackamas County, Oregon",
            "Beaverton-Hillsboro CCD, Washington County, Oregon",
            "Canby CCD, Clackamas County, Oregon",
            "Chehalem Mountains CCD, Washington County, Oregon",
            "Coast Range CCD, Washington County, Oregon",
            "Colton CCD, Clackamas County, Oregon",
            "Corbett CCD, Multnomah County, Oregon",
            "Estacada CCD, Clackamas County, Oregon",
            "Forest Grove-Cornelius CCD, Washington County, Oregon",
            "Gresham CCD, Multnomah County, Oregon",
            "Molalla CCD, Clackamas County, Oregon",
            "Mount Hood CCD, Clackamas County, Oregon",
            "Mulino CCD, Clackamas County, Oregon",
            "North Plains CCD, Washington County, Oregon",
            "Northwest Clackamas CCD, Clackamas County, Oregon",
            "Portland East CCD, Multnomah County, Oregon",
            "Portland West CCD, Multnomah County, Oregon",
            "Redland CCD, Clackamas County, Oregon",
            "Rockcreek CCD, Washington County, Oregon",
            "Sandy CCD, Clackamas County, Oregon",
            "Skyline CCD, Multnomah County, Oregon",
            "Wilsonville CCD, Clackamas County, Oregon",
            "Yoder CCD, Clackamas County, Oregon"
           ],
           "lat": [
            45.2879294,
            45.5226664,
            45.262692,
            45.3278962,
            45.5469616,
            45.1721192,
            45.5318,
            45.2877198,
            45.5195,
            45.5044715,
            45.1475439,
            45.2023855,
            45.2212415,
            45.59778499999999,
            45.4074434,
            45.5165442,
            45.4548406,
            45.3434553,
            45.5510497,
            45.3973141,
            45.5145659,
            45.3029344,
            45.1381769
           ],
           "legendgroup": "",
           "lon": [
            -122.5353423,
            -122.9898071,
            -122.6957402,
            -122.88871,
            -123.1386021,
            -122.4374803,
            -122.2912,
            -122.3351638,
            -123.1053,
            -122.4356657,
            -122.5771264,
            -122.1188945,
            -122.5816606,
            -123.0008365,
            -122.5688975,
            -122.6626984,
            -122.7325965,
            -122.4928664,
            -122.8741537,
            -122.2630704,
            -122.5863212,
            -122.7726687,
            -122.6817567
           ],
           "marker": {
            "color": [
             468400,
             384400,
             334100,
             478000,
             433800,
             347400,
             422500,
             368800,
             304400,
             294300,
             299200,
             371200,
             429300,
             433400,
             402200,
             383900,
             557100,
             480300,
             441200,
             348300,
             592000,
             456100,
             495400
            ],
            "coloraxis": "coloraxis",
            "size": [
             468400,
             384400,
             334100,
             478000,
             433800,
             347400,
             422500,
             368800,
             304400,
             294300,
             299200,
             371200,
             429300,
             433400,
             402200,
             383900,
             557100,
             480300,
             441200,
             348300,
             592000,
             456100,
             495400
            ],
            "sizemode": "area",
            "sizeref": 1950.25
           },
           "mode": "markers",
           "name": "",
           "showlegend": false,
           "subplot": "mapbox",
           "type": "scattermapbox"
          }
         ],
         "name": "2019"
        }
       ],
       "layout": {
        "autosize": true,
        "coloraxis": {
         "colorbar": {
          "title": {
           "text": "Median Home Value"
          }
         },
         "colorscale": [
          [
           0,
           "green"
          ],
          [
           0.5,
           "yellow"
          ],
          [
           1,
           "red"
          ]
         ]
        },
        "height": 800,
        "legend": {
         "itemsizing": "constant",
         "tracegroupgap": 0
        },
        "mapbox": {
         "center": {
          "lat": 45.380827673913046,
          "lon": -122.64202430434783
         },
         "domain": {
          "x": [
           0,
           1
          ],
          "y": [
           0,
           1
          ]
         },
         "style": "carto-positron",
         "zoom": 8
        },
        "sliders": [
         {
          "active": 0,
          "currentvalue": {
           "prefix": "Year="
          },
          "len": 0.9,
          "pad": {
           "b": 10,
           "t": 60
          },
          "steps": [
           {
            "args": [
             [
              "2023"
             ],
             {
              "frame": {
               "duration": 0,
               "redraw": true
              },
              "fromcurrent": true,
              "mode": "immediate",
              "transition": {
               "duration": 0,
               "easing": "linear"
              }
             }
            ],
            "label": "2023",
            "method": "animate"
           },
           {
            "args": [
             [
              "2022"
             ],
             {
              "frame": {
               "duration": 0,
               "redraw": true
              },
              "fromcurrent": true,
              "mode": "immediate",
              "transition": {
               "duration": 0,
               "easing": "linear"
              }
             }
            ],
            "label": "2022",
            "method": "animate"
           },
           {
            "args": [
             [
              "2021"
             ],
             {
              "frame": {
               "duration": 0,
               "redraw": true
              },
              "fromcurrent": true,
              "mode": "immediate",
              "transition": {
               "duration": 0,
               "easing": "linear"
              }
             }
            ],
            "label": "2021",
            "method": "animate"
           },
           {
            "args": [
             [
              "2020"
             ],
             {
              "frame": {
               "duration": 0,
               "redraw": true
              },
              "fromcurrent": true,
              "mode": "immediate",
              "transition": {
               "duration": 0,
               "easing": "linear"
              }
             }
            ],
            "label": "2020",
            "method": "animate"
           },
           {
            "args": [
             [
              "2019"
             ],
             {
              "frame": {
               "duration": 0,
               "redraw": true
              },
              "fromcurrent": true,
              "mode": "immediate",
              "transition": {
               "duration": 0,
               "easing": "linear"
              }
             }
            ],
            "label": "2019",
            "method": "animate"
           }
          ],
          "x": 0.1,
          "xanchor": "left",
          "y": 0,
          "yanchor": "top"
         }
        ],
        "template": {
         "data": {
          "bar": [
           {
            "error_x": {
             "color": "#2a3f5f"
            },
            "error_y": {
             "color": "#2a3f5f"
            },
            "marker": {
             "line": {
              "color": "#E5ECF6",
              "width": 0.5
             },
             "pattern": {
              "fillmode": "overlay",
              "size": 10,
              "solidity": 0.2
             }
            },
            "type": "bar"
           }
          ],
          "barpolar": [
           {
            "marker": {
             "line": {
              "color": "#E5ECF6",
              "width": 0.5
             },
             "pattern": {
              "fillmode": "overlay",
              "size": 10,
              "solidity": 0.2
             }
            },
            "type": "barpolar"
           }
          ],
          "carpet": [
           {
            "aaxis": {
             "endlinecolor": "#2a3f5f",
             "gridcolor": "white",
             "linecolor": "white",
             "minorgridcolor": "white",
             "startlinecolor": "#2a3f5f"
            },
            "baxis": {
             "endlinecolor": "#2a3f5f",
             "gridcolor": "white",
             "linecolor": "white",
             "minorgridcolor": "white",
             "startlinecolor": "#2a3f5f"
            },
            "type": "carpet"
           }
          ],
          "choropleth": [
           {
            "colorbar": {
             "outlinewidth": 0,
             "ticks": ""
            },
            "type": "choropleth"
           }
          ],
          "contour": [
           {
            "colorbar": {
             "outlinewidth": 0,
             "ticks": ""
            },
            "colorscale": [
             [
              0,
              "#0d0887"
             ],
             [
              0.1111111111111111,
              "#46039f"
             ],
             [
              0.2222222222222222,
              "#7201a8"
             ],
             [
              0.3333333333333333,
              "#9c179e"
             ],
             [
              0.4444444444444444,
              "#bd3786"
             ],
             [
              0.5555555555555556,
              "#d8576b"
             ],
             [
              0.6666666666666666,
              "#ed7953"
             ],
             [
              0.7777777777777778,
              "#fb9f3a"
             ],
             [
              0.8888888888888888,
              "#fdca26"
             ],
             [
              1,
              "#f0f921"
             ]
            ],
            "type": "contour"
           }
          ],
          "contourcarpet": [
           {
            "colorbar": {
             "outlinewidth": 0,
             "ticks": ""
            },
            "type": "contourcarpet"
           }
          ],
          "heatmap": [
           {
            "colorbar": {
             "outlinewidth": 0,
             "ticks": ""
            },
            "colorscale": [
             [
              0,
              "#0d0887"
             ],
             [
              0.1111111111111111,
              "#46039f"
             ],
             [
              0.2222222222222222,
              "#7201a8"
             ],
             [
              0.3333333333333333,
              "#9c179e"
             ],
             [
              0.4444444444444444,
              "#bd3786"
             ],
             [
              0.5555555555555556,
              "#d8576b"
             ],
             [
              0.6666666666666666,
              "#ed7953"
             ],
             [
              0.7777777777777778,
              "#fb9f3a"
             ],
             [
              0.8888888888888888,
              "#fdca26"
             ],
             [
              1,
              "#f0f921"
             ]
            ],
            "type": "heatmap"
           }
          ],
          "heatmapgl": [
           {
            "colorbar": {
             "outlinewidth": 0,
             "ticks": ""
            },
            "colorscale": [
             [
              0,
              "#0d0887"
             ],
             [
              0.1111111111111111,
              "#46039f"
             ],
             [
              0.2222222222222222,
              "#7201a8"
             ],
             [
              0.3333333333333333,
              "#9c179e"
             ],
             [
              0.4444444444444444,
              "#bd3786"
             ],
             [
              0.5555555555555556,
              "#d8576b"
             ],
             [
              0.6666666666666666,
              "#ed7953"
             ],
             [
              0.7777777777777778,
              "#fb9f3a"
             ],
             [
              0.8888888888888888,
              "#fdca26"
             ],
             [
              1,
              "#f0f921"
             ]
            ],
            "type": "heatmapgl"
           }
          ],
          "histogram": [
           {
            "marker": {
             "pattern": {
              "fillmode": "overlay",
              "size": 10,
              "solidity": 0.2
             }
            },
            "type": "histogram"
           }
          ],
          "histogram2d": [
           {
            "colorbar": {
             "outlinewidth": 0,
             "ticks": ""
            },
            "colorscale": [
             [
              0,
              "#0d0887"
             ],
             [
              0.1111111111111111,
              "#46039f"
             ],
             [
              0.2222222222222222,
              "#7201a8"
             ],
             [
              0.3333333333333333,
              "#9c179e"
             ],
             [
              0.4444444444444444,
              "#bd3786"
             ],
             [
              0.5555555555555556,
              "#d8576b"
             ],
             [
              0.6666666666666666,
              "#ed7953"
             ],
             [
              0.7777777777777778,
              "#fb9f3a"
             ],
             [
              0.8888888888888888,
              "#fdca26"
             ],
             [
              1,
              "#f0f921"
             ]
            ],
            "type": "histogram2d"
           }
          ],
          "histogram2dcontour": [
           {
            "colorbar": {
             "outlinewidth": 0,
             "ticks": ""
            },
            "colorscale": [
             [
              0,
              "#0d0887"
             ],
             [
              0.1111111111111111,
              "#46039f"
             ],
             [
              0.2222222222222222,
              "#7201a8"
             ],
             [
              0.3333333333333333,
              "#9c179e"
             ],
             [
              0.4444444444444444,
              "#bd3786"
             ],
             [
              0.5555555555555556,
              "#d8576b"
             ],
             [
              0.6666666666666666,
              "#ed7953"
             ],
             [
              0.7777777777777778,
              "#fb9f3a"
             ],
             [
              0.8888888888888888,
              "#fdca26"
             ],
             [
              1,
              "#f0f921"
             ]
            ],
            "type": "histogram2dcontour"
           }
          ],
          "mesh3d": [
           {
            "colorbar": {
             "outlinewidth": 0,
             "ticks": ""
            },
            "type": "mesh3d"
           }
          ],
          "parcoords": [
           {
            "line": {
             "colorbar": {
              "outlinewidth": 0,
              "ticks": ""
             }
            },
            "type": "parcoords"
           }
          ],
          "pie": [
           {
            "automargin": true,
            "type": "pie"
           }
          ],
          "scatter": [
           {
            "fillpattern": {
             "fillmode": "overlay",
             "size": 10,
             "solidity": 0.2
            },
            "type": "scatter"
           }
          ],
          "scatter3d": [
           {
            "line": {
             "colorbar": {
              "outlinewidth": 0,
              "ticks": ""
             }
            },
            "marker": {
             "colorbar": {
              "outlinewidth": 0,
              "ticks": ""
             }
            },
            "type": "scatter3d"
           }
          ],
          "scattercarpet": [
           {
            "marker": {
             "colorbar": {
              "outlinewidth": 0,
              "ticks": ""
             }
            },
            "type": "scattercarpet"
           }
          ],
          "scattergeo": [
           {
            "marker": {
             "colorbar": {
              "outlinewidth": 0,
              "ticks": ""
             }
            },
            "type": "scattergeo"
           }
          ],
          "scattergl": [
           {
            "marker": {
             "colorbar": {
              "outlinewidth": 0,
              "ticks": ""
             }
            },
            "type": "scattergl"
           }
          ],
          "scattermapbox": [
           {
            "marker": {
             "colorbar": {
              "outlinewidth": 0,
              "ticks": ""
             }
            },
            "type": "scattermapbox"
           }
          ],
          "scatterpolar": [
           {
            "marker": {
             "colorbar": {
              "outlinewidth": 0,
              "ticks": ""
             }
            },
            "type": "scatterpolar"
           }
          ],
          "scatterpolargl": [
           {
            "marker": {
             "colorbar": {
              "outlinewidth": 0,
              "ticks": ""
             }
            },
            "type": "scatterpolargl"
           }
          ],
          "scatterternary": [
           {
            "marker": {
             "colorbar": {
              "outlinewidth": 0,
              "ticks": ""
             }
            },
            "type": "scatterternary"
           }
          ],
          "surface": [
           {
            "colorbar": {
             "outlinewidth": 0,
             "ticks": ""
            },
            "colorscale": [
             [
              0,
              "#0d0887"
             ],
             [
              0.1111111111111111,
              "#46039f"
             ],
             [
              0.2222222222222222,
              "#7201a8"
             ],
             [
              0.3333333333333333,
              "#9c179e"
             ],
             [
              0.4444444444444444,
              "#bd3786"
             ],
             [
              0.5555555555555556,
              "#d8576b"
             ],
             [
              0.6666666666666666,
              "#ed7953"
             ],
             [
              0.7777777777777778,
              "#fb9f3a"
             ],
             [
              0.8888888888888888,
              "#fdca26"
             ],
             [
              1,
              "#f0f921"
             ]
            ],
            "type": "surface"
           }
          ],
          "table": [
           {
            "cells": {
             "fill": {
              "color": "#EBF0F8"
             },
             "line": {
              "color": "white"
             }
            },
            "header": {
             "fill": {
              "color": "#C8D4E3"
             },
             "line": {
              "color": "white"
             }
            },
            "type": "table"
           }
          ]
         },
         "layout": {
          "annotationdefaults": {
           "arrowcolor": "#2a3f5f",
           "arrowhead": 0,
           "arrowwidth": 1
          },
          "autotypenumbers": "strict",
          "coloraxis": {
           "colorbar": {
            "outlinewidth": 0,
            "ticks": ""
           }
          },
          "colorscale": {
           "diverging": [
            [
             0,
             "#8e0152"
            ],
            [
             0.1,
             "#c51b7d"
            ],
            [
             0.2,
             "#de77ae"
            ],
            [
             0.3,
             "#f1b6da"
            ],
            [
             0.4,
             "#fde0ef"
            ],
            [
             0.5,
             "#f7f7f7"
            ],
            [
             0.6,
             "#e6f5d0"
            ],
            [
             0.7,
             "#b8e186"
            ],
            [
             0.8,
             "#7fbc41"
            ],
            [
             0.9,
             "#4d9221"
            ],
            [
             1,
             "#276419"
            ]
           ],
           "sequential": [
            [
             0,
             "#0d0887"
            ],
            [
             0.1111111111111111,
             "#46039f"
            ],
            [
             0.2222222222222222,
             "#7201a8"
            ],
            [
             0.3333333333333333,
             "#9c179e"
            ],
            [
             0.4444444444444444,
             "#bd3786"
            ],
            [
             0.5555555555555556,
             "#d8576b"
            ],
            [
             0.6666666666666666,
             "#ed7953"
            ],
            [
             0.7777777777777778,
             "#fb9f3a"
            ],
            [
             0.8888888888888888,
             "#fdca26"
            ],
            [
             1,
             "#f0f921"
            ]
           ],
           "sequentialminus": [
            [
             0,
             "#0d0887"
            ],
            [
             0.1111111111111111,
             "#46039f"
            ],
            [
             0.2222222222222222,
             "#7201a8"
            ],
            [
             0.3333333333333333,
             "#9c179e"
            ],
            [
             0.4444444444444444,
             "#bd3786"
            ],
            [
             0.5555555555555556,
             "#d8576b"
            ],
            [
             0.6666666666666666,
             "#ed7953"
            ],
            [
             0.7777777777777778,
             "#fb9f3a"
            ],
            [
             0.8888888888888888,
             "#fdca26"
            ],
            [
             1,
             "#f0f921"
            ]
           ]
          },
          "colorway": [
           "#636efa",
           "#EF553B",
           "#00cc96",
           "#ab63fa",
           "#FFA15A",
           "#19d3f3",
           "#FF6692",
           "#B6E880",
           "#FF97FF",
           "#FECB52"
          ],
          "font": {
           "color": "#2a3f5f"
          },
          "geo": {
           "bgcolor": "white",
           "lakecolor": "white",
           "landcolor": "#E5ECF6",
           "showlakes": true,
           "showland": true,
           "subunitcolor": "white"
          },
          "hoverlabel": {
           "align": "left"
          },
          "hovermode": "closest",
          "mapbox": {
           "style": "light"
          },
          "paper_bgcolor": "white",
          "plot_bgcolor": "#E5ECF6",
          "polar": {
           "angularaxis": {
            "gridcolor": "white",
            "linecolor": "white",
            "ticks": ""
           },
           "bgcolor": "#E5ECF6",
           "radialaxis": {
            "gridcolor": "white",
            "linecolor": "white",
            "ticks": ""
           }
          },
          "scene": {
           "xaxis": {
            "backgroundcolor": "#E5ECF6",
            "gridcolor": "white",
            "gridwidth": 2,
            "linecolor": "white",
            "showbackground": true,
            "ticks": "",
            "zerolinecolor": "white"
           },
           "yaxis": {
            "backgroundcolor": "#E5ECF6",
            "gridcolor": "white",
            "gridwidth": 2,
            "linecolor": "white",
            "showbackground": true,
            "ticks": "",
            "zerolinecolor": "white"
           },
           "zaxis": {
            "backgroundcolor": "#E5ECF6",
            "gridcolor": "white",
            "gridwidth": 2,
            "linecolor": "white",
            "showbackground": true,
            "ticks": "",
            "zerolinecolor": "white"
           }
          },
          "shapedefaults": {
           "line": {
            "color": "#2a3f5f"
           }
          },
          "ternary": {
           "aaxis": {
            "gridcolor": "white",
            "linecolor": "white",
            "ticks": ""
           },
           "baxis": {
            "gridcolor": "white",
            "linecolor": "white",
            "ticks": ""
           },
           "bgcolor": "#E5ECF6",
           "caxis": {
            "gridcolor": "white",
            "linecolor": "white",
            "ticks": ""
           }
          },
          "title": {
           "x": 0.05
          },
          "xaxis": {
           "automargin": true,
           "gridcolor": "white",
           "linecolor": "white",
           "ticks": "",
           "title": {
            "standoff": 15
           },
           "zerolinecolor": "white",
           "zerolinewidth": 2
          },
          "yaxis": {
           "automargin": true,
           "gridcolor": "white",
           "linecolor": "white",
           "ticks": "",
           "title": {
            "standoff": 15
           },
           "zerolinecolor": "white",
           "zerolinewidth": 2
          }
         }
        },
        "title": {
         "text": "Median Home Values by Subdivisions Over the Years"
        },
        "updatemenus": [
         {
          "buttons": [
           {
            "args": [
             null,
             {
              "frame": {
               "duration": 500,
               "redraw": true
              },
              "fromcurrent": true,
              "mode": "immediate",
              "transition": {
               "duration": 500,
               "easing": "linear"
              }
             }
            ],
            "label": "&#9654;",
            "method": "animate"
           },
           {
            "args": [
             [
              null
             ],
             {
              "frame": {
               "duration": 0,
               "redraw": true
              },
              "fromcurrent": true,
              "mode": "immediate",
              "transition": {
               "duration": 0,
               "easing": "linear"
              }
             }
            ],
            "label": "&#9724;",
            "method": "animate"
           }
          ],
          "direction": "left",
          "pad": {
           "r": 10,
           "t": 70
          },
          "showactive": false,
          "type": "buttons",
          "x": 0.1,
          "xanchor": "right",
          "y": 0,
          "yanchor": "top"
         }
        ],
        "width": 1200
       }
      }
     },
     "metadata": {},
     "output_type": "display_data"
    }
   ],
   "source": [
    "# Load the cleaned dataset\n",
    "file_path = \"Final.csv\"\n",
    "df_cleaned = pd.read_csv(file_path)\n",
    "\n",
    "# Ensure \"Year\" is numeric\n",
    "df_cleaned[\"Year\"] = pd.to_numeric(df_cleaned[\"Year\"], errors=\"coerce\")\n",
    "\n",
    "# Drop rows with missing latitude and longitude values\n",
    "df_cleaned = df_cleaned.dropna(subset=[\"Latitude\", \"Longitude\"])\n",
    "\n",
    "# Create an interactive scatter map for all years\n",
    "fig = px.scatter_mapbox(\n",
    "    df_cleaned,\n",
    "    lat='Latitude',\n",
    "    lon='Longitude',\n",
    "    size=\"Median Home Value\",\n",
    "    color=\"Median Home Value\",\n",
    "    hover_name=\"County Subdivision\",  # Corrected column name\n",
    "    hover_data=[\"County\", \"Median Home Value\", \"Year\"],\n",
    "    animation_frame=\"Year\",  # Include all years with animation\n",
    "    mapbox_style=\"carto-positron\",\n",
    "    color_continuous_scale=[\"green\", \"yellow\", \"red\"],  # Custom color scale\n",
    "    title=\"Median Home Values by Subdivisions Over the Years\"\n",
    ")\n",
    "\n",
    "# Increase figure size\n",
    "fig.update_layout(\n",
    "    autosize=True,\n",
    "    width=1200,\n",
    "    height=800\n",
    ")\n",
    "\n",
    "# Show the interactive map\n",
    "fig.show()\n"
   ]
  },
  {
   "cell_type": "code",
   "execution_count": 6,
   "metadata": {},
   "outputs": [
    {
     "data": {
      "text/html": [
       "<div>\n",
       "<style scoped>\n",
       "    .dataframe tbody tr th:only-of-type {\n",
       "        vertical-align: middle;\n",
       "    }\n",
       "\n",
       "    .dataframe tbody tr th {\n",
       "        vertical-align: top;\n",
       "    }\n",
       "\n",
       "    .dataframe thead th {\n",
       "        text-align: right;\n",
       "    }\n",
       "</style>\n",
       "<table border=\"1\" class=\"dataframe\">\n",
       "  <thead>\n",
       "    <tr style=\"text-align: right;\">\n",
       "      <th></th>\n",
       "      <th>County Subdivision</th>\n",
       "      <th>Year</th>\n",
       "      <th>Median Household Income</th>\n",
       "      <th>Median Home Value</th>\n",
       "      <th>Affordability Index</th>\n",
       "    </tr>\n",
       "  </thead>\n",
       "  <tbody>\n",
       "    <tr>\n",
       "      <th>0</th>\n",
       "      <td>Beavercreek CCD</td>\n",
       "      <td>2023</td>\n",
       "      <td>122212</td>\n",
       "      <td>660600</td>\n",
       "      <td>18.500151</td>\n",
       "    </tr>\n",
       "    <tr>\n",
       "      <th>1</th>\n",
       "      <td>Beavercreek CCD</td>\n",
       "      <td>2022</td>\n",
       "      <td>114926</td>\n",
       "      <td>644600</td>\n",
       "      <td>17.829041</td>\n",
       "    </tr>\n",
       "    <tr>\n",
       "      <th>2</th>\n",
       "      <td>Beavercreek CCD</td>\n",
       "      <td>2021</td>\n",
       "      <td>101283</td>\n",
       "      <td>522900</td>\n",
       "      <td>19.369478</td>\n",
       "    </tr>\n",
       "    <tr>\n",
       "      <th>3</th>\n",
       "      <td>Beavercreek CCD</td>\n",
       "      <td>2020</td>\n",
       "      <td>99750</td>\n",
       "      <td>501200</td>\n",
       "      <td>19.902235</td>\n",
       "    </tr>\n",
       "    <tr>\n",
       "      <th>4</th>\n",
       "      <td>Beavercreek CCD</td>\n",
       "      <td>2019</td>\n",
       "      <td>93279</td>\n",
       "      <td>468400</td>\n",
       "      <td>19.914389</td>\n",
       "    </tr>\n",
       "    <tr>\n",
       "      <th>...</th>\n",
       "      <td>...</td>\n",
       "      <td>...</td>\n",
       "      <td>...</td>\n",
       "      <td>...</td>\n",
       "      <td>...</td>\n",
       "    </tr>\n",
       "    <tr>\n",
       "      <th>110</th>\n",
       "      <td>Yoder CCD</td>\n",
       "      <td>2023</td>\n",
       "      <td>109921</td>\n",
       "      <td>719800</td>\n",
       "      <td>15.271048</td>\n",
       "    </tr>\n",
       "    <tr>\n",
       "      <th>111</th>\n",
       "      <td>Yoder CCD</td>\n",
       "      <td>2022</td>\n",
       "      <td>110688</td>\n",
       "      <td>673600</td>\n",
       "      <td>16.432304</td>\n",
       "    </tr>\n",
       "    <tr>\n",
       "      <th>112</th>\n",
       "      <td>Yoder CCD</td>\n",
       "      <td>2021</td>\n",
       "      <td>96365</td>\n",
       "      <td>560200</td>\n",
       "      <td>17.201892</td>\n",
       "    </tr>\n",
       "    <tr>\n",
       "      <th>113</th>\n",
       "      <td>Yoder CCD</td>\n",
       "      <td>2020</td>\n",
       "      <td>87969</td>\n",
       "      <td>517400</td>\n",
       "      <td>17.002126</td>\n",
       "    </tr>\n",
       "    <tr>\n",
       "      <th>114</th>\n",
       "      <td>Yoder CCD</td>\n",
       "      <td>2019</td>\n",
       "      <td>81944</td>\n",
       "      <td>495400</td>\n",
       "      <td>16.540977</td>\n",
       "    </tr>\n",
       "  </tbody>\n",
       "</table>\n",
       "<p>115 rows × 5 columns</p>\n",
       "</div>"
      ],
      "text/plain": [
       "    County Subdivision  Year  Median Household Income  Median Home Value  \\\n",
       "0      Beavercreek CCD  2023                   122212             660600   \n",
       "1      Beavercreek CCD  2022                   114926             644600   \n",
       "2      Beavercreek CCD  2021                   101283             522900   \n",
       "3      Beavercreek CCD  2020                    99750             501200   \n",
       "4      Beavercreek CCD  2019                    93279             468400   \n",
       "..                 ...   ...                      ...                ...   \n",
       "110          Yoder CCD  2023                   109921             719800   \n",
       "111          Yoder CCD  2022                   110688             673600   \n",
       "112          Yoder CCD  2021                    96365             560200   \n",
       "113          Yoder CCD  2020                    87969             517400   \n",
       "114          Yoder CCD  2019                    81944             495400   \n",
       "\n",
       "     Affordability Index  \n",
       "0              18.500151  \n",
       "1              17.829041  \n",
       "2              19.369478  \n",
       "3              19.902235  \n",
       "4              19.914389  \n",
       "..                   ...  \n",
       "110            15.271048  \n",
       "111            16.432304  \n",
       "112            17.201892  \n",
       "113            17.002126  \n",
       "114            16.540977  \n",
       "\n",
       "[115 rows x 5 columns]"
      ]
     },
     "execution_count": 6,
     "metadata": {},
     "output_type": "execute_result"
    }
   ],
   "source": [
    "# Create a new DataFrame showing the calculation of the Affordability Index\n",
    "affordability_calc_df = affordability_df[['County Subdivision', 'Year', 'Median Household Income', 'Median Home Value']].copy()\n",
    "\n",
    "# Calculate the Affordability Index\n",
    "affordability_calc_df['Affordability Index'] = (affordability_calc_df['Median Household Income'] / affordability_calc_df['Median Home Value']) * 100\n",
    "\n",
    "# Display the first few rows of the DataFrame\n",
    "affordability_calc_df\n"
   ]
  },
  {
   "cell_type": "code",
   "execution_count": 9,
   "metadata": {},
   "outputs": [
    {
     "data": {
      "text/html": [
       "<div>\n",
       "<style scoped>\n",
       "    .dataframe tbody tr th:only-of-type {\n",
       "        vertical-align: middle;\n",
       "    }\n",
       "\n",
       "    .dataframe tbody tr th {\n",
       "        vertical-align: top;\n",
       "    }\n",
       "\n",
       "    .dataframe thead th {\n",
       "        text-align: right;\n",
       "    }\n",
       "</style>\n",
       "<table border=\"1\" class=\"dataframe\">\n",
       "  <thead>\n",
       "    <tr style=\"text-align: right;\">\n",
       "      <th></th>\n",
       "      <th>County Subdivision</th>\n",
       "      <th>Year</th>\n",
       "      <th>Median Household Income</th>\n",
       "      <th>Median Home Value</th>\n",
       "      <th>Affordability Index</th>\n",
       "    </tr>\n",
       "  </thead>\n",
       "  <tbody>\n",
       "    <tr>\n",
       "      <th>97</th>\n",
       "      <td>Sandy CCD, Clackamas County, Oregon</td>\n",
       "      <td>2021</td>\n",
       "      <td>91625</td>\n",
       "      <td>385100</td>\n",
       "      <td>23.792521</td>\n",
       "    </tr>\n",
       "    <tr>\n",
       "      <th>22</th>\n",
       "      <td>Coast Range CCD, Washington County, Oregon</td>\n",
       "      <td>2021</td>\n",
       "      <td>104926</td>\n",
       "      <td>455700</td>\n",
       "      <td>23.025236</td>\n",
       "    </tr>\n",
       "    <tr>\n",
       "      <th>95</th>\n",
       "      <td>Sandy CCD, Clackamas County, Oregon</td>\n",
       "      <td>2023</td>\n",
       "      <td>111358</td>\n",
       "      <td>488200</td>\n",
       "      <td>22.809914</td>\n",
       "    </tr>\n",
       "    <tr>\n",
       "      <th>23</th>\n",
       "      <td>Coast Range CCD, Washington County, Oregon</td>\n",
       "      <td>2020</td>\n",
       "      <td>102578</td>\n",
       "      <td>453800</td>\n",
       "      <td>22.604231</td>\n",
       "    </tr>\n",
       "    <tr>\n",
       "      <th>98</th>\n",
       "      <td>Sandy CCD, Clackamas County, Oregon</td>\n",
       "      <td>2020</td>\n",
       "      <td>82335</td>\n",
       "      <td>364700</td>\n",
       "      <td>22.576090</td>\n",
       "    </tr>\n",
       "  </tbody>\n",
       "</table>\n",
       "</div>"
      ],
      "text/plain": [
       "                            County Subdivision  Year  Median Household Income  \\\n",
       "97         Sandy CCD, Clackamas County, Oregon  2021                    91625   \n",
       "22  Coast Range CCD, Washington County, Oregon  2021                   104926   \n",
       "95         Sandy CCD, Clackamas County, Oregon  2023                   111358   \n",
       "23  Coast Range CCD, Washington County, Oregon  2020                   102578   \n",
       "98         Sandy CCD, Clackamas County, Oregon  2020                    82335   \n",
       "\n",
       "    Median Home Value  Affordability Index  \n",
       "97             385100            23.792521  \n",
       "22             455700            23.025236  \n",
       "95             488200            22.809914  \n",
       "23             453800            22.604231  \n",
       "98             364700            22.576090  "
      ]
     },
     "execution_count": 9,
     "metadata": {},
     "output_type": "execute_result"
    }
   ],
   "source": [
    "# Load the dataset\n",
    "affordability_df = pd.read_csv(\"Final.csv\")\n",
    "\n",
    "# Create a new DataFrame showing the calculation of the Affordability Index\n",
    "affordability_calc_df = affordability_df[['County Subdivision', 'Year', 'Median Household Income', 'Median Home Value']].copy()\n",
    "\n",
    "# Calculate the Affordability Index\n",
    "affordability_calc_df['Affordability Index'] = (affordability_calc_df['Median Household Income'] / affordability_calc_df['Median Home Value']) * 100\n",
    "\n",
    "# Get the top 5 highest affordability index values\n",
    "top_affordability_df = affordability_calc_df.nlargest(5, 'Affordability Index')\n",
    "\n",
    "# Display the top 5 affordability index values\n",
    "top_affordability_df\n"
   ]
  },
  {
   "cell_type": "code",
   "execution_count": 14,
   "metadata": {},
   "outputs": [
    {
     "data": {
      "text/html": [
       "<div>\n",
       "<style scoped>\n",
       "    .dataframe tbody tr th:only-of-type {\n",
       "        vertical-align: middle;\n",
       "    }\n",
       "\n",
       "    .dataframe tbody tr th {\n",
       "        vertical-align: top;\n",
       "    }\n",
       "\n",
       "    .dataframe thead th {\n",
       "        text-align: right;\n",
       "    }\n",
       "</style>\n",
       "<table border=\"1\" class=\"dataframe\">\n",
       "  <thead>\n",
       "    <tr style=\"text-align: right;\">\n",
       "      <th></th>\n",
       "      <th>County Subdivision</th>\n",
       "      <th>Year</th>\n",
       "      <th>Median Household Income</th>\n",
       "      <th>Median Home Value</th>\n",
       "      <th>Affordability Index</th>\n",
       "    </tr>\n",
       "  </thead>\n",
       "  <tbody>\n",
       "    <tr>\n",
       "      <th>0</th>\n",
       "      <td>Skyline CCD, Multnomah County, Oregon</td>\n",
       "      <td>2020</td>\n",
       "      <td>80325</td>\n",
       "      <td>668000</td>\n",
       "      <td>12.024701</td>\n",
       "    </tr>\n",
       "    <tr>\n",
       "      <th>1</th>\n",
       "      <td>Skyline CCD, Multnomah County, Oregon</td>\n",
       "      <td>2021</td>\n",
       "      <td>85313</td>\n",
       "      <td>705300</td>\n",
       "      <td>12.095988</td>\n",
       "    </tr>\n",
       "    <tr>\n",
       "      <th>2</th>\n",
       "      <td>Skyline CCD, Multnomah County, Oregon</td>\n",
       "      <td>2022</td>\n",
       "      <td>94205</td>\n",
       "      <td>747100</td>\n",
       "      <td>12.609423</td>\n",
       "    </tr>\n",
       "    <tr>\n",
       "      <th>3</th>\n",
       "      <td>Skyline CCD, Multnomah County, Oregon</td>\n",
       "      <td>2023</td>\n",
       "      <td>101827</td>\n",
       "      <td>780100</td>\n",
       "      <td>13.053070</td>\n",
       "    </tr>\n",
       "    <tr>\n",
       "      <th>4</th>\n",
       "      <td>Estacada CCD, Clackamas County, Oregon</td>\n",
       "      <td>2023</td>\n",
       "      <td>77424</td>\n",
       "      <td>572400</td>\n",
       "      <td>13.526205</td>\n",
       "    </tr>\n",
       "  </tbody>\n",
       "</table>\n",
       "</div>"
      ],
      "text/plain": [
       "                       County Subdivision  Year  Median Household Income  \\\n",
       "0   Skyline CCD, Multnomah County, Oregon  2020                    80325   \n",
       "1   Skyline CCD, Multnomah County, Oregon  2021                    85313   \n",
       "2   Skyline CCD, Multnomah County, Oregon  2022                    94205   \n",
       "3   Skyline CCD, Multnomah County, Oregon  2023                   101827   \n",
       "4  Estacada CCD, Clackamas County, Oregon  2023                    77424   \n",
       "\n",
       "   Median Home Value  Affordability Index  \n",
       "0             668000            12.024701  \n",
       "1             705300            12.095988  \n",
       "2             747100            12.609423  \n",
       "3             780100            13.053070  \n",
       "4             572400            13.526205  "
      ]
     },
     "execution_count": 14,
     "metadata": {},
     "output_type": "execute_result"
    }
   ],
   "source": [
    "# Load the dataset\n",
    "affordability_df = pd.read_csv(\"Final.csv\")\n",
    "\n",
    "# Create a new DataFrame showing the calculation of the Affordability Index\n",
    "affordability_calc_df = affordability_df[['County Subdivision', 'Year', 'Median Household Income', 'Median Home Value']].copy()\n",
    "\n",
    "# Calculate the Affordability Index\n",
    "affordability_calc_df['Affordability Index'] = (affordability_calc_df['Median Household Income'] / affordability_calc_df['Median Home Value']) * 100\n",
    "\n",
    "# Get the bottom 5 lowest affordability index values\n",
    "bottom_affordability_df = affordability_calc_df.nsmallest(5, 'Affordability Index')\n",
    "\n",
    "# Reset the index for better readability\n",
    "bottom_affordability_df.reset_index(drop=True, inplace=True)\n",
    "\n",
    "# Display the bottom 5 affordability index values\n",
    "bottom_affordability_df\n"
   ]
  },
  {
   "cell_type": "code",
   "execution_count": null,
   "metadata": {},
   "outputs": [
    {
     "data": {
      "image/png": "[encoded data removed]",
      "text/plain": [
       "<Figure size 1200x800 with 2 Axes>"
      ]
     },
     "metadata": {},
     "output_type": "display_data"
    }
   ],
   "source": [
    "\n",
    "# Load the dataset\n",
    "affordability_df = pd.read_csv(\"Final.csv\")\n",
    "\n",
    "# Calculate the Affordability Index\n",
    "affordability_df['Affordability Index'] = (affordability_df['Median Household Income'] / affordability_df['Median Home Value']) * 100\n",
    "\n",
    "# Clean County Subdivision names by removing county and state information\n",
    "affordability_df['County Subdivision'] = affordability_df['County Subdivision'].str.split(',').str[0]\n",
    "\n",
    "# Pivot the data for heatmap\n",
    "heatmap_data = affordability_df.pivot(index='County Subdivision', columns='Year', values='Affordability Index')\n",
    "\n",
    "# Create the heatmap with Red (More Affordable) → Green (Less Affordable)\n",
    "plt.figure(figsize=(12, 8))\n",
    "sns.heatmap(heatmap_data, cmap='RdYlGn', annot=True, fmt=\".1f\", linewidths=0.5)\n",
    "\n",
    "# Formatting the plot\n",
    "plt.xlabel('Year')\n",
    "plt.ylabel('County Subdivision')\n",
    "plt.title('Affordability Index Heatmap (2019-2023)')\n",
    "\n",
    "# Show the heatmap\n",
    "plt.show()\n"
   ]
  },
  {
   "cell_type": "code",
   "execution_count": 22,
   "metadata": {},
   "outputs": [
    {
     "data": {
      "application/vnd.plotly.v1+json": {
       "config": {
        "plotlyServerURL": "https://plot.ly"
       },
       "data": [
        {
         "customdata": [
          [
           "Clackamas",
           18.500151377535573,
           2023
          ],
          [
           "Washington",
           18.666906474820145,
           2023
          ],
          [
           "Clackamas",
           20.634000412626367,
           2023
          ],
          [
           "Washington",
           18.541918487525184,
           2023
          ],
          [
           "Washington",
           20.085241730279897,
           2023
          ],
          [
           "Clackamas",
           14.566618653222902,
           2023
          ],
          [
           "Multnomah",
           16.652499617795442,
           2023
          ],
          [
           "Clackamas",
           13.526205450733752,
           2023
          ],
          [
           "Washington",
           19.21872265966754,
           2023
          ],
          [
           "Multnomah",
           17.245493953912845,
           2023
          ],
          [
           "Clackamas",
           19.904631530914898,
           2023
          ],
          [
           "Clackamas",
           18.87323050919079,
           2023
          ],
          [
           "Clackamas",
           17.46153846153846,
           2023
          ],
          [
           "Washington",
           17.932269063856168,
           2023
          ],
          [
           "Clackamas",
           17.136287061994608,
           2023
          ],
          [
           "Multnomah",
           16.26590476190476,
           2023
          ],
          [
           "Multnomah",
           14.372334293948127,
           2023
          ],
          [
           "Clackamas",
           17.257112590799032,
           2023
          ],
          [
           "Washington",
           18.216493168510084,
           2023
          ],
          [
           "Clackamas",
           22.809913969684555,
           2023
          ],
          [
           "Multnomah",
           13.053070119215485,
           2023
          ],
          [
           "Clackamas",
           14.188408190224571,
           2023
          ],
          [
           "Clackamas",
           15.271047513198111,
           2023
          ]
         ],
         "hovertemplate": "<b>%{hovertext}</b><br><br>Year=%{customdata[2]}<br>Affordability Index=%{marker.color}<br>Latitude=%{lat}<br>Longitude=%{lon}<br>County=%{customdata[0]}<extra></extra>",
         "hovertext": [
          "Beavercreek CCD, Clackamas County, Oregon",
          "Beaverton-Hillsboro CCD, Washington County, Oregon",
          "Canby CCD, Clackamas County, Oregon",
          "Chehalem Mountains CCD, Washington County, Oregon",
          "Coast Range CCD, Washington County, Oregon",
          "Colton CCD, Clackamas County, Oregon",
          "Corbett CCD, Multnomah County, Oregon",
          "Estacada CCD, Clackamas County, Oregon",
          "Forest Grove-Cornelius CCD, Washington County, Oregon",
          "Gresham CCD, Multnomah County, Oregon",
          "Molalla CCD, Clackamas County, Oregon",
          "Mount Hood CCD, Clackamas County, Oregon",
          "Mulino CCD, Clackamas County, Oregon",
          "North Plains CCD, Washington County, Oregon",
          "Northwest Clackamas CCD, Clackamas County, Oregon",
          "Portland East CCD, Multnomah County, Oregon",
          "Portland West CCD, Multnomah County, Oregon",
          "Redland CCD, Clackamas County, Oregon",
          "Rockcreek CCD, Washington County, Oregon",
          "Sandy CCD, Clackamas County, Oregon",
          "Skyline CCD, Multnomah County, Oregon",
          "Wilsonville CCD, Clackamas County, Oregon",
          "Yoder CCD, Clackamas County, Oregon"
         ],
         "lat": [
          45.2879294,
          45.5226664,
          45.262692,
          45.3278962,
          45.5469616,
          45.1721192,
          45.5318,
          45.2877198,
          45.5195,
          45.5044715,
          45.1475439,
          45.2023855,
          45.2212415,
          45.59778499999999,
          45.4074434,
          45.5165442,
          45.4548406,
          45.3434553,
          45.5510497,
          45.3973141,
          45.5145659,
          45.3029344,
          45.1381769
         ],
         "legendgroup": "",
         "lon": [
          -122.5353423,
          -122.9898071,
          -122.6957402,
          -122.88871,
          -123.1386021,
          -122.4374803,
          -122.2912,
          -122.3351638,
          -123.1053,
          -122.4356657,
          -122.5771264,
          -122.1188945,
          -122.5816606,
          -123.0008365,
          -122.5688975,
          -122.6626984,
          -122.7325965,
          -122.4928664,
          -122.8741537,
          -122.2630704,
          -122.5863212,
          -122.7726687,
          -122.6817567
         ],
         "marker": {
          "color": [
           18.500151377535573,
           18.666906474820145,
           20.634000412626367,
           18.541918487525184,
           20.085241730279897,
           14.566618653222902,
           16.652499617795442,
           13.526205450733752,
           19.21872265966754,
           17.245493953912845,
           19.904631530914898,
           18.87323050919079,
           17.46153846153846,
           17.932269063856168,
           17.136287061994608,
           16.26590476190476,
           14.372334293948127,
           17.257112590799032,
           18.216493168510084,
           22.809913969684555,
           13.053070119215485,
           14.188408190224571,
           15.271047513198111
          ],
          "coloraxis": "coloraxis",
          "size": [
           18.500151377535573,
           18.666906474820145,
           20.634000412626367,
           18.541918487525184,
           20.085241730279897,
           14.566618653222902,
           16.652499617795442,
           13.526205450733752,
           19.21872265966754,
           17.245493953912845,
           19.904631530914898,
           18.87323050919079,
           17.46153846153846,
           17.932269063856168,
           17.136287061994608,
           16.26590476190476,
           14.372334293948127,
           17.257112590799032,
           18.216493168510084,
           22.809913969684555,
           13.053070119215485,
           14.188408190224571,
           15.271047513198111
          ],
          "sizemode": "area",
          "sizeref": 0.059481303557517524
         },
         "mode": "markers",
         "name": "",
         "showlegend": false,
         "subplot": "mapbox",
         "type": "scattermapbox"
        }
       ],
       "frames": [
        {
         "data": [
          {
           "customdata": [
            [
             "Clackamas",
             18.500151377535573,
             2023
            ],
            [
             "Washington",
             18.666906474820145,
             2023
            ],
            [
             "Clackamas",
             20.634000412626367,
             2023
            ],
            [
             "Washington",
             18.541918487525184,
             2023
            ],
            [
             "Washington",
             20.085241730279897,
             2023
            ],
            [
             "Clackamas",
             14.566618653222902,
             2023
            ],
            [
             "Multnomah",
             16.652499617795442,
             2023
            ],
            [
             "Clackamas",
             13.526205450733752,
             2023
            ],
            [
             "Washington",
             19.21872265966754,
             2023
            ],
            [
             "Multnomah",
             17.245493953912845,
             2023
            ],
            [
             "Clackamas",
             19.904631530914898,
             2023
            ],
            [
             "Clackamas",
             18.87323050919079,
             2023
            ],
            [
             "Clackamas",
             17.46153846153846,
             2023
            ],
            [
             "Washington",
             17.932269063856168,
             2023
            ],
            [
             "Clackamas",
             17.136287061994608,
             2023
            ],
            [
             "Multnomah",
             16.26590476190476,
             2023
            ],
            [
             "Multnomah",
             14.372334293948127,
             2023
            ],
            [
             "Clackamas",
             17.257112590799032,
             2023
            ],
            [
             "Washington",
             18.216493168510084,
             2023
            ],
            [
             "Clackamas",
             22.809913969684555,
             2023
            ],
            [
             "Multnomah",
             13.053070119215485,
             2023
            ],
            [
             "Clackamas",
             14.188408190224571,
             2023
            ],
            [
             "Clackamas",
             15.271047513198111,
             2023
            ]
           ],
           "hovertemplate": "<b>%{hovertext}</b><br><br>Year=%{customdata[2]}<br>Affordability Index=%{marker.color}<br>Latitude=%{lat}<br>Longitude=%{lon}<br>County=%{customdata[0]}<extra></extra>",
           "hovertext": [
            "Beavercreek CCD, Clackamas County, Oregon",
            "Beaverton-Hillsboro CCD, Washington County, Oregon",
            "Canby CCD, Clackamas County, Oregon",
            "Chehalem Mountains CCD, Washington County, Oregon",
            "Coast Range CCD, Washington County, Oregon",
            "Colton CCD, Clackamas County, Oregon",
            "Corbett CCD, Multnomah County, Oregon",
            "Estacada CCD, Clackamas County, Oregon",
            "Forest Grove-Cornelius CCD, Washington County, Oregon",
            "Gresham CCD, Multnomah County, Oregon",
            "Molalla CCD, Clackamas County, Oregon",
            "Mount Hood CCD, Clackamas County, Oregon",
            "Mulino CCD, Clackamas County, Oregon",
            "North Plains CCD, Washington County, Oregon",
            "Northwest Clackamas CCD, Clackamas County, Oregon",
            "Portland East CCD, Multnomah County, Oregon",
            "Portland West CCD, Multnomah County, Oregon",
            "Redland CCD, Clackamas County, Oregon",
            "Rockcreek CCD, Washington County, Oregon",
            "Sandy CCD, Clackamas County, Oregon",
            "Skyline CCD, Multnomah County, Oregon",
            "Wilsonville CCD, Clackamas County, Oregon",
            "Yoder CCD, Clackamas County, Oregon"
           ],
           "lat": [
            45.2879294,
            45.5226664,
            45.262692,
            45.3278962,
            45.5469616,
            45.1721192,
            45.5318,
            45.2877198,
            45.5195,
            45.5044715,
            45.1475439,
            45.2023855,
            45.2212415,
            45.59778499999999,
            45.4074434,
            45.5165442,
            45.4548406,
            45.3434553,
            45.5510497,
            45.3973141,
            45.5145659,
            45.3029344,
            45.1381769
           ],
           "legendgroup": "",
           "lon": [
            -122.5353423,
            -122.9898071,
            -122.6957402,
            -122.88871,
            -123.1386021,
            -122.4374803,
            -122.2912,
            -122.3351638,
            -123.1053,
            -122.4356657,
            -122.5771264,
            -122.1188945,
            -122.5816606,
            -123.0008365,
            -122.5688975,
            -122.6626984,
            -122.7325965,
            -122.4928664,
            -122.8741537,
            -122.2630704,
            -122.5863212,
            -122.7726687,
            -122.6817567
           ],
           "marker": {
            "color": [
             18.500151377535573,
             18.666906474820145,
             20.634000412626367,
             18.541918487525184,
             20.085241730279897,
             14.566618653222902,
             16.652499617795442,
             13.526205450733752,
             19.21872265966754,
             17.245493953912845,
             19.904631530914898,
             18.87323050919079,
             17.46153846153846,
             17.932269063856168,
             17.136287061994608,
             16.26590476190476,
             14.372334293948127,
             17.257112590799032,
             18.216493168510084,
             22.809913969684555,
             13.053070119215485,
             14.188408190224571,
             15.271047513198111
            ],
            "coloraxis": "coloraxis",
            "size": [
             18.500151377535573,
             18.666906474820145,
             20.634000412626367,
             18.541918487525184,
             20.085241730279897,
             14.566618653222902,
             16.652499617795442,
             13.526205450733752,
             19.21872265966754,
             17.245493953912845,
             19.904631530914898,
             18.87323050919079,
             17.46153846153846,
             17.932269063856168,
             17.136287061994608,
             16.26590476190476,
             14.372334293948127,
             17.257112590799032,
             18.216493168510084,
             22.809913969684555,
             13.053070119215485,
             14.188408190224571,
             15.271047513198111
            ],
            "sizemode": "area",
            "sizeref": 0.059481303557517524
           },
           "mode": "markers",
           "name": "",
           "showlegend": false,
           "subplot": "mapbox",
           "type": "scattermapbox"
          }
         ],
         "name": "2023"
        },
        {
         "data": [
          {
           "customdata": [
            [
             "Clackamas",
             17.829041265901335,
             2022
            ],
            [
             "Washington",
             19.758579409417397,
             2022
            ],
            [
             "Clackamas",
             20.28835164835165,
             2022
            ],
            [
             "Washington",
             17.254049962149885,
             2022
            ],
            [
             "Washington",
             20.892504930966467,
             2022
            ],
            [
             "Clackamas",
             18.43462396107845,
             2022
            ],
            [
             "Multnomah",
             17.88168690515261,
             2022
            ],
            [
             "Clackamas",
             14.115670183665493,
             2022
            ],
            [
             "Washington",
             18.888371009088793,
             2022
            ],
            [
             "Multnomah",
             17.574592358238014,
             2022
            ],
            [
             "Clackamas",
             20.865384615384617,
             2022
            ],
            [
             "Clackamas",
             18.539773939006185,
             2022
            ],
            [
             "Clackamas",
             17.905030635278944,
             2022
            ],
            [
             "Washington",
             18.933463478119407,
             2022
            ],
            [
             "Clackamas",
             17.779018674478213,
             2022
            ],
            [
             "Multnomah",
             16.8719723183391,
             2022
            ],
            [
             "Multnomah",
             14.686123680241328,
             2022
            ],
            [
             "Clackamas",
             16.80326280083993,
             2022
            ],
            [
             "Washington",
             19.372668642147463,
             2022
            ],
            [
             "Clackamas",
             22.402827600759654,
             2022
            ],
            [
             "Multnomah",
             12.609423102663634,
             2022
            ],
            [
             "Clackamas",
             14.43542817679558,
             2022
            ],
            [
             "Clackamas",
             16.432304038004748,
             2022
            ]
           ],
           "hovertemplate": "<b>%{hovertext}</b><br><br>Year=%{customdata[2]}<br>Affordability Index=%{marker.color}<br>Latitude=%{lat}<br>Longitude=%{lon}<br>County=%{customdata[0]}<extra></extra>",
           "hovertext": [
            "Beavercreek CCD, Clackamas County, Oregon",
            "Beaverton-Hillsboro CCD, Washington County, Oregon",
            "Canby CCD, Clackamas County, Oregon",
            "Chehalem Mountains CCD, Washington County, Oregon",
            "Coast Range CCD, Washington County, Oregon",
            "Colton CCD, Clackamas County, Oregon",
            "Corbett CCD, Multnomah County, Oregon",
            "Estacada CCD, Clackamas County, Oregon",
            "Forest Grove-Cornelius CCD, Washington County, Oregon",
            "Gresham CCD, Multnomah County, Oregon",
            "Molalla CCD, Clackamas County, Oregon",
            "Mount Hood CCD, Clackamas County, Oregon",
            "Mulino CCD, Clackamas County, Oregon",
            "North Plains CCD, Washington County, Oregon",
            "Northwest Clackamas CCD, Clackamas County, Oregon",
            "Portland East CCD, Multnomah County, Oregon",
            "Portland West CCD, Multnomah County, Oregon",
            "Redland CCD, Clackamas County, Oregon",
            "Rockcreek CCD, Washington County, Oregon",
            "Sandy CCD, Clackamas County, Oregon",
            "Skyline CCD, Multnomah County, Oregon",
            "Wilsonville CCD, Clackamas County, Oregon",
            "Yoder CCD, Clackamas County, Oregon"
           ],
           "lat": [
            45.2879294,
            45.5226664,
            45.262692,
            45.3278962,
            45.5469616,
            45.1721192,
            45.5318,
            45.2877198,
            45.5195,
            45.5044715,
            45.1475439,
            45.2023855,
            45.2212415,
            45.59778499999999,
            45.4074434,
            45.5165442,
            45.4548406,
            45.3434553,
            45.5510497,
            45.3973141,
            45.5145659,
            45.3029344,
            45.1381769
           ],
           "legendgroup": "",
           "lon": [
            -122.5353423,
            -122.9898071,
            -122.6957402,
            -122.88871,
            -123.1386021,
            -122.4374803,
            -122.2912,
            -122.3351638,
            -123.1053,
            -122.4356657,
            -122.5771264,
            -122.1188945,
            -122.5816606,
            -123.0008365,
            -122.5688975,
            -122.6626984,
            -122.7325965,
            -122.4928664,
            -122.8741537,
            -122.2630704,
            -122.5863212,
            -122.7726687,
            -122.6817567
           ],
           "marker": {
            "color": [
             17.829041265901335,
             19.758579409417397,
             20.28835164835165,
             17.254049962149885,
             20.892504930966467,
             18.43462396107845,
             17.88168690515261,
             14.115670183665493,
             18.888371009088793,
             17.574592358238014,
             20.865384615384617,
             18.539773939006185,
             17.905030635278944,
             18.933463478119407,
             17.779018674478213,
             16.8719723183391,
             14.686123680241328,
             16.80326280083993,
             19.372668642147463,
             22.402827600759654,
             12.609423102663634,
             14.43542817679558,
             16.432304038004748
            ],
            "coloraxis": "coloraxis",
            "size": [
             17.829041265901335,
             19.758579409417397,
             20.28835164835165,
             17.254049962149885,
             20.892504930966467,
             18.43462396107845,
             17.88168690515261,
             14.115670183665493,
             18.888371009088793,
             17.574592358238014,
             20.865384615384617,
             18.539773939006185,
             17.905030635278944,
             18.933463478119407,
             17.779018674478213,
             16.8719723183391,
             14.686123680241328,
             16.80326280083993,
             19.372668642147463,
             22.402827600759654,
             12.609423102663634,
             14.43542817679558,
             16.432304038004748
            ],
            "sizemode": "area",
            "sizeref": 0.059481303557517524
           },
           "mode": "markers",
           "name": "",
           "showlegend": false,
           "subplot": "mapbox",
           "type": "scattermapbox"
          }
         ],
         "name": "2022"
        },
        {
         "data": [
          {
           "customdata": [
            [
             "Clackamas",
             19.369477911646587,
             2021
            ],
            [
             "Washington",
             20.841851936740774,
             2021
            ],
            [
             "Clackamas",
             21.475678443420378,
             2021
            ],
            [
             "Washington",
             18.400836972343523,
             2021
            ],
            [
             "Washington",
             23.02523590081194,
             2021
            ],
            [
             "Clackamas",
             18.972997503970955,
             2021
            ],
            [
             "Multnomah",
             19.515511684125705,
             2021
            ],
            [
             "Clackamas",
             15.67717996289425,
             2021
            ],
            [
             "Washington",
             20.46262956901255,
             2021
            ],
            [
             "Multnomah",
             18.505163511187607,
             2021
            ],
            [
             "Clackamas",
             22.562410739788632,
             2021
            ],
            [
             "Clackamas",
             20.449241840143923,
             2021
            ],
            [
             "Clackamas",
             18.531492339701153,
             2021
            ],
            [
             "Washington",
             20.603136308805787,
             2021
            ],
            [
             "Clackamas",
             19.51285930408472,
             2021
            ],
            [
             "Multnomah",
             17.28591002511989,
             2021
            ],
            [
             "Multnomah",
             14.735927152317881,
             2021
            ],
            [
             "Clackamas",
             18.377168769716086,
             2021
            ],
            [
             "Washington",
             20.796440261865794,
             2021
            ],
            [
             "Clackamas",
             23.79252142300701,
             2021
            ],
            [
             "Multnomah",
             12.095987523039842,
             2021
            ],
            [
             "Clackamas",
             16.427954779033914,
             2021
            ],
            [
             "Clackamas",
             17.2018921813638,
             2021
            ]
           ],
           "hovertemplate": "<b>%{hovertext}</b><br><br>Year=%{customdata[2]}<br>Affordability Index=%{marker.color}<br>Latitude=%{lat}<br>Longitude=%{lon}<br>County=%{customdata[0]}<extra></extra>",
           "hovertext": [
            "Beavercreek CCD, Clackamas County, Oregon",
            "Beaverton-Hillsboro CCD, Washington County, Oregon",
            "Canby CCD, Clackamas County, Oregon",
            "Chehalem Mountains CCD, Washington County, Oregon",
            "Coast Range CCD, Washington County, Oregon",
            "Colton CCD, Clackamas County, Oregon",
            "Corbett CCD, Multnomah County, Oregon",
            "Estacada CCD, Clackamas County, Oregon",
            "Forest Grove-Cornelius CCD, Washington County, Oregon",
            "Gresham CCD, Multnomah County, Oregon",
            "Molalla CCD, Clackamas County, Oregon",
            "Mount Hood CCD, Clackamas County, Oregon",
            "Mulino CCD, Clackamas County, Oregon",
            "North Plains CCD, Washington County, Oregon",
            "Northwest Clackamas CCD, Clackamas County, Oregon",
            "Portland East CCD, Multnomah County, Oregon",
            "Portland West CCD, Multnomah County, Oregon",
            "Redland CCD, Clackamas County, Oregon",
            "Rockcreek CCD, Washington County, Oregon",
            "Sandy CCD, Clackamas County, Oregon",
            "Skyline CCD, Multnomah County, Oregon",
            "Wilsonville CCD, Clackamas County, Oregon",
            "Yoder CCD, Clackamas County, Oregon"
           ],
           "lat": [
            45.2879294,
            45.5226664,
            45.262692,
            45.3278962,
            45.5469616,
            45.1721192,
            45.5318,
            45.2877198,
            45.5195,
            45.5044715,
            45.1475439,
            45.2023855,
            45.2212415,
            45.59778499999999,
            45.4074434,
            45.5165442,
            45.4548406,
            45.3434553,
            45.5510497,
            45.3973141,
            45.5145659,
            45.3029344,
            45.1381769
           ],
           "legendgroup": "",
           "lon": [
            -122.5353423,
            -122.9898071,
            -122.6957402,
            -122.88871,
            -123.1386021,
            -122.4374803,
            -122.2912,
            -122.3351638,
            -123.1053,
            -122.4356657,
            -122.5771264,
            -122.1188945,
            -122.5816606,
            -123.0008365,
            -122.5688975,
            -122.6626984,
            -122.7325965,
            -122.4928664,
            -122.8741537,
            -122.2630704,
            -122.5863212,
            -122.7726687,
            -122.6817567
           ],
           "marker": {
            "color": [
             19.369477911646587,
             20.841851936740774,
             21.475678443420378,
             18.400836972343523,
             23.02523590081194,
             18.972997503970955,
             19.515511684125705,
             15.67717996289425,
             20.46262956901255,
             18.505163511187607,
             22.562410739788632,
             20.449241840143923,
             18.531492339701153,
             20.603136308805787,
             19.51285930408472,
             17.28591002511989,
             14.735927152317881,
             18.377168769716086,
             20.796440261865794,
             23.79252142300701,
             12.095987523039842,
             16.427954779033914,
             17.2018921813638
            ],
            "coloraxis": "coloraxis",
            "size": [
             19.369477911646587,
             20.841851936740774,
             21.475678443420378,
             18.400836972343523,
             23.02523590081194,
             18.972997503970955,
             19.515511684125705,
             15.67717996289425,
             20.46262956901255,
             18.505163511187607,
             22.562410739788632,
             20.449241840143923,
             18.531492339701153,
             20.603136308805787,
             19.51285930408472,
             17.28591002511989,
             14.735927152317881,
             18.377168769716086,
             20.796440261865794,
             23.79252142300701,
             12.095987523039842,
             16.427954779033914,
             17.2018921813638
            ],
            "sizemode": "area",
            "sizeref": 0.059481303557517524
           },
           "mode": "markers",
           "name": "",
           "showlegend": false,
           "subplot": "mapbox",
           "type": "scattermapbox"
          }
         ],
         "name": "2021"
        },
        {
         "data": [
          {
           "customdata": [
            [
             "Clackamas",
             19.90223463687151,
             2020
            ],
            [
             "Washington",
             20.846678023850085,
             2020
            ],
            [
             "Clackamas",
             20.957865937072505,
             2020
            ],
            [
             "Washington",
             19.963089955627268,
             2020
            ],
            [
             "Washington",
             22.604230938739533,
             2020
            ],
            [
             "Clackamas",
             17.67049808429119,
             2020
            ],
            [
             "Multnomah",
             18.540827377084685,
             2020
            ],
            [
             "Clackamas",
             18.214667685255918,
             2020
            ],
            [
             "Washington",
             21.002948982601,
             2020
            ],
            [
             "Multnomah",
             18.748381128584644,
             2020
            ],
            [
             "Clackamas",
             21.90540137272456,
             2020
            ],
            [
             "Clackamas",
             19.53228003268864,
             2020
            ],
            [
             "Clackamas",
             18.99832705980761,
             2020
            ],
            [
             "Washington",
             21.387728459530024,
             2020
            ],
            [
             "Clackamas",
             19.757547607988855,
             2020
            ],
            [
             "Multnomah",
             17.260604583130178,
             2020
            ],
            [
             "Multnomah",
             14.338052191710728,
             2020
            ],
            [
             "Clackamas",
             17.00735912531539,
             2020
            ],
            [
             "Washington",
             20.684062971748975,
             2020
            ],
            [
             "Clackamas",
             22.576089936934466,
             2020
            ],
            [
             "Multnomah",
             12.024700598802395,
             2020
            ],
            [
             "Clackamas",
             16.35671514114628,
             2020
            ],
            [
             "Clackamas",
             17.00212601468883,
             2020
            ]
           ],
           "hovertemplate": "<b>%{hovertext}</b><br><br>Year=%{customdata[2]}<br>Affordability Index=%{marker.color}<br>Latitude=%{lat}<br>Longitude=%{lon}<br>County=%{customdata[0]}<extra></extra>",
           "hovertext": [
            "Beavercreek CCD, Clackamas County, Oregon",
            "Beaverton-Hillsboro CCD, Washington County, Oregon",
            "Canby CCD, Clackamas County, Oregon",
            "Chehalem Mountains CCD, Washington County, Oregon",
            "Coast Range CCD, Washington County, Oregon",
            "Colton CCD, Clackamas County, Oregon",
            "Corbett CCD, Multnomah County, Oregon",
            "Estacada CCD, Clackamas County, Oregon",
            "Forest Grove-Cornelius CCD, Washington County, Oregon",
            "Gresham CCD, Multnomah County, Oregon",
            "Molalla CCD, Clackamas County, Oregon",
            "Mount Hood CCD, Clackamas County, Oregon",
            "Mulino CCD, Clackamas County, Oregon",
            "North Plains CCD, Washington County, Oregon",
            "Northwest Clackamas CCD, Clackamas County, Oregon",
            "Portland East CCD, Multnomah County, Oregon",
            "Portland West CCD, Multnomah County, Oregon",
            "Redland CCD, Clackamas County, Oregon",
            "Rockcreek CCD, Washington County, Oregon",
            "Sandy CCD, Clackamas County, Oregon",
            "Skyline CCD, Multnomah County, Oregon",
            "Wilsonville CCD, Clackamas County, Oregon",
            "Yoder CCD, Clackamas County, Oregon"
           ],
           "lat": [
            45.2879294,
            45.5226664,
            45.262692,
            45.3278962,
            45.5469616,
            45.1721192,
            45.5318,
            45.2877198,
            45.5195,
            45.5044715,
            45.1475439,
            45.2023855,
            45.2212415,
            45.59778499999999,
            45.4074434,
            45.5165442,
            45.4548406,
            45.3434553,
            45.5510497,
            45.3973141,
            45.5145659,
            45.3029344,
            45.1381769
           ],
           "legendgroup": "",
           "lon": [
            -122.5353423,
            -122.9898071,
            -122.6957402,
            -122.88871,
            -123.1386021,
            -122.4374803,
            -122.2912,
            -122.3351638,
            -123.1053,
            -122.4356657,
            -122.5771264,
            -122.1188945,
            -122.5816606,
            -123.0008365,
            -122.5688975,
            -122.6626984,
            -122.7325965,
            -122.4928664,
            -122.8741537,
            -122.2630704,
            -122.5863212,
            -122.7726687,
            -122.6817567
           ],
           "marker": {
            "color": [
             19.90223463687151,
             20.846678023850085,
             20.957865937072505,
             19.963089955627268,
             22.604230938739533,
             17.67049808429119,
             18.540827377084685,
             18.214667685255918,
             21.002948982601,
             18.748381128584644,
             21.90540137272456,
             19.53228003268864,
             18.99832705980761,
             21.387728459530024,
             19.757547607988855,
             17.260604583130178,
             14.338052191710728,
             17.00735912531539,
             20.684062971748975,
             22.576089936934466,
             12.024700598802395,
             16.35671514114628,
             17.00212601468883
            ],
            "coloraxis": "coloraxis",
            "size": [
             19.90223463687151,
             20.846678023850085,
             20.957865937072505,
             19.963089955627268,
             22.604230938739533,
             17.67049808429119,
             18.540827377084685,
             18.214667685255918,
             21.002948982601,
             18.748381128584644,
             21.90540137272456,
             19.53228003268864,
             18.99832705980761,
             21.387728459530024,
             19.757547607988855,
             17.260604583130178,
             14.338052191710728,
             17.00735912531539,
             20.684062971748975,
             22.576089936934466,
             12.024700598802395,
             16.35671514114628,
             17.00212601468883
            ],
            "sizemode": "area",
            "sizeref": 0.059481303557517524
           },
           "mode": "markers",
           "name": "",
           "showlegend": false,
           "subplot": "mapbox",
           "type": "scattermapbox"
          }
         ],
         "name": "2020"
        },
        {
         "data": [
          {
           "customdata": [
            [
             "Clackamas",
             19.914389410760034,
             2019
            ],
            [
             "Washington",
             21.41987513007284,
             2019
            ],
            [
             "Clackamas",
             22.07632445375636,
             2019
            ],
            [
             "Washington",
             17.60041841004184,
             2019
            ],
            [
             "Washington",
             20.994928538497003,
             2019
            ],
            [
             "Clackamas",
             20.367587795048937,
             2019
            ],
            [
             "Multnomah",
             19.150059171597633,
             2019
            ],
            [
             "Clackamas",
             19.64696312364425,
             2019
            ],
            [
             "Washington",
             21.624507227332458,
             2019
            ],
            [
             "Multnomah",
             19.783554196398235,
             2019
            ],
            [
             "Clackamas",
             22.203877005347593,
             2019
            ],
            [
             "Clackamas",
             21.38550646551724,
             2019
            ],
            [
             "Clackamas",
             19.257395760540412,
             2019
            ],
            [
             "Washington",
             20.66520535302261,
             2019
            ],
            [
             "Clackamas",
             20.518398806563898,
             2019
            ],
            [
             "Multnomah",
             17.870278718416255,
             2019
            ],
            [
             "Multnomah",
             14.725901992460958,
             2019
            ],
            [
             "Clackamas",
             16.956069123464502,
             2019
            ],
            [
             "Washington",
             20.38123300090662,
             2019
            ],
            [
             "Clackamas",
             22.434108527131784,
             2019
            ],
            [
             "Multnomah",
             16.0472972972973,
             2019
            ],
            [
             "Clackamas",
             16.6899802674852,
             2019
            ],
            [
             "Clackamas",
             16.54097698829229,
             2019
            ]
           ],
           "hovertemplate": "<b>%{hovertext}</b><br><br>Year=%{customdata[2]}<br>Affordability Index=%{marker.color}<br>Latitude=%{lat}<br>Longitude=%{lon}<br>County=%{customdata[0]}<extra></extra>",
           "hovertext": [
            "Beavercreek CCD, Clackamas County, Oregon",
            "Beaverton-Hillsboro CCD, Washington County, Oregon",
            "Canby CCD, Clackamas County, Oregon",
            "Chehalem Mountains CCD, Washington County, Oregon",
            "Coast Range CCD, Washington County, Oregon",
            "Colton CCD, Clackamas County, Oregon",
            "Corbett CCD, Multnomah County, Oregon",
            "Estacada CCD, Clackamas County, Oregon",
            "Forest Grove-Cornelius CCD, Washington County, Oregon",
            "Gresham CCD, Multnomah County, Oregon",
            "Molalla CCD, Clackamas County, Oregon",
            "Mount Hood CCD, Clackamas County, Oregon",
            "Mulino CCD, Clackamas County, Oregon",
            "North Plains CCD, Washington County, Oregon",
            "Northwest Clackamas CCD, Clackamas County, Oregon",
            "Portland East CCD, Multnomah County, Oregon",
            "Portland West CCD, Multnomah County, Oregon",
            "Redland CCD, Clackamas County, Oregon",
            "Rockcreek CCD, Washington County, Oregon",
            "Sandy CCD, Clackamas County, Oregon",
            "Skyline CCD, Multnomah County, Oregon",
            "Wilsonville CCD, Clackamas County, Oregon",
            "Yoder CCD, Clackamas County, Oregon"
           ],
           "lat": [
            45.2879294,
            45.5226664,
            45.262692,
            45.3278962,
            45.5469616,
            45.1721192,
            45.5318,
            45.2877198,
            45.5195,
            45.5044715,
            45.1475439,
            45.2023855,
            45.2212415,
            45.59778499999999,
            45.4074434,
            45.5165442,
            45.4548406,
            45.3434553,
            45.5510497,
            45.3973141,
            45.5145659,
            45.3029344,
            45.1381769
           ],
           "legendgroup": "",
           "lon": [
            -122.5353423,
            -122.9898071,
            -122.6957402,
            -122.88871,
            -123.1386021,
            -122.4374803,
            -122.2912,
            -122.3351638,
            -123.1053,
            -122.4356657,
            -122.5771264,
            -122.1188945,
            -122.5816606,
            -123.0008365,
            -122.5688975,
            -122.6626984,
            -122.7325965,
            -122.4928664,
            -122.8741537,
            -122.2630704,
            -122.5863212,
            -122.7726687,
            -122.6817567
           ],
           "marker": {
            "color": [
             19.914389410760034,
             21.41987513007284,
             22.07632445375636,
             17.60041841004184,
             20.994928538497003,
             20.367587795048937,
             19.150059171597633,
             19.64696312364425,
             21.624507227332458,
             19.783554196398235,
             22.203877005347593,
             21.38550646551724,
             19.257395760540412,
             20.66520535302261,
             20.518398806563898,
             17.870278718416255,
             14.725901992460958,
             16.956069123464502,
             20.38123300090662,
             22.434108527131784,
             16.0472972972973,
             16.6899802674852,
             16.54097698829229
            ],
            "coloraxis": "coloraxis",
            "size": [
             19.914389410760034,
             21.41987513007284,
             22.07632445375636,
             17.60041841004184,
             20.994928538497003,
             20.367587795048937,
             19.150059171597633,
             19.64696312364425,
             21.624507227332458,
             19.783554196398235,
             22.203877005347593,
             21.38550646551724,
             19.257395760540412,
             20.66520535302261,
             20.518398806563898,
             17.870278718416255,
             14.725901992460958,
             16.956069123464502,
             20.38123300090662,
             22.434108527131784,
             16.0472972972973,
             16.6899802674852,
             16.54097698829229
            ],
            "sizemode": "area",
            "sizeref": 0.059481303557517524
           },
           "mode": "markers",
           "name": "",
           "showlegend": false,
           "subplot": "mapbox",
           "type": "scattermapbox"
          }
         ],
         "name": "2019"
        }
       ],
       "layout": {
        "autosize": true,
        "coloraxis": {
         "colorbar": {
          "title": {
           "text": "Affordability Index"
          }
         },
         "colorscale": [
          [
           0,
           "red"
          ],
          [
           0.5,
           "yellow"
          ],
          [
           1,
           "green"
          ]
         ]
        },
        "height": 800,
        "legend": {
         "itemsizing": "constant",
         "tracegroupgap": 0
        },
        "mapbox": {
         "center": {
          "lat": 45.380827673913046,
          "lon": -122.64202430434783
         },
         "domain": {
          "x": [
           0,
           1
          ],
          "y": [
           0,
           1
          ]
         },
         "style": "carto-positron",
         "zoom": 8
        },
        "sliders": [
         {
          "active": 0,
          "currentvalue": {
           "prefix": "Year="
          },
          "len": 0.9,
          "pad": {
           "b": 10,
           "t": 60
          },
          "steps": [
           {
            "args": [
             [
              "2023"
             ],
             {
              "frame": {
               "duration": 0,
               "redraw": true
              },
              "fromcurrent": true,
              "mode": "immediate",
              "transition": {
               "duration": 0,
               "easing": "linear"
              }
             }
            ],
            "label": "2023",
            "method": "animate"
           },
           {
            "args": [
             [
              "2022"
             ],
             {
              "frame": {
               "duration": 0,
               "redraw": true
              },
              "fromcurrent": true,
              "mode": "immediate",
              "transition": {
               "duration": 0,
               "easing": "linear"
              }
             }
            ],
            "label": "2022",
            "method": "animate"
           },
           {
            "args": [
             [
              "2021"
             ],
             {
              "frame": {
               "duration": 0,
               "redraw": true
              },
              "fromcurrent": true,
              "mode": "immediate",
              "transition": {
               "duration": 0,
               "easing": "linear"
              }
             }
            ],
            "label": "2021",
            "method": "animate"
           },
           {
            "args": [
             [
              "2020"
             ],
             {
              "frame": {
               "duration": 0,
               "redraw": true
              },
              "fromcurrent": true,
              "mode": "immediate",
              "transition": {
               "duration": 0,
               "easing": "linear"
              }
             }
            ],
            "label": "2020",
            "method": "animate"
           },
           {
            "args": [
             [
              "2019"
             ],
             {
              "frame": {
               "duration": 0,
               "redraw": true
              },
              "fromcurrent": true,
              "mode": "immediate",
              "transition": {
               "duration": 0,
               "easing": "linear"
              }
             }
            ],
            "label": "2019",
            "method": "animate"
           }
          ],
          "x": 0.1,
          "xanchor": "left",
          "y": 0,
          "yanchor": "top"
         }
        ],
        "template": {
         "data": {
          "bar": [
           {
            "error_x": {
             "color": "#2a3f5f"
            },
            "error_y": {
             "color": "#2a3f5f"
            },
            "marker": {
             "line": {
              "color": "#E5ECF6",
              "width": 0.5
             },
             "pattern": {
              "fillmode": "overlay",
              "size": 10,
              "solidity": 0.2
             }
            },
            "type": "bar"
           }
          ],
          "barpolar": [
           {
            "marker": {
             "line": {
              "color": "#E5ECF6",
              "width": 0.5
             },
             "pattern": {
              "fillmode": "overlay",
              "size": 10,
              "solidity": 0.2
             }
            },
            "type": "barpolar"
           }
          ],
          "carpet": [
           {
            "aaxis": {
             "endlinecolor": "#2a3f5f",
             "gridcolor": "white",
             "linecolor": "white",
             "minorgridcolor": "white",
             "startlinecolor": "#2a3f5f"
            },
            "baxis": {
             "endlinecolor": "#2a3f5f",
             "gridcolor": "white",
             "linecolor": "white",
             "minorgridcolor": "white",
             "startlinecolor": "#2a3f5f"
            },
            "type": "carpet"
           }
          ],
          "choropleth": [
           {
            "colorbar": {
             "outlinewidth": 0,
             "ticks": ""
            },
            "type": "choropleth"
           }
          ],
          "contour": [
           {
            "colorbar": {
             "outlinewidth": 0,
             "ticks": ""
            },
            "colorscale": [
             [
              0,
              "#0d0887"
             ],
             [
              0.1111111111111111,
              "#46039f"
             ],
             [
              0.2222222222222222,
              "#7201a8"
             ],
             [
              0.3333333333333333,
              "#9c179e"
             ],
             [
              0.4444444444444444,
              "#bd3786"
             ],
             [
              0.5555555555555556,
              "#d8576b"
             ],
             [
              0.6666666666666666,
              "#ed7953"
             ],
             [
              0.7777777777777778,
              "#fb9f3a"
             ],
             [
              0.8888888888888888,
              "#fdca26"
             ],
             [
              1,
              "#f0f921"
             ]
            ],
            "type": "contour"
           }
          ],
          "contourcarpet": [
           {
            "colorbar": {
             "outlinewidth": 0,
             "ticks": ""
            },
            "type": "contourcarpet"
           }
          ],
          "heatmap": [
           {
            "colorbar": {
             "outlinewidth": 0,
             "ticks": ""
            },
            "colorscale": [
             [
              0,
              "#0d0887"
             ],
             [
              0.1111111111111111,
              "#46039f"
             ],
             [
              0.2222222222222222,
              "#7201a8"
             ],
             [
              0.3333333333333333,
              "#9c179e"
             ],
             [
              0.4444444444444444,
              "#bd3786"
             ],
             [
              0.5555555555555556,
              "#d8576b"
             ],
             [
              0.6666666666666666,
              "#ed7953"
             ],
             [
              0.7777777777777778,
              "#fb9f3a"
             ],
             [
              0.8888888888888888,
              "#fdca26"
             ],
             [
              1,
              "#f0f921"
             ]
            ],
            "type": "heatmap"
           }
          ],
          "heatmapgl": [
           {
            "colorbar": {
             "outlinewidth": 0,
             "ticks": ""
            },
            "colorscale": [
             [
              0,
              "#0d0887"
             ],
             [
              0.1111111111111111,
              "#46039f"
             ],
             [
              0.2222222222222222,
              "#7201a8"
             ],
             [
              0.3333333333333333,
              "#9c179e"
             ],
             [
              0.4444444444444444,
              "#bd3786"
             ],
             [
              0.5555555555555556,
              "#d8576b"
             ],
             [
              0.6666666666666666,
              "#ed7953"
             ],
             [
              0.7777777777777778,
              "#fb9f3a"
             ],
             [
              0.8888888888888888,
              "#fdca26"
             ],
             [
              1,
              "#f0f921"
             ]
            ],
            "type": "heatmapgl"
           }
          ],
          "histogram": [
           {
            "marker": {
             "pattern": {
              "fillmode": "overlay",
              "size": 10,
              "solidity": 0.2
             }
            },
            "type": "histogram"
           }
          ],
          "histogram2d": [
           {
            "colorbar": {
             "outlinewidth": 0,
             "ticks": ""
            },
            "colorscale": [
             [
              0,
              "#0d0887"
             ],
             [
              0.1111111111111111,
              "#46039f"
             ],
             [
              0.2222222222222222,
              "#7201a8"
             ],
             [
              0.3333333333333333,
              "#9c179e"
             ],
             [
              0.4444444444444444,
              "#bd3786"
             ],
             [
              0.5555555555555556,
              "#d8576b"
             ],
             [
              0.6666666666666666,
              "#ed7953"
             ],
             [
              0.7777777777777778,
              "#fb9f3a"
             ],
             [
              0.8888888888888888,
              "#fdca26"
             ],
             [
              1,
              "#f0f921"
             ]
            ],
            "type": "histogram2d"
           }
          ],
          "histogram2dcontour": [
           {
            "colorbar": {
             "outlinewidth": 0,
             "ticks": ""
            },
            "colorscale": [
             [
              0,
              "#0d0887"
             ],
             [
              0.1111111111111111,
              "#46039f"
             ],
             [
              0.2222222222222222,
              "#7201a8"
             ],
             [
              0.3333333333333333,
              "#9c179e"
             ],
             [
              0.4444444444444444,
              "#bd3786"
             ],
             [
              0.5555555555555556,
              "#d8576b"
             ],
             [
              0.6666666666666666,
              "#ed7953"
             ],
             [
              0.7777777777777778,
              "#fb9f3a"
             ],
             [
              0.8888888888888888,
              "#fdca26"
             ],
             [
              1,
              "#f0f921"
             ]
            ],
            "type": "histogram2dcontour"
           }
          ],
          "mesh3d": [
           {
            "colorbar": {
             "outlinewidth": 0,
             "ticks": ""
            },
            "type": "mesh3d"
           }
          ],
          "parcoords": [
           {
            "line": {
             "colorbar": {
              "outlinewidth": 0,
              "ticks": ""
             }
            },
            "type": "parcoords"
           }
          ],
          "pie": [
           {
            "automargin": true,
            "type": "pie"
           }
          ],
          "scatter": [
           {
            "fillpattern": {
             "fillmode": "overlay",
             "size": 10,
             "solidity": 0.2
            },
            "type": "scatter"
           }
          ],
          "scatter3d": [
           {
            "line": {
             "colorbar": {
              "outlinewidth": 0,
              "ticks": ""
             }
            },
            "marker": {
             "colorbar": {
              "outlinewidth": 0,
              "ticks": ""
             }
            },
            "type": "scatter3d"
           }
          ],
          "scattercarpet": [
           {
            "marker": {
             "colorbar": {
              "outlinewidth": 0,
              "ticks": ""
             }
            },
            "type": "scattercarpet"
           }
          ],
          "scattergeo": [
           {
            "marker": {
             "colorbar": {
              "outlinewidth": 0,
              "ticks": ""
             }
            },
            "type": "scattergeo"
           }
          ],
          "scattergl": [
           {
            "marker": {
             "colorbar": {
              "outlinewidth": 0,
              "ticks": ""
             }
            },
            "type": "scattergl"
           }
          ],
          "scattermapbox": [
           {
            "marker": {
             "colorbar": {
              "outlinewidth": 0,
              "ticks": ""
             }
            },
            "type": "scattermapbox"
           }
          ],
          "scatterpolar": [
           {
            "marker": {
             "colorbar": {
              "outlinewidth": 0,
              "ticks": ""
             }
            },
            "type": "scatterpolar"
           }
          ],
          "scatterpolargl": [
           {
            "marker": {
             "colorbar": {
              "outlinewidth": 0,
              "ticks": ""
             }
            },
            "type": "scatterpolargl"
           }
          ],
          "scatterternary": [
           {
            "marker": {
             "colorbar": {
              "outlinewidth": 0,
              "ticks": ""
             }
            },
            "type": "scatterternary"
           }
          ],
          "surface": [
           {
            "colorbar": {
             "outlinewidth": 0,
             "ticks": ""
            },
            "colorscale": [
             [
              0,
              "#0d0887"
             ],
             [
              0.1111111111111111,
              "#46039f"
             ],
             [
              0.2222222222222222,
              "#7201a8"
             ],
             [
              0.3333333333333333,
              "#9c179e"
             ],
             [
              0.4444444444444444,
              "#bd3786"
             ],
             [
              0.5555555555555556,
              "#d8576b"
             ],
             [
              0.6666666666666666,
              "#ed7953"
             ],
             [
              0.7777777777777778,
              "#fb9f3a"
             ],
             [
              0.8888888888888888,
              "#fdca26"
             ],
             [
              1,
              "#f0f921"
             ]
            ],
            "type": "surface"
           }
          ],
          "table": [
           {
            "cells": {
             "fill": {
              "color": "#EBF0F8"
             },
             "line": {
              "color": "white"
             }
            },
            "header": {
             "fill": {
              "color": "#C8D4E3"
             },
             "line": {
              "color": "white"
             }
            },
            "type": "table"
           }
          ]
         },
         "layout": {
          "annotationdefaults": {
           "arrowcolor": "#2a3f5f",
           "arrowhead": 0,
           "arrowwidth": 1
          },
          "autotypenumbers": "strict",
          "coloraxis": {
           "colorbar": {
            "outlinewidth": 0,
            "ticks": ""
           }
          },
          "colorscale": {
           "diverging": [
            [
             0,
             "#8e0152"
            ],
            [
             0.1,
             "#c51b7d"
            ],
            [
             0.2,
             "#de77ae"
            ],
            [
             0.3,
             "#f1b6da"
            ],
            [
             0.4,
             "#fde0ef"
            ],
            [
             0.5,
             "#f7f7f7"
            ],
            [
             0.6,
             "#e6f5d0"
            ],
            [
             0.7,
             "#b8e186"
            ],
            [
             0.8,
             "#7fbc41"
            ],
            [
             0.9,
             "#4d9221"
            ],
            [
             1,
             "#276419"
            ]
           ],
           "sequential": [
            [
             0,
             "#0d0887"
            ],
            [
             0.1111111111111111,
             "#46039f"
            ],
            [
             0.2222222222222222,
             "#7201a8"
            ],
            [
             0.3333333333333333,
             "#9c179e"
            ],
            [
             0.4444444444444444,
             "#bd3786"
            ],
            [
             0.5555555555555556,
             "#d8576b"
            ],
            [
             0.6666666666666666,
             "#ed7953"
            ],
            [
             0.7777777777777778,
             "#fb9f3a"
            ],
            [
             0.8888888888888888,
             "#fdca26"
            ],
            [
             1,
             "#f0f921"
            ]
           ],
           "sequentialminus": [
            [
             0,
             "#0d0887"
            ],
            [
             0.1111111111111111,
             "#46039f"
            ],
            [
             0.2222222222222222,
             "#7201a8"
            ],
            [
             0.3333333333333333,
             "#9c179e"
            ],
            [
             0.4444444444444444,
             "#bd3786"
            ],
            [
             0.5555555555555556,
             "#d8576b"
            ],
            [
             0.6666666666666666,
             "#ed7953"
            ],
            [
             0.7777777777777778,
             "#fb9f3a"
            ],
            [
             0.8888888888888888,
             "#fdca26"
            ],
            [
             1,
             "#f0f921"
            ]
           ]
          },
          "colorway": [
           "#636efa",
           "#EF553B",
           "#00cc96",
           "#ab63fa",
           "#FFA15A",
           "#19d3f3",
           "#FF6692",
           "#B6E880",
           "#FF97FF",
           "#FECB52"
          ],
          "font": {
           "color": "#2a3f5f"
          },
          "geo": {
           "bgcolor": "white",
           "lakecolor": "white",
           "landcolor": "#E5ECF6",
           "showlakes": true,
           "showland": true,
           "subunitcolor": "white"
          },
          "hoverlabel": {
           "align": "left"
          },
          "hovermode": "closest",
          "mapbox": {
           "style": "light"
          },
          "paper_bgcolor": "white",
          "plot_bgcolor": "#E5ECF6",
          "polar": {
           "angularaxis": {
            "gridcolor": "white",
            "linecolor": "white",
            "ticks": ""
           },
           "bgcolor": "#E5ECF6",
           "radialaxis": {
            "gridcolor": "white",
            "linecolor": "white",
            "ticks": ""
           }
          },
          "scene": {
           "xaxis": {
            "backgroundcolor": "#E5ECF6",
            "gridcolor": "white",
            "gridwidth": 2,
            "linecolor": "white",
            "showbackground": true,
            "ticks": "",
            "zerolinecolor": "white"
           },
           "yaxis": {
            "backgroundcolor": "#E5ECF6",
            "gridcolor": "white",
            "gridwidth": 2,
            "linecolor": "white",
            "showbackground": true,
            "ticks": "",
            "zerolinecolor": "white"
           },
           "zaxis": {
            "backgroundcolor": "#E5ECF6",
            "gridcolor": "white",
            "gridwidth": 2,
            "linecolor": "white",
            "showbackground": true,
            "ticks": "",
            "zerolinecolor": "white"
           }
          },
          "shapedefaults": {
           "line": {
            "color": "#2a3f5f"
           }
          },
          "ternary": {
           "aaxis": {
            "gridcolor": "white",
            "linecolor": "white",
            "ticks": ""
           },
           "baxis": {
            "gridcolor": "white",
            "linecolor": "white",
            "ticks": ""
           },
           "bgcolor": "#E5ECF6",
           "caxis": {
            "gridcolor": "white",
            "linecolor": "white",
            "ticks": ""
           }
          },
          "title": {
           "x": 0.05
          },
          "xaxis": {
           "automargin": true,
           "gridcolor": "white",
           "linecolor": "white",
           "ticks": "",
           "title": {
            "standoff": 15
           },
           "zerolinecolor": "white",
           "zerolinewidth": 2
          },
          "yaxis": {
           "automargin": true,
           "gridcolor": "white",
           "linecolor": "white",
           "ticks": "",
           "title": {
            "standoff": 15
           },
           "zerolinecolor": "white",
           "zerolinewidth": 2
          }
         }
        },
        "title": {
         "text": "Affordability Index by Subdivisions Over the Years"
        },
        "updatemenus": [
         {
          "buttons": [
           {
            "args": [
             null,
             {
              "frame": {
               "duration": 500,
               "redraw": true
              },
              "fromcurrent": true,
              "mode": "immediate",
              "transition": {
               "duration": 500,
               "easing": "linear"
              }
             }
            ],
            "label": "&#9654;",
            "method": "animate"
           },
           {
            "args": [
             [
              null
             ],
             {
              "frame": {
               "duration": 0,
               "redraw": true
              },
              "fromcurrent": true,
              "mode": "immediate",
              "transition": {
               "duration": 0,
               "easing": "linear"
              }
             }
            ],
            "label": "&#9724;",
            "method": "animate"
           }
          ],
          "direction": "left",
          "pad": {
           "r": 10,
           "t": 70
          },
          "showactive": false,
          "type": "buttons",
          "x": 0.1,
          "xanchor": "right",
          "y": 0,
          "yanchor": "top"
         }
        ],
        "width": 1200
       }
      }
     },
     "metadata": {},
     "output_type": "display_data"
    }
   ],
   "source": [
    "\n",
    "# Load the cleaned dataset\n",
    "file_path = \"Final.csv\"  \n",
    "affordability_df = pd.read_csv(file_path)\n",
    "\n",
    "# Calculate the Affordability Index\n",
    "affordability_df[\"Affordability Index\"] = (affordability_df[\"Median Household Income\"] / affordability_df[\"Median Home Value\"]) * 100\n",
    "\n",
    "# Ensure \"Year\" is numeric\n",
    "affordability_df[\"Year\"] = pd.to_numeric(affordability_df[\"Year\"], errors=\"coerce\")\n",
    "\n",
    "# Drop rows with missing latitude and longitude values\n",
    "affordability_df = affordability_df.dropna(subset=[\"Latitude\", \"Longitude\"])\n",
    "\n",
    "# Create an interactive scatter map for Affordability Index\n",
    "fig = px.scatter_mapbox(\n",
    "    affordability_df,\n",
    "    lat='Latitude',\n",
    "    lon='Longitude',\n",
    "    size=\"Affordability Index\",\n",
    "    color=\"Affordability Index\",\n",
    "    hover_name=\"County Subdivision\",\n",
    "    hover_data=[\"County\", \"Affordability Index\", \"Year\"],\n",
    "    animation_frame=\"Year\",  # Include all years with animation\n",
    "    mapbox_style=\"carto-positron\",\n",
    "    color_continuous_scale=[\"red\", \"yellow\", \"green\"],  # Red (Less Affordable) → Green (More Affordable)\n",
    "    title=\"Affordability Index by Subdivisions Over the Years\"\n",
    ")\n",
    "\n",
    "# Increase figure size\n",
    "fig.update_layout(\n",
    "    autosize=True,\n",
    "    width=1200,\n",
    "    height=800\n",
    ")\n",
    "\n",
    "# Show the interactive map\n",
    "fig.show()\n"
   ]
  }
 ],
 "metadata": {
  "kernelspec": {
   "display_name": "dev",
   "language": "python",
   "name": "python3"
  },
  "language_info": {
   "codemirror_mode": {
    "name": "ipython",
    "version": 3
   },
   "file_extension": ".py",
   "mimetype": "text/x-python",
   "name": "python",
   "nbconvert_exporter": "python",
   "pygments_lexer": "ipython3",
   "version": "3.10.16"
  },
  "varInspector": {
   "cols": {
    "lenName": 16,
    "lenType": 16,
    "lenVar": 40
   },
   "kernels_config": {
    "python": {
     "delete_cmd_postfix": "",
     "delete_cmd_prefix": "del ",
     "library": "var_list.py",
     "varRefreshCmd": "print(var_dic_list())"
    },
    "r": {
     "delete_cmd_postfix": ") ",
     "delete_cmd_prefix": "rm(",
     "library": "var_list.r",
     "varRefreshCmd": "cat(var_dic_list()) "
    }
   },
   "types_to_exclude": [
    "module",
    "function",
    "builtin_function_or_method",
    "instance",
    "_Feature"
   ],
   "window_display": false
  }
 },
 "nbformat": 4,
 "nbformat_minor": 2
}
