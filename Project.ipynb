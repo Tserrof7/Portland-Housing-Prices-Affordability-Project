{
 "cells": [
  {
   "cell_type": "code",
   "execution_count": 35,
   "metadata": {},
   "outputs": [],
   "source": [
    "import requests\n",
    "import pandas as pd\n",
    "import matplotlib.pyplot as plt\n",
    "import seaborn as sns\n",
    "import plotly.express as px\n"
   ]
  },
  {
   "cell_type": "code",
   "execution_count": 36,
   "metadata": {},
   "outputs": [
    {
     "data": {
      "text/html": [
       "<div>\n",
       "<style scoped>\n",
       "    .dataframe tbody tr th:only-of-type {\n",
       "        vertical-align: middle;\n",
       "    }\n",
       "\n",
       "    .dataframe tbody tr th {\n",
       "        vertical-align: top;\n",
       "    }\n",
       "\n",
       "    .dataframe thead th {\n",
       "        text-align: right;\n",
       "    }\n",
       "</style>\n",
       "<table border=\"1\" class=\"dataframe\">\n",
       "  <thead>\n",
       "    <tr style=\"text-align: right;\">\n",
       "      <th></th>\n",
       "      <th>Subdivision Name</th>\n",
       "      <th>County</th>\n",
       "      <th>Year_of_Data</th>\n",
       "      <th>Median_Home_Value</th>\n",
       "    </tr>\n",
       "  </thead>\n",
       "  <tbody>\n",
       "    <tr>\n",
       "      <th>0</th>\n",
       "      <td>Gresham CCD</td>\n",
       "      <td>Multnomah County</td>\n",
       "      <td>2019</td>\n",
       "      <td>294300</td>\n",
       "    </tr>\n",
       "    <tr>\n",
       "      <th>1</th>\n",
       "      <td>Portland East CCD</td>\n",
       "      <td>Multnomah County</td>\n",
       "      <td>2019</td>\n",
       "      <td>383900</td>\n",
       "    </tr>\n",
       "    <tr>\n",
       "      <th>2</th>\n",
       "      <td>Portland West CCD</td>\n",
       "      <td>Multnomah County</td>\n",
       "      <td>2019</td>\n",
       "      <td>557100</td>\n",
       "    </tr>\n",
       "    <tr>\n",
       "      <th>3</th>\n",
       "      <td>Corbett CCD</td>\n",
       "      <td>Multnomah County</td>\n",
       "      <td>2019</td>\n",
       "      <td>422500</td>\n",
       "    </tr>\n",
       "    <tr>\n",
       "      <th>4</th>\n",
       "      <td>Skyline CCD</td>\n",
       "      <td>Multnomah County</td>\n",
       "      <td>2019</td>\n",
       "      <td>592000</td>\n",
       "    </tr>\n",
       "    <tr>\n",
       "      <th>...</th>\n",
       "      <td>...</td>\n",
       "      <td>...</td>\n",
       "      <td>...</td>\n",
       "      <td>...</td>\n",
       "    </tr>\n",
       "    <tr>\n",
       "      <th>110</th>\n",
       "      <td>Chehalem Mountains CCD</td>\n",
       "      <td>Washington County</td>\n",
       "      <td>2023</td>\n",
       "      <td>645300</td>\n",
       "    </tr>\n",
       "    <tr>\n",
       "      <th>111</th>\n",
       "      <td>Coast Range CCD</td>\n",
       "      <td>Washington County</td>\n",
       "      <td>2023</td>\n",
       "      <td>550200</td>\n",
       "    </tr>\n",
       "    <tr>\n",
       "      <th>112</th>\n",
       "      <td>Forest Grove-Cornelius CCD</td>\n",
       "      <td>Washington County</td>\n",
       "      <td>2023</td>\n",
       "      <td>457200</td>\n",
       "    </tr>\n",
       "    <tr>\n",
       "      <th>113</th>\n",
       "      <td>North Plains CCD</td>\n",
       "      <td>Washington County</td>\n",
       "      <td>2023</td>\n",
       "      <td>645200</td>\n",
       "    </tr>\n",
       "    <tr>\n",
       "      <th>114</th>\n",
       "      <td>Rockcreek CCD</td>\n",
       "      <td>Washington County</td>\n",
       "      <td>2023</td>\n",
       "      <td>614800</td>\n",
       "    </tr>\n",
       "  </tbody>\n",
       "</table>\n",
       "<p>115 rows × 4 columns</p>\n",
       "</div>"
      ],
      "text/plain": [
       "               Subdivision Name             County  Year_of_Data  \\\n",
       "0                   Gresham CCD   Multnomah County          2019   \n",
       "1             Portland East CCD   Multnomah County          2019   \n",
       "2             Portland West CCD   Multnomah County          2019   \n",
       "3                   Corbett CCD   Multnomah County          2019   \n",
       "4                   Skyline CCD   Multnomah County          2019   \n",
       "..                          ...                ...           ...   \n",
       "110      Chehalem Mountains CCD  Washington County          2023   \n",
       "111             Coast Range CCD  Washington County          2023   \n",
       "112  Forest Grove-Cornelius CCD  Washington County          2023   \n",
       "113            North Plains CCD  Washington County          2023   \n",
       "114               Rockcreek CCD  Washington County          2023   \n",
       "\n",
       "     Median_Home_Value  \n",
       "0               294300  \n",
       "1               383900  \n",
       "2               557100  \n",
       "3               422500  \n",
       "4               592000  \n",
       "..                 ...  \n",
       "110             645300  \n",
       "111             550200  \n",
       "112             457200  \n",
       "113             645200  \n",
       "114             614800  \n",
       "\n",
       "[115 rows x 4 columns]"
      ]
     },
     "execution_count": 36,
     "metadata": {},
     "output_type": "execute_result"
    }
   ],
   "source": [
    "\n",
    "# Load the dataset\n",
    "file_path = 'Subdivisions_home_values.csv'\n",
    "data = pd.read_csv(file_path)\n",
    "\n",
    "# Splitting the 'Subdivision' column into 'Subdivision Name', 'County', and 'State'\n",
    "data[['Subdivision Name', 'County', 'State']] = data['Subdivision'].str.extract(\n",
    "    r'^(.*?),\\s*(.*? County),\\s*(.*?)$'\n",
    ")\n",
    "\n",
    "# Dropping redundant columns\n",
    "columns_to_drop = ['state', 'county', 'county subdivision', 'Subdivision']\n",
    "cleaned_data = data.drop(columns=columns_to_drop)\n",
    "\n",
    "# Renaming columns for better readability\n",
    "cleaned_data = cleaned_data.rename(\n",
    "    columns={\n",
    "        'Median Home Value': 'Median_Home_Value',\n",
    "        'Year': 'Year_of_Data'})\n",
    "\n",
    "# Rearranging columns for better organization\n",
    "cleaned_data = cleaned_data[['Subdivision Name', 'County', 'Year_of_Data', 'Median_Home_Value']]\n",
    "\n",
    "# Resetting the index\n",
    "cleaned_data.reset_index(drop=True, inplace=True)\n",
    "cleaned_data\n",
    "\n",
    "\n"
   ]
  },
  {
   "cell_type": "code",
   "execution_count": 37,
   "metadata": {},
   "outputs": [
    {
     "name": "stdout",
     "output_type": "stream",
     "text": [
      "Number of unique subdivisions: 23\n"
     ]
    },
    {
     "data": {
      "text/plain": [
       "array(['Gresham CCD', 'Portland East CCD', 'Portland West CCD',\n",
       "       'Corbett CCD', 'Skyline CCD', 'Beavercreek CCD', 'Wilsonville CCD',\n",
       "       'Yoder CCD', 'Estacada CCD', 'Redland CCD',\n",
       "       'Northwest Clackamas CCD', 'Canby CCD', 'Molalla CCD',\n",
       "       'Mount Hood CCD', 'Colton CCD', 'Sandy CCD', 'Mulino CCD',\n",
       "       'Beaverton-Hillsboro CCD', 'North Plains CCD',\n",
       "       'Forest Grove-Cornelius CCD', 'Chehalem Mountains CCD',\n",
       "       'Rockcreek CCD', 'Coast Range CCD'], dtype=object)"
      ]
     },
     "execution_count": 37,
     "metadata": {},
     "output_type": "execute_result"
    }
   ],
   "source": [
    "# Calculate the number of unique subdivisions\n",
    "unique_subdivisions = cleaned_data['Subdivision Name'].nunique()\n",
    "print(f\"Number of unique subdivisions: {unique_subdivisions}\")\n",
    "\n",
    "# Get the list of unique subdivisions\n",
    "unique_subdivision_list = cleaned_data['Subdivision Name'].unique()\n",
    "unique_subdivision_list\n"
   ]
  },
  {
   "cell_type": "code",
   "execution_count": 38,
   "metadata": {},
   "outputs": [
    {
     "data": {
      "text/html": [
       "<div>\n",
       "<style scoped>\n",
       "    .dataframe tbody tr th:only-of-type {\n",
       "        vertical-align: middle;\n",
       "    }\n",
       "\n",
       "    .dataframe tbody tr th {\n",
       "        vertical-align: top;\n",
       "    }\n",
       "\n",
       "    .dataframe thead th {\n",
       "        text-align: right;\n",
       "    }\n",
       "</style>\n",
       "<table border=\"1\" class=\"dataframe\">\n",
       "  <thead>\n",
       "    <tr style=\"text-align: right;\">\n",
       "      <th>Year_of_Data</th>\n",
       "      <th>Subdivision Name</th>\n",
       "      <th>2019</th>\n",
       "      <th>2020</th>\n",
       "      <th>2021</th>\n",
       "      <th>2022</th>\n",
       "      <th>2023</th>\n",
       "    </tr>\n",
       "  </thead>\n",
       "  <tbody>\n",
       "    <tr>\n",
       "      <th>0</th>\n",
       "      <td>Beavercreek CCD</td>\n",
       "      <td>468400.0</td>\n",
       "      <td>501200.0</td>\n",
       "      <td>522900.0</td>\n",
       "      <td>644600.0</td>\n",
       "      <td>660600.0</td>\n",
       "    </tr>\n",
       "    <tr>\n",
       "      <th>1</th>\n",
       "      <td>Beaverton-Hillsboro CCD</td>\n",
       "      <td>384400.0</td>\n",
       "      <td>410900.0</td>\n",
       "      <td>436300.0</td>\n",
       "      <td>501200.0</td>\n",
       "      <td>556000.0</td>\n",
       "    </tr>\n",
       "    <tr>\n",
       "      <th>2</th>\n",
       "      <td>Canby CCD</td>\n",
       "      <td>334100.0</td>\n",
       "      <td>365500.0</td>\n",
       "      <td>390600.0</td>\n",
       "      <td>455000.0</td>\n",
       "      <td>484700.0</td>\n",
       "    </tr>\n",
       "    <tr>\n",
       "      <th>3</th>\n",
       "      <td>Chehalem Mountains CCD</td>\n",
       "      <td>478000.0</td>\n",
       "      <td>495800.0</td>\n",
       "      <td>549600.0</td>\n",
       "      <td>660500.0</td>\n",
       "      <td>645300.0</td>\n",
       "    </tr>\n",
       "    <tr>\n",
       "      <th>4</th>\n",
       "      <td>Coast Range CCD</td>\n",
       "      <td>433800.0</td>\n",
       "      <td>453800.0</td>\n",
       "      <td>455700.0</td>\n",
       "      <td>507000.0</td>\n",
       "      <td>550200.0</td>\n",
       "    </tr>\n",
       "    <tr>\n",
       "      <th>5</th>\n",
       "      <td>Colton CCD</td>\n",
       "      <td>347400.0</td>\n",
       "      <td>391500.0</td>\n",
       "      <td>440700.0</td>\n",
       "      <td>493300.0</td>\n",
       "      <td>555400.0</td>\n",
       "    </tr>\n",
       "    <tr>\n",
       "      <th>6</th>\n",
       "      <td>Corbett CCD</td>\n",
       "      <td>422500.0</td>\n",
       "      <td>461700.0</td>\n",
       "      <td>496400.0</td>\n",
       "      <td>609400.0</td>\n",
       "      <td>654100.0</td>\n",
       "    </tr>\n",
       "    <tr>\n",
       "      <th>7</th>\n",
       "      <td>Estacada CCD</td>\n",
       "      <td>368800.0</td>\n",
       "      <td>392700.0</td>\n",
       "      <td>431200.0</td>\n",
       "      <td>511800.0</td>\n",
       "      <td>572400.0</td>\n",
       "    </tr>\n",
       "    <tr>\n",
       "      <th>8</th>\n",
       "      <td>Forest Grove-Cornelius CCD</td>\n",
       "      <td>304400.0</td>\n",
       "      <td>339100.0</td>\n",
       "      <td>366600.0</td>\n",
       "      <td>429100.0</td>\n",
       "      <td>457200.0</td>\n",
       "    </tr>\n",
       "    <tr>\n",
       "      <th>9</th>\n",
       "      <td>Gresham CCD</td>\n",
       "      <td>294300.0</td>\n",
       "      <td>324300.0</td>\n",
       "      <td>348600.0</td>\n",
       "      <td>410900.0</td>\n",
       "      <td>438300.0</td>\n",
       "    </tr>\n",
       "    <tr>\n",
       "      <th>10</th>\n",
       "      <td>Molalla CCD</td>\n",
       "      <td>299200.0</td>\n",
       "      <td>335100.0</td>\n",
       "      <td>350100.0</td>\n",
       "      <td>405600.0</td>\n",
       "      <td>438300.0</td>\n",
       "    </tr>\n",
       "    <tr>\n",
       "      <th>11</th>\n",
       "      <td>Mount Hood CCD</td>\n",
       "      <td>371200.0</td>\n",
       "      <td>367100.0</td>\n",
       "      <td>389100.0</td>\n",
       "      <td>468900.0</td>\n",
       "      <td>473300.0</td>\n",
       "    </tr>\n",
       "    <tr>\n",
       "      <th>12</th>\n",
       "      <td>Mulino CCD</td>\n",
       "      <td>429300.0</td>\n",
       "      <td>478200.0</td>\n",
       "      <td>528700.0</td>\n",
       "      <td>620200.0</td>\n",
       "      <td>650000.0</td>\n",
       "    </tr>\n",
       "    <tr>\n",
       "      <th>13</th>\n",
       "      <td>North Plains CCD</td>\n",
       "      <td>433400.0</td>\n",
       "      <td>459600.0</td>\n",
       "      <td>497400.0</td>\n",
       "      <td>614700.0</td>\n",
       "      <td>645200.0</td>\n",
       "    </tr>\n",
       "    <tr>\n",
       "      <th>14</th>\n",
       "      <td>Northwest Clackamas CCD</td>\n",
       "      <td>402200.0</td>\n",
       "      <td>430600.0</td>\n",
       "      <td>462700.0</td>\n",
       "      <td>546200.0</td>\n",
       "      <td>593600.0</td>\n",
       "    </tr>\n",
       "    <tr>\n",
       "      <th>15</th>\n",
       "      <td>Portland East CCD</td>\n",
       "      <td>383900.0</td>\n",
       "      <td>410200.0</td>\n",
       "      <td>437900.0</td>\n",
       "      <td>491300.0</td>\n",
       "      <td>525000.0</td>\n",
       "    </tr>\n",
       "    <tr>\n",
       "      <th>16</th>\n",
       "      <td>Portland West CCD</td>\n",
       "      <td>557100.0</td>\n",
       "      <td>586300.0</td>\n",
       "      <td>604000.0</td>\n",
       "      <td>663000.0</td>\n",
       "      <td>694000.0</td>\n",
       "    </tr>\n",
       "    <tr>\n",
       "      <th>17</th>\n",
       "      <td>Redland CCD</td>\n",
       "      <td>480300.0</td>\n",
       "      <td>475600.0</td>\n",
       "      <td>507200.0</td>\n",
       "      <td>619100.0</td>\n",
       "      <td>660800.0</td>\n",
       "    </tr>\n",
       "    <tr>\n",
       "      <th>18</th>\n",
       "      <td>Rockcreek CCD</td>\n",
       "      <td>441200.0</td>\n",
       "      <td>463700.0</td>\n",
       "      <td>488800.0</td>\n",
       "      <td>573700.0</td>\n",
       "      <td>614800.0</td>\n",
       "    </tr>\n",
       "    <tr>\n",
       "      <th>19</th>\n",
       "      <td>Sandy CCD</td>\n",
       "      <td>348300.0</td>\n",
       "      <td>364700.0</td>\n",
       "      <td>385100.0</td>\n",
       "      <td>473900.0</td>\n",
       "      <td>488200.0</td>\n",
       "    </tr>\n",
       "    <tr>\n",
       "      <th>20</th>\n",
       "      <td>Skyline CCD</td>\n",
       "      <td>592000.0</td>\n",
       "      <td>668000.0</td>\n",
       "      <td>705300.0</td>\n",
       "      <td>747100.0</td>\n",
       "      <td>780100.0</td>\n",
       "    </tr>\n",
       "    <tr>\n",
       "      <th>21</th>\n",
       "      <td>Wilsonville CCD</td>\n",
       "      <td>456100.0</td>\n",
       "      <td>467600.0</td>\n",
       "      <td>486500.0</td>\n",
       "      <td>579200.0</td>\n",
       "      <td>605600.0</td>\n",
       "    </tr>\n",
       "    <tr>\n",
       "      <th>22</th>\n",
       "      <td>Yoder CCD</td>\n",
       "      <td>495400.0</td>\n",
       "      <td>517400.0</td>\n",
       "      <td>560200.0</td>\n",
       "      <td>673600.0</td>\n",
       "      <td>719800.0</td>\n",
       "    </tr>\n",
       "  </tbody>\n",
       "</table>\n",
       "</div>"
      ],
      "text/plain": [
       "Year_of_Data            Subdivision Name      2019      2020      2021  \\\n",
       "0                        Beavercreek CCD  468400.0  501200.0  522900.0   \n",
       "1                Beaverton-Hillsboro CCD  384400.0  410900.0  436300.0   \n",
       "2                              Canby CCD  334100.0  365500.0  390600.0   \n",
       "3                 Chehalem Mountains CCD  478000.0  495800.0  549600.0   \n",
       "4                        Coast Range CCD  433800.0  453800.0  455700.0   \n",
       "5                             Colton CCD  347400.0  391500.0  440700.0   \n",
       "6                            Corbett CCD  422500.0  461700.0  496400.0   \n",
       "7                           Estacada CCD  368800.0  392700.0  431200.0   \n",
       "8             Forest Grove-Cornelius CCD  304400.0  339100.0  366600.0   \n",
       "9                            Gresham CCD  294300.0  324300.0  348600.0   \n",
       "10                           Molalla CCD  299200.0  335100.0  350100.0   \n",
       "11                        Mount Hood CCD  371200.0  367100.0  389100.0   \n",
       "12                            Mulino CCD  429300.0  478200.0  528700.0   \n",
       "13                      North Plains CCD  433400.0  459600.0  497400.0   \n",
       "14               Northwest Clackamas CCD  402200.0  430600.0  462700.0   \n",
       "15                     Portland East CCD  383900.0  410200.0  437900.0   \n",
       "16                     Portland West CCD  557100.0  586300.0  604000.0   \n",
       "17                           Redland CCD  480300.0  475600.0  507200.0   \n",
       "18                         Rockcreek CCD  441200.0  463700.0  488800.0   \n",
       "19                             Sandy CCD  348300.0  364700.0  385100.0   \n",
       "20                           Skyline CCD  592000.0  668000.0  705300.0   \n",
       "21                       Wilsonville CCD  456100.0  467600.0  486500.0   \n",
       "22                             Yoder CCD  495400.0  517400.0  560200.0   \n",
       "\n",
       "Year_of_Data      2022      2023  \n",
       "0             644600.0  660600.0  \n",
       "1             501200.0  556000.0  \n",
       "2             455000.0  484700.0  \n",
       "3             660500.0  645300.0  \n",
       "4             507000.0  550200.0  \n",
       "5             493300.0  555400.0  \n",
       "6             609400.0  654100.0  \n",
       "7             511800.0  572400.0  \n",
       "8             429100.0  457200.0  \n",
       "9             410900.0  438300.0  \n",
       "10            405600.0  438300.0  \n",
       "11            468900.0  473300.0  \n",
       "12            620200.0  650000.0  \n",
       "13            614700.0  645200.0  \n",
       "14            546200.0  593600.0  \n",
       "15            491300.0  525000.0  \n",
       "16            663000.0  694000.0  \n",
       "17            619100.0  660800.0  \n",
       "18            573700.0  614800.0  \n",
       "19            473900.0  488200.0  \n",
       "20            747100.0  780100.0  \n",
       "21            579200.0  605600.0  \n",
       "22            673600.0  719800.0  "
      ]
     },
     "execution_count": 38,
     "metadata": {},
     "output_type": "execute_result"
    }
   ],
   "source": [
    "# Pivoting the DataFrame to organize years as columns and explicitly creating a new DataFrame\n",
    "pivoted_data = pd.DataFrame(\n",
    "    cleaned_data.pivot_table(\n",
    "        index='Subdivision Name',  # Correct column name\n",
    "        columns='Year_of_Data',\n",
    "        values='Median_Home_Value'\n",
    "    ).reset_index()\n",
    ")\n",
    "\n",
    "# Display the pivoted DataFrame\n",
    "pivoted_data\n"
   ]
  },
  {
   "cell_type": "code",
   "execution_count": 39,
   "metadata": {},
   "outputs": [
    {
     "data": {
      "text/html": [
       "<div>\n",
       "<style scoped>\n",
       "    .dataframe tbody tr th:only-of-type {\n",
       "        vertical-align: middle;\n",
       "    }\n",
       "\n",
       "    .dataframe tbody tr th {\n",
       "        vertical-align: top;\n",
       "    }\n",
       "\n",
       "    .dataframe thead th {\n",
       "        text-align: right;\n",
       "    }\n",
       "</style>\n",
       "<table border=\"1\" class=\"dataframe\">\n",
       "  <thead>\n",
       "    <tr style=\"text-align: right;\">\n",
       "      <th>Year_of_Data</th>\n",
       "      <th>Subdivision Name</th>\n",
       "      <th>2019</th>\n",
       "      <th>2020</th>\n",
       "      <th>2021</th>\n",
       "      <th>2022</th>\n",
       "      <th>2023</th>\n",
       "    </tr>\n",
       "  </thead>\n",
       "  <tbody>\n",
       "    <tr>\n",
       "      <th>0</th>\n",
       "      <td>Beavercreek CCD</td>\n",
       "      <td>468400.0</td>\n",
       "      <td>501200.0</td>\n",
       "      <td>522900.0</td>\n",
       "      <td>644600.0</td>\n",
       "      <td>660600.0</td>\n",
       "    </tr>\n",
       "    <tr>\n",
       "      <th>1</th>\n",
       "      <td>Beaverton-Hillsboro CCD</td>\n",
       "      <td>384400.0</td>\n",
       "      <td>410900.0</td>\n",
       "      <td>436300.0</td>\n",
       "      <td>501200.0</td>\n",
       "      <td>556000.0</td>\n",
       "    </tr>\n",
       "    <tr>\n",
       "      <th>2</th>\n",
       "      <td>Canby CCD</td>\n",
       "      <td>334100.0</td>\n",
       "      <td>365500.0</td>\n",
       "      <td>390600.0</td>\n",
       "      <td>455000.0</td>\n",
       "      <td>484700.0</td>\n",
       "    </tr>\n",
       "    <tr>\n",
       "      <th>3</th>\n",
       "      <td>Chehalem Mountains CCD</td>\n",
       "      <td>478000.0</td>\n",
       "      <td>495800.0</td>\n",
       "      <td>549600.0</td>\n",
       "      <td>660500.0</td>\n",
       "      <td>645300.0</td>\n",
       "    </tr>\n",
       "    <tr>\n",
       "      <th>4</th>\n",
       "      <td>Coast Range CCD</td>\n",
       "      <td>433800.0</td>\n",
       "      <td>453800.0</td>\n",
       "      <td>455700.0</td>\n",
       "      <td>507000.0</td>\n",
       "      <td>550200.0</td>\n",
       "    </tr>\n",
       "    <tr>\n",
       "      <th>5</th>\n",
       "      <td>Colton CCD</td>\n",
       "      <td>347400.0</td>\n",
       "      <td>391500.0</td>\n",
       "      <td>440700.0</td>\n",
       "      <td>493300.0</td>\n",
       "      <td>555400.0</td>\n",
       "    </tr>\n",
       "    <tr>\n",
       "      <th>6</th>\n",
       "      <td>Corbett CCD</td>\n",
       "      <td>422500.0</td>\n",
       "      <td>461700.0</td>\n",
       "      <td>496400.0</td>\n",
       "      <td>609400.0</td>\n",
       "      <td>654100.0</td>\n",
       "    </tr>\n",
       "    <tr>\n",
       "      <th>7</th>\n",
       "      <td>Estacada CCD</td>\n",
       "      <td>368800.0</td>\n",
       "      <td>392700.0</td>\n",
       "      <td>431200.0</td>\n",
       "      <td>511800.0</td>\n",
       "      <td>572400.0</td>\n",
       "    </tr>\n",
       "    <tr>\n",
       "      <th>8</th>\n",
       "      <td>Forest Grove-Cornelius CCD</td>\n",
       "      <td>304400.0</td>\n",
       "      <td>339100.0</td>\n",
       "      <td>366600.0</td>\n",
       "      <td>429100.0</td>\n",
       "      <td>457200.0</td>\n",
       "    </tr>\n",
       "    <tr>\n",
       "      <th>9</th>\n",
       "      <td>Gresham CCD</td>\n",
       "      <td>294300.0</td>\n",
       "      <td>324300.0</td>\n",
       "      <td>348600.0</td>\n",
       "      <td>410900.0</td>\n",
       "      <td>438300.0</td>\n",
       "    </tr>\n",
       "    <tr>\n",
       "      <th>10</th>\n",
       "      <td>Molalla CCD</td>\n",
       "      <td>299200.0</td>\n",
       "      <td>335100.0</td>\n",
       "      <td>350100.0</td>\n",
       "      <td>405600.0</td>\n",
       "      <td>438300.0</td>\n",
       "    </tr>\n",
       "    <tr>\n",
       "      <th>11</th>\n",
       "      <td>Mount Hood CCD</td>\n",
       "      <td>371200.0</td>\n",
       "      <td>367100.0</td>\n",
       "      <td>389100.0</td>\n",
       "      <td>468900.0</td>\n",
       "      <td>473300.0</td>\n",
       "    </tr>\n",
       "    <tr>\n",
       "      <th>12</th>\n",
       "      <td>Mulino CCD</td>\n",
       "      <td>429300.0</td>\n",
       "      <td>478200.0</td>\n",
       "      <td>528700.0</td>\n",
       "      <td>620200.0</td>\n",
       "      <td>650000.0</td>\n",
       "    </tr>\n",
       "    <tr>\n",
       "      <th>13</th>\n",
       "      <td>North Plains CCD</td>\n",
       "      <td>433400.0</td>\n",
       "      <td>459600.0</td>\n",
       "      <td>497400.0</td>\n",
       "      <td>614700.0</td>\n",
       "      <td>645200.0</td>\n",
       "    </tr>\n",
       "    <tr>\n",
       "      <th>14</th>\n",
       "      <td>Northwest Clackamas CCD</td>\n",
       "      <td>402200.0</td>\n",
       "      <td>430600.0</td>\n",
       "      <td>462700.0</td>\n",
       "      <td>546200.0</td>\n",
       "      <td>593600.0</td>\n",
       "    </tr>\n",
       "    <tr>\n",
       "      <th>15</th>\n",
       "      <td>Portland East CCD</td>\n",
       "      <td>383900.0</td>\n",
       "      <td>410200.0</td>\n",
       "      <td>437900.0</td>\n",
       "      <td>491300.0</td>\n",
       "      <td>525000.0</td>\n",
       "    </tr>\n",
       "    <tr>\n",
       "      <th>16</th>\n",
       "      <td>Portland West CCD</td>\n",
       "      <td>557100.0</td>\n",
       "      <td>586300.0</td>\n",
       "      <td>604000.0</td>\n",
       "      <td>663000.0</td>\n",
       "      <td>694000.0</td>\n",
       "    </tr>\n",
       "    <tr>\n",
       "      <th>17</th>\n",
       "      <td>Redland CCD</td>\n",
       "      <td>480300.0</td>\n",
       "      <td>475600.0</td>\n",
       "      <td>507200.0</td>\n",
       "      <td>619100.0</td>\n",
       "      <td>660800.0</td>\n",
       "    </tr>\n",
       "    <tr>\n",
       "      <th>18</th>\n",
       "      <td>Rockcreek CCD</td>\n",
       "      <td>441200.0</td>\n",
       "      <td>463700.0</td>\n",
       "      <td>488800.0</td>\n",
       "      <td>573700.0</td>\n",
       "      <td>614800.0</td>\n",
       "    </tr>\n",
       "    <tr>\n",
       "      <th>19</th>\n",
       "      <td>Sandy CCD</td>\n",
       "      <td>348300.0</td>\n",
       "      <td>364700.0</td>\n",
       "      <td>385100.0</td>\n",
       "      <td>473900.0</td>\n",
       "      <td>488200.0</td>\n",
       "    </tr>\n",
       "    <tr>\n",
       "      <th>20</th>\n",
       "      <td>Skyline CCD</td>\n",
       "      <td>592000.0</td>\n",
       "      <td>668000.0</td>\n",
       "      <td>705300.0</td>\n",
       "      <td>747100.0</td>\n",
       "      <td>780100.0</td>\n",
       "    </tr>\n",
       "    <tr>\n",
       "      <th>21</th>\n",
       "      <td>Wilsonville CCD</td>\n",
       "      <td>456100.0</td>\n",
       "      <td>467600.0</td>\n",
       "      <td>486500.0</td>\n",
       "      <td>579200.0</td>\n",
       "      <td>605600.0</td>\n",
       "    </tr>\n",
       "    <tr>\n",
       "      <th>22</th>\n",
       "      <td>Yoder CCD</td>\n",
       "      <td>495400.0</td>\n",
       "      <td>517400.0</td>\n",
       "      <td>560200.0</td>\n",
       "      <td>673600.0</td>\n",
       "      <td>719800.0</td>\n",
       "    </tr>\n",
       "  </tbody>\n",
       "</table>\n",
       "</div>"
      ],
      "text/plain": [
       "Year_of_Data            Subdivision Name      2019      2020      2021  \\\n",
       "0                        Beavercreek CCD  468400.0  501200.0  522900.0   \n",
       "1                Beaverton-Hillsboro CCD  384400.0  410900.0  436300.0   \n",
       "2                              Canby CCD  334100.0  365500.0  390600.0   \n",
       "3                 Chehalem Mountains CCD  478000.0  495800.0  549600.0   \n",
       "4                        Coast Range CCD  433800.0  453800.0  455700.0   \n",
       "5                             Colton CCD  347400.0  391500.0  440700.0   \n",
       "6                            Corbett CCD  422500.0  461700.0  496400.0   \n",
       "7                           Estacada CCD  368800.0  392700.0  431200.0   \n",
       "8             Forest Grove-Cornelius CCD  304400.0  339100.0  366600.0   \n",
       "9                            Gresham CCD  294300.0  324300.0  348600.0   \n",
       "10                           Molalla CCD  299200.0  335100.0  350100.0   \n",
       "11                        Mount Hood CCD  371200.0  367100.0  389100.0   \n",
       "12                            Mulino CCD  429300.0  478200.0  528700.0   \n",
       "13                      North Plains CCD  433400.0  459600.0  497400.0   \n",
       "14               Northwest Clackamas CCD  402200.0  430600.0  462700.0   \n",
       "15                     Portland East CCD  383900.0  410200.0  437900.0   \n",
       "16                     Portland West CCD  557100.0  586300.0  604000.0   \n",
       "17                           Redland CCD  480300.0  475600.0  507200.0   \n",
       "18                         Rockcreek CCD  441200.0  463700.0  488800.0   \n",
       "19                             Sandy CCD  348300.0  364700.0  385100.0   \n",
       "20                           Skyline CCD  592000.0  668000.0  705300.0   \n",
       "21                       Wilsonville CCD  456100.0  467600.0  486500.0   \n",
       "22                             Yoder CCD  495400.0  517400.0  560200.0   \n",
       "\n",
       "Year_of_Data      2022      2023  \n",
       "0             644600.0  660600.0  \n",
       "1             501200.0  556000.0  \n",
       "2             455000.0  484700.0  \n",
       "3             660500.0  645300.0  \n",
       "4             507000.0  550200.0  \n",
       "5             493300.0  555400.0  \n",
       "6             609400.0  654100.0  \n",
       "7             511800.0  572400.0  \n",
       "8             429100.0  457200.0  \n",
       "9             410900.0  438300.0  \n",
       "10            405600.0  438300.0  \n",
       "11            468900.0  473300.0  \n",
       "12            620200.0  650000.0  \n",
       "13            614700.0  645200.0  \n",
       "14            546200.0  593600.0  \n",
       "15            491300.0  525000.0  \n",
       "16            663000.0  694000.0  \n",
       "17            619100.0  660800.0  \n",
       "18            573700.0  614800.0  \n",
       "19            473900.0  488200.0  \n",
       "20            747100.0  780100.0  \n",
       "21            579200.0  605600.0  \n",
       "22            673600.0  719800.0  "
      ]
     },
     "execution_count": 39,
     "metadata": {},
     "output_type": "execute_result"
    }
   ],
   "source": [
    "# Pivoting the DataFrame to organize years as columns\n",
    "pivoted_data = cleaned_data.pivot_table(\n",
    "    index='Subdivision Name',  # Correct column name\n",
    "    columns='Year_of_Data',\n",
    "    values='Median_Home_Value'\n",
    ").reset_index()\n",
    "\n",
    "# Display the pivoted DataFrame\n",
    "pivoted_data\n"
   ]
  },
  {
   "cell_type": "code",
   "execution_count": null,
   "metadata": {},
   "outputs": [],
   "source": []
  },
  {
   "cell_type": "code",
   "execution_count": 40,
   "metadata": {},
   "outputs": [
    {
     "data": {
      "image/png": "[encoded data removed]",
      "text/plain": [
       "<Figure size 640x480 with 1 Axes>"
      ]
     },
     "metadata": {},
     "output_type": "display_data"
    }
   ],
   "source": [
    "\n",
    "# Assume 'data' is your original DataFrame\n",
    "# Dropping redundant columns\n",
    "columns_to_drop = ['state', 'county', 'county subdivision', 'Subdivision']\n",
    "cleaned_data = data.drop(columns=columns_to_drop)\n",
    "\n",
    "# Renaming columns for better readability\n",
    "cleaned_data = cleaned_data.rename(\n",
    "    columns={\n",
    "        'Median Home Value': 'Median_Home_Value',\n",
    "        'Year': 'Year_of_Data',\n",
    "        'Subdivision Name': 'Subdivision-Name',\n",
    "        'County': 'county'\n",
    "    }\n",
    ")\n",
    "\n",
    "# Rearranging the columns\n",
    "desired_column_order = ['Subdivision-Name', 'county', 'Median_Home_Value', 'Year_of_Data']\n",
    "cleaned_data = cleaned_data[desired_column_order]\n",
    "\n",
    "# Pivoting the DataFrame\n",
    "pivoted_data = cleaned_data.pivot_table(index='Subdivision-Name', columns='Year_of_Data', values='Median_Home_Value')\n",
    "\n",
    "# Plotting the trend for each subdivision using scatter plots\n",
    "for subdivision in pivoted_data.index:\n",
    "    plt.scatter(pivoted_data.columns, pivoted_data.loc[subdivision, :], label=subdivision)\n",
    "plt.xlabel('Year')\n",
    "plt.ylabel('Median Home Value')\n",
    "plt.title('Trend of Median Home Values for Each Subdivision')\n",
    "plt.legend(bbox_to_anchor=(1.05, 1), loc='upper left')\n",
    "plt.show()\n"
   ]
  },
  {
   "cell_type": "markdown",
   "metadata": {},
   "source": []
  },
  {
   "cell_type": "markdown",
   "metadata": {},
   "source": [
    "# Color Mapping in the Heatmap\n",
    "* Lighter Colors (Yellow to Light Green): Lower median home values = More affordable.\n",
    "\n",
    "* Medium Colors (Green): Moderate median home values.\n",
    "\n",
    "* Darker Colors (Blue to Dark Blue): Higher median home values = Less affordable.\n"
   ]
  },
  {
   "cell_type": "code",
   "execution_count": 41,
   "metadata": {},
   "outputs": [
    {
     "data": {
      "image/png": "[encoded data removed]",
      "text/plain": [
       "<Figure size 1200x600 with 2 Axes>"
      ]
     },
     "metadata": {},
     "output_type": "display_data"
    }
   ],
   "source": [
    "\n",
    "# Assume 'data' is your original DataFrame\n",
    "# Dropping redundant columns\n",
    "columns_to_drop = ['state', 'county', 'county subdivision', 'Subdivision']\n",
    "cleaned_data = data.drop(columns=columns_to_drop)\n",
    "\n",
    "# Renaming columns for better readability\n",
    "cleaned_data = cleaned_data.rename(\n",
    "    columns={\n",
    "        'Median Home Value': 'Median_Home_Value',\n",
    "        'Year': 'Year_of_Data',\n",
    "        'Subdivision Name': 'Subdivision-Name',\n",
    "        'County': 'county' })\n",
    "\n",
    "# Rearranging the columns\n",
    "desired_column_order = ['Subdivision-Name', 'county', 'Median_Home_Value', 'Year_of_Data']\n",
    "cleaned_data = cleaned_data[desired_column_order]\n",
    "\n",
    "# Pivoting the DataFrame\n",
    "pivoted_data = cleaned_data.pivot_table(index='Subdivision-Name', columns='Year_of_Data', values='Median_Home_Value')\n",
    "\n",
    "# Generating the heatmap\n",
    "plt.figure(figsize=(12, 6))\n",
    "sns.heatmap(pivoted_data, annot=True, fmt=\".0f\", cmap=\"YlGnBu\")\n",
    "plt.xlabel('Year')\n",
    "plt.ylabel('Subdivision Name')\n",
    "plt.title('Heatmap of Median Home Values by Subdivision and Year')\n",
    "plt.show()\n"
   ]
  },
  {
   "cell_type": "code",
   "execution_count": 42,
   "metadata": {},
   "outputs": [
    {
     "data": {
      "application/vnd.plotly.v1+json": {
       "config": {
        "plotlyServerURL": "https://plot.ly"
       },
       "data": [
        {
         "customdata": [
          [
           "Multnomah",
           438300,
           2023
          ],
          [
           "Multnomah",
           525000,
           2023
          ],
          [
           "Multnomah",
           694000,
           2023
          ],
          [
           "Multnomah",
           780100,
           2023
          ],
          [
           "Clackamas",
           660600,
           2023
          ],
          [
           "Clackamas",
           484700,
           2023
          ],
          [
           "Clackamas",
           555400,
           2023
          ],
          [
           "Clackamas",
           572400,
           2023
          ],
          [
           "Clackamas",
           438300,
           2023
          ],
          [
           "Clackamas",
           473300,
           2023
          ],
          [
           "Clackamas",
           650000,
           2023
          ],
          [
           "Clackamas",
           593600,
           2023
          ],
          [
           "Clackamas",
           660800,
           2023
          ],
          [
           "Clackamas",
           488200,
           2023
          ],
          [
           "Clackamas",
           605600,
           2023
          ],
          [
           "Clackamas",
           719800,
           2023
          ],
          [
           "Washington",
           556000,
           2023
          ],
          [
           "Washington",
           645300,
           2023
          ],
          [
           "Washington",
           550200,
           2023
          ],
          [
           "Washington",
           645200,
           2023
          ],
          [
           "Washington",
           614800,
           2023
          ]
         ],
         "hovertemplate": "<b>%{hovertext}</b><br><br>Median Home Value=%{marker.color}<br>Latitude=%{lat}<br>Longitude=%{lon}<br>County=%{customdata[0]}<br>Year=%{customdata[2]}<extra></extra>",
         "hovertext": [
          "Gresham CCD, Multnomah County, Oregon",
          "Portland East CCD, Multnomah County, Oregon",
          "Portland West CCD, Multnomah County, Oregon",
          "Skyline CCD, Multnomah County, Oregon",
          "Beavercreek CCD, Clackamas County, Oregon",
          "Canby CCD, Clackamas County, Oregon",
          "Colton CCD, Clackamas County, Oregon",
          "Estacada CCD, Clackamas County, Oregon",
          "Molalla CCD, Clackamas County, Oregon",
          "Mount Hood CCD, Clackamas County, Oregon",
          "Mulino CCD, Clackamas County, Oregon",
          "Northwest Clackamas CCD, Clackamas County, Oregon",
          "Redland CCD, Clackamas County, Oregon",
          "Sandy CCD, Clackamas County, Oregon",
          "Wilsonville CCD, Clackamas County, Oregon",
          "Yoder CCD, Clackamas County, Oregon",
          "Beaverton-Hillsboro CCD, Washington County, Oregon",
          "Chehalem Mountains CCD, Washington County, Oregon",
          "Coast Range CCD, Washington County, Oregon",
          "North Plains CCD, Washington County, Oregon",
          "Rockcreek CCD, Washington County, Oregon"
         ],
         "lat": [
          45.5044715,
          45.5165442,
          45.4548406,
          45.5145659,
          45.2879294,
          45.262692,
          45.1721192,
          45.2877198,
          45.1475439,
          45.2023855,
          45.2212415,
          45.4074434,
          45.3434553,
          45.3973141,
          45.3029344,
          45.1381769,
          45.5226664,
          45.3278962,
          45.5469616,
          45.59778499999999,
          45.5510497
         ],
         "legendgroup": "",
         "lon": [
          -122.4356657,
          -122.6626984,
          -122.7325965,
          -122.5863212,
          -122.5353423,
          -122.6957402,
          -122.4374803,
          -122.3351638,
          -122.5771264,
          -122.1188945,
          -122.5816606,
          -122.5688975,
          -122.4928664,
          -122.2630704,
          -122.7726687,
          -122.6817567,
          -122.9898071,
          -122.88871,
          -123.1386021,
          -123.0008365,
          -122.8741537
         ],
         "marker": {
          "color": [
           438300,
           525000,
           694000,
           780100,
           660600,
           484700,
           555400,
           572400,
           438300,
           473300,
           650000,
           593600,
           660800,
           488200,
           605600,
           719800,
           556000,
           645300,
           550200,
           645200,
           614800
          ],
          "coloraxis": "coloraxis",
          "size": [
           438300,
           525000,
           694000,
           780100,
           660600,
           484700,
           555400,
           572400,
           438300,
           473300,
           650000,
           593600,
           660800,
           488200,
           605600,
           719800,
           556000,
           645300,
           550200,
           645200,
           614800
          ],
          "sizemode": "area",
          "sizeref": 1950.25
         },
         "mode": "markers",
         "name": "",
         "showlegend": false,
         "subplot": "mapbox",
         "type": "scattermapbox"
        }
       ],
       "layout": {
        "autosize": true,
        "coloraxis": {
         "colorbar": {
          "title": {
           "text": "Median Home Value"
          }
         },
         "colorscale": [
          [
           0,
           "#440154"
          ],
          [
           0.1111111111111111,
           "#482878"
          ],
          [
           0.2222222222222222,
           "#3e4989"
          ],
          [
           0.3333333333333333,
           "#31688e"
          ],
          [
           0.4444444444444444,
           "#26828e"
          ],
          [
           0.5555555555555556,
           "#1f9e89"
          ],
          [
           0.6666666666666666,
           "#35b779"
          ],
          [
           0.7777777777777778,
           "#6ece58"
          ],
          [
           0.8888888888888888,
           "#b5de2b"
          ],
          [
           1,
           "#fde725"
          ]
         ]
        },
        "height": 800,
        "legend": {
         "itemsizing": "constant",
         "tracegroupgap": 0
        },
        "mapbox": {
         "center": {
          "lat": 45.367035071428575,
          "lon": -122.63666947619046
         },
         "domain": {
          "x": [
           0,
           1
          ],
          "y": [
           0,
           1
          ]
         },
         "style": "carto-positron",
         "zoom": 8
        },
        "template": {
         "data": {
          "bar": [
           {
            "error_x": {
             "color": "#2a3f5f"
            },
            "error_y": {
             "color": "#2a3f5f"
            },
            "marker": {
             "line": {
              "color": "#E5ECF6",
              "width": 0.5
             },
             "pattern": {
              "fillmode": "overlay",
              "size": 10,
              "solidity": 0.2
             }
            },
            "type": "bar"
           }
          ],
          "barpolar": [
           {
            "marker": {
             "line": {
              "color": "#E5ECF6",
              "width": 0.5
             },
             "pattern": {
              "fillmode": "overlay",
              "size": 10,
              "solidity": 0.2
             }
            },
            "type": "barpolar"
           }
          ],
          "carpet": [
           {
            "aaxis": {
             "endlinecolor": "#2a3f5f",
             "gridcolor": "white",
             "linecolor": "white",
             "minorgridcolor": "white",
             "startlinecolor": "#2a3f5f"
            },
            "baxis": {
             "endlinecolor": "#2a3f5f",
             "gridcolor": "white",
             "linecolor": "white",
             "minorgridcolor": "white",
             "startlinecolor": "#2a3f5f"
            },
            "type": "carpet"
           }
          ],
          "choropleth": [
           {
            "colorbar": {
             "outlinewidth": 0,
             "ticks": ""
            },
            "type": "choropleth"
           }
          ],
          "contour": [
           {
            "colorbar": {
             "outlinewidth": 0,
             "ticks": ""
            },
            "colorscale": [
             [
              0,
              "#0d0887"
             ],
             [
              0.1111111111111111,
              "#46039f"
             ],
             [
              0.2222222222222222,
              "#7201a8"
             ],
             [
              0.3333333333333333,
              "#9c179e"
             ],
             [
              0.4444444444444444,
              "#bd3786"
             ],
             [
              0.5555555555555556,
              "#d8576b"
             ],
             [
              0.6666666666666666,
              "#ed7953"
             ],
             [
              0.7777777777777778,
              "#fb9f3a"
             ],
             [
              0.8888888888888888,
              "#fdca26"
             ],
             [
              1,
              "#f0f921"
             ]
            ],
            "type": "contour"
           }
          ],
          "contourcarpet": [
           {
            "colorbar": {
             "outlinewidth": 0,
             "ticks": ""
            },
            "type": "contourcarpet"
           }
          ],
          "heatmap": [
           {
            "colorbar": {
             "outlinewidth": 0,
             "ticks": ""
            },
            "colorscale": [
             [
              0,
              "#0d0887"
             ],
             [
              0.1111111111111111,
              "#46039f"
             ],
             [
              0.2222222222222222,
              "#7201a8"
             ],
             [
              0.3333333333333333,
              "#9c179e"
             ],
             [
              0.4444444444444444,
              "#bd3786"
             ],
             [
              0.5555555555555556,
              "#d8576b"
             ],
             [
              0.6666666666666666,
              "#ed7953"
             ],
             [
              0.7777777777777778,
              "#fb9f3a"
             ],
             [
              0.8888888888888888,
              "#fdca26"
             ],
             [
              1,
              "#f0f921"
             ]
            ],
            "type": "heatmap"
           }
          ],
          "heatmapgl": [
           {
            "colorbar": {
             "outlinewidth": 0,
             "ticks": ""
            },
            "colorscale": [
             [
              0,
              "#0d0887"
             ],
             [
              0.1111111111111111,
              "#46039f"
             ],
             [
              0.2222222222222222,
              "#7201a8"
             ],
             [
              0.3333333333333333,
              "#9c179e"
             ],
             [
              0.4444444444444444,
              "#bd3786"
             ],
             [
              0.5555555555555556,
              "#d8576b"
             ],
             [
              0.6666666666666666,
              "#ed7953"
             ],
             [
              0.7777777777777778,
              "#fb9f3a"
             ],
             [
              0.8888888888888888,
              "#fdca26"
             ],
             [
              1,
              "#f0f921"
             ]
            ],
            "type": "heatmapgl"
           }
          ],
          "histogram": [
           {
            "marker": {
             "pattern": {
              "fillmode": "overlay",
              "size": 10,
              "solidity": 0.2
             }
            },
            "type": "histogram"
           }
          ],
          "histogram2d": [
           {
            "colorbar": {
             "outlinewidth": 0,
             "ticks": ""
            },
            "colorscale": [
             [
              0,
              "#0d0887"
             ],
             [
              0.1111111111111111,
              "#46039f"
             ],
             [
              0.2222222222222222,
              "#7201a8"
             ],
             [
              0.3333333333333333,
              "#9c179e"
             ],
             [
              0.4444444444444444,
              "#bd3786"
             ],
             [
              0.5555555555555556,
              "#d8576b"
             ],
             [
              0.6666666666666666,
              "#ed7953"
             ],
             [
              0.7777777777777778,
              "#fb9f3a"
             ],
             [
              0.8888888888888888,
              "#fdca26"
             ],
             [
              1,
              "#f0f921"
             ]
            ],
            "type": "histogram2d"
           }
          ],
          "histogram2dcontour": [
           {
            "colorbar": {
             "outlinewidth": 0,
             "ticks": ""
            },
            "colorscale": [
             [
              0,
              "#0d0887"
             ],
             [
              0.1111111111111111,
              "#46039f"
             ],
             [
              0.2222222222222222,
              "#7201a8"
             ],
             [
              0.3333333333333333,
              "#9c179e"
             ],
             [
              0.4444444444444444,
              "#bd3786"
             ],
             [
              0.5555555555555556,
              "#d8576b"
             ],
             [
              0.6666666666666666,
              "#ed7953"
             ],
             [
              0.7777777777777778,
              "#fb9f3a"
             ],
             [
              0.8888888888888888,
              "#fdca26"
             ],
             [
              1,
              "#f0f921"
             ]
            ],
            "type": "histogram2dcontour"
           }
          ],
          "mesh3d": [
           {
            "colorbar": {
             "outlinewidth": 0,
             "ticks": ""
            },
            "type": "mesh3d"
           }
          ],
          "parcoords": [
           {
            "line": {
             "colorbar": {
              "outlinewidth": 0,
              "ticks": ""
             }
            },
            "type": "parcoords"
           }
          ],
          "pie": [
           {
            "automargin": true,
            "type": "pie"
           }
          ],
          "scatter": [
           {
            "fillpattern": {
             "fillmode": "overlay",
             "size": 10,
             "solidity": 0.2
            },
            "type": "scatter"
           }
          ],
          "scatter3d": [
           {
            "line": {
             "colorbar": {
              "outlinewidth": 0,
              "ticks": ""
             }
            },
            "marker": {
             "colorbar": {
              "outlinewidth": 0,
              "ticks": ""
             }
            },
            "type": "scatter3d"
           }
          ],
          "scattercarpet": [
           {
            "marker": {
             "colorbar": {
              "outlinewidth": 0,
              "ticks": ""
             }
            },
            "type": "scattercarpet"
           }
          ],
          "scattergeo": [
           {
            "marker": {
             "colorbar": {
              "outlinewidth": 0,
              "ticks": ""
             }
            },
            "type": "scattergeo"
           }
          ],
          "scattergl": [
           {
            "marker": {
             "colorbar": {
              "outlinewidth": 0,
              "ticks": ""
             }
            },
            "type": "scattergl"
           }
          ],
          "scattermapbox": [
           {
            "marker": {
             "colorbar": {
              "outlinewidth": 0,
              "ticks": ""
             }
            },
            "type": "scattermapbox"
           }
          ],
          "scatterpolar": [
           {
            "marker": {
             "colorbar": {
              "outlinewidth": 0,
              "ticks": ""
             }
            },
            "type": "scatterpolar"
           }
          ],
          "scatterpolargl": [
           {
            "marker": {
             "colorbar": {
              "outlinewidth": 0,
              "ticks": ""
             }
            },
            "type": "scatterpolargl"
           }
          ],
          "scatterternary": [
           {
            "marker": {
             "colorbar": {
              "outlinewidth": 0,
              "ticks": ""
             }
            },
            "type": "scatterternary"
           }
          ],
          "surface": [
           {
            "colorbar": {
             "outlinewidth": 0,
             "ticks": ""
            },
            "colorscale": [
             [
              0,
              "#0d0887"
             ],
             [
              0.1111111111111111,
              "#46039f"
             ],
             [
              0.2222222222222222,
              "#7201a8"
             ],
             [
              0.3333333333333333,
              "#9c179e"
             ],
             [
              0.4444444444444444,
              "#bd3786"
             ],
             [
              0.5555555555555556,
              "#d8576b"
             ],
             [
              0.6666666666666666,
              "#ed7953"
             ],
             [
              0.7777777777777778,
              "#fb9f3a"
             ],
             [
              0.8888888888888888,
              "#fdca26"
             ],
             [
              1,
              "#f0f921"
             ]
            ],
            "type": "surface"
           }
          ],
          "table": [
           {
            "cells": {
             "fill": {
              "color": "#EBF0F8"
             },
             "line": {
              "color": "white"
             }
            },
            "header": {
             "fill": {
              "color": "#C8D4E3"
             },
             "line": {
              "color": "white"
             }
            },
            "type": "table"
           }
          ]
         },
         "layout": {
          "annotationdefaults": {
           "arrowcolor": "#2a3f5f",
           "arrowhead": 0,
           "arrowwidth": 1
          },
          "autotypenumbers": "strict",
          "coloraxis": {
           "colorbar": {
            "outlinewidth": 0,
            "ticks": ""
           }
          },
          "colorscale": {
           "diverging": [
            [
             0,
             "#8e0152"
            ],
            [
             0.1,
             "#c51b7d"
            ],
            [
             0.2,
             "#de77ae"
            ],
            [
             0.3,
             "#f1b6da"
            ],
            [
             0.4,
             "#fde0ef"
            ],
            [
             0.5,
             "#f7f7f7"
            ],
            [
             0.6,
             "#e6f5d0"
            ],
            [
             0.7,
             "#b8e186"
            ],
            [
             0.8,
             "#7fbc41"
            ],
            [
             0.9,
             "#4d9221"
            ],
            [
             1,
             "#276419"
            ]
           ],
           "sequential": [
            [
             0,
             "#0d0887"
            ],
            [
             0.1111111111111111,
             "#46039f"
            ],
            [
             0.2222222222222222,
             "#7201a8"
            ],
            [
             0.3333333333333333,
             "#9c179e"
            ],
            [
             0.4444444444444444,
             "#bd3786"
            ],
            [
             0.5555555555555556,
             "#d8576b"
            ],
            [
             0.6666666666666666,
             "#ed7953"
            ],
            [
             0.7777777777777778,
             "#fb9f3a"
            ],
            [
             0.8888888888888888,
             "#fdca26"
            ],
            [
             1,
             "#f0f921"
            ]
           ],
           "sequentialminus": [
            [
             0,
             "#0d0887"
            ],
            [
             0.1111111111111111,
             "#46039f"
            ],
            [
             0.2222222222222222,
             "#7201a8"
            ],
            [
             0.3333333333333333,
             "#9c179e"
            ],
            [
             0.4444444444444444,
             "#bd3786"
            ],
            [
             0.5555555555555556,
             "#d8576b"
            ],
            [
             0.6666666666666666,
             "#ed7953"
            ],
            [
             0.7777777777777778,
             "#fb9f3a"
            ],
            [
             0.8888888888888888,
             "#fdca26"
            ],
            [
             1,
             "#f0f921"
            ]
           ]
          },
          "colorway": [
           "#636efa",
           "#EF553B",
           "#00cc96",
           "#ab63fa",
           "#FFA15A",
           "#19d3f3",
           "#FF6692",
           "#B6E880",
           "#FF97FF",
           "#FECB52"
          ],
          "font": {
           "color": "#2a3f5f"
          },
          "geo": {
           "bgcolor": "white",
           "lakecolor": "white",
           "landcolor": "#E5ECF6",
           "showlakes": true,
           "showland": true,
           "subunitcolor": "white"
          },
          "hoverlabel": {
           "align": "left"
          },
          "hovermode": "closest",
          "mapbox": {
           "style": "light"
          },
          "paper_bgcolor": "white",
          "plot_bgcolor": "#E5ECF6",
          "polar": {
           "angularaxis": {
            "gridcolor": "white",
            "linecolor": "white",
            "ticks": ""
           },
           "bgcolor": "#E5ECF6",
           "radialaxis": {
            "gridcolor": "white",
            "linecolor": "white",
            "ticks": ""
           }
          },
          "scene": {
           "xaxis": {
            "backgroundcolor": "#E5ECF6",
            "gridcolor": "white",
            "gridwidth": 2,
            "linecolor": "white",
            "showbackground": true,
            "ticks": "",
            "zerolinecolor": "white"
           },
           "yaxis": {
            "backgroundcolor": "#E5ECF6",
            "gridcolor": "white",
            "gridwidth": 2,
            "linecolor": "white",
            "showbackground": true,
            "ticks": "",
            "zerolinecolor": "white"
           },
           "zaxis": {
            "backgroundcolor": "#E5ECF6",
            "gridcolor": "white",
            "gridwidth": 2,
            "linecolor": "white",
            "showbackground": true,
            "ticks": "",
            "zerolinecolor": "white"
           }
          },
          "shapedefaults": {
           "line": {
            "color": "#2a3f5f"
           }
          },
          "ternary": {
           "aaxis": {
            "gridcolor": "white",
            "linecolor": "white",
            "ticks": ""
           },
           "baxis": {
            "gridcolor": "white",
            "linecolor": "white",
            "ticks": ""
           },
           "bgcolor": "#E5ECF6",
           "caxis": {
            "gridcolor": "white",
            "linecolor": "white",
            "ticks": ""
           }
          },
          "title": {
           "x": 0.05
          },
          "xaxis": {
           "automargin": true,
           "gridcolor": "white",
           "linecolor": "white",
           "ticks": "",
           "title": {
            "standoff": 15
           },
           "zerolinecolor": "white",
           "zerolinewidth": 2
          },
          "yaxis": {
           "automargin": true,
           "gridcolor": "white",
           "linecolor": "white",
           "ticks": "",
           "title": {
            "standoff": 15
           },
           "zerolinecolor": "white",
           "zerolinewidth": 2
          }
         }
        },
        "title": {
         "text": "Median Home Values by Subdivision (2023)"
        },
        "width": 1200
       }
      }
     },
     "metadata": {},
     "output_type": "display_data"
    }
   ],
   "source": [
    "\n",
    "# Load the cleaned data\n",
    "file_path = \"Cleaned_Subdivisions_Data.csv\"  \n",
    "df_cleaned = pd.read_csv(file_path)\n",
    "\n",
    "# Filter for the latest available year\n",
    "latest_year = df_cleaned[\"Year\"].max()\n",
    "df_latest = df_cleaned[df_cleaned[\"Year\"] == latest_year].dropna(subset=[\"Latitude\", \"Longitude\"])\n",
    "\n",
    "# Create an interactive scatter map\n",
    "fig = px.scatter_mapbox(\n",
    "    df_latest,\n",
    "    lat='Latitude',\n",
    "    lon='Longitude',\n",
    "    size=\"Median Home Value\",\n",
    "    color=\"Median Home Value\",\n",
    "    hover_name=\"Subdivision\",\n",
    "    hover_data=[\"County\", \"Median Home Value\", \"Year\"],\n",
    "    mapbox_style=\"carto-positron\",\n",
    "    color_continuous_scale=\"viridis\",\n",
    "    title=f\"Median Home Values by Subdivision ({latest_year})\"\n",
    ")\n",
    "\n",
    "# Increase figure size\n",
    "fig.update_layout(\n",
    "    autosize=True,\n",
    "    width=1200,\n",
    "    height=800\n",
    ")\n",
    "\n",
    "# Display the map\n",
    "fig.show()\n"
   ]
  },
  {
   "cell_type": "code",
   "execution_count": 43,
   "metadata": {},
   "outputs": [
    {
     "data": {
      "application/vnd.plotly.v1+json": {
       "config": {
        "plotlyServerURL": "https://plot.ly"
       },
       "data": [
        {
         "customdata": [
          [
           "Multnomah",
           438300,
           2023
          ],
          [
           "Multnomah",
           525000,
           2023
          ],
          [
           "Multnomah",
           694000,
           2023
          ],
          [
           "Multnomah",
           780100,
           2023
          ],
          [
           "Clackamas",
           660600,
           2023
          ],
          [
           "Clackamas",
           484700,
           2023
          ],
          [
           "Clackamas",
           555400,
           2023
          ],
          [
           "Clackamas",
           572400,
           2023
          ],
          [
           "Clackamas",
           438300,
           2023
          ],
          [
           "Clackamas",
           473300,
           2023
          ],
          [
           "Clackamas",
           650000,
           2023
          ],
          [
           "Clackamas",
           593600,
           2023
          ],
          [
           "Clackamas",
           660800,
           2023
          ],
          [
           "Clackamas",
           488200,
           2023
          ],
          [
           "Clackamas",
           605600,
           2023
          ],
          [
           "Clackamas",
           719800,
           2023
          ],
          [
           "Washington",
           556000,
           2023
          ],
          [
           "Washington",
           645300,
           2023
          ],
          [
           "Washington",
           550200,
           2023
          ],
          [
           "Washington",
           645200,
           2023
          ],
          [
           "Washington",
           614800,
           2023
          ]
         ],
         "hovertemplate": "<b>%{hovertext}</b><br><br>Median Home Value=%{marker.color}<br>Latitude=%{lat}<br>Longitude=%{lon}<br>County=%{customdata[0]}<br>Year=%{customdata[2]}<extra></extra>",
         "hovertext": [
          "Gresham CCD, Multnomah County, Oregon",
          "Portland East CCD, Multnomah County, Oregon",
          "Portland West CCD, Multnomah County, Oregon",
          "Skyline CCD, Multnomah County, Oregon",
          "Beavercreek CCD, Clackamas County, Oregon",
          "Canby CCD, Clackamas County, Oregon",
          "Colton CCD, Clackamas County, Oregon",
          "Estacada CCD, Clackamas County, Oregon",
          "Molalla CCD, Clackamas County, Oregon",
          "Mount Hood CCD, Clackamas County, Oregon",
          "Mulino CCD, Clackamas County, Oregon",
          "Northwest Clackamas CCD, Clackamas County, Oregon",
          "Redland CCD, Clackamas County, Oregon",
          "Sandy CCD, Clackamas County, Oregon",
          "Wilsonville CCD, Clackamas County, Oregon",
          "Yoder CCD, Clackamas County, Oregon",
          "Beaverton-Hillsboro CCD, Washington County, Oregon",
          "Chehalem Mountains CCD, Washington County, Oregon",
          "Coast Range CCD, Washington County, Oregon",
          "North Plains CCD, Washington County, Oregon",
          "Rockcreek CCD, Washington County, Oregon"
         ],
         "lat": [
          45.5044715,
          45.5165442,
          45.4548406,
          45.5145659,
          45.2879294,
          45.262692,
          45.1721192,
          45.2877198,
          45.1475439,
          45.2023855,
          45.2212415,
          45.4074434,
          45.3434553,
          45.3973141,
          45.3029344,
          45.1381769,
          45.5226664,
          45.3278962,
          45.5469616,
          45.59778499999999,
          45.5510497
         ],
         "legendgroup": "",
         "lon": [
          -122.4356657,
          -122.6626984,
          -122.7325965,
          -122.5863212,
          -122.5353423,
          -122.6957402,
          -122.4374803,
          -122.3351638,
          -122.5771264,
          -122.1188945,
          -122.5816606,
          -122.5688975,
          -122.4928664,
          -122.2630704,
          -122.7726687,
          -122.6817567,
          -122.9898071,
          -122.88871,
          -123.1386021,
          -123.0008365,
          -122.8741537
         ],
         "marker": {
          "color": [
           438300,
           525000,
           694000,
           780100,
           660600,
           484700,
           555400,
           572400,
           438300,
           473300,
           650000,
           593600,
           660800,
           488200,
           605600,
           719800,
           556000,
           645300,
           550200,
           645200,
           614800
          ],
          "coloraxis": "coloraxis",
          "size": [
           438300,
           525000,
           694000,
           780100,
           660600,
           484700,
           555400,
           572400,
           438300,
           473300,
           650000,
           593600,
           660800,
           488200,
           605600,
           719800,
           556000,
           645300,
           550200,
           645200,
           614800
          ],
          "sizemode": "area",
          "sizeref": 1950.25
         },
         "mode": "markers",
         "name": "",
         "showlegend": false,
         "subplot": "mapbox",
         "type": "scattermapbox"
        }
       ],
       "layout": {
        "autosize": true,
        "coloraxis": {
         "colorbar": {
          "title": {
           "text": "Median Home Value"
          }
         },
         "colorscale": [
          [
           0,
           "green"
          ],
          [
           0.5,
           "yellow"
          ],
          [
           1,
           "red"
          ]
         ]
        },
        "height": 800,
        "legend": {
         "itemsizing": "constant",
         "tracegroupgap": 0
        },
        "mapbox": {
         "center": {
          "lat": 45.367035071428575,
          "lon": -122.63666947619046
         },
         "domain": {
          "x": [
           0,
           1
          ],
          "y": [
           0,
           1
          ]
         },
         "style": "carto-positron",
         "zoom": 8
        },
        "template": {
         "data": {
          "bar": [
           {
            "error_x": {
             "color": "#2a3f5f"
            },
            "error_y": {
             "color": "#2a3f5f"
            },
            "marker": {
             "line": {
              "color": "#E5ECF6",
              "width": 0.5
             },
             "pattern": {
              "fillmode": "overlay",
              "size": 10,
              "solidity": 0.2
             }
            },
            "type": "bar"
           }
          ],
          "barpolar": [
           {
            "marker": {
             "line": {
              "color": "#E5ECF6",
              "width": 0.5
             },
             "pattern": {
              "fillmode": "overlay",
              "size": 10,
              "solidity": 0.2
             }
            },
            "type": "barpolar"
           }
          ],
          "carpet": [
           {
            "aaxis": {
             "endlinecolor": "#2a3f5f",
             "gridcolor": "white",
             "linecolor": "white",
             "minorgridcolor": "white",
             "startlinecolor": "#2a3f5f"
            },
            "baxis": {
             "endlinecolor": "#2a3f5f",
             "gridcolor": "white",
             "linecolor": "white",
             "minorgridcolor": "white",
             "startlinecolor": "#2a3f5f"
            },
            "type": "carpet"
           }
          ],
          "choropleth": [
           {
            "colorbar": {
             "outlinewidth": 0,
             "ticks": ""
            },
            "type": "choropleth"
           }
          ],
          "contour": [
           {
            "colorbar": {
             "outlinewidth": 0,
             "ticks": ""
            },
            "colorscale": [
             [
              0,
              "#0d0887"
             ],
             [
              0.1111111111111111,
              "#46039f"
             ],
             [
              0.2222222222222222,
              "#7201a8"
             ],
             [
              0.3333333333333333,
              "#9c179e"
             ],
             [
              0.4444444444444444,
              "#bd3786"
             ],
             [
              0.5555555555555556,
              "#d8576b"
             ],
             [
              0.6666666666666666,
              "#ed7953"
             ],
             [
              0.7777777777777778,
              "#fb9f3a"
             ],
             [
              0.8888888888888888,
              "#fdca26"
             ],
             [
              1,
              "#f0f921"
             ]
            ],
            "type": "contour"
           }
          ],
          "contourcarpet": [
           {
            "colorbar": {
             "outlinewidth": 0,
             "ticks": ""
            },
            "type": "contourcarpet"
           }
          ],
          "heatmap": [
           {
            "colorbar": {
             "outlinewidth": 0,
             "ticks": ""
            },
            "colorscale": [
             [
              0,
              "#0d0887"
             ],
             [
              0.1111111111111111,
              "#46039f"
             ],
             [
              0.2222222222222222,
              "#7201a8"
             ],
             [
              0.3333333333333333,
              "#9c179e"
             ],
             [
              0.4444444444444444,
              "#bd3786"
             ],
             [
              0.5555555555555556,
              "#d8576b"
             ],
             [
              0.6666666666666666,
              "#ed7953"
             ],
             [
              0.7777777777777778,
              "#fb9f3a"
             ],
             [
              0.8888888888888888,
              "#fdca26"
             ],
             [
              1,
              "#f0f921"
             ]
            ],
            "type": "heatmap"
           }
          ],
          "heatmapgl": [
           {
            "colorbar": {
             "outlinewidth": 0,
             "ticks": ""
            },
            "colorscale": [
             [
              0,
              "#0d0887"
             ],
             [
              0.1111111111111111,
              "#46039f"
             ],
             [
              0.2222222222222222,
              "#7201a8"
             ],
             [
              0.3333333333333333,
              "#9c179e"
             ],
             [
              0.4444444444444444,
              "#bd3786"
             ],
             [
              0.5555555555555556,
              "#d8576b"
             ],
             [
              0.6666666666666666,
              "#ed7953"
             ],
             [
              0.7777777777777778,
              "#fb9f3a"
             ],
             [
              0.8888888888888888,
              "#fdca26"
             ],
             [
              1,
              "#f0f921"
             ]
            ],
            "type": "heatmapgl"
           }
          ],
          "histogram": [
           {
            "marker": {
             "pattern": {
              "fillmode": "overlay",
              "size": 10,
              "solidity": 0.2
             }
            },
            "type": "histogram"
           }
          ],
          "histogram2d": [
           {
            "colorbar": {
             "outlinewidth": 0,
             "ticks": ""
            },
            "colorscale": [
             [
              0,
              "#0d0887"
             ],
             [
              0.1111111111111111,
              "#46039f"
             ],
             [
              0.2222222222222222,
              "#7201a8"
             ],
             [
              0.3333333333333333,
              "#9c179e"
             ],
             [
              0.4444444444444444,
              "#bd3786"
             ],
             [
              0.5555555555555556,
              "#d8576b"
             ],
             [
              0.6666666666666666,
              "#ed7953"
             ],
             [
              0.7777777777777778,
              "#fb9f3a"
             ],
             [
              0.8888888888888888,
              "#fdca26"
             ],
             [
              1,
              "#f0f921"
             ]
            ],
            "type": "histogram2d"
           }
          ],
          "histogram2dcontour": [
           {
            "colorbar": {
             "outlinewidth": 0,
             "ticks": ""
            },
            "colorscale": [
             [
              0,
              "#0d0887"
             ],
             [
              0.1111111111111111,
              "#46039f"
             ],
             [
              0.2222222222222222,
              "#7201a8"
             ],
             [
              0.3333333333333333,
              "#9c179e"
             ],
             [
              0.4444444444444444,
              "#bd3786"
             ],
             [
              0.5555555555555556,
              "#d8576b"
             ],
             [
              0.6666666666666666,
              "#ed7953"
             ],
             [
              0.7777777777777778,
              "#fb9f3a"
             ],
             [
              0.8888888888888888,
              "#fdca26"
             ],
             [
              1,
              "#f0f921"
             ]
            ],
            "type": "histogram2dcontour"
           }
          ],
          "mesh3d": [
           {
            "colorbar": {
             "outlinewidth": 0,
             "ticks": ""
            },
            "type": "mesh3d"
           }
          ],
          "parcoords": [
           {
            "line": {
             "colorbar": {
              "outlinewidth": 0,
              "ticks": ""
             }
            },
            "type": "parcoords"
           }
          ],
          "pie": [
           {
            "automargin": true,
            "type": "pie"
           }
          ],
          "scatter": [
           {
            "fillpattern": {
             "fillmode": "overlay",
             "size": 10,
             "solidity": 0.2
            },
            "type": "scatter"
           }
          ],
          "scatter3d": [
           {
            "line": {
             "colorbar": {
              "outlinewidth": 0,
              "ticks": ""
             }
            },
            "marker": {
             "colorbar": {
              "outlinewidth": 0,
              "ticks": ""
             }
            },
            "type": "scatter3d"
           }
          ],
          "scattercarpet": [
           {
            "marker": {
             "colorbar": {
              "outlinewidth": 0,
              "ticks": ""
             }
            },
            "type": "scattercarpet"
           }
          ],
          "scattergeo": [
           {
            "marker": {
             "colorbar": {
              "outlinewidth": 0,
              "ticks": ""
             }
            },
            "type": "scattergeo"
           }
          ],
          "scattergl": [
           {
            "marker": {
             "colorbar": {
              "outlinewidth": 0,
              "ticks": ""
             }
            },
            "type": "scattergl"
           }
          ],
          "scattermapbox": [
           {
            "marker": {
             "colorbar": {
              "outlinewidth": 0,
              "ticks": ""
             }
            },
            "type": "scattermapbox"
           }
          ],
          "scatterpolar": [
           {
            "marker": {
             "colorbar": {
              "outlinewidth": 0,
              "ticks": ""
             }
            },
            "type": "scatterpolar"
           }
          ],
          "scatterpolargl": [
           {
            "marker": {
             "colorbar": {
              "outlinewidth": 0,
              "ticks": ""
             }
            },
            "type": "scatterpolargl"
           }
          ],
          "scatterternary": [
           {
            "marker": {
             "colorbar": {
              "outlinewidth": 0,
              "ticks": ""
             }
            },
            "type": "scatterternary"
           }
          ],
          "surface": [
           {
            "colorbar": {
             "outlinewidth": 0,
             "ticks": ""
            },
            "colorscale": [
             [
              0,
              "#0d0887"
             ],
             [
              0.1111111111111111,
              "#46039f"
             ],
             [
              0.2222222222222222,
              "#7201a8"
             ],
             [
              0.3333333333333333,
              "#9c179e"
             ],
             [
              0.4444444444444444,
              "#bd3786"
             ],
             [
              0.5555555555555556,
              "#d8576b"
             ],
             [
              0.6666666666666666,
              "#ed7953"
             ],
             [
              0.7777777777777778,
              "#fb9f3a"
             ],
             [
              0.8888888888888888,
              "#fdca26"
             ],
             [
              1,
              "#f0f921"
             ]
            ],
            "type": "surface"
           }
          ],
          "table": [
           {
            "cells": {
             "fill": {
              "color": "#EBF0F8"
             },
             "line": {
              "color": "white"
             }
            },
            "header": {
             "fill": {
              "color": "#C8D4E3"
             },
             "line": {
              "color": "white"
             }
            },
            "type": "table"
           }
          ]
         },
         "layout": {
          "annotationdefaults": {
           "arrowcolor": "#2a3f5f",
           "arrowhead": 0,
           "arrowwidth": 1
          },
          "autotypenumbers": "strict",
          "coloraxis": {
           "colorbar": {
            "outlinewidth": 0,
            "ticks": ""
           }
          },
          "colorscale": {
           "diverging": [
            [
             0,
             "#8e0152"
            ],
            [
             0.1,
             "#c51b7d"
            ],
            [
             0.2,
             "#de77ae"
            ],
            [
             0.3,
             "#f1b6da"
            ],
            [
             0.4,
             "#fde0ef"
            ],
            [
             0.5,
             "#f7f7f7"
            ],
            [
             0.6,
             "#e6f5d0"
            ],
            [
             0.7,
             "#b8e186"
            ],
            [
             0.8,
             "#7fbc41"
            ],
            [
             0.9,
             "#4d9221"
            ],
            [
             1,
             "#276419"
            ]
           ],
           "sequential": [
            [
             0,
             "#0d0887"
            ],
            [
             0.1111111111111111,
             "#46039f"
            ],
            [
             0.2222222222222222,
             "#7201a8"
            ],
            [
             0.3333333333333333,
             "#9c179e"
            ],
            [
             0.4444444444444444,
             "#bd3786"
            ],
            [
             0.5555555555555556,
             "#d8576b"
            ],
            [
             0.6666666666666666,
             "#ed7953"
            ],
            [
             0.7777777777777778,
             "#fb9f3a"
            ],
            [
             0.8888888888888888,
             "#fdca26"
            ],
            [
             1,
             "#f0f921"
            ]
           ],
           "sequentialminus": [
            [
             0,
             "#0d0887"
            ],
            [
             0.1111111111111111,
             "#46039f"
            ],
            [
             0.2222222222222222,
             "#7201a8"
            ],
            [
             0.3333333333333333,
             "#9c179e"
            ],
            [
             0.4444444444444444,
             "#bd3786"
            ],
            [
             0.5555555555555556,
             "#d8576b"
            ],
            [
             0.6666666666666666,
             "#ed7953"
            ],
            [
             0.7777777777777778,
             "#fb9f3a"
            ],
            [
             0.8888888888888888,
             "#fdca26"
            ],
            [
             1,
             "#f0f921"
            ]
           ]
          },
          "colorway": [
           "#636efa",
           "#EF553B",
           "#00cc96",
           "#ab63fa",
           "#FFA15A",
           "#19d3f3",
           "#FF6692",
           "#B6E880",
           "#FF97FF",
           "#FECB52"
          ],
          "font": {
           "color": "#2a3f5f"
          },
          "geo": {
           "bgcolor": "white",
           "lakecolor": "white",
           "landcolor": "#E5ECF6",
           "showlakes": true,
           "showland": true,
           "subunitcolor": "white"
          },
          "hoverlabel": {
           "align": "left"
          },
          "hovermode": "closest",
          "mapbox": {
           "style": "light"
          },
          "paper_bgcolor": "white",
          "plot_bgcolor": "#E5ECF6",
          "polar": {
           "angularaxis": {
            "gridcolor": "white",
            "linecolor": "white",
            "ticks": ""
           },
           "bgcolor": "#E5ECF6",
           "radialaxis": {
            "gridcolor": "white",
            "linecolor": "white",
            "ticks": ""
           }
          },
          "scene": {
           "xaxis": {
            "backgroundcolor": "#E5ECF6",
            "gridcolor": "white",
            "gridwidth": 2,
            "linecolor": "white",
            "showbackground": true,
            "ticks": "",
            "zerolinecolor": "white"
           },
           "yaxis": {
            "backgroundcolor": "#E5ECF6",
            "gridcolor": "white",
            "gridwidth": 2,
            "linecolor": "white",
            "showbackground": true,
            "ticks": "",
            "zerolinecolor": "white"
           },
           "zaxis": {
            "backgroundcolor": "#E5ECF6",
            "gridcolor": "white",
            "gridwidth": 2,
            "linecolor": "white",
            "showbackground": true,
            "ticks": "",
            "zerolinecolor": "white"
           }
          },
          "shapedefaults": {
           "line": {
            "color": "#2a3f5f"
           }
          },
          "ternary": {
           "aaxis": {
            "gridcolor": "white",
            "linecolor": "white",
            "ticks": ""
           },
           "baxis": {
            "gridcolor": "white",
            "linecolor": "white",
            "ticks": ""
           },
           "bgcolor": "#E5ECF6",
           "caxis": {
            "gridcolor": "white",
            "linecolor": "white",
            "ticks": ""
           }
          },
          "title": {
           "x": 0.05
          },
          "xaxis": {
           "automargin": true,
           "gridcolor": "white",
           "linecolor": "white",
           "ticks": "",
           "title": {
            "standoff": 15
           },
           "zerolinecolor": "white",
           "zerolinewidth": 2
          },
          "yaxis": {
           "automargin": true,
           "gridcolor": "white",
           "linecolor": "white",
           "ticks": "",
           "title": {
            "standoff": 15
           },
           "zerolinecolor": "white",
           "zerolinewidth": 2
          }
         }
        },
        "title": {
         "text": "Median Home Values by Subdivision (2023)"
        },
        "width": 1200
       }
      }
     },
     "metadata": {},
     "output_type": "display_data"
    }
   ],
   "source": [
    "import pandas as pd\n",
    "import plotly.express as px\n",
    "\n",
    "# Load the cleaned data\n",
    "file_path = \"Cleaned_Subdivisions_Data.csv\"  \n",
    "df_cleaned = pd.read_csv(file_path)\n",
    "\n",
    "# Filter for the latest available year\n",
    "latest_year = df_cleaned[\"Year\"].max()\n",
    "df_latest = df_cleaned[df_cleaned[\"Year\"] == latest_year].dropna(subset=[\"Latitude\", \"Longitude\"])\n",
    "\n",
    "# Create an interactive scatter map with custom color scale\n",
    "fig = px.scatter_mapbox(\n",
    "    df_latest,\n",
    "    lat='Latitude',\n",
    "    lon='Longitude',\n",
    "    size=\"Median Home Value\",\n",
    "    color=\"Median Home Value\",\n",
    "    hover_name=\"Subdivision\",\n",
    "    hover_data=[\"County\", \"Median Home Value\", \"Year\"],\n",
    "    mapbox_style=\"carto-positron\",\n",
    "    color_continuous_scale=[\"green\", \"yellow\", \"red\"],  # Custom color scale\n",
    "    title=f\"Median Home Values by Subdivision ({latest_year})\"\n",
    ")\n",
    "\n",
    "# Increase figure size\n",
    "fig.update_layout(\n",
    "    autosize=True,\n",
    "    width=1200,\n",
    "    height=800\n",
    ")\n",
    "\n",
    "# Display the map\n",
    "fig.show()\n"
   ]
  }
 ],
 "metadata": {
  "kernelspec": {
   "display_name": "dev",
   "language": "python",
   "name": "python3"
  },
  "language_info": {
   "codemirror_mode": {
    "name": "ipython",
    "version": 3
   },
   "file_extension": ".py",
   "mimetype": "text/x-python",
   "name": "python",
   "nbconvert_exporter": "python",
   "pygments_lexer": "ipython3",
   "version": "3.10.16"
  },
  "varInspector": {
   "cols": {
    "lenName": 16,
    "lenType": 16,
    "lenVar": 40
   },
   "kernels_config": {
    "python": {
     "delete_cmd_postfix": "",
     "delete_cmd_prefix": "del ",
     "library": "var_list.py",
     "varRefreshCmd": "print(var_dic_list())"
    },
    "r": {
     "delete_cmd_postfix": ") ",
     "delete_cmd_prefix": "rm(",
     "library": "var_list.r",
     "varRefreshCmd": "cat(var_dic_list()) "
    }
   },
   "types_to_exclude": [
    "module",
    "function",
    "builtin_function_or_method",
    "instance",
    "_Feature"
   ],
   "window_display": false
  }
 },
 "nbformat": 4,
 "nbformat_minor": 2
}
