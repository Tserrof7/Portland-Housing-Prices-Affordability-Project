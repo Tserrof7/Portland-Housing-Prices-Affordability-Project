{
 "cells": [
  {
   "cell_type": "code",
   "execution_count": 44,
   "metadata": {},
   "outputs": [],
   "source": [
    "import requests\n",
    "import pandas as pd\n",
    "import matplotlib.pyplot as plt\n",
    "import seaborn as sns\n",
    "import plotly.express as px\n",
    "from matplotlib.colors import LinearSegmentedColormap\n",
    "import numpy as np\n"
   ]
  },
  {
   "cell_type": "code",
   "execution_count": 45,
   "metadata": {},
   "outputs": [
    {
     "data": {
      "text/plain": [
       "Index(['county subdivision', 'year', 'median household income',\n",
       "       'median home value', 'county', 'latitude', 'longitude'],\n",
       "      dtype='object')"
      ]
     },
     "execution_count": 45,
     "metadata": {},
     "output_type": "execute_result"
    }
   ],
   "source": [
    "# Load the cleaned CSV file\n",
    "file_path = \"Final.csv\"  # Update with your actual file path\n",
    "df_cleaned = pd.read_csv(file_path)\n",
    "\n",
    "# Normalize column names to avoid mismatches\n",
    "df_cleaned.columns = df_cleaned.columns.str.strip()  # Remove leading/trailing spaces\n",
    "df_cleaned.columns = df_cleaned.columns.str.lower()  # Convert to lowercase for consistency\n",
    "\n",
    "df_cleaned.columns\n"
   ]
  },
  {
   "cell_type": "code",
   "execution_count": 46,
   "metadata": {},
   "outputs": [
    {
     "data": {
      "text/html": [
       "<div>\n",
       "<style scoped>\n",
       "    .dataframe tbody tr th:only-of-type {\n",
       "        vertical-align: middle;\n",
       "    }\n",
       "\n",
       "    .dataframe tbody tr th {\n",
       "        vertical-align: top;\n",
       "    }\n",
       "\n",
       "    .dataframe thead th {\n",
       "        text-align: right;\n",
       "    }\n",
       "</style>\n",
       "<table border=\"1\" class=\"dataframe\">\n",
       "  <thead>\n",
       "    <tr style=\"text-align: right;\">\n",
       "      <th></th>\n",
       "      <th>subdivision</th>\n",
       "      <th>year</th>\n",
       "      <th>median household income</th>\n",
       "      <th>median home value</th>\n",
       "      <th>county</th>\n",
       "      <th>latitude</th>\n",
       "      <th>longitude</th>\n",
       "    </tr>\n",
       "  </thead>\n",
       "  <tbody>\n",
       "    <tr>\n",
       "      <th>0</th>\n",
       "      <td>Beavercreek, Clackamas, Oregon</td>\n",
       "      <td>2023</td>\n",
       "      <td>122212</td>\n",
       "      <td>660600</td>\n",
       "      <td>Clackamas</td>\n",
       "      <td>45.287929</td>\n",
       "      <td>-122.535342</td>\n",
       "    </tr>\n",
       "    <tr>\n",
       "      <th>1</th>\n",
       "      <td>Beavercreek, Clackamas, Oregon</td>\n",
       "      <td>2022</td>\n",
       "      <td>114926</td>\n",
       "      <td>644600</td>\n",
       "      <td>Clackamas</td>\n",
       "      <td>45.287929</td>\n",
       "      <td>-122.535342</td>\n",
       "    </tr>\n",
       "    <tr>\n",
       "      <th>2</th>\n",
       "      <td>Beavercreek, Clackamas, Oregon</td>\n",
       "      <td>2021</td>\n",
       "      <td>101283</td>\n",
       "      <td>522900</td>\n",
       "      <td>Clackamas</td>\n",
       "      <td>45.287929</td>\n",
       "      <td>-122.535342</td>\n",
       "    </tr>\n",
       "    <tr>\n",
       "      <th>3</th>\n",
       "      <td>Beavercreek, Clackamas, Oregon</td>\n",
       "      <td>2020</td>\n",
       "      <td>99750</td>\n",
       "      <td>501200</td>\n",
       "      <td>Clackamas</td>\n",
       "      <td>45.287929</td>\n",
       "      <td>-122.535342</td>\n",
       "    </tr>\n",
       "    <tr>\n",
       "      <th>4</th>\n",
       "      <td>Beavercreek, Clackamas, Oregon</td>\n",
       "      <td>2019</td>\n",
       "      <td>93279</td>\n",
       "      <td>468400</td>\n",
       "      <td>Clackamas</td>\n",
       "      <td>45.287929</td>\n",
       "      <td>-122.535342</td>\n",
       "    </tr>\n",
       "    <tr>\n",
       "      <th>...</th>\n",
       "      <td>...</td>\n",
       "      <td>...</td>\n",
       "      <td>...</td>\n",
       "      <td>...</td>\n",
       "      <td>...</td>\n",
       "      <td>...</td>\n",
       "      <td>...</td>\n",
       "    </tr>\n",
       "    <tr>\n",
       "      <th>110</th>\n",
       "      <td>Yoder, Clackamas, Oregon</td>\n",
       "      <td>2023</td>\n",
       "      <td>109921</td>\n",
       "      <td>719800</td>\n",
       "      <td>Clackamas</td>\n",
       "      <td>45.138177</td>\n",
       "      <td>-122.681757</td>\n",
       "    </tr>\n",
       "    <tr>\n",
       "      <th>111</th>\n",
       "      <td>Yoder, Clackamas, Oregon</td>\n",
       "      <td>2022</td>\n",
       "      <td>110688</td>\n",
       "      <td>673600</td>\n",
       "      <td>Clackamas</td>\n",
       "      <td>45.138177</td>\n",
       "      <td>-122.681757</td>\n",
       "    </tr>\n",
       "    <tr>\n",
       "      <th>112</th>\n",
       "      <td>Yoder, Clackamas, Oregon</td>\n",
       "      <td>2021</td>\n",
       "      <td>96365</td>\n",
       "      <td>560200</td>\n",
       "      <td>Clackamas</td>\n",
       "      <td>45.138177</td>\n",
       "      <td>-122.681757</td>\n",
       "    </tr>\n",
       "    <tr>\n",
       "      <th>113</th>\n",
       "      <td>Yoder, Clackamas, Oregon</td>\n",
       "      <td>2020</td>\n",
       "      <td>87969</td>\n",
       "      <td>517400</td>\n",
       "      <td>Clackamas</td>\n",
       "      <td>45.138177</td>\n",
       "      <td>-122.681757</td>\n",
       "    </tr>\n",
       "    <tr>\n",
       "      <th>114</th>\n",
       "      <td>Yoder, Clackamas, Oregon</td>\n",
       "      <td>2019</td>\n",
       "      <td>81944</td>\n",
       "      <td>495400</td>\n",
       "      <td>Clackamas</td>\n",
       "      <td>45.138177</td>\n",
       "      <td>-122.681757</td>\n",
       "    </tr>\n",
       "  </tbody>\n",
       "</table>\n",
       "<p>115 rows × 7 columns</p>\n",
       "</div>"
      ],
      "text/plain": [
       "                        subdivision  year  median household income  \\\n",
       "0    Beavercreek, Clackamas, Oregon  2023                   122212   \n",
       "1    Beavercreek, Clackamas, Oregon  2022                   114926   \n",
       "2    Beavercreek, Clackamas, Oregon  2021                   101283   \n",
       "3    Beavercreek, Clackamas, Oregon  2020                    99750   \n",
       "4    Beavercreek, Clackamas, Oregon  2019                    93279   \n",
       "..                              ...   ...                      ...   \n",
       "110        Yoder, Clackamas, Oregon  2023                   109921   \n",
       "111        Yoder, Clackamas, Oregon  2022                   110688   \n",
       "112        Yoder, Clackamas, Oregon  2021                    96365   \n",
       "113        Yoder, Clackamas, Oregon  2020                    87969   \n",
       "114        Yoder, Clackamas, Oregon  2019                    81944   \n",
       "\n",
       "     median home value     county   latitude   longitude  \n",
       "0               660600  Clackamas  45.287929 -122.535342  \n",
       "1               644600  Clackamas  45.287929 -122.535342  \n",
       "2               522900  Clackamas  45.287929 -122.535342  \n",
       "3               501200  Clackamas  45.287929 -122.535342  \n",
       "4               468400  Clackamas  45.287929 -122.535342  \n",
       "..                 ...        ...        ...         ...  \n",
       "110             719800  Clackamas  45.138177 -122.681757  \n",
       "111             673600  Clackamas  45.138177 -122.681757  \n",
       "112             560200  Clackamas  45.138177 -122.681757  \n",
       "113             517400  Clackamas  45.138177 -122.681757  \n",
       "114             495400  Clackamas  45.138177 -122.681757  \n",
       "\n",
       "[115 rows x 7 columns]"
      ]
     },
     "execution_count": 46,
     "metadata": {},
     "output_type": "execute_result"
    }
   ],
   "source": [
    "\n",
    "# Load and clean the CSV file\n",
    "file_path = \"Final.csv\"  # Update with your actual file path\n",
    "df_cleaned = pd.read_csv(file_path)\n",
    "\n",
    "# Normalize column names to avoid mismatches\n",
    "df_cleaned.columns = df_cleaned.columns.str.strip().str.lower()  # Remove leading/trailing spaces and convert to lowercase\n",
    "\n",
    "# Rename 'county subdivision' to 'subdivision' and clean the names\n",
    "df_cleaned = df_cleaned.rename(columns={'county subdivision': 'subdivision'})\n",
    "df_cleaned[\"subdivision\"] = df_cleaned[\"subdivision\"].str.replace(\" CCD\", \"\", regex=False).str.replace(\" County\", \"\", regex=False)\n",
    "\n",
    "# Display the cleaned dataframe\n",
    "df_cleaned\n"
   ]
  },
  {
   "cell_type": "code",
   "execution_count": 47,
   "metadata": {},
   "outputs": [
    {
     "data": {
      "image/png": "[encoded data removed]",
      "text/plain": [
       "<Figure size 1200x800 with 2 Axes>"
      ]
     },
     "metadata": {},
     "output_type": "display_data"
    }
   ],
   "source": [
    "# Load the cleaned dataset\n",
    "file_path = \"Final.csv\"  \n",
    "df_cleaned = pd.read_csv(file_path)\n",
    "\n",
    "# Normalize column names to avoid mismatches\n",
    "df_cleaned.columns = df_cleaned.columns.str.strip().str.lower()\n",
    "df_cleaned = df_cleaned.rename(columns={'county subdivision': 'subdivision'})\n",
    "df_cleaned[\"subdivision\"] = df_cleaned[\"subdivision\"].str.replace(\" CCD\", \"\", regex=False).str.replace(\" County\", \"\", regex=False)\n",
    "\n",
    "# Now create the wide format data for the heatmap\n",
    "df_wide = df_cleaned.pivot(index='subdivision', columns='year', values='median home value')\n",
    "\n",
    "# Create a heatmap for each subdivision with a red-to-green color scale\n",
    "plt.figure(figsize=(12, 8))\n",
    "sns.heatmap(\n",
    "    df_wide, \n",
    "    annot=True, \n",
    "    fmt=\".0f\", \n",
    "    cmap=\"RdYlGn_r\", \n",
    "    linewidths=0.5\n",
    ")\n",
    "\n",
    "# Customize the plot\n",
    "plt.title(\"Median Home Value Heatmap Across Subdivisions (2019-2023)\")\n",
    "plt.xlabel(\"Year\")\n",
    "plt.ylabel(\"Subdivision\")\n",
    "\n",
    "# Show the heatmap\n",
    "plt.show()\n"
   ]
  },
  {
   "cell_type": "code",
   "execution_count": 48,
   "metadata": {},
   "outputs": [
    {
     "data": {
      "application/vnd.plotly.v1+json": {
       "config": {
        "plotlyServerURL": "https://plot.ly"
       },
       "data": [
        {
         "customdata": [
          [
           "Clackamas",
           660600,
           2023
          ],
          [
           "Washington",
           556000,
           2023
          ],
          [
           "Clackamas",
           484700,
           2023
          ],
          [
           "Washington",
           645300,
           2023
          ],
          [
           "Washington",
           550200,
           2023
          ],
          [
           "Clackamas",
           555400,
           2023
          ],
          [
           "Multnomah",
           654100,
           2023
          ],
          [
           "Clackamas",
           572400,
           2023
          ],
          [
           "Washington",
           457200,
           2023
          ],
          [
           "Multnomah",
           438300,
           2023
          ],
          [
           "Clackamas",
           438300,
           2023
          ],
          [
           "Clackamas",
           473300,
           2023
          ],
          [
           "Clackamas",
           650000,
           2023
          ],
          [
           "Washington",
           645200,
           2023
          ],
          [
           "Clackamas",
           593600,
           2023
          ],
          [
           "Multnomah",
           525000,
           2023
          ],
          [
           "Multnomah",
           694000,
           2023
          ],
          [
           "Clackamas",
           660800,
           2023
          ],
          [
           "Washington",
           614800,
           2023
          ],
          [
           "Clackamas",
           488200,
           2023
          ],
          [
           "Multnomah",
           780100,
           2023
          ],
          [
           "Clackamas",
           605600,
           2023
          ],
          [
           "Clackamas",
           719800,
           2023
          ]
         ],
         "hovertemplate": "<b>%{hovertext}</b><br><br>Year=%{customdata[2]}<br>Median Home Value=%{marker.color}<br>Latitude=%{lat}<br>Longitude=%{lon}<br>County=%{customdata[0]}<extra></extra>",
         "hovertext": [
          "Beavercreek CCD, Clackamas County, Oregon",
          "Beaverton-Hillsboro CCD, Washington County, Oregon",
          "Canby CCD, Clackamas County, Oregon",
          "Chehalem Mountains CCD, Washington County, Oregon",
          "Coast Range CCD, Washington County, Oregon",
          "Colton CCD, Clackamas County, Oregon",
          "Corbett CCD, Multnomah County, Oregon",
          "Estacada CCD, Clackamas County, Oregon",
          "Forest Grove-Cornelius CCD, Washington County, Oregon",
          "Gresham CCD, Multnomah County, Oregon",
          "Molalla CCD, Clackamas County, Oregon",
          "Mount Hood CCD, Clackamas County, Oregon",
          "Mulino CCD, Clackamas County, Oregon",
          "North Plains CCD, Washington County, Oregon",
          "Northwest Clackamas CCD, Clackamas County, Oregon",
          "Portland East CCD, Multnomah County, Oregon",
          "Portland West CCD, Multnomah County, Oregon",
          "Redland CCD, Clackamas County, Oregon",
          "Rockcreek CCD, Washington County, Oregon",
          "Sandy CCD, Clackamas County, Oregon",
          "Skyline CCD, Multnomah County, Oregon",
          "Wilsonville CCD, Clackamas County, Oregon",
          "Yoder CCD, Clackamas County, Oregon"
         ],
         "lat": [
          45.2879294,
          45.5226664,
          45.262692,
          45.3278962,
          45.5469616,
          45.1721192,
          45.5318,
          45.2877198,
          45.5195,
          45.5044715,
          45.1475439,
          45.2023855,
          45.2212415,
          45.59778499999999,
          45.4074434,
          45.5165442,
          45.4548406,
          45.3434553,
          45.5510497,
          45.3973141,
          45.5145659,
          45.3029344,
          45.1381769
         ],
         "legendgroup": "",
         "lon": [
          -122.5353423,
          -122.9898071,
          -122.6957402,
          -122.88871,
          -123.1386021,
          -122.4374803,
          -122.2912,
          -122.3351638,
          -123.1053,
          -122.4356657,
          -122.5771264,
          -122.1188945,
          -122.5816606,
          -123.0008365,
          -122.5688975,
          -122.6626984,
          -122.7325965,
          -122.4928664,
          -122.8741537,
          -122.2630704,
          -122.5863212,
          -122.7726687,
          -122.6817567
         ],
         "marker": {
          "color": [
           660600,
           556000,
           484700,
           645300,
           550200,
           555400,
           654100,
           572400,
           457200,
           438300,
           438300,
           473300,
           650000,
           645200,
           593600,
           525000,
           694000,
           660800,
           614800,
           488200,
           780100,
           605600,
           719800
          ],
          "coloraxis": "coloraxis",
          "size": [
           660600,
           556000,
           484700,
           645300,
           550200,
           555400,
           654100,
           572400,
           457200,
           438300,
           438300,
           473300,
           650000,
           645200,
           593600,
           525000,
           694000,
           660800,
           614800,
           488200,
           780100,
           605600,
           719800
          ],
          "sizemode": "area",
          "sizeref": 1950.25
         },
         "mode": "markers",
         "name": "",
         "showlegend": false,
         "subplot": "mapbox",
         "type": "scattermapbox"
        }
       ],
       "frames": [
        {
         "data": [
          {
           "customdata": [
            [
             "Clackamas",
             660600,
             2023
            ],
            [
             "Washington",
             556000,
             2023
            ],
            [
             "Clackamas",
             484700,
             2023
            ],
            [
             "Washington",
             645300,
             2023
            ],
            [
             "Washington",
             550200,
             2023
            ],
            [
             "Clackamas",
             555400,
             2023
            ],
            [
             "Multnomah",
             654100,
             2023
            ],
            [
             "Clackamas",
             572400,
             2023
            ],
            [
             "Washington",
             457200,
             2023
            ],
            [
             "Multnomah",
             438300,
             2023
            ],
            [
             "Clackamas",
             438300,
             2023
            ],
            [
             "Clackamas",
             473300,
             2023
            ],
            [
             "Clackamas",
             650000,
             2023
            ],
            [
             "Washington",
             645200,
             2023
            ],
            [
             "Clackamas",
             593600,
             2023
            ],
            [
             "Multnomah",
             525000,
             2023
            ],
            [
             "Multnomah",
             694000,
             2023
            ],
            [
             "Clackamas",
             660800,
             2023
            ],
            [
             "Washington",
             614800,
             2023
            ],
            [
             "Clackamas",
             488200,
             2023
            ],
            [
             "Multnomah",
             780100,
             2023
            ],
            [
             "Clackamas",
             605600,
             2023
            ],
            [
             "Clackamas",
             719800,
             2023
            ]
           ],
           "hovertemplate": "<b>%{hovertext}</b><br><br>Year=%{customdata[2]}<br>Median Home Value=%{marker.color}<br>Latitude=%{lat}<br>Longitude=%{lon}<br>County=%{customdata[0]}<extra></extra>",
           "hovertext": [
            "Beavercreek CCD, Clackamas County, Oregon",
            "Beaverton-Hillsboro CCD, Washington County, Oregon",
            "Canby CCD, Clackamas County, Oregon",
            "Chehalem Mountains CCD, Washington County, Oregon",
            "Coast Range CCD, Washington County, Oregon",
            "Colton CCD, Clackamas County, Oregon",
            "Corbett CCD, Multnomah County, Oregon",
            "Estacada CCD, Clackamas County, Oregon",
            "Forest Grove-Cornelius CCD, Washington County, Oregon",
            "Gresham CCD, Multnomah County, Oregon",
            "Molalla CCD, Clackamas County, Oregon",
            "Mount Hood CCD, Clackamas County, Oregon",
            "Mulino CCD, Clackamas County, Oregon",
            "North Plains CCD, Washington County, Oregon",
            "Northwest Clackamas CCD, Clackamas County, Oregon",
            "Portland East CCD, Multnomah County, Oregon",
            "Portland West CCD, Multnomah County, Oregon",
            "Redland CCD, Clackamas County, Oregon",
            "Rockcreek CCD, Washington County, Oregon",
            "Sandy CCD, Clackamas County, Oregon",
            "Skyline CCD, Multnomah County, Oregon",
            "Wilsonville CCD, Clackamas County, Oregon",
            "Yoder CCD, Clackamas County, Oregon"
           ],
           "lat": [
            45.2879294,
            45.5226664,
            45.262692,
            45.3278962,
            45.5469616,
            45.1721192,
            45.5318,
            45.2877198,
            45.5195,
            45.5044715,
            45.1475439,
            45.2023855,
            45.2212415,
            45.59778499999999,
            45.4074434,
            45.5165442,
            45.4548406,
            45.3434553,
            45.5510497,
            45.3973141,
            45.5145659,
            45.3029344,
            45.1381769
           ],
           "legendgroup": "",
           "lon": [
            -122.5353423,
            -122.9898071,
            -122.6957402,
            -122.88871,
            -123.1386021,
            -122.4374803,
            -122.2912,
            -122.3351638,
            -123.1053,
            -122.4356657,
            -122.5771264,
            -122.1188945,
            -122.5816606,
            -123.0008365,
            -122.5688975,
            -122.6626984,
            -122.7325965,
            -122.4928664,
            -122.8741537,
            -122.2630704,
            -122.5863212,
            -122.7726687,
            -122.6817567
           ],
           "marker": {
            "color": [
             660600,
             556000,
             484700,
             645300,
             550200,
             555400,
             654100,
             572400,
             457200,
             438300,
             438300,
             473300,
             650000,
             645200,
             593600,
             525000,
             694000,
             660800,
             614800,
             488200,
             780100,
             605600,
             719800
            ],
            "coloraxis": "coloraxis",
            "size": [
             660600,
             556000,
             484700,
             645300,
             550200,
             555400,
             654100,
             572400,
             457200,
             438300,
             438300,
             473300,
             650000,
             645200,
             593600,
             525000,
             694000,
             660800,
             614800,
             488200,
             780100,
             605600,
             719800
            ],
            "sizemode": "area",
            "sizeref": 1950.25
           },
           "mode": "markers",
           "name": "",
           "showlegend": false,
           "subplot": "mapbox",
           "type": "scattermapbox"
          }
         ],
         "name": "2023"
        },
        {
         "data": [
          {
           "customdata": [
            [
             "Clackamas",
             644600,
             2022
            ],
            [
             "Washington",
             501200,
             2022
            ],
            [
             "Clackamas",
             455000,
             2022
            ],
            [
             "Washington",
             660500,
             2022
            ],
            [
             "Washington",
             507000,
             2022
            ],
            [
             "Clackamas",
             493300,
             2022
            ],
            [
             "Multnomah",
             609400,
             2022
            ],
            [
             "Clackamas",
             511800,
             2022
            ],
            [
             "Washington",
             429100,
             2022
            ],
            [
             "Multnomah",
             410900,
             2022
            ],
            [
             "Clackamas",
             405600,
             2022
            ],
            [
             "Clackamas",
             468900,
             2022
            ],
            [
             "Clackamas",
             620200,
             2022
            ],
            [
             "Washington",
             614700,
             2022
            ],
            [
             "Clackamas",
             546200,
             2022
            ],
            [
             "Multnomah",
             491300,
             2022
            ],
            [
             "Multnomah",
             663000,
             2022
            ],
            [
             "Clackamas",
             619100,
             2022
            ],
            [
             "Washington",
             573700,
             2022
            ],
            [
             "Clackamas",
             473900,
             2022
            ],
            [
             "Multnomah",
             747100,
             2022
            ],
            [
             "Clackamas",
             579200,
             2022
            ],
            [
             "Clackamas",
             673600,
             2022
            ]
           ],
           "hovertemplate": "<b>%{hovertext}</b><br><br>Year=%{customdata[2]}<br>Median Home Value=%{marker.color}<br>Latitude=%{lat}<br>Longitude=%{lon}<br>County=%{customdata[0]}<extra></extra>",
           "hovertext": [
            "Beavercreek CCD, Clackamas County, Oregon",
            "Beaverton-Hillsboro CCD, Washington County, Oregon",
            "Canby CCD, Clackamas County, Oregon",
            "Chehalem Mountains CCD, Washington County, Oregon",
            "Coast Range CCD, Washington County, Oregon",
            "Colton CCD, Clackamas County, Oregon",
            "Corbett CCD, Multnomah County, Oregon",
            "Estacada CCD, Clackamas County, Oregon",
            "Forest Grove-Cornelius CCD, Washington County, Oregon",
            "Gresham CCD, Multnomah County, Oregon",
            "Molalla CCD, Clackamas County, Oregon",
            "Mount Hood CCD, Clackamas County, Oregon",
            "Mulino CCD, Clackamas County, Oregon",
            "North Plains CCD, Washington County, Oregon",
            "Northwest Clackamas CCD, Clackamas County, Oregon",
            "Portland East CCD, Multnomah County, Oregon",
            "Portland West CCD, Multnomah County, Oregon",
            "Redland CCD, Clackamas County, Oregon",
            "Rockcreek CCD, Washington County, Oregon",
            "Sandy CCD, Clackamas County, Oregon",
            "Skyline CCD, Multnomah County, Oregon",
            "Wilsonville CCD, Clackamas County, Oregon",
            "Yoder CCD, Clackamas County, Oregon"
           ],
           "lat": [
            45.2879294,
            45.5226664,
            45.262692,
            45.3278962,
            45.5469616,
            45.1721192,
            45.5318,
            45.2877198,
            45.5195,
            45.5044715,
            45.1475439,
            45.2023855,
            45.2212415,
            45.59778499999999,
            45.4074434,
            45.5165442,
            45.4548406,
            45.3434553,
            45.5510497,
            45.3973141,
            45.5145659,
            45.3029344,
            45.1381769
           ],
           "legendgroup": "",
           "lon": [
            -122.5353423,
            -122.9898071,
            -122.6957402,
            -122.88871,
            -123.1386021,
            -122.4374803,
            -122.2912,
            -122.3351638,
            -123.1053,
            -122.4356657,
            -122.5771264,
            -122.1188945,
            -122.5816606,
            -123.0008365,
            -122.5688975,
            -122.6626984,
            -122.7325965,
            -122.4928664,
            -122.8741537,
            -122.2630704,
            -122.5863212,
            -122.7726687,
            -122.6817567
           ],
           "marker": {
            "color": [
             644600,
             501200,
             455000,
             660500,
             507000,
             493300,
             609400,
             511800,
             429100,
             410900,
             405600,
             468900,
             620200,
             614700,
             546200,
             491300,
             663000,
             619100,
             573700,
             473900,
             747100,
             579200,
             673600
            ],
            "coloraxis": "coloraxis",
            "size": [
             644600,
             501200,
             455000,
             660500,
             507000,
             493300,
             609400,
             511800,
             429100,
             410900,
             405600,
             468900,
             620200,
             614700,
             546200,
             491300,
             663000,
             619100,
             573700,
             473900,
             747100,
             579200,
             673600
            ],
            "sizemode": "area",
            "sizeref": 1950.25
           },
           "mode": "markers",
           "name": "",
           "showlegend": false,
           "subplot": "mapbox",
           "type": "scattermapbox"
          }
         ],
         "name": "2022"
        },
        {
         "data": [
          {
           "customdata": [
            [
             "Clackamas",
             522900,
             2021
            ],
            [
             "Washington",
             436300,
             2021
            ],
            [
             "Clackamas",
             390600,
             2021
            ],
            [
             "Washington",
             549600,
             2021
            ],
            [
             "Washington",
             455700,
             2021
            ],
            [
             "Clackamas",
             440700,
             2021
            ],
            [
             "Multnomah",
             496400,
             2021
            ],
            [
             "Clackamas",
             431200,
             2021
            ],
            [
             "Washington",
             366600,
             2021
            ],
            [
             "Multnomah",
             348600,
             2021
            ],
            [
             "Clackamas",
             350100,
             2021
            ],
            [
             "Clackamas",
             389100,
             2021
            ],
            [
             "Clackamas",
             528700,
             2021
            ],
            [
             "Washington",
             497400,
             2021
            ],
            [
             "Clackamas",
             462700,
             2021
            ],
            [
             "Multnomah",
             437900,
             2021
            ],
            [
             "Multnomah",
             604000,
             2021
            ],
            [
             "Clackamas",
             507200,
             2021
            ],
            [
             "Washington",
             488800,
             2021
            ],
            [
             "Clackamas",
             385100,
             2021
            ],
            [
             "Multnomah",
             705300,
             2021
            ],
            [
             "Clackamas",
             486500,
             2021
            ],
            [
             "Clackamas",
             560200,
             2021
            ]
           ],
           "hovertemplate": "<b>%{hovertext}</b><br><br>Year=%{customdata[2]}<br>Median Home Value=%{marker.color}<br>Latitude=%{lat}<br>Longitude=%{lon}<br>County=%{customdata[0]}<extra></extra>",
           "hovertext": [
            "Beavercreek CCD, Clackamas County, Oregon",
            "Beaverton-Hillsboro CCD, Washington County, Oregon",
            "Canby CCD, Clackamas County, Oregon",
            "Chehalem Mountains CCD, Washington County, Oregon",
            "Coast Range CCD, Washington County, Oregon",
            "Colton CCD, Clackamas County, Oregon",
            "Corbett CCD, Multnomah County, Oregon",
            "Estacada CCD, Clackamas County, Oregon",
            "Forest Grove-Cornelius CCD, Washington County, Oregon",
            "Gresham CCD, Multnomah County, Oregon",
            "Molalla CCD, Clackamas County, Oregon",
            "Mount Hood CCD, Clackamas County, Oregon",
            "Mulino CCD, Clackamas County, Oregon",
            "North Plains CCD, Washington County, Oregon",
            "Northwest Clackamas CCD, Clackamas County, Oregon",
            "Portland East CCD, Multnomah County, Oregon",
            "Portland West CCD, Multnomah County, Oregon",
            "Redland CCD, Clackamas County, Oregon",
            "Rockcreek CCD, Washington County, Oregon",
            "Sandy CCD, Clackamas County, Oregon",
            "Skyline CCD, Multnomah County, Oregon",
            "Wilsonville CCD, Clackamas County, Oregon",
            "Yoder CCD, Clackamas County, Oregon"
           ],
           "lat": [
            45.2879294,
            45.5226664,
            45.262692,
            45.3278962,
            45.5469616,
            45.1721192,
            45.5318,
            45.2877198,
            45.5195,
            45.5044715,
            45.1475439,
            45.2023855,
            45.2212415,
            45.59778499999999,
            45.4074434,
            45.5165442,
            45.4548406,
            45.3434553,
            45.5510497,
            45.3973141,
            45.5145659,
            45.3029344,
            45.1381769
           ],
           "legendgroup": "",
           "lon": [
            -122.5353423,
            -122.9898071,
            -122.6957402,
            -122.88871,
            -123.1386021,
            -122.4374803,
            -122.2912,
            -122.3351638,
            -123.1053,
            -122.4356657,
            -122.5771264,
            -122.1188945,
            -122.5816606,
            -123.0008365,
            -122.5688975,
            -122.6626984,
            -122.7325965,
            -122.4928664,
            -122.8741537,
            -122.2630704,
            -122.5863212,
            -122.7726687,
            -122.6817567
           ],
           "marker": {
            "color": [
             522900,
             436300,
             390600,
             549600,
             455700,
             440700,
             496400,
             431200,
             366600,
             348600,
             350100,
             389100,
             528700,
             497400,
             462700,
             437900,
             604000,
             507200,
             488800,
             385100,
             705300,
             486500,
             560200
            ],
            "coloraxis": "coloraxis",
            "size": [
             522900,
             436300,
             390600,
             549600,
             455700,
             440700,
             496400,
             431200,
             366600,
             348600,
             350100,
             389100,
             528700,
             497400,
             462700,
             437900,
             604000,
             507200,
             488800,
             385100,
             705300,
             486500,
             560200
            ],
            "sizemode": "area",
            "sizeref": 1950.25
           },
           "mode": "markers",
           "name": "",
           "showlegend": false,
           "subplot": "mapbox",
           "type": "scattermapbox"
          }
         ],
         "name": "2021"
        },
        {
         "data": [
          {
           "customdata": [
            [
             "Clackamas",
             501200,
             2020
            ],
            [
             "Washington",
             410900,
             2020
            ],
            [
             "Clackamas",
             365500,
             2020
            ],
            [
             "Washington",
             495800,
             2020
            ],
            [
             "Washington",
             453800,
             2020
            ],
            [
             "Clackamas",
             391500,
             2020
            ],
            [
             "Multnomah",
             461700,
             2020
            ],
            [
             "Clackamas",
             392700,
             2020
            ],
            [
             "Washington",
             339100,
             2020
            ],
            [
             "Multnomah",
             324300,
             2020
            ],
            [
             "Clackamas",
             335100,
             2020
            ],
            [
             "Clackamas",
             367100,
             2020
            ],
            [
             "Clackamas",
             478200,
             2020
            ],
            [
             "Washington",
             459600,
             2020
            ],
            [
             "Clackamas",
             430600,
             2020
            ],
            [
             "Multnomah",
             410200,
             2020
            ],
            [
             "Multnomah",
             586300,
             2020
            ],
            [
             "Clackamas",
             475600,
             2020
            ],
            [
             "Washington",
             463700,
             2020
            ],
            [
             "Clackamas",
             364700,
             2020
            ],
            [
             "Multnomah",
             668000,
             2020
            ],
            [
             "Clackamas",
             467600,
             2020
            ],
            [
             "Clackamas",
             517400,
             2020
            ]
           ],
           "hovertemplate": "<b>%{hovertext}</b><br><br>Year=%{customdata[2]}<br>Median Home Value=%{marker.color}<br>Latitude=%{lat}<br>Longitude=%{lon}<br>County=%{customdata[0]}<extra></extra>",
           "hovertext": [
            "Beavercreek CCD, Clackamas County, Oregon",
            "Beaverton-Hillsboro CCD, Washington County, Oregon",
            "Canby CCD, Clackamas County, Oregon",
            "Chehalem Mountains CCD, Washington County, Oregon",
            "Coast Range CCD, Washington County, Oregon",
            "Colton CCD, Clackamas County, Oregon",
            "Corbett CCD, Multnomah County, Oregon",
            "Estacada CCD, Clackamas County, Oregon",
            "Forest Grove-Cornelius CCD, Washington County, Oregon",
            "Gresham CCD, Multnomah County, Oregon",
            "Molalla CCD, Clackamas County, Oregon",
            "Mount Hood CCD, Clackamas County, Oregon",
            "Mulino CCD, Clackamas County, Oregon",
            "North Plains CCD, Washington County, Oregon",
            "Northwest Clackamas CCD, Clackamas County, Oregon",
            "Portland East CCD, Multnomah County, Oregon",
            "Portland West CCD, Multnomah County, Oregon",
            "Redland CCD, Clackamas County, Oregon",
            "Rockcreek CCD, Washington County, Oregon",
            "Sandy CCD, Clackamas County, Oregon",
            "Skyline CCD, Multnomah County, Oregon",
            "Wilsonville CCD, Clackamas County, Oregon",
            "Yoder CCD, Clackamas County, Oregon"
           ],
           "lat": [
            45.2879294,
            45.5226664,
            45.262692,
            45.3278962,
            45.5469616,
            45.1721192,
            45.5318,
            45.2877198,
            45.5195,
            45.5044715,
            45.1475439,
            45.2023855,
            45.2212415,
            45.59778499999999,
            45.4074434,
            45.5165442,
            45.4548406,
            45.3434553,
            45.5510497,
            45.3973141,
            45.5145659,
            45.3029344,
            45.1381769
           ],
           "legendgroup": "",
           "lon": [
            -122.5353423,
            -122.9898071,
            -122.6957402,
            -122.88871,
            -123.1386021,
            -122.4374803,
            -122.2912,
            -122.3351638,
            -123.1053,
            -122.4356657,
            -122.5771264,
            -122.1188945,
            -122.5816606,
            -123.0008365,
            -122.5688975,
            -122.6626984,
            -122.7325965,
            -122.4928664,
            -122.8741537,
            -122.2630704,
            -122.5863212,
            -122.7726687,
            -122.6817567
           ],
           "marker": {
            "color": [
             501200,
             410900,
             365500,
             495800,
             453800,
             391500,
             461700,
             392700,
             339100,
             324300,
             335100,
             367100,
             478200,
             459600,
             430600,
             410200,
             586300,
             475600,
             463700,
             364700,
             668000,
             467600,
             517400
            ],
            "coloraxis": "coloraxis",
            "size": [
             501200,
             410900,
             365500,
             495800,
             453800,
             391500,
             461700,
             392700,
             339100,
             324300,
             335100,
             367100,
             478200,
             459600,
             430600,
             410200,
             586300,
             475600,
             463700,
             364700,
             668000,
             467600,
             517400
            ],
            "sizemode": "area",
            "sizeref": 1950.25
           },
           "mode": "markers",
           "name": "",
           "showlegend": false,
           "subplot": "mapbox",
           "type": "scattermapbox"
          }
         ],
         "name": "2020"
        },
        {
         "data": [
          {
           "customdata": [
            [
             "Clackamas",
             468400,
             2019
            ],
            [
             "Washington",
             384400,
             2019
            ],
            [
             "Clackamas",
             334100,
             2019
            ],
            [
             "Washington",
             478000,
             2019
            ],
            [
             "Washington",
             433800,
             2019
            ],
            [
             "Clackamas",
             347400,
             2019
            ],
            [
             "Multnomah",
             422500,
             2019
            ],
            [
             "Clackamas",
             368800,
             2019
            ],
            [
             "Washington",
             304400,
             2019
            ],
            [
             "Multnomah",
             294300,
             2019
            ],
            [
             "Clackamas",
             299200,
             2019
            ],
            [
             "Clackamas",
             371200,
             2019
            ],
            [
             "Clackamas",
             429300,
             2019
            ],
            [
             "Washington",
             433400,
             2019
            ],
            [
             "Clackamas",
             402200,
             2019
            ],
            [
             "Multnomah",
             383900,
             2019
            ],
            [
             "Multnomah",
             557100,
             2019
            ],
            [
             "Clackamas",
             480300,
             2019
            ],
            [
             "Washington",
             441200,
             2019
            ],
            [
             "Clackamas",
             348300,
             2019
            ],
            [
             "Multnomah",
             592000,
             2019
            ],
            [
             "Clackamas",
             456100,
             2019
            ],
            [
             "Clackamas",
             495400,
             2019
            ]
           ],
           "hovertemplate": "<b>%{hovertext}</b><br><br>Year=%{customdata[2]}<br>Median Home Value=%{marker.color}<br>Latitude=%{lat}<br>Longitude=%{lon}<br>County=%{customdata[0]}<extra></extra>",
           "hovertext": [
            "Beavercreek CCD, Clackamas County, Oregon",
            "Beaverton-Hillsboro CCD, Washington County, Oregon",
            "Canby CCD, Clackamas County, Oregon",
            "Chehalem Mountains CCD, Washington County, Oregon",
            "Coast Range CCD, Washington County, Oregon",
            "Colton CCD, Clackamas County, Oregon",
            "Corbett CCD, Multnomah County, Oregon",
            "Estacada CCD, Clackamas County, Oregon",
            "Forest Grove-Cornelius CCD, Washington County, Oregon",
            "Gresham CCD, Multnomah County, Oregon",
            "Molalla CCD, Clackamas County, Oregon",
            "Mount Hood CCD, Clackamas County, Oregon",
            "Mulino CCD, Clackamas County, Oregon",
            "North Plains CCD, Washington County, Oregon",
            "Northwest Clackamas CCD, Clackamas County, Oregon",
            "Portland East CCD, Multnomah County, Oregon",
            "Portland West CCD, Multnomah County, Oregon",
            "Redland CCD, Clackamas County, Oregon",
            "Rockcreek CCD, Washington County, Oregon",
            "Sandy CCD, Clackamas County, Oregon",
            "Skyline CCD, Multnomah County, Oregon",
            "Wilsonville CCD, Clackamas County, Oregon",
            "Yoder CCD, Clackamas County, Oregon"
           ],
           "lat": [
            45.2879294,
            45.5226664,
            45.262692,
            45.3278962,
            45.5469616,
            45.1721192,
            45.5318,
            45.2877198,
            45.5195,
            45.5044715,
            45.1475439,
            45.2023855,
            45.2212415,
            45.59778499999999,
            45.4074434,
            45.5165442,
            45.4548406,
            45.3434553,
            45.5510497,
            45.3973141,
            45.5145659,
            45.3029344,
            45.1381769
           ],
           "legendgroup": "",
           "lon": [
            -122.5353423,
            -122.9898071,
            -122.6957402,
            -122.88871,
            -123.1386021,
            -122.4374803,
            -122.2912,
            -122.3351638,
            -123.1053,
            -122.4356657,
            -122.5771264,
            -122.1188945,
            -122.5816606,
            -123.0008365,
            -122.5688975,
            -122.6626984,
            -122.7325965,
            -122.4928664,
            -122.8741537,
            -122.2630704,
            -122.5863212,
            -122.7726687,
            -122.6817567
           ],
           "marker": {
            "color": [
             468400,
             384400,
             334100,
             478000,
             433800,
             347400,
             422500,
             368800,
             304400,
             294300,
             299200,
             371200,
             429300,
             433400,
             402200,
             383900,
             557100,
             480300,
             441200,
             348300,
             592000,
             456100,
             495400
            ],
            "coloraxis": "coloraxis",
            "size": [
             468400,
             384400,
             334100,
             478000,
             433800,
             347400,
             422500,
             368800,
             304400,
             294300,
             299200,
             371200,
             429300,
             433400,
             402200,
             383900,
             557100,
             480300,
             441200,
             348300,
             592000,
             456100,
             495400
            ],
            "sizemode": "area",
            "sizeref": 1950.25
           },
           "mode": "markers",
           "name": "",
           "showlegend": false,
           "subplot": "mapbox",
           "type": "scattermapbox"
          }
         ],
         "name": "2019"
        }
       ],
       "layout": {
        "autosize": true,
        "coloraxis": {
         "colorbar": {
          "title": {
           "text": "Median Home Value"
          }
         },
         "colorscale": [
          [
           0,
           "green"
          ],
          [
           0.5,
           "yellow"
          ],
          [
           1,
           "red"
          ]
         ]
        },
        "height": 800,
        "legend": {
         "itemsizing": "constant",
         "tracegroupgap": 0
        },
        "mapbox": {
         "center": {
          "lat": 45.380827673913046,
          "lon": -122.64202430434783
         },
         "domain": {
          "x": [
           0,
           1
          ],
          "y": [
           0,
           1
          ]
         },
         "style": "carto-positron",
         "zoom": 8
        },
        "sliders": [
         {
          "active": 0,
          "currentvalue": {
           "prefix": "Year="
          },
          "len": 0.9,
          "pad": {
           "b": 10,
           "t": 60
          },
          "steps": [
           {
            "args": [
             [
              "2023"
             ],
             {
              "frame": {
               "duration": 0,
               "redraw": true
              },
              "fromcurrent": true,
              "mode": "immediate",
              "transition": {
               "duration": 0,
               "easing": "linear"
              }
             }
            ],
            "label": "2023",
            "method": "animate"
           },
           {
            "args": [
             [
              "2022"
             ],
             {
              "frame": {
               "duration": 0,
               "redraw": true
              },
              "fromcurrent": true,
              "mode": "immediate",
              "transition": {
               "duration": 0,
               "easing": "linear"
              }
             }
            ],
            "label": "2022",
            "method": "animate"
           },
           {
            "args": [
             [
              "2021"
             ],
             {
              "frame": {
               "duration": 0,
               "redraw": true
              },
              "fromcurrent": true,
              "mode": "immediate",
              "transition": {
               "duration": 0,
               "easing": "linear"
              }
             }
            ],
            "label": "2021",
            "method": "animate"
           },
           {
            "args": [
             [
              "2020"
             ],
             {
              "frame": {
               "duration": 0,
               "redraw": true
              },
              "fromcurrent": true,
              "mode": "immediate",
              "transition": {
               "duration": 0,
               "easing": "linear"
              }
             }
            ],
            "label": "2020",
            "method": "animate"
           },
           {
            "args": [
             [
              "2019"
             ],
             {
              "frame": {
               "duration": 0,
               "redraw": true
              },
              "fromcurrent": true,
              "mode": "immediate",
              "transition": {
               "duration": 0,
               "easing": "linear"
              }
             }
            ],
            "label": "2019",
            "method": "animate"
           }
          ],
          "x": 0.1,
          "xanchor": "left",
          "y": 0,
          "yanchor": "top"
         }
        ],
        "template": {
         "data": {
          "bar": [
           {
            "error_x": {
             "color": "#2a3f5f"
            },
            "error_y": {
             "color": "#2a3f5f"
            },
            "marker": {
             "line": {
              "color": "#E5ECF6",
              "width": 0.5
             },
             "pattern": {
              "fillmode": "overlay",
              "size": 10,
              "solidity": 0.2
             }
            },
            "type": "bar"
           }
          ],
          "barpolar": [
           {
            "marker": {
             "line": {
              "color": "#E5ECF6",
              "width": 0.5
             },
             "pattern": {
              "fillmode": "overlay",
              "size": 10,
              "solidity": 0.2
             }
            },
            "type": "barpolar"
           }
          ],
          "carpet": [
           {
            "aaxis": {
             "endlinecolor": "#2a3f5f",
             "gridcolor": "white",
             "linecolor": "white",
             "minorgridcolor": "white",
             "startlinecolor": "#2a3f5f"
            },
            "baxis": {
             "endlinecolor": "#2a3f5f",
             "gridcolor": "white",
             "linecolor": "white",
             "minorgridcolor": "white",
             "startlinecolor": "#2a3f5f"
            },
            "type": "carpet"
           }
          ],
          "choropleth": [
           {
            "colorbar": {
             "outlinewidth": 0,
             "ticks": ""
            },
            "type": "choropleth"
           }
          ],
          "contour": [
           {
            "colorbar": {
             "outlinewidth": 0,
             "ticks": ""
            },
            "colorscale": [
             [
              0,
              "#0d0887"
             ],
             [
              0.1111111111111111,
              "#46039f"
             ],
             [
              0.2222222222222222,
              "#7201a8"
             ],
             [
              0.3333333333333333,
              "#9c179e"
             ],
             [
              0.4444444444444444,
              "#bd3786"
             ],
             [
              0.5555555555555556,
              "#d8576b"
             ],
             [
              0.6666666666666666,
              "#ed7953"
             ],
             [
              0.7777777777777778,
              "#fb9f3a"
             ],
             [
              0.8888888888888888,
              "#fdca26"
             ],
             [
              1,
              "#f0f921"
             ]
            ],
            "type": "contour"
           }
          ],
          "contourcarpet": [
           {
            "colorbar": {
             "outlinewidth": 0,
             "ticks": ""
            },
            "type": "contourcarpet"
           }
          ],
          "heatmap": [
           {
            "colorbar": {
             "outlinewidth": 0,
             "ticks": ""
            },
            "colorscale": [
             [
              0,
              "#0d0887"
             ],
             [
              0.1111111111111111,
              "#46039f"
             ],
             [
              0.2222222222222222,
              "#7201a8"
             ],
             [
              0.3333333333333333,
              "#9c179e"
             ],
             [
              0.4444444444444444,
              "#bd3786"
             ],
             [
              0.5555555555555556,
              "#d8576b"
             ],
             [
              0.6666666666666666,
              "#ed7953"
             ],
             [
              0.7777777777777778,
              "#fb9f3a"
             ],
             [
              0.8888888888888888,
              "#fdca26"
             ],
             [
              1,
              "#f0f921"
             ]
            ],
            "type": "heatmap"
           }
          ],
          "heatmapgl": [
           {
            "colorbar": {
             "outlinewidth": 0,
             "ticks": ""
            },
            "colorscale": [
             [
              0,
              "#0d0887"
             ],
             [
              0.1111111111111111,
              "#46039f"
             ],
             [
              0.2222222222222222,
              "#7201a8"
             ],
             [
              0.3333333333333333,
              "#9c179e"
             ],
             [
              0.4444444444444444,
              "#bd3786"
             ],
             [
              0.5555555555555556,
              "#d8576b"
             ],
             [
              0.6666666666666666,
              "#ed7953"
             ],
             [
              0.7777777777777778,
              "#fb9f3a"
             ],
             [
              0.8888888888888888,
              "#fdca26"
             ],
             [
              1,
              "#f0f921"
             ]
            ],
            "type": "heatmapgl"
           }
          ],
          "histogram": [
           {
            "marker": {
             "pattern": {
              "fillmode": "overlay",
              "size": 10,
              "solidity": 0.2
             }
            },
            "type": "histogram"
           }
          ],
          "histogram2d": [
           {
            "colorbar": {
             "outlinewidth": 0,
             "ticks": ""
            },
            "colorscale": [
             [
              0,
              "#0d0887"
             ],
             [
              0.1111111111111111,
              "#46039f"
             ],
             [
              0.2222222222222222,
              "#7201a8"
             ],
             [
              0.3333333333333333,
              "#9c179e"
             ],
             [
              0.4444444444444444,
              "#bd3786"
             ],
             [
              0.5555555555555556,
              "#d8576b"
             ],
             [
              0.6666666666666666,
              "#ed7953"
             ],
             [
              0.7777777777777778,
              "#fb9f3a"
             ],
             [
              0.8888888888888888,
              "#fdca26"
             ],
             [
              1,
              "#f0f921"
             ]
            ],
            "type": "histogram2d"
           }
          ],
          "histogram2dcontour": [
           {
            "colorbar": {
             "outlinewidth": 0,
             "ticks": ""
            },
            "colorscale": [
             [
              0,
              "#0d0887"
             ],
             [
              0.1111111111111111,
              "#46039f"
             ],
             [
              0.2222222222222222,
              "#7201a8"
             ],
             [
              0.3333333333333333,
              "#9c179e"
             ],
             [
              0.4444444444444444,
              "#bd3786"
             ],
             [
              0.5555555555555556,
              "#d8576b"
             ],
             [
              0.6666666666666666,
              "#ed7953"
             ],
             [
              0.7777777777777778,
              "#fb9f3a"
             ],
             [
              0.8888888888888888,
              "#fdca26"
             ],
             [
              1,
              "#f0f921"
             ]
            ],
            "type": "histogram2dcontour"
           }
          ],
          "mesh3d": [
           {
            "colorbar": {
             "outlinewidth": 0,
             "ticks": ""
            },
            "type": "mesh3d"
           }
          ],
          "parcoords": [
           {
            "line": {
             "colorbar": {
              "outlinewidth": 0,
              "ticks": ""
             }
            },
            "type": "parcoords"
           }
          ],
          "pie": [
           {
            "automargin": true,
            "type": "pie"
           }
          ],
          "scatter": [
           {
            "fillpattern": {
             "fillmode": "overlay",
             "size": 10,
             "solidity": 0.2
            },
            "type": "scatter"
           }
          ],
          "scatter3d": [
           {
            "line": {
             "colorbar": {
              "outlinewidth": 0,
              "ticks": ""
             }
            },
            "marker": {
             "colorbar": {
              "outlinewidth": 0,
              "ticks": ""
             }
            },
            "type": "scatter3d"
           }
          ],
          "scattercarpet": [
           {
            "marker": {
             "colorbar": {
              "outlinewidth": 0,
              "ticks": ""
             }
            },
            "type": "scattercarpet"
           }
          ],
          "scattergeo": [
           {
            "marker": {
             "colorbar": {
              "outlinewidth": 0,
              "ticks": ""
             }
            },
            "type": "scattergeo"
           }
          ],
          "scattergl": [
           {
            "marker": {
             "colorbar": {
              "outlinewidth": 0,
              "ticks": ""
             }
            },
            "type": "scattergl"
           }
          ],
          "scattermapbox": [
           {
            "marker": {
             "colorbar": {
              "outlinewidth": 0,
              "ticks": ""
             }
            },
            "type": "scattermapbox"
           }
          ],
          "scatterpolar": [
           {
            "marker": {
             "colorbar": {
              "outlinewidth": 0,
              "ticks": ""
             }
            },
            "type": "scatterpolar"
           }
          ],
          "scatterpolargl": [
           {
            "marker": {
             "colorbar": {
              "outlinewidth": 0,
              "ticks": ""
             }
            },
            "type": "scatterpolargl"
           }
          ],
          "scatterternary": [
           {
            "marker": {
             "colorbar": {
              "outlinewidth": 0,
              "ticks": ""
             }
            },
            "type": "scatterternary"
           }
          ],
          "surface": [
           {
            "colorbar": {
             "outlinewidth": 0,
             "ticks": ""
            },
            "colorscale": [
             [
              0,
              "#0d0887"
             ],
             [
              0.1111111111111111,
              "#46039f"
             ],
             [
              0.2222222222222222,
              "#7201a8"
             ],
             [
              0.3333333333333333,
              "#9c179e"
             ],
             [
              0.4444444444444444,
              "#bd3786"
             ],
             [
              0.5555555555555556,
              "#d8576b"
             ],
             [
              0.6666666666666666,
              "#ed7953"
             ],
             [
              0.7777777777777778,
              "#fb9f3a"
             ],
             [
              0.8888888888888888,
              "#fdca26"
             ],
             [
              1,
              "#f0f921"
             ]
            ],
            "type": "surface"
           }
          ],
          "table": [
           {
            "cells": {
             "fill": {
              "color": "#EBF0F8"
             },
             "line": {
              "color": "white"
             }
            },
            "header": {
             "fill": {
              "color": "#C8D4E3"
             },
             "line": {
              "color": "white"
             }
            },
            "type": "table"
           }
          ]
         },
         "layout": {
          "annotationdefaults": {
           "arrowcolor": "#2a3f5f",
           "arrowhead": 0,
           "arrowwidth": 1
          },
          "autotypenumbers": "strict",
          "coloraxis": {
           "colorbar": {
            "outlinewidth": 0,
            "ticks": ""
           }
          },
          "colorscale": {
           "diverging": [
            [
             0,
             "#8e0152"
            ],
            [
             0.1,
             "#c51b7d"
            ],
            [
             0.2,
             "#de77ae"
            ],
            [
             0.3,
             "#f1b6da"
            ],
            [
             0.4,
             "#fde0ef"
            ],
            [
             0.5,
             "#f7f7f7"
            ],
            [
             0.6,
             "#e6f5d0"
            ],
            [
             0.7,
             "#b8e186"
            ],
            [
             0.8,
             "#7fbc41"
            ],
            [
             0.9,
             "#4d9221"
            ],
            [
             1,
             "#276419"
            ]
           ],
           "sequential": [
            [
             0,
             "#0d0887"
            ],
            [
             0.1111111111111111,
             "#46039f"
            ],
            [
             0.2222222222222222,
             "#7201a8"
            ],
            [
             0.3333333333333333,
             "#9c179e"
            ],
            [
             0.4444444444444444,
             "#bd3786"
            ],
            [
             0.5555555555555556,
             "#d8576b"
            ],
            [
             0.6666666666666666,
             "#ed7953"
            ],
            [
             0.7777777777777778,
             "#fb9f3a"
            ],
            [
             0.8888888888888888,
             "#fdca26"
            ],
            [
             1,
             "#f0f921"
            ]
           ],
           "sequentialminus": [
            [
             0,
             "#0d0887"
            ],
            [
             0.1111111111111111,
             "#46039f"
            ],
            [
             0.2222222222222222,
             "#7201a8"
            ],
            [
             0.3333333333333333,
             "#9c179e"
            ],
            [
             0.4444444444444444,
             "#bd3786"
            ],
            [
             0.5555555555555556,
             "#d8576b"
            ],
            [
             0.6666666666666666,
             "#ed7953"
            ],
            [
             0.7777777777777778,
             "#fb9f3a"
            ],
            [
             0.8888888888888888,
             "#fdca26"
            ],
            [
             1,
             "#f0f921"
            ]
           ]
          },
          "colorway": [
           "#636efa",
           "#EF553B",
           "#00cc96",
           "#ab63fa",
           "#FFA15A",
           "#19d3f3",
           "#FF6692",
           "#B6E880",
           "#FF97FF",
           "#FECB52"
          ],
          "font": {
           "color": "#2a3f5f"
          },
          "geo": {
           "bgcolor": "white",
           "lakecolor": "white",
           "landcolor": "#E5ECF6",
           "showlakes": true,
           "showland": true,
           "subunitcolor": "white"
          },
          "hoverlabel": {
           "align": "left"
          },
          "hovermode": "closest",
          "mapbox": {
           "style": "light"
          },
          "paper_bgcolor": "white",
          "plot_bgcolor": "#E5ECF6",
          "polar": {
           "angularaxis": {
            "gridcolor": "white",
            "linecolor": "white",
            "ticks": ""
           },
           "bgcolor": "#E5ECF6",
           "radialaxis": {
            "gridcolor": "white",
            "linecolor": "white",
            "ticks": ""
           }
          },
          "scene": {
           "xaxis": {
            "backgroundcolor": "#E5ECF6",
            "gridcolor": "white",
            "gridwidth": 2,
            "linecolor": "white",
            "showbackground": true,
            "ticks": "",
            "zerolinecolor": "white"
           },
           "yaxis": {
            "backgroundcolor": "#E5ECF6",
            "gridcolor": "white",
            "gridwidth": 2,
            "linecolor": "white",
            "showbackground": true,
            "ticks": "",
            "zerolinecolor": "white"
           },
           "zaxis": {
            "backgroundcolor": "#E5ECF6",
            "gridcolor": "white",
            "gridwidth": 2,
            "linecolor": "white",
            "showbackground": true,
            "ticks": "",
            "zerolinecolor": "white"
           }
          },
          "shapedefaults": {
           "line": {
            "color": "#2a3f5f"
           }
          },
          "ternary": {
           "aaxis": {
            "gridcolor": "white",
            "linecolor": "white",
            "ticks": ""
           },
           "baxis": {
            "gridcolor": "white",
            "linecolor": "white",
            "ticks": ""
           },
           "bgcolor": "#E5ECF6",
           "caxis": {
            "gridcolor": "white",
            "linecolor": "white",
            "ticks": ""
           }
          },
          "title": {
           "x": 0.05
          },
          "xaxis": {
           "automargin": true,
           "gridcolor": "white",
           "linecolor": "white",
           "ticks": "",
           "title": {
            "standoff": 15
           },
           "zerolinecolor": "white",
           "zerolinewidth": 2
          },
          "yaxis": {
           "automargin": true,
           "gridcolor": "white",
           "linecolor": "white",
           "ticks": "",
           "title": {
            "standoff": 15
           },
           "zerolinecolor": "white",
           "zerolinewidth": 2
          }
         }
        },
        "title": {
         "text": "Median Home Values by Subdivisions (2019-2023)"
        },
        "updatemenus": [
         {
          "buttons": [
           {
            "args": [
             null,
             {
              "frame": {
               "duration": 500,
               "redraw": true
              },
              "fromcurrent": true,
              "mode": "immediate",
              "transition": {
               "duration": 500,
               "easing": "linear"
              }
             }
            ],
            "label": "&#9654;",
            "method": "animate"
           },
           {
            "args": [
             [
              null
             ],
             {
              "frame": {
               "duration": 0,
               "redraw": true
              },
              "fromcurrent": true,
              "mode": "immediate",
              "transition": {
               "duration": 0,
               "easing": "linear"
              }
             }
            ],
            "label": "&#9724;",
            "method": "animate"
           }
          ],
          "direction": "left",
          "pad": {
           "r": 10,
           "t": 70
          },
          "showactive": false,
          "type": "buttons",
          "x": 0.1,
          "xanchor": "right",
          "y": 0,
          "yanchor": "top"
         }
        ],
        "width": 1200
       }
      }
     },
     "metadata": {},
     "output_type": "display_data"
    }
   ],
   "source": [
    "# Load the cleaned dataset\n",
    "file_path = \"Final.csv\"\n",
    "df_cleaned = pd.read_csv(file_path)\n",
    "\n",
    "# Ensure \"Year\" is numeric\n",
    "df_cleaned[\"Year\"] = pd.to_numeric(df_cleaned[\"Year\"], errors=\"coerce\")\n",
    "\n",
    "# Drop rows with missing latitude and longitude values\n",
    "df_cleaned = df_cleaned.dropna(subset=[\"Latitude\", \"Longitude\"])\n",
    "\n",
    "# Create an interactive scatter map for all years\n",
    "fig = px.scatter_mapbox(\n",
    "    df_cleaned,\n",
    "    lat='Latitude',\n",
    "    lon='Longitude',\n",
    "    size=\"Median Home Value\",\n",
    "    color=\"Median Home Value\",\n",
    "    hover_name=\"County Subdivision\",  # Corrected column name\n",
    "    hover_data=[\"County\", \"Median Home Value\", \"Year\"],\n",
    "    animation_frame=\"Year\",  # Include all years with animation\n",
    "    mapbox_style=\"carto-positron\",\n",
    "    color_continuous_scale=[\"green\", \"yellow\", \"red\"],  # Custom color scale\n",
    "    title=\"Median Home Values by Subdivisions (2019-2023)\"\n",
    ")\n",
    "\n",
    "# Increase figure size\n",
    "fig.update_layout(\n",
    "    autosize=True,\n",
    "    width=1200,\n",
    "    height=800\n",
    ")\n",
    "\n",
    "# Show the interactive map\n",
    "fig.show()\n"
   ]
  },
  {
   "cell_type": "code",
   "execution_count": 49,
   "metadata": {},
   "outputs": [
    {
     "data": {
      "text/html": [
       "<div>\n",
       "<style scoped>\n",
       "    .dataframe tbody tr th:only-of-type {\n",
       "        vertical-align: middle;\n",
       "    }\n",
       "\n",
       "    .dataframe tbody tr th {\n",
       "        vertical-align: top;\n",
       "    }\n",
       "\n",
       "    .dataframe thead th {\n",
       "        text-align: right;\n",
       "    }\n",
       "</style>\n",
       "<table border=\"1\" class=\"dataframe\">\n",
       "  <thead>\n",
       "    <tr style=\"text-align: right;\">\n",
       "      <th></th>\n",
       "      <th>County Subdivision</th>\n",
       "      <th>Year</th>\n",
       "      <th>Median Household Income</th>\n",
       "      <th>Median Home Value</th>\n",
       "      <th>Home Value to Income Ratio</th>\n",
       "    </tr>\n",
       "  </thead>\n",
       "  <tbody>\n",
       "    <tr>\n",
       "      <th>0</th>\n",
       "      <td>Beavercreek</td>\n",
       "      <td>2023</td>\n",
       "      <td>122212</td>\n",
       "      <td>660600</td>\n",
       "      <td>5.405361</td>\n",
       "    </tr>\n",
       "    <tr>\n",
       "      <th>1</th>\n",
       "      <td>Beavercreek</td>\n",
       "      <td>2022</td>\n",
       "      <td>114926</td>\n",
       "      <td>644600</td>\n",
       "      <td>5.608827</td>\n",
       "    </tr>\n",
       "    <tr>\n",
       "      <th>2</th>\n",
       "      <td>Beavercreek</td>\n",
       "      <td>2021</td>\n",
       "      <td>101283</td>\n",
       "      <td>522900</td>\n",
       "      <td>5.162762</td>\n",
       "    </tr>\n",
       "    <tr>\n",
       "      <th>3</th>\n",
       "      <td>Beavercreek</td>\n",
       "      <td>2020</td>\n",
       "      <td>99750</td>\n",
       "      <td>501200</td>\n",
       "      <td>5.024561</td>\n",
       "    </tr>\n",
       "    <tr>\n",
       "      <th>4</th>\n",
       "      <td>Beavercreek</td>\n",
       "      <td>2019</td>\n",
       "      <td>93279</td>\n",
       "      <td>468400</td>\n",
       "      <td>5.021495</td>\n",
       "    </tr>\n",
       "    <tr>\n",
       "      <th>...</th>\n",
       "      <td>...</td>\n",
       "      <td>...</td>\n",
       "      <td>...</td>\n",
       "      <td>...</td>\n",
       "      <td>...</td>\n",
       "    </tr>\n",
       "    <tr>\n",
       "      <th>110</th>\n",
       "      <td>Yoder</td>\n",
       "      <td>2023</td>\n",
       "      <td>109921</td>\n",
       "      <td>719800</td>\n",
       "      <td>6.548339</td>\n",
       "    </tr>\n",
       "    <tr>\n",
       "      <th>111</th>\n",
       "      <td>Yoder</td>\n",
       "      <td>2022</td>\n",
       "      <td>110688</td>\n",
       "      <td>673600</td>\n",
       "      <td>6.085574</td>\n",
       "    </tr>\n",
       "    <tr>\n",
       "      <th>112</th>\n",
       "      <td>Yoder</td>\n",
       "      <td>2021</td>\n",
       "      <td>96365</td>\n",
       "      <td>560200</td>\n",
       "      <td>5.813314</td>\n",
       "    </tr>\n",
       "    <tr>\n",
       "      <th>113</th>\n",
       "      <td>Yoder</td>\n",
       "      <td>2020</td>\n",
       "      <td>87969</td>\n",
       "      <td>517400</td>\n",
       "      <td>5.881617</td>\n",
       "    </tr>\n",
       "    <tr>\n",
       "      <th>114</th>\n",
       "      <td>Yoder</td>\n",
       "      <td>2019</td>\n",
       "      <td>81944</td>\n",
       "      <td>495400</td>\n",
       "      <td>6.045592</td>\n",
       "    </tr>\n",
       "  </tbody>\n",
       "</table>\n",
       "<p>115 rows × 5 columns</p>\n",
       "</div>"
      ],
      "text/plain": [
       "    County Subdivision  Year  Median Household Income  Median Home Value  \\\n",
       "0          Beavercreek  2023                   122212             660600   \n",
       "1          Beavercreek  2022                   114926             644600   \n",
       "2          Beavercreek  2021                   101283             522900   \n",
       "3          Beavercreek  2020                    99750             501200   \n",
       "4          Beavercreek  2019                    93279             468400   \n",
       "..                 ...   ...                      ...                ...   \n",
       "110              Yoder  2023                   109921             719800   \n",
       "111              Yoder  2022                   110688             673600   \n",
       "112              Yoder  2021                    96365             560200   \n",
       "113              Yoder  2020                    87969             517400   \n",
       "114              Yoder  2019                    81944             495400   \n",
       "\n",
       "     Home Value to Income Ratio  \n",
       "0                      5.405361  \n",
       "1                      5.608827  \n",
       "2                      5.162762  \n",
       "3                      5.024561  \n",
       "4                      5.021495  \n",
       "..                          ...  \n",
       "110                    6.548339  \n",
       "111                    6.085574  \n",
       "112                    5.813314  \n",
       "113                    5.881617  \n",
       "114                    6.045592  \n",
       "\n",
       "[115 rows x 5 columns]"
      ]
     },
     "execution_count": 49,
     "metadata": {},
     "output_type": "execute_result"
    }
   ],
   "source": [
    "# Calculate the Home Value to Household Income ratio\n",
    "df[\"Home Value to Income Ratio\"] = df[\"Median Home Value\"] / df[\"Median Household Income\"]\n",
    "\n",
    "# Create a new DataFrame with selected columns\n",
    "df_ratio = df[[\"County Subdivision\", \"Year\", \"Median Household Income\", \"Median Home Value\", \"Home Value to Income Ratio\"]]\n",
    "\n",
    "# Display the new DataFrame\n",
    "df_ratio\n"
   ]
  },
  {
   "cell_type": "code",
   "execution_count": 50,
   "metadata": {},
   "outputs": [
    {
     "data": {
      "image/png": "[encoded data removed]",
      "text/plain": [
       "<Figure size 1200x800 with 2 Axes>"
      ]
     },
     "metadata": {},
     "output_type": "display_data"
    }
   ],
   "source": [
    "# Calculate the Home Value to Household Income ratio\n",
    "df[\"Home Value to Income Ratio\"] = df[\"Median Home Value\"] / df[\"Median Household Income\"]\n",
    "\n",
    "# Function to clean the County Subdivision names\n",
    "def clean_subdivision_name(name):\n",
    "    return name.split(\",\")[0].replace(\" CCD\", \"\").strip()\n",
    "\n",
    "# Apply the function to clean the names\n",
    "df[\"County Subdivision\"] = df[\"County Subdivision\"].apply(clean_subdivision_name)\n",
    "\n",
    "# Create a new DataFrame with selected columns\n",
    "df_ratio = df[[\"County Subdivision\", \"Year\", \"Home Value to Income Ratio\"]]\n",
    "\n",
    "# Pivot the DataFrame for visualization\n",
    "heatmap_data_cleaned = df_ratio.pivot(index=\"County Subdivision\", columns=\"Year\", values=\"Home Value to Income Ratio\")\n",
    "\n",
    "# Define a custom colormap: Light green for values < 5, red for values >= 5\n",
    "colors = [\"lightgreen\", \"red\"]\n",
    "cmap_custom = LinearSegmentedColormap.from_list(\"custom_cmap\", colors, N=100)\n",
    "\n",
    "# Set up the figure\n",
    "plt.figure(figsize=(12, 8))\n",
    "\n",
    "# Create the heatmap with the custom colormap\n",
    "sns.heatmap(heatmap_data_cleaned, cmap=cmap_custom, annot=True, fmt=\".2f\", linewidths=0.5)\n",
    "\n",
    "# Set titles and labels\n",
    "plt.title(\"Home Value to Income Ratio Heatmap (Affordability), 2019-2023\")\n",
    "plt.xlabel(\"Year\")\n",
    "plt.ylabel(\"County Subdivision\")\n",
    "\n",
    "# Show the heatmap\n",
    "plt.xticks(rotation=45)\n",
    "plt.yticks(rotation=0)\n",
    "plt.show()\n"
   ]
  },
  {
   "cell_type": "code",
   "execution_count": 51,
   "metadata": {},
   "outputs": [
    {
     "data": {
      "application/vnd.plotly.v1+json": {
       "config": {
        "plotlyServerURL": "https://plot.ly"
       },
       "data": [
        {
         "customdata": [
          [
           "Clackamas",
           5.405361175661964,
           2023
          ],
          [
           "Washington",
           5.357074035533973,
           2023
          ],
          [
           "Clackamas",
           4.846369971903653,
           2023
          ],
          [
           "Washington",
           5.39318518023251,
           2023
          ],
          [
           "Washington",
           4.978780008868056,
           2023
          ],
          [
           "Clackamas",
           6.865011186235368,
           2023
          ],
          [
           "Multnomah",
           6.0051044765157355,
           2023
          ],
          [
           "Clackamas",
           7.3930564166150035,
           2023
          ],
          [
           "Washington",
           5.203259434606455,
           2023
          ],
          [
           "Multnomah",
           5.798616164155212,
           2023
          ],
          [
           "Clackamas",
           5.023956351298686,
           2023
          ],
          [
           "Clackamas",
           5.298509968990339,
           2023
          ],
          [
           "Clackamas",
           5.726872246696035,
           2023
          ],
          [
           "Washington",
           5.5765391230693435,
           2023
          ],
          [
           "Clackamas",
           5.835569843001936,
           2023
          ],
          [
           "Multnomah",
           6.147828938123565,
           2023
          ],
          [
           "Multnomah",
           6.957811998716715,
           2023
          ],
          [
           "Clackamas",
           5.794712149778577,
           2023
          ],
          [
           "Washington",
           5.489530782624224,
           2023
          ],
          [
           "Clackamas",
           4.384058621742488,
           2023
          ],
          [
           "Multnomah",
           7.661032928398165,
           2023
          ],
          [
           "Clackamas",
           7.048006982833867,
           2023
          ],
          [
           "Clackamas",
           6.548339261833498,
           2023
          ]
         ],
         "hovertemplate": "<b>%{hovertext}</b><br><br>Year=%{customdata[2]}<br>Home Value to Income Ratio=%{marker.color}<br>Latitude=%{lat}<br>Longitude=%{lon}<br>County=%{customdata[0]}<extra></extra>",
         "hovertext": [
          "Beavercreek",
          "Beaverton-Hillsboro",
          "Canby",
          "Chehalem Mountains",
          "Coast Range",
          "Colton",
          "Corbett",
          "Estacada",
          "Forest Grove-Cornelius",
          "Gresham",
          "Molalla",
          "Mount Hood",
          "Mulino",
          "North Plains",
          "Northwest Clackamas",
          "Portland East",
          "Portland West",
          "Redland",
          "Rockcreek",
          "Sandy",
          "Skyline",
          "Wilsonville",
          "Yoder"
         ],
         "lat": [
          45.2879294,
          45.5226664,
          45.262692,
          45.3278962,
          45.5469616,
          45.1721192,
          45.5318,
          45.2877198,
          45.5195,
          45.5044715,
          45.1475439,
          45.2023855,
          45.2212415,
          45.59778499999999,
          45.4074434,
          45.5165442,
          45.4548406,
          45.3434553,
          45.5510497,
          45.3973141,
          45.5145659,
          45.3029344,
          45.1381769
         ],
         "legendgroup": "",
         "lon": [
          -122.5353423,
          -122.9898071,
          -122.6957402,
          -122.88871,
          -123.1386021,
          -122.4374803,
          -122.2912,
          -122.3351638,
          -123.1053,
          -122.4356657,
          -122.5771264,
          -122.1188945,
          -122.5816606,
          -123.0008365,
          -122.5688975,
          -122.6626984,
          -122.7325965,
          -122.4928664,
          -122.8741537,
          -122.2630704,
          -122.5863212,
          -122.7726687,
          -122.6817567
         ],
         "marker": {
          "color": [
           5.405361175661964,
           5.357074035533973,
           4.846369971903653,
           5.39318518023251,
           4.978780008868056,
           6.865011186235368,
           6.0051044765157355,
           7.3930564166150035,
           5.203259434606455,
           5.798616164155212,
           5.023956351298686,
           5.298509968990339,
           5.726872246696035,
           5.5765391230693435,
           5.835569843001936,
           6.147828938123565,
           6.957811998716715,
           5.794712149778577,
           5.489530782624224,
           4.384058621742488,
           7.661032928398165,
           7.048006982833867,
           6.548339261833498
          ],
          "coloraxis": "coloraxis",
          "size": [
           5.405361175661964,
           5.357074035533973,
           4.846369971903653,
           5.39318518023251,
           4.978780008868056,
           6.865011186235368,
           6.0051044765157355,
           7.3930564166150035,
           5.203259434606455,
           5.798616164155212,
           5.023956351298686,
           5.298509968990339,
           5.726872246696035,
           5.5765391230693435,
           5.835569843001936,
           6.147828938123565,
           6.957811998716715,
           5.794712149778577,
           5.489530782624224,
           4.384058621742488,
           7.661032928398165,
           7.048006982833867,
           6.548339261833498
          ],
          "sizemode": "area",
          "sizeref": 0.02079053843759726
         },
         "mode": "markers",
         "name": "",
         "showlegend": false,
         "subplot": "mapbox",
         "type": "scattermapbox"
        }
       ],
       "frames": [
        {
         "data": [
          {
           "customdata": [
            [
             "Clackamas",
             5.405361175661964,
             2023
            ],
            [
             "Washington",
             5.357074035533973,
             2023
            ],
            [
             "Clackamas",
             4.846369971903653,
             2023
            ],
            [
             "Washington",
             5.39318518023251,
             2023
            ],
            [
             "Washington",
             4.978780008868056,
             2023
            ],
            [
             "Clackamas",
             6.865011186235368,
             2023
            ],
            [
             "Multnomah",
             6.0051044765157355,
             2023
            ],
            [
             "Clackamas",
             7.3930564166150035,
             2023
            ],
            [
             "Washington",
             5.203259434606455,
             2023
            ],
            [
             "Multnomah",
             5.798616164155212,
             2023
            ],
            [
             "Clackamas",
             5.023956351298686,
             2023
            ],
            [
             "Clackamas",
             5.298509968990339,
             2023
            ],
            [
             "Clackamas",
             5.726872246696035,
             2023
            ],
            [
             "Washington",
             5.5765391230693435,
             2023
            ],
            [
             "Clackamas",
             5.835569843001936,
             2023
            ],
            [
             "Multnomah",
             6.147828938123565,
             2023
            ],
            [
             "Multnomah",
             6.957811998716715,
             2023
            ],
            [
             "Clackamas",
             5.794712149778577,
             2023
            ],
            [
             "Washington",
             5.489530782624224,
             2023
            ],
            [
             "Clackamas",
             4.384058621742488,
             2023
            ],
            [
             "Multnomah",
             7.661032928398165,
             2023
            ],
            [
             "Clackamas",
             7.048006982833867,
             2023
            ],
            [
             "Clackamas",
             6.548339261833498,
             2023
            ]
           ],
           "hovertemplate": "<b>%{hovertext}</b><br><br>Year=%{customdata[2]}<br>Home Value to Income Ratio=%{marker.color}<br>Latitude=%{lat}<br>Longitude=%{lon}<br>County=%{customdata[0]}<extra></extra>",
           "hovertext": [
            "Beavercreek",
            "Beaverton-Hillsboro",
            "Canby",
            "Chehalem Mountains",
            "Coast Range",
            "Colton",
            "Corbett",
            "Estacada",
            "Forest Grove-Cornelius",
            "Gresham",
            "Molalla",
            "Mount Hood",
            "Mulino",
            "North Plains",
            "Northwest Clackamas",
            "Portland East",
            "Portland West",
            "Redland",
            "Rockcreek",
            "Sandy",
            "Skyline",
            "Wilsonville",
            "Yoder"
           ],
           "lat": [
            45.2879294,
            45.5226664,
            45.262692,
            45.3278962,
            45.5469616,
            45.1721192,
            45.5318,
            45.2877198,
            45.5195,
            45.5044715,
            45.1475439,
            45.2023855,
            45.2212415,
            45.59778499999999,
            45.4074434,
            45.5165442,
            45.4548406,
            45.3434553,
            45.5510497,
            45.3973141,
            45.5145659,
            45.3029344,
            45.1381769
           ],
           "legendgroup": "",
           "lon": [
            -122.5353423,
            -122.9898071,
            -122.6957402,
            -122.88871,
            -123.1386021,
            -122.4374803,
            -122.2912,
            -122.3351638,
            -123.1053,
            -122.4356657,
            -122.5771264,
            -122.1188945,
            -122.5816606,
            -123.0008365,
            -122.5688975,
            -122.6626984,
            -122.7325965,
            -122.4928664,
            -122.8741537,
            -122.2630704,
            -122.5863212,
            -122.7726687,
            -122.6817567
           ],
           "marker": {
            "color": [
             5.405361175661964,
             5.357074035533973,
             4.846369971903653,
             5.39318518023251,
             4.978780008868056,
             6.865011186235368,
             6.0051044765157355,
             7.3930564166150035,
             5.203259434606455,
             5.798616164155212,
             5.023956351298686,
             5.298509968990339,
             5.726872246696035,
             5.5765391230693435,
             5.835569843001936,
             6.147828938123565,
             6.957811998716715,
             5.794712149778577,
             5.489530782624224,
             4.384058621742488,
             7.661032928398165,
             7.048006982833867,
             6.548339261833498
            ],
            "coloraxis": "coloraxis",
            "size": [
             5.405361175661964,
             5.357074035533973,
             4.846369971903653,
             5.39318518023251,
             4.978780008868056,
             6.865011186235368,
             6.0051044765157355,
             7.3930564166150035,
             5.203259434606455,
             5.798616164155212,
             5.023956351298686,
             5.298509968990339,
             5.726872246696035,
             5.5765391230693435,
             5.835569843001936,
             6.147828938123565,
             6.957811998716715,
             5.794712149778577,
             5.489530782624224,
             4.384058621742488,
             7.661032928398165,
             7.048006982833867,
             6.548339261833498
            ],
            "sizemode": "area",
            "sizeref": 0.02079053843759726
           },
           "mode": "markers",
           "name": "",
           "showlegend": false,
           "subplot": "mapbox",
           "type": "scattermapbox"
          }
         ],
         "name": "2023"
        },
        {
         "data": [
          {
           "customdata": [
            [
             "Clackamas",
             5.608826549257783,
             2022
            ],
            [
             "Washington",
             5.061092598202565,
             2022
            ],
            [
             "Clackamas",
             4.928936649623018,
             2022
            ],
            [
             "Washington",
             5.795740722866193,
             2022
            ],
            [
             "Washington",
             4.786405475572339,
             2022
            ],
            [
             "Clackamas",
             5.424574985154721,
             2022
            ],
            [
             "Multnomah",
             5.5923135513118165,
             2022
            ],
            [
             "Clackamas",
             7.084325341896905,
             2022
            ],
            [
             "Washington",
             5.294262800740284,
             2022
            ],
            [
             "Multnomah",
             5.6900324036890355,
             2022
            ],
            [
             "Clackamas",
             4.792626728110599,
             2022
            ],
            [
             "Clackamas",
             5.393809025341355,
             2022
            ],
            [
             "Clackamas",
             5.585022558015975,
             2022
            ],
            [
             "Washington",
             5.281653835578774,
             2022
            ],
            [
             "Clackamas",
             5.624607399932035,
             2022
            ],
            [
             "Multnomah",
             5.9269893355209184,
             2022
            ],
            [
             "Multnomah",
             6.809148702359067,
             2022
            ],
            [
             "Clackamas",
             5.951225139143893,
             2022
            ],
            [
             "Washington",
             5.161911445821074,
             2022
            ],
            [
             "Clackamas",
             4.463722248909736,
             2022
            ],
            [
             "Multnomah",
             7.930576933283796,
             2022
            ],
            [
             "Clackamas",
             6.9274010285850975,
             2022
            ],
            [
             "Clackamas",
             6.085573865278983,
             2022
            ]
           ],
           "hovertemplate": "<b>%{hovertext}</b><br><br>Year=%{customdata[2]}<br>Home Value to Income Ratio=%{marker.color}<br>Latitude=%{lat}<br>Longitude=%{lon}<br>County=%{customdata[0]}<extra></extra>",
           "hovertext": [
            "Beavercreek",
            "Beaverton-Hillsboro",
            "Canby",
            "Chehalem Mountains",
            "Coast Range",
            "Colton",
            "Corbett",
            "Estacada",
            "Forest Grove-Cornelius",
            "Gresham",
            "Molalla",
            "Mount Hood",
            "Mulino",
            "North Plains",
            "Northwest Clackamas",
            "Portland East",
            "Portland West",
            "Redland",
            "Rockcreek",
            "Sandy",
            "Skyline",
            "Wilsonville",
            "Yoder"
           ],
           "lat": [
            45.2879294,
            45.5226664,
            45.262692,
            45.3278962,
            45.5469616,
            45.1721192,
            45.5318,
            45.2877198,
            45.5195,
            45.5044715,
            45.1475439,
            45.2023855,
            45.2212415,
            45.59778499999999,
            45.4074434,
            45.5165442,
            45.4548406,
            45.3434553,
            45.5510497,
            45.3973141,
            45.5145659,
            45.3029344,
            45.1381769
           ],
           "legendgroup": "",
           "lon": [
            -122.5353423,
            -122.9898071,
            -122.6957402,
            -122.88871,
            -123.1386021,
            -122.4374803,
            -122.2912,
            -122.3351638,
            -123.1053,
            -122.4356657,
            -122.5771264,
            -122.1188945,
            -122.5816606,
            -123.0008365,
            -122.5688975,
            -122.6626984,
            -122.7325965,
            -122.4928664,
            -122.8741537,
            -122.2630704,
            -122.5863212,
            -122.7726687,
            -122.6817567
           ],
           "marker": {
            "color": [
             5.608826549257783,
             5.061092598202565,
             4.928936649623018,
             5.795740722866193,
             4.786405475572339,
             5.424574985154721,
             5.5923135513118165,
             7.084325341896905,
             5.294262800740284,
             5.6900324036890355,
             4.792626728110599,
             5.393809025341355,
             5.585022558015975,
             5.281653835578774,
             5.624607399932035,
             5.9269893355209184,
             6.809148702359067,
             5.951225139143893,
             5.161911445821074,
             4.463722248909736,
             7.930576933283796,
             6.9274010285850975,
             6.085573865278983
            ],
            "coloraxis": "coloraxis",
            "size": [
             5.608826549257783,
             5.061092598202565,
             4.928936649623018,
             5.795740722866193,
             4.786405475572339,
             5.424574985154721,
             5.5923135513118165,
             7.084325341896905,
             5.294262800740284,
             5.6900324036890355,
             4.792626728110599,
             5.393809025341355,
             5.585022558015975,
             5.281653835578774,
             5.624607399932035,
             5.9269893355209184,
             6.809148702359067,
             5.951225139143893,
             5.161911445821074,
             4.463722248909736,
             7.930576933283796,
             6.9274010285850975,
             6.085573865278983
            ],
            "sizemode": "area",
            "sizeref": 0.02079053843759726
           },
           "mode": "markers",
           "name": "",
           "showlegend": false,
           "subplot": "mapbox",
           "type": "scattermapbox"
          }
         ],
         "name": "2022"
        },
        {
         "data": [
          {
           "customdata": [
            [
             "Clackamas",
             5.162761766535351,
             2021
            ],
            [
             "Washington",
             4.798038115975499,
             2021
            ],
            [
             "Clackamas",
             4.6564303085212915,
             2021
            ],
            [
             "Washington",
             5.434535404574265,
             2021
            ],
            [
             "Washington",
             4.343060823818691,
             2021
            ],
            [
             "Clackamas",
             5.270648456000191,
             2021
            ],
            [
             "Multnomah",
             5.124129032258065,
             2021
            ],
            [
             "Clackamas",
             6.378698224852071,
             2021
            ],
            [
             "Washington",
             4.8869574490775305,
             2021
            ],
            [
             "Multnomah",
             5.403897130632935,
             2021
            ],
            [
             "Clackamas",
             4.432150498158018,
             2021
            ],
            [
             "Clackamas",
             4.890156846973658,
             2021
            ],
            [
             "Clackamas",
             5.396219482322201,
             2021
            ],
            [
             "Washington",
             4.853629976580796,
             2021
            ],
            [
             "Clackamas",
             5.124825554349512,
             2021
            ],
            [
             "Multnomah",
             5.785058458286545,
             2021
            ],
            [
             "Multnomah",
             6.7861356103589685,
             2021
            ],
            [
             "Clackamas",
             5.441534615755989,
             2021
            ],
            [
             "Washington",
             4.80851524303267,
             2021
            ],
            [
             "Clackamas",
             4.2030013642564805,
             2021
            ],
            [
             "Multnomah",
             8.267204294773364,
             2021
            ],
            [
             "Clackamas",
             6.087185005380245,
             2021
            ],
            [
             "Clackamas",
             5.813313962538266,
             2021
            ]
           ],
           "hovertemplate": "<b>%{hovertext}</b><br><br>Year=%{customdata[2]}<br>Home Value to Income Ratio=%{marker.color}<br>Latitude=%{lat}<br>Longitude=%{lon}<br>County=%{customdata[0]}<extra></extra>",
           "hovertext": [
            "Beavercreek",
            "Beaverton-Hillsboro",
            "Canby",
            "Chehalem Mountains",
            "Coast Range",
            "Colton",
            "Corbett",
            "Estacada",
            "Forest Grove-Cornelius",
            "Gresham",
            "Molalla",
            "Mount Hood",
            "Mulino",
            "North Plains",
            "Northwest Clackamas",
            "Portland East",
            "Portland West",
            "Redland",
            "Rockcreek",
            "Sandy",
            "Skyline",
            "Wilsonville",
            "Yoder"
           ],
           "lat": [
            45.2879294,
            45.5226664,
            45.262692,
            45.3278962,
            45.5469616,
            45.1721192,
            45.5318,
            45.2877198,
            45.5195,
            45.5044715,
            45.1475439,
            45.2023855,
            45.2212415,
            45.59778499999999,
            45.4074434,
            45.5165442,
            45.4548406,
            45.3434553,
            45.5510497,
            45.3973141,
            45.5145659,
            45.3029344,
            45.1381769
           ],
           "legendgroup": "",
           "lon": [
            -122.5353423,
            -122.9898071,
            -122.6957402,
            -122.88871,
            -123.1386021,
            -122.4374803,
            -122.2912,
            -122.3351638,
            -123.1053,
            -122.4356657,
            -122.5771264,
            -122.1188945,
            -122.5816606,
            -123.0008365,
            -122.5688975,
            -122.6626984,
            -122.7325965,
            -122.4928664,
            -122.8741537,
            -122.2630704,
            -122.5863212,
            -122.7726687,
            -122.6817567
           ],
           "marker": {
            "color": [
             5.162761766535351,
             4.798038115975499,
             4.6564303085212915,
             5.434535404574265,
             4.343060823818691,
             5.270648456000191,
             5.124129032258065,
             6.378698224852071,
             4.8869574490775305,
             5.403897130632935,
             4.432150498158018,
             4.890156846973658,
             5.396219482322201,
             4.853629976580796,
             5.124825554349512,
             5.785058458286545,
             6.7861356103589685,
             5.441534615755989,
             4.80851524303267,
             4.2030013642564805,
             8.267204294773364,
             6.087185005380245,
             5.813313962538266
            ],
            "coloraxis": "coloraxis",
            "size": [
             5.162761766535351,
             4.798038115975499,
             4.6564303085212915,
             5.434535404574265,
             4.343060823818691,
             5.270648456000191,
             5.124129032258065,
             6.378698224852071,
             4.8869574490775305,
             5.403897130632935,
             4.432150498158018,
             4.890156846973658,
             5.396219482322201,
             4.853629976580796,
             5.124825554349512,
             5.785058458286545,
             6.7861356103589685,
             5.441534615755989,
             4.80851524303267,
             4.2030013642564805,
             8.267204294773364,
             6.087185005380245,
             5.813313962538266
            ],
            "sizemode": "area",
            "sizeref": 0.02079053843759726
           },
           "mode": "markers",
           "name": "",
           "showlegend": false,
           "subplot": "mapbox",
           "type": "scattermapbox"
          }
         ],
         "name": "2021"
        },
        {
         "data": [
          {
           "customdata": [
            [
             "Clackamas",
             5.024561403508772,
             2020
            ],
            [
             "Washington",
             4.796927351475035,
             2020
            ],
            [
             "Clackamas",
             4.771478179136043,
             2020
            ],
            [
             "Washington",
             5.009244571971266,
             2020
            ],
            [
             "Washington",
             4.4239505546998386,
             2020
            ],
            [
             "Clackamas",
             5.659150043365134,
             2020
            ],
            [
             "Multnomah",
             5.393502564162471,
             2020
            ],
            [
             "Clackamas",
             5.490080946189657,
             2020
            ],
            [
             "Washington",
             4.761236152258463,
             2020
            ],
            [
             "Multnomah",
             5.333793852074802,
             2020
            ],
            [
             "Clackamas",
             4.565084122334991,
             2020
            ],
            [
             "Clackamas",
             5.119729997350181,
             2020
            ],
            [
             "Clackamas",
             5.263621353880022,
             2020
            ],
            [
             "Washington",
             4.675578343404749,
             2020
            ],
            [
             "Clackamas",
             5.061356904414876,
             2020
            ],
            [
             "Multnomah",
             5.793539821758965,
             2020
            ],
            [
             "Multnomah",
             6.974448039588885,
             2020
            ],
            [
             "Clackamas",
             5.8798076328705475,
             2020
            ],
            [
             "Washington",
             4.834640086746184,
             2020
            ],
            [
             "Clackamas",
             4.429464990587235,
             2020
            ],
            [
             "Multnomah",
             8.316215375038905,
             2020
            ],
            [
             "Clackamas",
             6.113696982375399,
             2020
            ],
            [
             "Clackamas",
             5.88161738794348,
             2020
            ]
           ],
           "hovertemplate": "<b>%{hovertext}</b><br><br>Year=%{customdata[2]}<br>Home Value to Income Ratio=%{marker.color}<br>Latitude=%{lat}<br>Longitude=%{lon}<br>County=%{customdata[0]}<extra></extra>",
           "hovertext": [
            "Beavercreek",
            "Beaverton-Hillsboro",
            "Canby",
            "Chehalem Mountains",
            "Coast Range",
            "Colton",
            "Corbett",
            "Estacada",
            "Forest Grove-Cornelius",
            "Gresham",
            "Molalla",
            "Mount Hood",
            "Mulino",
            "North Plains",
            "Northwest Clackamas",
            "Portland East",
            "Portland West",
            "Redland",
            "Rockcreek",
            "Sandy",
            "Skyline",
            "Wilsonville",
            "Yoder"
           ],
           "lat": [
            45.2879294,
            45.5226664,
            45.262692,
            45.3278962,
            45.5469616,
            45.1721192,
            45.5318,
            45.2877198,
            45.5195,
            45.5044715,
            45.1475439,
            45.2023855,
            45.2212415,
            45.59778499999999,
            45.4074434,
            45.5165442,
            45.4548406,
            45.3434553,
            45.5510497,
            45.3973141,
            45.5145659,
            45.3029344,
            45.1381769
           ],
           "legendgroup": "",
           "lon": [
            -122.5353423,
            -122.9898071,
            -122.6957402,
            -122.88871,
            -123.1386021,
            -122.4374803,
            -122.2912,
            -122.3351638,
            -123.1053,
            -122.4356657,
            -122.5771264,
            -122.1188945,
            -122.5816606,
            -123.0008365,
            -122.5688975,
            -122.6626984,
            -122.7325965,
            -122.4928664,
            -122.8741537,
            -122.2630704,
            -122.5863212,
            -122.7726687,
            -122.6817567
           ],
           "marker": {
            "color": [
             5.024561403508772,
             4.796927351475035,
             4.771478179136043,
             5.009244571971266,
             4.4239505546998386,
             5.659150043365134,
             5.393502564162471,
             5.490080946189657,
             4.761236152258463,
             5.333793852074802,
             4.565084122334991,
             5.119729997350181,
             5.263621353880022,
             4.675578343404749,
             5.061356904414876,
             5.793539821758965,
             6.974448039588885,
             5.8798076328705475,
             4.834640086746184,
             4.429464990587235,
             8.316215375038905,
             6.113696982375399,
             5.88161738794348
            ],
            "coloraxis": "coloraxis",
            "size": [
             5.024561403508772,
             4.796927351475035,
             4.771478179136043,
             5.009244571971266,
             4.4239505546998386,
             5.659150043365134,
             5.393502564162471,
             5.490080946189657,
             4.761236152258463,
             5.333793852074802,
             4.565084122334991,
             5.119729997350181,
             5.263621353880022,
             4.675578343404749,
             5.061356904414876,
             5.793539821758965,
             6.974448039588885,
             5.8798076328705475,
             4.834640086746184,
             4.429464990587235,
             8.316215375038905,
             6.113696982375399,
             5.88161738794348
            ],
            "sizemode": "area",
            "sizeref": 0.02079053843759726
           },
           "mode": "markers",
           "name": "",
           "showlegend": false,
           "subplot": "mapbox",
           "type": "scattermapbox"
          }
         ],
         "name": "2020"
        },
        {
         "data": [
          {
           "customdata": [
            [
             "Clackamas",
             5.021494655817493,
             2019
            ],
            [
             "Washington",
             4.668561296120868,
             2019
            ],
            [
             "Clackamas",
             4.529739550144393,
             2019
            ],
            [
             "Washington",
             5.681683109473434,
             2019
            ],
            [
             "Washington",
             4.763055030963152,
             2019
            ],
            [
             "Clackamas",
             4.909761578359738,
             2019
            ],
            [
             "Multnomah",
             5.221915979680876,
             2019
            ],
            [
             "Clackamas",
             5.089845151674074,
             2019
            ],
            [
             "Washington",
             4.624382833270034,
             2019
            ],
            [
             "Multnomah",
             5.054703467701767,
             2019
            ],
            [
             "Clackamas",
             4.5037179757353165,
             2019
            ],
            [
             "Clackamas",
             4.676064144716123,
             2019
            ],
            [
             "Clackamas",
             5.192810141281208,
             2019
            ],
            [
             "Washington",
             4.839051840603821,
             2019
            ],
            [
             "Clackamas",
             4.8736746440472585,
             2019
            ],
            [
             "Multnomah",
             5.595883621946242,
             2019
            ],
            [
             "Multnomah",
             6.790755503547136,
             2019
            ],
            [
             "Clackamas",
             5.897593320235757,
             2019
            ],
            [
             "Washington",
             4.906474500122329,
             2019
            ],
            [
             "Clackamas",
             4.457498272287491,
             2019
            ],
            [
             "Multnomah",
             6.231578947368421,
             2019
            ],
            [
             "Clackamas",
             5.991618827424038,
             2019
            ],
            [
             "Clackamas",
             6.045592111686029,
             2019
            ]
           ],
           "hovertemplate": "<b>%{hovertext}</b><br><br>Year=%{customdata[2]}<br>Home Value to Income Ratio=%{marker.color}<br>Latitude=%{lat}<br>Longitude=%{lon}<br>County=%{customdata[0]}<extra></extra>",
           "hovertext": [
            "Beavercreek",
            "Beaverton-Hillsboro",
            "Canby",
            "Chehalem Mountains",
            "Coast Range",
            "Colton",
            "Corbett",
            "Estacada",
            "Forest Grove-Cornelius",
            "Gresham",
            "Molalla",
            "Mount Hood",
            "Mulino",
            "North Plains",
            "Northwest Clackamas",
            "Portland East",
            "Portland West",
            "Redland",
            "Rockcreek",
            "Sandy",
            "Skyline",
            "Wilsonville",
            "Yoder"
           ],
           "lat": [
            45.2879294,
            45.5226664,
            45.262692,
            45.3278962,
            45.5469616,
            45.1721192,
            45.5318,
            45.2877198,
            45.5195,
            45.5044715,
            45.1475439,
            45.2023855,
            45.2212415,
            45.59778499999999,
            45.4074434,
            45.5165442,
            45.4548406,
            45.3434553,
            45.5510497,
            45.3973141,
            45.5145659,
            45.3029344,
            45.1381769
           ],
           "legendgroup": "",
           "lon": [
            -122.5353423,
            -122.9898071,
            -122.6957402,
            -122.88871,
            -123.1386021,
            -122.4374803,
            -122.2912,
            -122.3351638,
            -123.1053,
            -122.4356657,
            -122.5771264,
            -122.1188945,
            -122.5816606,
            -123.0008365,
            -122.5688975,
            -122.6626984,
            -122.7325965,
            -122.4928664,
            -122.8741537,
            -122.2630704,
            -122.5863212,
            -122.7726687,
            -122.6817567
           ],
           "marker": {
            "color": [
             5.021494655817493,
             4.668561296120868,
             4.529739550144393,
             5.681683109473434,
             4.763055030963152,
             4.909761578359738,
             5.221915979680876,
             5.089845151674074,
             4.624382833270034,
             5.054703467701767,
             4.5037179757353165,
             4.676064144716123,
             5.192810141281208,
             4.839051840603821,
             4.8736746440472585,
             5.595883621946242,
             6.790755503547136,
             5.897593320235757,
             4.906474500122329,
             4.457498272287491,
             6.231578947368421,
             5.991618827424038,
             6.045592111686029
            ],
            "coloraxis": "coloraxis",
            "size": [
             5.021494655817493,
             4.668561296120868,
             4.529739550144393,
             5.681683109473434,
             4.763055030963152,
             4.909761578359738,
             5.221915979680876,
             5.089845151674074,
             4.624382833270034,
             5.054703467701767,
             4.5037179757353165,
             4.676064144716123,
             5.192810141281208,
             4.839051840603821,
             4.8736746440472585,
             5.595883621946242,
             6.790755503547136,
             5.897593320235757,
             4.906474500122329,
             4.457498272287491,
             6.231578947368421,
             5.991618827424038,
             6.045592111686029
            ],
            "sizemode": "area",
            "sizeref": 0.02079053843759726
           },
           "mode": "markers",
           "name": "",
           "showlegend": false,
           "subplot": "mapbox",
           "type": "scattermapbox"
          }
         ],
         "name": "2019"
        }
       ],
       "layout": {
        "autosize": true,
        "coloraxis": {
         "colorbar": {
          "title": {
           "text": "Home Value to Income Ratio"
          }
         },
         "colorscale": [
          [
           0,
           "lightgreen"
          ],
          [
           0.5,
           "yellow"
          ],
          [
           1,
           "red"
          ]
         ]
        },
        "height": 800,
        "legend": {
         "itemsizing": "constant",
         "tracegroupgap": 0
        },
        "mapbox": {
         "center": {
          "lat": 45.380827673913046,
          "lon": -122.64202430434783
         },
         "domain": {
          "x": [
           0,
           1
          ],
          "y": [
           0,
           1
          ]
         },
         "style": "carto-positron",
         "zoom": 8
        },
        "sliders": [
         {
          "active": 0,
          "currentvalue": {
           "prefix": "Year="
          },
          "len": 0.9,
          "pad": {
           "b": 10,
           "t": 60
          },
          "steps": [
           {
            "args": [
             [
              "2023"
             ],
             {
              "frame": {
               "duration": 0,
               "redraw": true
              },
              "fromcurrent": true,
              "mode": "immediate",
              "transition": {
               "duration": 0,
               "easing": "linear"
              }
             }
            ],
            "label": "2023",
            "method": "animate"
           },
           {
            "args": [
             [
              "2022"
             ],
             {
              "frame": {
               "duration": 0,
               "redraw": true
              },
              "fromcurrent": true,
              "mode": "immediate",
              "transition": {
               "duration": 0,
               "easing": "linear"
              }
             }
            ],
            "label": "2022",
            "method": "animate"
           },
           {
            "args": [
             [
              "2021"
             ],
             {
              "frame": {
               "duration": 0,
               "redraw": true
              },
              "fromcurrent": true,
              "mode": "immediate",
              "transition": {
               "duration": 0,
               "easing": "linear"
              }
             }
            ],
            "label": "2021",
            "method": "animate"
           },
           {
            "args": [
             [
              "2020"
             ],
             {
              "frame": {
               "duration": 0,
               "redraw": true
              },
              "fromcurrent": true,
              "mode": "immediate",
              "transition": {
               "duration": 0,
               "easing": "linear"
              }
             }
            ],
            "label": "2020",
            "method": "animate"
           },
           {
            "args": [
             [
              "2019"
             ],
             {
              "frame": {
               "duration": 0,
               "redraw": true
              },
              "fromcurrent": true,
              "mode": "immediate",
              "transition": {
               "duration": 0,
               "easing": "linear"
              }
             }
            ],
            "label": "2019",
            "method": "animate"
           }
          ],
          "x": 0.1,
          "xanchor": "left",
          "y": 0,
          "yanchor": "top"
         }
        ],
        "template": {
         "data": {
          "bar": [
           {
            "error_x": {
             "color": "#2a3f5f"
            },
            "error_y": {
             "color": "#2a3f5f"
            },
            "marker": {
             "line": {
              "color": "#E5ECF6",
              "width": 0.5
             },
             "pattern": {
              "fillmode": "overlay",
              "size": 10,
              "solidity": 0.2
             }
            },
            "type": "bar"
           }
          ],
          "barpolar": [
           {
            "marker": {
             "line": {
              "color": "#E5ECF6",
              "width": 0.5
             },
             "pattern": {
              "fillmode": "overlay",
              "size": 10,
              "solidity": 0.2
             }
            },
            "type": "barpolar"
           }
          ],
          "carpet": [
           {
            "aaxis": {
             "endlinecolor": "#2a3f5f",
             "gridcolor": "white",
             "linecolor": "white",
             "minorgridcolor": "white",
             "startlinecolor": "#2a3f5f"
            },
            "baxis": {
             "endlinecolor": "#2a3f5f",
             "gridcolor": "white",
             "linecolor": "white",
             "minorgridcolor": "white",
             "startlinecolor": "#2a3f5f"
            },
            "type": "carpet"
           }
          ],
          "choropleth": [
           {
            "colorbar": {
             "outlinewidth": 0,
             "ticks": ""
            },
            "type": "choropleth"
           }
          ],
          "contour": [
           {
            "colorbar": {
             "outlinewidth": 0,
             "ticks": ""
            },
            "colorscale": [
             [
              0,
              "#0d0887"
             ],
             [
              0.1111111111111111,
              "#46039f"
             ],
             [
              0.2222222222222222,
              "#7201a8"
             ],
             [
              0.3333333333333333,
              "#9c179e"
             ],
             [
              0.4444444444444444,
              "#bd3786"
             ],
             [
              0.5555555555555556,
              "#d8576b"
             ],
             [
              0.6666666666666666,
              "#ed7953"
             ],
             [
              0.7777777777777778,
              "#fb9f3a"
             ],
             [
              0.8888888888888888,
              "#fdca26"
             ],
             [
              1,
              "#f0f921"
             ]
            ],
            "type": "contour"
           }
          ],
          "contourcarpet": [
           {
            "colorbar": {
             "outlinewidth": 0,
             "ticks": ""
            },
            "type": "contourcarpet"
           }
          ],
          "heatmap": [
           {
            "colorbar": {
             "outlinewidth": 0,
             "ticks": ""
            },
            "colorscale": [
             [
              0,
              "#0d0887"
             ],
             [
              0.1111111111111111,
              "#46039f"
             ],
             [
              0.2222222222222222,
              "#7201a8"
             ],
             [
              0.3333333333333333,
              "#9c179e"
             ],
             [
              0.4444444444444444,
              "#bd3786"
             ],
             [
              0.5555555555555556,
              "#d8576b"
             ],
             [
              0.6666666666666666,
              "#ed7953"
             ],
             [
              0.7777777777777778,
              "#fb9f3a"
             ],
             [
              0.8888888888888888,
              "#fdca26"
             ],
             [
              1,
              "#f0f921"
             ]
            ],
            "type": "heatmap"
           }
          ],
          "heatmapgl": [
           {
            "colorbar": {
             "outlinewidth": 0,
             "ticks": ""
            },
            "colorscale": [
             [
              0,
              "#0d0887"
             ],
             [
              0.1111111111111111,
              "#46039f"
             ],
             [
              0.2222222222222222,
              "#7201a8"
             ],
             [
              0.3333333333333333,
              "#9c179e"
             ],
             [
              0.4444444444444444,
              "#bd3786"
             ],
             [
              0.5555555555555556,
              "#d8576b"
             ],
             [
              0.6666666666666666,
              "#ed7953"
             ],
             [
              0.7777777777777778,
              "#fb9f3a"
             ],
             [
              0.8888888888888888,
              "#fdca26"
             ],
             [
              1,
              "#f0f921"
             ]
            ],
            "type": "heatmapgl"
           }
          ],
          "histogram": [
           {
            "marker": {
             "pattern": {
              "fillmode": "overlay",
              "size": 10,
              "solidity": 0.2
             }
            },
            "type": "histogram"
           }
          ],
          "histogram2d": [
           {
            "colorbar": {
             "outlinewidth": 0,
             "ticks": ""
            },
            "colorscale": [
             [
              0,
              "#0d0887"
             ],
             [
              0.1111111111111111,
              "#46039f"
             ],
             [
              0.2222222222222222,
              "#7201a8"
             ],
             [
              0.3333333333333333,
              "#9c179e"
             ],
             [
              0.4444444444444444,
              "#bd3786"
             ],
             [
              0.5555555555555556,
              "#d8576b"
             ],
             [
              0.6666666666666666,
              "#ed7953"
             ],
             [
              0.7777777777777778,
              "#fb9f3a"
             ],
             [
              0.8888888888888888,
              "#fdca26"
             ],
             [
              1,
              "#f0f921"
             ]
            ],
            "type": "histogram2d"
           }
          ],
          "histogram2dcontour": [
           {
            "colorbar": {
             "outlinewidth": 0,
             "ticks": ""
            },
            "colorscale": [
             [
              0,
              "#0d0887"
             ],
             [
              0.1111111111111111,
              "#46039f"
             ],
             [
              0.2222222222222222,
              "#7201a8"
             ],
             [
              0.3333333333333333,
              "#9c179e"
             ],
             [
              0.4444444444444444,
              "#bd3786"
             ],
             [
              0.5555555555555556,
              "#d8576b"
             ],
             [
              0.6666666666666666,
              "#ed7953"
             ],
             [
              0.7777777777777778,
              "#fb9f3a"
             ],
             [
              0.8888888888888888,
              "#fdca26"
             ],
             [
              1,
              "#f0f921"
             ]
            ],
            "type": "histogram2dcontour"
           }
          ],
          "mesh3d": [
           {
            "colorbar": {
             "outlinewidth": 0,
             "ticks": ""
            },
            "type": "mesh3d"
           }
          ],
          "parcoords": [
           {
            "line": {
             "colorbar": {
              "outlinewidth": 0,
              "ticks": ""
             }
            },
            "type": "parcoords"
           }
          ],
          "pie": [
           {
            "automargin": true,
            "type": "pie"
           }
          ],
          "scatter": [
           {
            "fillpattern": {
             "fillmode": "overlay",
             "size": 10,
             "solidity": 0.2
            },
            "type": "scatter"
           }
          ],
          "scatter3d": [
           {
            "line": {
             "colorbar": {
              "outlinewidth": 0,
              "ticks": ""
             }
            },
            "marker": {
             "colorbar": {
              "outlinewidth": 0,
              "ticks": ""
             }
            },
            "type": "scatter3d"
           }
          ],
          "scattercarpet": [
           {
            "marker": {
             "colorbar": {
              "outlinewidth": 0,
              "ticks": ""
             }
            },
            "type": "scattercarpet"
           }
          ],
          "scattergeo": [
           {
            "marker": {
             "colorbar": {
              "outlinewidth": 0,
              "ticks": ""
             }
            },
            "type": "scattergeo"
           }
          ],
          "scattergl": [
           {
            "marker": {
             "colorbar": {
              "outlinewidth": 0,
              "ticks": ""
             }
            },
            "type": "scattergl"
           }
          ],
          "scattermapbox": [
           {
            "marker": {
             "colorbar": {
              "outlinewidth": 0,
              "ticks": ""
             }
            },
            "type": "scattermapbox"
           }
          ],
          "scatterpolar": [
           {
            "marker": {
             "colorbar": {
              "outlinewidth": 0,
              "ticks": ""
             }
            },
            "type": "scatterpolar"
           }
          ],
          "scatterpolargl": [
           {
            "marker": {
             "colorbar": {
              "outlinewidth": 0,
              "ticks": ""
             }
            },
            "type": "scatterpolargl"
           }
          ],
          "scatterternary": [
           {
            "marker": {
             "colorbar": {
              "outlinewidth": 0,
              "ticks": ""
             }
            },
            "type": "scatterternary"
           }
          ],
          "surface": [
           {
            "colorbar": {
             "outlinewidth": 0,
             "ticks": ""
            },
            "colorscale": [
             [
              0,
              "#0d0887"
             ],
             [
              0.1111111111111111,
              "#46039f"
             ],
             [
              0.2222222222222222,
              "#7201a8"
             ],
             [
              0.3333333333333333,
              "#9c179e"
             ],
             [
              0.4444444444444444,
              "#bd3786"
             ],
             [
              0.5555555555555556,
              "#d8576b"
             ],
             [
              0.6666666666666666,
              "#ed7953"
             ],
             [
              0.7777777777777778,
              "#fb9f3a"
             ],
             [
              0.8888888888888888,
              "#fdca26"
             ],
             [
              1,
              "#f0f921"
             ]
            ],
            "type": "surface"
           }
          ],
          "table": [
           {
            "cells": {
             "fill": {
              "color": "#EBF0F8"
             },
             "line": {
              "color": "white"
             }
            },
            "header": {
             "fill": {
              "color": "#C8D4E3"
             },
             "line": {
              "color": "white"
             }
            },
            "type": "table"
           }
          ]
         },
         "layout": {
          "annotationdefaults": {
           "arrowcolor": "#2a3f5f",
           "arrowhead": 0,
           "arrowwidth": 1
          },
          "autotypenumbers": "strict",
          "coloraxis": {
           "colorbar": {
            "outlinewidth": 0,
            "ticks": ""
           }
          },
          "colorscale": {
           "diverging": [
            [
             0,
             "#8e0152"
            ],
            [
             0.1,
             "#c51b7d"
            ],
            [
             0.2,
             "#de77ae"
            ],
            [
             0.3,
             "#f1b6da"
            ],
            [
             0.4,
             "#fde0ef"
            ],
            [
             0.5,
             "#f7f7f7"
            ],
            [
             0.6,
             "#e6f5d0"
            ],
            [
             0.7,
             "#b8e186"
            ],
            [
             0.8,
             "#7fbc41"
            ],
            [
             0.9,
             "#4d9221"
            ],
            [
             1,
             "#276419"
            ]
           ],
           "sequential": [
            [
             0,
             "#0d0887"
            ],
            [
             0.1111111111111111,
             "#46039f"
            ],
            [
             0.2222222222222222,
             "#7201a8"
            ],
            [
             0.3333333333333333,
             "#9c179e"
            ],
            [
             0.4444444444444444,
             "#bd3786"
            ],
            [
             0.5555555555555556,
             "#d8576b"
            ],
            [
             0.6666666666666666,
             "#ed7953"
            ],
            [
             0.7777777777777778,
             "#fb9f3a"
            ],
            [
             0.8888888888888888,
             "#fdca26"
            ],
            [
             1,
             "#f0f921"
            ]
           ],
           "sequentialminus": [
            [
             0,
             "#0d0887"
            ],
            [
             0.1111111111111111,
             "#46039f"
            ],
            [
             0.2222222222222222,
             "#7201a8"
            ],
            [
             0.3333333333333333,
             "#9c179e"
            ],
            [
             0.4444444444444444,
             "#bd3786"
            ],
            [
             0.5555555555555556,
             "#d8576b"
            ],
            [
             0.6666666666666666,
             "#ed7953"
            ],
            [
             0.7777777777777778,
             "#fb9f3a"
            ],
            [
             0.8888888888888888,
             "#fdca26"
            ],
            [
             1,
             "#f0f921"
            ]
           ]
          },
          "colorway": [
           "#636efa",
           "#EF553B",
           "#00cc96",
           "#ab63fa",
           "#FFA15A",
           "#19d3f3",
           "#FF6692",
           "#B6E880",
           "#FF97FF",
           "#FECB52"
          ],
          "font": {
           "color": "#2a3f5f"
          },
          "geo": {
           "bgcolor": "white",
           "lakecolor": "white",
           "landcolor": "#E5ECF6",
           "showlakes": true,
           "showland": true,
           "subunitcolor": "white"
          },
          "hoverlabel": {
           "align": "left"
          },
          "hovermode": "closest",
          "mapbox": {
           "style": "light"
          },
          "paper_bgcolor": "white",
          "plot_bgcolor": "#E5ECF6",
          "polar": {
           "angularaxis": {
            "gridcolor": "white",
            "linecolor": "white",
            "ticks": ""
           },
           "bgcolor": "#E5ECF6",
           "radialaxis": {
            "gridcolor": "white",
            "linecolor": "white",
            "ticks": ""
           }
          },
          "scene": {
           "xaxis": {
            "backgroundcolor": "#E5ECF6",
            "gridcolor": "white",
            "gridwidth": 2,
            "linecolor": "white",
            "showbackground": true,
            "ticks": "",
            "zerolinecolor": "white"
           },
           "yaxis": {
            "backgroundcolor": "#E5ECF6",
            "gridcolor": "white",
            "gridwidth": 2,
            "linecolor": "white",
            "showbackground": true,
            "ticks": "",
            "zerolinecolor": "white"
           },
           "zaxis": {
            "backgroundcolor": "#E5ECF6",
            "gridcolor": "white",
            "gridwidth": 2,
            "linecolor": "white",
            "showbackground": true,
            "ticks": "",
            "zerolinecolor": "white"
           }
          },
          "shapedefaults": {
           "line": {
            "color": "#2a3f5f"
           }
          },
          "ternary": {
           "aaxis": {
            "gridcolor": "white",
            "linecolor": "white",
            "ticks": ""
           },
           "baxis": {
            "gridcolor": "white",
            "linecolor": "white",
            "ticks": ""
           },
           "bgcolor": "#E5ECF6",
           "caxis": {
            "gridcolor": "white",
            "linecolor": "white",
            "ticks": ""
           }
          },
          "title": {
           "x": 0.05
          },
          "xaxis": {
           "automargin": true,
           "gridcolor": "white",
           "linecolor": "white",
           "ticks": "",
           "title": {
            "standoff": 15
           },
           "zerolinecolor": "white",
           "zerolinewidth": 2
          },
          "yaxis": {
           "automargin": true,
           "gridcolor": "white",
           "linecolor": "white",
           "ticks": "",
           "title": {
            "standoff": 15
           },
           "zerolinecolor": "white",
           "zerolinewidth": 2
          }
         }
        },
        "title": {
         "text": "Home Value to Income Ratio by Subdivisions (2019-2023)"
        },
        "updatemenus": [
         {
          "buttons": [
           {
            "args": [
             null,
             {
              "frame": {
               "duration": 500,
               "redraw": true
              },
              "fromcurrent": true,
              "mode": "immediate",
              "transition": {
               "duration": 500,
               "easing": "linear"
              }
             }
            ],
            "label": "&#9654;",
            "method": "animate"
           },
           {
            "args": [
             [
              null
             ],
             {
              "frame": {
               "duration": 0,
               "redraw": true
              },
              "fromcurrent": true,
              "mode": "immediate",
              "transition": {
               "duration": 0,
               "easing": "linear"
              }
             }
            ],
            "label": "&#9724;",
            "method": "animate"
           }
          ],
          "direction": "left",
          "pad": {
           "r": 10,
           "t": 70
          },
          "showactive": false,
          "type": "buttons",
          "x": 0.1,
          "xanchor": "right",
          "y": 0,
          "yanchor": "top"
         }
        ],
        "width": 1200
       }
      }
     },
     "metadata": {},
     "output_type": "display_data"
    }
   ],
   "source": [
    "\n",
    "# Calculate Home Value to Income Ratio\n",
    "df[\"Home Value to Income Ratio\"] = df[\"Median Home Value\"] / df[\"Median Household Income\"]\n",
    "\n",
    "# Ensure \"Year\" is numeric\n",
    "df[\"Year\"] = pd.to_numeric(df[\"Year\"], errors=\"coerce\")\n",
    "\n",
    "# Drop rows with missing latitude and longitude values\n",
    "df = df.dropna(subset=[\"Latitude\", \"Longitude\"])\n",
    "\n",
    "# Define a custom color scale where values < 5 are light green, progressing to red\n",
    "color_scale = [\n",
    "    (0, \"lightgreen\"),  # affordable (Ratio < 5)\n",
    "    (0.5, \"yellow\"),    # Medium affordability\n",
    "    (1, \"red\")          # Least affordable (High Ratio)\n",
    "]\n",
    "\n",
    "# Normalize Home Value to Income Ratio for color mapping\n",
    "df[\"Normalized Ratio\"] = np.clip(df[\"Home Value to Income Ratio\"] / 10, 0, 1)  # Scaling to [0,1]\n",
    "\n",
    "# Create an interactive scatter map for Home Value to Income Ratio\n",
    "fig = px.scatter_mapbox(\n",
    "    df,\n",
    "    lat='Latitude',\n",
    "    lon='Longitude',\n",
    "    size=\"Home Value to Income Ratio\",\n",
    "    color=\"Home Value to Income Ratio\",\n",
    "    hover_name=\"County Subdivision\",\n",
    "    hover_data=[\"County\", \"Home Value to Income Ratio\", \"Year\"],\n",
    "    animation_frame=\"Year\",  # Include all years with animation\n",
    "    mapbox_style=\"carto-positron\",\n",
    "    color_continuous_scale=color_scale,  # Custom color scale\n",
    "    title=\"Home Value to Income Ratio by Subdivisions (2019-2023)\"\n",
    ")\n",
    "\n",
    "# Increase figure size\n",
    "fig.update_layout(\n",
    "    autosize=True,\n",
    "    width=1200,\n",
    "    height=800\n",
    ")\n",
    "\n",
    "# Show the interactive map\n",
    "fig.show()\n"
   ]
  }
 ],
 "metadata": {
  "kernelspec": {
   "display_name": "dev",
   "language": "python",
   "name": "python3"
  },
  "language_info": {
   "codemirror_mode": {
    "name": "ipython",
    "version": 3
   },
   "file_extension": ".py",
   "mimetype": "text/x-python",
   "name": "python",
   "nbconvert_exporter": "python",
   "pygments_lexer": "ipython3",
   "version": "3.10.16"
  },
  "varInspector": {
   "cols": {
    "lenName": 16,
    "lenType": 16,
    "lenVar": 40
   },
   "kernels_config": {
    "python": {
     "delete_cmd_postfix": "",
     "delete_cmd_prefix": "del ",
     "library": "var_list.py",
     "varRefreshCmd": "print(var_dic_list())"
    },
    "r": {
     "delete_cmd_postfix": ") ",
     "delete_cmd_prefix": "rm(",
     "library": "var_list.r",
     "varRefreshCmd": "cat(var_dic_list()) "
    }
   },
   "types_to_exclude": [
    "module",
    "function",
    "builtin_function_or_method",
    "instance",
    "_Feature"
   ],
   "window_display": false
  }
 },
 "nbformat": 4,
 "nbformat_minor": 2
}
